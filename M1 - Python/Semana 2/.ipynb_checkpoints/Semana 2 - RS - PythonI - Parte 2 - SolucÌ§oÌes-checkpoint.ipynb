{
 "cells": [
  {
   "cell_type": "markdown",
   "metadata": {
    "id": "gunXub49ggzQ"
   },
   "source": [
    "![Nuclio logo](https://nuclio.school/wp-content/uploads/2018/12/nucleoDS-newBlack.png)"
   ]
  },
  {
   "cell_type": "markdown",
   "metadata": {
    "id": "zErpOgsnggzV"
   },
   "source": [
    "# Exercícios - Introdução a Python (Listas + Tuplos + Sets + Dicionários)\n",
    "\n",
    "Nesta folha de exercícios, encontram 31 questões de resposta rápida que vos permitirão aprender o básico sobre listas, tuplos, sets e dicionários em Python.\n",
    "\n",
    "Boa sorte!"
   ]
  },
  {
   "cell_type": "markdown",
   "metadata": {
    "id": "p9O6ESPBggzW"
   },
   "source": [
    "## Listas"
   ]
  },
  {
   "cell_type": "markdown",
   "metadata": {
    "id": "bwVa7c50ggzW"
   },
   "source": [
    "1 - Crie uma lista com os seguintes elementos: apples, pears, bananas, kiwis"
   ]
  },
  {
   "cell_type": "code",
   "execution_count": 2,
   "metadata": {
    "ExecuteTime": {
     "end_time": "2020-02-16T19:21:47.913440Z",
     "start_time": "2020-02-16T19:21:47.907365Z"
    },
    "id": "fzj2I5qhggzX"
   },
   "outputs": [],
   "source": [
    "my_list = ['apples','pears','bananas','kiwis']"
   ]
  },
  {
   "cell_type": "markdown",
   "metadata": {
    "id": "d73RmtfOggzZ"
   },
   "source": [
    "2 - Qual é o primeiro elemento da lista?"
   ]
  },
  {
   "cell_type": "code",
   "execution_count": 3,
   "metadata": {
    "ExecuteTime": {
     "end_time": "2020-02-16T19:21:48.775740Z",
     "start_time": "2020-02-16T19:21:48.767445Z"
    },
    "colab": {
     "base_uri": "https://localhost:8080/",
     "height": 35
    },
    "id": "q_7ktSObggza",
    "outputId": "9189dc43-49d4-466b-cc20-829c2570c4b7"
   },
   "outputs": [
    {
     "data": {
      "application/vnd.google.colaboratory.intrinsic+json": {
       "type": "string"
      },
      "text/plain": [
       "'apples'"
      ]
     },
     "execution_count": 3,
     "metadata": {},
     "output_type": "execute_result"
    }
   ],
   "source": [
    "my_list[0]"
   ]
  },
  {
   "cell_type": "markdown",
   "metadata": {
    "id": "B9v5-mAYhI7Q"
   },
   "source": [
    "3 - Qual é o último elemento da lista?"
   ]
  },
  {
   "cell_type": "code",
   "execution_count": 4,
   "metadata": {
    "ExecuteTime": {
     "end_time": "2020-02-16T19:21:48.908016Z",
     "start_time": "2020-02-16T19:21:48.900041Z"
    },
    "colab": {
     "base_uri": "https://localhost:8080/",
     "height": 35
    },
    "id": "6b0hhPuRggzb",
    "outputId": "07b26fb9-c320-42ab-ff28-612c1f82902f"
   },
   "outputs": [
    {
     "data": {
      "application/vnd.google.colaboratory.intrinsic+json": {
       "type": "string"
      },
      "text/plain": [
       "'kiwis'"
      ]
     },
     "execution_count": 4,
     "metadata": {},
     "output_type": "execute_result"
    }
   ],
   "source": [
    "my_list[-1]"
   ]
  },
  {
   "cell_type": "markdown",
   "metadata": {
    "id": "dxcbJ4uKhOA9"
   },
   "source": [
    "4 - Qual é o penúltimo elemento da lista?"
   ]
  },
  {
   "cell_type": "code",
   "execution_count": 5,
   "metadata": {
    "colab": {
     "base_uri": "https://localhost:8080/",
     "height": 35
    },
    "id": "Qfmn01GQggzc",
    "outputId": "91bdd0ad-e294-4d28-905a-9dd54bfecc8e"
   },
   "outputs": [
    {
     "data": {
      "application/vnd.google.colaboratory.intrinsic+json": {
       "type": "string"
      },
      "text/plain": [
       "'bananas'"
      ]
     },
     "execution_count": 5,
     "metadata": {},
     "output_type": "execute_result"
    }
   ],
   "source": [
    "my_list[-2]"
   ]
  },
  {
   "cell_type": "markdown",
   "metadata": {
    "id": "DwmJHCLvggzd"
   },
   "source": [
    "5 - Selecione os primeiros 2 elementos da lista.\n",
    "\n"
   ]
  },
  {
   "cell_type": "code",
   "execution_count": 6,
   "metadata": {
    "ExecuteTime": {
     "end_time": "2020-02-16T19:21:49.242625Z",
     "start_time": "2020-02-16T19:21:49.233204Z"
    },
    "colab": {
     "base_uri": "https://localhost:8080/"
    },
    "id": "zglpsGupggze",
    "outputId": "3bb9a4ba-73e4-4050-d819-864475d5d253"
   },
   "outputs": [
    {
     "data": {
      "text/plain": [
       "['apples', 'pears']"
      ]
     },
     "execution_count": 6,
     "metadata": {},
     "output_type": "execute_result"
    }
   ],
   "source": [
    "my_list[0:2]"
   ]
  },
  {
   "cell_type": "markdown",
   "metadata": {
    "id": "jjE1dzbSggzf"
   },
   "source": [
    "6 - Altere o elemento 'apples' por 'grapefruits'."
   ]
  },
  {
   "cell_type": "code",
   "execution_count": 7,
   "metadata": {
    "ExecuteTime": {
     "end_time": "2020-02-16T19:21:49.565579Z",
     "start_time": "2020-02-16T19:21:49.557607Z"
    },
    "colab": {
     "base_uri": "https://localhost:8080/"
    },
    "id": "pyrbQxNeggzf",
    "outputId": "e5b9ad4a-0881-413b-a57d-c4b4d9edf12e"
   },
   "outputs": [
    {
     "data": {
      "text/plain": [
       "['grapefruits', 'pears', 'bananas', 'kiwis']"
      ]
     },
     "execution_count": 7,
     "metadata": {},
     "output_type": "execute_result"
    }
   ],
   "source": [
    "my_list[0] = 'grapefruits'\n",
    "my_list"
   ]
  },
  {
   "cell_type": "markdown",
   "metadata": {
    "id": "92hIsqhJggzg"
   },
   "source": [
    "7 - Quantos elementos tem a lista?"
   ]
  },
  {
   "cell_type": "code",
   "execution_count": 8,
   "metadata": {
    "ExecuteTime": {
     "end_time": "2020-02-16T19:21:49.894604Z",
     "start_time": "2020-02-16T19:21:49.886287Z"
    },
    "colab": {
     "base_uri": "https://localhost:8080/"
    },
    "id": "gKSbRam4ggzg",
    "outputId": "fcfa4574-677c-4f42-bbf9-850da541ca6c"
   },
   "outputs": [
    {
     "data": {
      "text/plain": [
       "4"
      ]
     },
     "execution_count": 8,
     "metadata": {},
     "output_type": "execute_result"
    }
   ],
   "source": [
    "len(my_list)"
   ]
  },
  {
   "cell_type": "markdown",
   "metadata": {
    "id": "BrIbJhE7ggzh"
   },
   "source": [
    "8 - Adicione 'pineapple' à lista."
   ]
  },
  {
   "cell_type": "code",
   "execution_count": 9,
   "metadata": {
    "ExecuteTime": {
     "end_time": "2020-02-16T19:21:50.225217Z",
     "start_time": "2020-02-16T19:21:50.216549Z"
    },
    "colab": {
     "base_uri": "https://localhost:8080/"
    },
    "id": "xvAdGzvBggzh",
    "outputId": "e648b4cf-a5ff-4a1e-d8c3-9a1d385410fd"
   },
   "outputs": [
    {
     "name": "stdout",
     "output_type": "stream",
     "text": [
      "['grapefruits', 'pears', 'bananas', 'kiwis', 'pineapple']\n"
     ]
    }
   ],
   "source": [
    "my_list.append('pineapple')\n",
    "\n",
    "print (my_list)"
   ]
  },
  {
   "cell_type": "markdown",
   "metadata": {
    "id": "3NbrAq6Rggzi"
   },
   "source": [
    "9 - Adicione 'carrots' à lista como segundo elemento da mesma."
   ]
  },
  {
   "cell_type": "code",
   "execution_count": 10,
   "metadata": {
    "ExecuteTime": {
     "end_time": "2020-02-16T19:21:50.563156Z",
     "start_time": "2020-02-16T19:21:50.558924Z"
    },
    "id": "b5MghMNgggzi"
   },
   "outputs": [],
   "source": [
    "my_list.insert(1,'carrots')"
   ]
  },
  {
   "cell_type": "markdown",
   "metadata": {
    "id": "29jAwyZEggzj"
   },
   "source": [
    "10 - Elimine o elemento 'bananas'."
   ]
  },
  {
   "cell_type": "code",
   "execution_count": 11,
   "metadata": {
    "ExecuteTime": {
     "end_time": "2020-02-16T19:21:51.419811Z",
     "start_time": "2020-02-16T19:21:51.415851Z"
    },
    "id": "qpUO2dKcggzj"
   },
   "outputs": [],
   "source": [
    "my_list.remove('bananas')"
   ]
  },
  {
   "cell_type": "markdown",
   "metadata": {
    "id": "m22cRaQlggzj"
   },
   "source": [
    "11 - Elimine o último elemento da lista."
   ]
  },
  {
   "cell_type": "code",
   "execution_count": 12,
   "metadata": {
    "ExecuteTime": {
     "end_time": "2020-02-16T19:21:52.779509Z",
     "start_time": "2020-02-16T19:21:52.771327Z"
    },
    "colab": {
     "base_uri": "https://localhost:8080/",
     "height": 35
    },
    "id": "i0BXoJQjggzk",
    "outputId": "49f603a4-0b1b-4954-8351-06b8809c55dd"
   },
   "outputs": [
    {
     "data": {
      "application/vnd.google.colaboratory.intrinsic+json": {
       "type": "string"
      },
      "text/plain": [
       "'pineapple'"
      ]
     },
     "execution_count": 12,
     "metadata": {},
     "output_type": "execute_result"
    }
   ],
   "source": [
    "my_list.pop(len(my_list)-1)"
   ]
  },
  {
   "cell_type": "markdown",
   "metadata": {
    "id": "_4NCUXomggzk"
   },
   "source": [
    "12 - Crie o reverso da lista atual."
   ]
  },
  {
   "cell_type": "code",
   "execution_count": 13,
   "metadata": {
    "ExecuteTime": {
     "end_time": "2020-02-16T19:21:53.151116Z",
     "start_time": "2020-02-16T19:21:53.142900Z"
    },
    "colab": {
     "base_uri": "https://localhost:8080/"
    },
    "id": "rcnYebkZggzl",
    "outputId": "e69f1e71-d7b9-4fd7-b452-e2b9b24fecd3"
   },
   "outputs": [
    {
     "data": {
      "text/plain": [
       "['kiwis', 'pears', 'carrots', 'grapefruits']"
      ]
     },
     "execution_count": 13,
     "metadata": {},
     "output_type": "execute_result"
    }
   ],
   "source": [
    "my_list.reverse()\n",
    "my_list"
   ]
  },
  {
   "cell_type": "markdown",
   "metadata": {
    "id": "yX_4gbFpggzl"
   },
   "source": [
    "13 - Adicione os seguintes elementos à lista:\n",
    "- deodorant\n",
    "- shampoo\n",
    "- bread\n",
    "- gum\n",
    "- tictacs"
   ]
  },
  {
   "cell_type": "code",
   "execution_count": 14,
   "metadata": {
    "ExecuteTime": {
     "end_time": "2020-02-16T19:22:10.807579Z",
     "start_time": "2020-02-16T19:22:10.797689Z"
    },
    "colab": {
     "base_uri": "https://localhost:8080/"
    },
    "id": "wYzpWf0yggzm",
    "outputId": "65ad6bea-3d6a-4261-828b-25f162679ba9"
   },
   "outputs": [
    {
     "name": "stdout",
     "output_type": "stream",
     "text": [
      "['kiwis', 'pears', 'carrots', 'grapefruits', 'deodorant', 'shampoo', 'bread', 'gum', 'tictacs']\n"
     ]
    }
   ],
   "source": [
    "new_list = ['deodorant','shampoo','bread','gum','tictacs']\n",
    "my_list = my_list + new_list\n",
    "\n",
    "print(my_list)"
   ]
  },
  {
   "cell_type": "markdown",
   "metadata": {
    "id": "I2bR8mYBggzm"
   },
   "source": [
    "## Tuplos"
   ]
  },
  {
   "cell_type": "markdown",
   "metadata": {
    "id": "Tv3BfwIaggzm"
   },
   "source": [
    "14 - Qual é a principal diferença entre um tuplo e uma lista?"
   ]
  },
  {
   "cell_type": "markdown",
   "metadata": {
    "id": "Fv1fDotnggzn"
   },
   "source": [
    "Um tuplo é imutável."
   ]
  },
  {
   "cell_type": "markdown",
   "metadata": {
    "id": "RFyCXicMggzn"
   },
   "source": [
    "15 - Crie um tuplo com os elementos 1,2,3."
   ]
  },
  {
   "cell_type": "code",
   "execution_count": 20,
   "metadata": {
    "ExecuteTime": {
     "end_time": "2020-02-16T19:25:44.749901Z",
     "start_time": "2020-02-16T19:25:44.745844Z"
    },
    "id": "vPtMdrU9ggzn"
   },
   "outputs": [],
   "source": [
    "tuple_number = ('1','2','3')"
   ]
  },
  {
   "cell_type": "markdown",
   "metadata": {
    "id": "N_CN5iILggzp"
   },
   "source": [
    "16 - Converta a sua lista num tuplo."
   ]
  },
  {
   "cell_type": "code",
   "execution_count": 18,
   "metadata": {
    "ExecuteTime": {
     "end_time": "2020-02-16T19:25:58.097192Z",
     "start_time": "2020-02-16T19:25:58.090699Z"
    },
    "colab": {
     "base_uri": "https://localhost:8080/"
    },
    "id": "xCUDirKhggzp",
    "outputId": "f258c23c-7092-40c9-b3ee-71914c01bfb8"
   },
   "outputs": [
    {
     "data": {
      "text/plain": [
       "('kiwis',\n",
       " 'pears',\n",
       " 'carrots',\n",
       " 'grapefruits',\n",
       " 'deodorant',\n",
       " 'shampoo',\n",
       " 'bread',\n",
       " 'gum',\n",
       " 'tictacs')"
      ]
     },
     "execution_count": 18,
     "metadata": {},
     "output_type": "execute_result"
    }
   ],
   "source": [
    "my_tuple = tuple(my_list)\n",
    "my_tuple"
   ]
  },
  {
   "cell_type": "markdown",
   "metadata": {
    "id": "0ysFxpI0ggzr"
   },
   "source": [
    "17 - Quantos elementos tem o tuplo?"
   ]
  },
  {
   "cell_type": "code",
   "execution_count": 17,
   "metadata": {
    "ExecuteTime": {
     "end_time": "2020-02-16T19:26:29.235727Z",
     "start_time": "2020-02-16T19:26:29.229529Z"
    },
    "colab": {
     "base_uri": "https://localhost:8080/"
    },
    "id": "C1S4DdZ7ggzr",
    "outputId": "649fc1c6-9112-48c5-ea53-31a9107c201b"
   },
   "outputs": [
    {
     "data": {
      "text/plain": [
       "9"
      ]
     },
     "execution_count": 17,
     "metadata": {},
     "output_type": "execute_result"
    }
   ],
   "source": [
    "len(my_tuple)"
   ]
  },
  {
   "cell_type": "markdown",
   "metadata": {
    "ExecuteTime": {
     "end_time": "2020-02-16T19:27:27.210778Z",
     "start_time": "2020-02-16T19:27:27.204153Z"
    },
    "id": "Cv-kfobaggzs"
   },
   "source": [
    "18 - Em que lugar do tuplo se encontra o elemento 'gum'?"
   ]
  },
  {
   "cell_type": "code",
   "execution_count": 21,
   "metadata": {
    "ExecuteTime": {
     "end_time": "2020-02-16T19:28:12.233443Z",
     "start_time": "2020-02-16T19:28:12.226953Z"
    },
    "colab": {
     "base_uri": "https://localhost:8080/"
    },
    "id": "IvgQkkooggzs",
    "outputId": "fc9849b0-bb31-4363-d023-83cf6951f73a"
   },
   "outputs": [
    {
     "data": {
      "text/plain": [
       "7"
      ]
     },
     "execution_count": 21,
     "metadata": {},
     "output_type": "execute_result"
    }
   ],
   "source": [
    "my_tuple.index('gum')"
   ]
  },
  {
   "cell_type": "markdown",
   "metadata": {
    "id": "3bcxb_aJggzt"
   },
   "source": [
    "19 - Adicione o elemento 'water' ao tuplo."
   ]
  },
  {
   "cell_type": "markdown",
   "metadata": {
    "id": "RAAIAWbYggzt"
   },
   "source": [
    "Uma vez que um tuplo é imutável, não se pode adicionar quaisquer elemento ao mesmo depois deste ter sido inicializado."
   ]
  },
  {
   "cell_type": "markdown",
   "metadata": {
    "id": "kn9IJ6XYggzv"
   },
   "source": [
    "## Sets"
   ]
  },
  {
   "cell_type": "markdown",
   "metadata": {
    "id": "JnTHEvjjggzv"
   },
   "source": [
    "20 - Qual é a diferença entre um set e um tuplo? E entre um set e uma lista?"
   ]
  },
  {
   "cell_type": "markdown",
   "metadata": {
    "id": "Az5xNWfrggzw"
   },
   "source": [
    "A diferença entre um set e um tuplo é que o tuplo é ordenado. O mesmo acontece ente um set e uma lista (a lista é ordenada). Para além disso, um set é mutável e um tuplo não."
   ]
  },
  {
   "cell_type": "markdown",
   "metadata": {
    "id": "KcxHlmIJggzx"
   },
   "source": [
    "21 - Defina um set com as seguintes cores: azul, amarelo, branco, rosa"
   ]
  },
  {
   "cell_type": "code",
   "execution_count": 22,
   "metadata": {
    "ExecuteTime": {
     "end_time": "2020-02-16T19:34:44.273302Z",
     "start_time": "2020-02-16T19:34:44.266529Z"
    },
    "colab": {
     "base_uri": "https://localhost:8080/"
    },
    "id": "KQ8XRW96ggzx",
    "outputId": "cdf8839f-28d1-4085-eb74-465c779f2639"
   },
   "outputs": [
    {
     "data": {
      "text/plain": [
       "{'amarelo', 'azul', 'branco', 'rosa'}"
      ]
     },
     "execution_count": 22,
     "metadata": {},
     "output_type": "execute_result"
    }
   ],
   "source": [
    "my_set = {'azul','amarelo','branco','rosa'}\n",
    "my_set"
   ]
  },
  {
   "cell_type": "markdown",
   "metadata": {
    "id": "-sbF_aZkggzy"
   },
   "source": [
    "22 - Qual é a posição que a cor branco ocupa no set?"
   ]
  },
  {
   "cell_type": "markdown",
   "metadata": {
    "id": "56I2nH9Hggzz"
   },
   "source": [
    "Os sets não são indexados, logo não há o conceito de posição de um elemento num set."
   ]
  },
  {
   "cell_type": "markdown",
   "metadata": {
    "id": "p_6cTLrXggzz"
   },
   "source": [
    "23 - Adicione a cor lilás ao set."
   ]
  },
  {
   "cell_type": "code",
   "execution_count": 23,
   "metadata": {
    "ExecuteTime": {
     "end_time": "2020-02-16T19:34:58.857688Z",
     "start_time": "2020-02-16T19:34:58.852355Z"
    },
    "id": "vzoVCsPkggz0"
   },
   "outputs": [],
   "source": [
    "my_set.add('lilás')"
   ]
  },
  {
   "cell_type": "markdown",
   "metadata": {
    "id": "UhU3yAFVggz0"
   },
   "source": [
    "24 - Adicione as seguintes cores ao set: castanho, laranja, verde"
   ]
  },
  {
   "cell_type": "code",
   "execution_count": 24,
   "metadata": {
    "ExecuteTime": {
     "end_time": "2020-02-16T19:36:19.940551Z",
     "start_time": "2020-02-16T19:36:19.936211Z"
    },
    "id": "hzgjQINGggz1"
   },
   "outputs": [],
   "source": [
    "my_set.update(['castanho','laranja','verde'])"
   ]
  },
  {
   "cell_type": "markdown",
   "metadata": {
    "id": "RSU8Ng-Eggz1"
   },
   "source": [
    "25 - Quantos elementos em o set?"
   ]
  },
  {
   "cell_type": "code",
   "execution_count": 25,
   "metadata": {
    "ExecuteTime": {
     "end_time": "2020-02-16T19:37:03.111550Z",
     "start_time": "2020-02-16T19:37:03.105495Z"
    },
    "colab": {
     "base_uri": "https://localhost:8080/"
    },
    "id": "cQVA34-4ggz1",
    "outputId": "dd95c534-0ef5-4df3-a3c9-6f31d69e0c51"
   },
   "outputs": [
    {
     "data": {
      "text/plain": [
       "8"
      ]
     },
     "execution_count": 25,
     "metadata": {},
     "output_type": "execute_result"
    }
   ],
   "source": [
    "len(my_set)"
   ]
  },
  {
   "cell_type": "markdown",
   "metadata": {
    "id": "C4v56Fmeggz2"
   },
   "source": [
    "26 - Crie um novo set com os elementos a,b,c,d."
   ]
  },
  {
   "cell_type": "code",
   "execution_count": 26,
   "metadata": {
    "ExecuteTime": {
     "end_time": "2020-02-16T19:39:29.494829Z",
     "start_time": "2020-02-16T19:39:29.490660Z"
    },
    "id": "WcKmtz5yggz3"
   },
   "outputs": [],
   "source": [
    "my_set2 = {'a','b','c','d'}"
   ]
  },
  {
   "cell_type": "markdown",
   "metadata": {
    "id": "AVvVRmTCggz3"
   },
   "source": [
    "27 - Adicione o novo set ao anterior."
   ]
  },
  {
   "cell_type": "code",
   "execution_count": 30,
   "metadata": {
    "ExecuteTime": {
     "end_time": "2020-02-16T19:39:50.597176Z",
     "start_time": "2020-02-16T19:39:50.591748Z"
    },
    "id": "fbZkRu0oggz4"
   },
   "outputs": [],
   "source": [
    "my_set3 = my_set.union(my_set2)"
   ]
  },
  {
   "cell_type": "markdown",
   "metadata": {
    "id": "dTU4Boi8ggz4",
    "solution2": "hidden",
    "solution2_first": true
   },
   "source": [
    "28 - Elimine todos os elementos do set my_set."
   ]
  },
  {
   "cell_type": "code",
   "execution_count": 28,
   "metadata": {
    "ExecuteTime": {
     "end_time": "2020-02-16T19:40:53.737436Z",
     "start_time": "2020-02-16T19:40:53.733280Z"
    },
    "id": "uDTcUnR3ggz5",
    "solution2": "hidden"
   },
   "outputs": [],
   "source": [
    "my_set.clear()"
   ]
  },
  {
   "cell_type": "markdown",
   "metadata": {
    "id": "G4MmYchnggz5"
   },
   "source": [
    "## Dicionários"
   ]
  },
  {
   "cell_type": "markdown",
   "metadata": {
    "id": "W6zNIqzIggz6",
    "solution2": "shown",
    "solution2_first": true
   },
   "source": [
    "29 - Dado o seguinte dicionário:\n",
    "\n",
    "estudante = {\n",
    "    'nome': 'Alice',\n",
    "    'idade': 25,\n",
    "    'cursos': ['Matemática', 'Física', 'Química'],\n",
    "    'notas': {'Matemática': 90, 'Física': 85, 'Química': 88}\n",
    "}\n",
    "\n",
    "\n",
    "Faça o seguinte:\n",
    "- Adicione um novo par de chave-valor ao dicionário. A chave deve ser 'endereço' e o valor deve ser 'Rua Principal, 123'.\n",
    "- Acrescente 'História' à lista de cursos.\n",
    "- Aumente a idade da Alice em 1 ano.\n",
    "- Altere a nota dela em Física para 90.\n",
    "- Remova a chave 'notas' do dicionário."
   ]
  },
  {
   "cell_type": "code",
   "execution_count": 1,
   "metadata": {
    "ExecuteTime": {
     "end_time": "2020-02-16T19:54:02.468568Z",
     "start_time": "2020-02-16T19:54:02.463539Z"
    },
    "id": "Q6P-r0hGggz8",
    "solution2": "shown"
   },
   "outputs": [],
   "source": [
    "estudante = {\n",
    "    'nome': 'Alice',\n",
    "    'idade': 25,\n",
    "    'cursos': ['Matemática', 'Física', 'Química'],\n",
    "    'notas': {'Matemática': 90, 'Física': 85, 'Química': 88}\n",
    "}\n"
   ]
  },
  {
   "cell_type": "code",
   "execution_count": 2,
   "metadata": {
    "ExecuteTime": {
     "end_time": "2020-02-16T19:54:02.745831Z",
     "start_time": "2020-02-16T19:54:02.738824Z"
    },
    "colab": {
     "base_uri": "https://localhost:8080/"
    },
    "id": "mO_7Iospggz8",
    "outputId": "dad3c35d-1084-45fa-9547-c0f80ca6644b",
    "solution2": "shown"
   },
   "outputs": [
    {
     "data": {
      "text/plain": [
       "{'nome': 'Alice',\n",
       " 'idade': 25,\n",
       " 'cursos': ['Matemática', 'Física', 'Química'],\n",
       " 'notas': {'Matemática': 90, 'Física': 85, 'Química': 88},\n",
       " 'endereço': 'Rua Principal, 123'}"
      ]
     },
     "execution_count": 2,
     "metadata": {},
     "output_type": "execute_result"
    }
   ],
   "source": [
    "estudante.update({'endereço': 'Rua Principal, 123'})\n",
    "estudante\n"
   ]
  },
  {
   "cell_type": "code",
   "execution_count": 3,
   "metadata": {
    "ExecuteTime": {
     "end_time": "2020-02-16T19:54:03.030875Z",
     "start_time": "2020-02-16T19:54:03.023101Z"
    },
    "colab": {
     "base_uri": "https://localhost:8080/"
    },
    "id": "_VMpXCviggz9",
    "outputId": "e1af2097-b5db-42a2-dcb2-45ffb4070f57",
    "solution2": "shown"
   },
   "outputs": [
    {
     "data": {
      "text/plain": [
       "{'nome': 'Alice',\n",
       " 'idade': 25,\n",
       " 'cursos': ['Matemática', 'Física', 'Química', 'História'],\n",
       " 'notas': {'Matemática': 90, 'Física': 85, 'Química': 88},\n",
       " 'endereço': 'Rua Principal, 123'}"
      ]
     },
     "execution_count": 3,
     "metadata": {},
     "output_type": "execute_result"
    }
   ],
   "source": [
    "estudante['cursos'].append('História')\n",
    "estudante"
   ]
  },
  {
   "cell_type": "code",
   "execution_count": 43,
   "metadata": {
    "ExecuteTime": {
     "end_time": "2020-02-16T19:54:03.197086Z",
     "start_time": "2020-02-16T19:54:03.189882Z"
    },
    "colab": {
     "base_uri": "https://localhost:8080/"
    },
    "id": "SXy_woXYggz-",
    "outputId": "e5543705-d804-407b-9201-2c1482c3fbea",
    "solution2": "shown"
   },
   "outputs": [
    {
     "data": {
      "text/plain": [
       "{'nome': 'Alice',\n",
       " 'idade': 26,\n",
       " 'cursos': ['Matemática', 'Física', 'Química', 'História'],\n",
       " 'notas': {'Matemática': 90, 'Física': 85, 'Química': 88},\n",
       " 'endereço': 'Rua Principal, 123'}"
      ]
     },
     "execution_count": 43,
     "metadata": {},
     "output_type": "execute_result"
    }
   ],
   "source": [
    "estudante['idade']+=1\n",
    "estudante"
   ]
  },
  {
   "cell_type": "code",
   "execution_count": 44,
   "metadata": {
    "ExecuteTime": {
     "end_time": "2020-02-16T19:54:03.381580Z",
     "start_time": "2020-02-16T19:54:03.374039Z"
    },
    "colab": {
     "base_uri": "https://localhost:8080/"
    },
    "id": "ylWFxmV3ggz-",
    "outputId": "600deae6-0bac-43dc-d897-44a514840b3b",
    "solution2": "shown"
   },
   "outputs": [
    {
     "data": {
      "text/plain": [
       "{'nome': 'Alice',\n",
       " 'idade': 26,\n",
       " 'cursos': ['Matemática', 'Física', 'Química', 'História'],\n",
       " 'notas': {'Matemática': 90, 'Física': 90, 'Química': 88},\n",
       " 'endereço': 'Rua Principal, 123'}"
      ]
     },
     "execution_count": 44,
     "metadata": {},
     "output_type": "execute_result"
    }
   ],
   "source": [
    "estudante['notas']['Física'] = 90\n",
    "estudante"
   ]
  },
  {
   "cell_type": "code",
   "execution_count": 45,
   "metadata": {
    "ExecuteTime": {
     "end_time": "2020-02-16T19:54:03.543778Z",
     "start_time": "2020-02-16T19:54:03.533399Z"
    },
    "colab": {
     "base_uri": "https://localhost:8080/"
    },
    "id": "C00gejg8ggz_",
    "outputId": "29754af4-b80b-453b-f8f9-44cd98401519",
    "solution2": "shown"
   },
   "outputs": [
    {
     "data": {
      "text/plain": [
       "{'nome': 'Alice',\n",
       " 'idade': 26,\n",
       " 'cursos': ['Matemática', 'Física', 'Química', 'História'],\n",
       " 'endereço': 'Rua Principal, 123'}"
      ]
     },
     "execution_count": 45,
     "metadata": {},
     "output_type": "execute_result"
    }
   ],
   "source": [
    "estudante.pop('notas')\n",
    "estudante"
   ]
  },
  {
   "cell_type": "markdown",
   "metadata": {
    "id": "gaKx3BeVggz_",
    "solution2": "shown",
    "solution2_first": true
   },
   "source": [
    "30 - Crie um dicionário chamado 'produtos' que represente o inventário de uma loja.\n",
    "\n",
    "- Adicione os seguintes itens ao dicionário, juntamente com seus preços: \"laptop\": 800, \"telefone\": 400, \"tablet\": 300, \"fones de ouvido\": 100.\n",
    "\n",
    "- Agora, crie outro dicionário chamado 'inventário' com as seguintes quantidades para cada item: \"laptop\": 10, \"telefone\": 20, \"tablet\": 15, \"fones de ouvido\": 50.\n",
    "\n",
    "- Itere por cada categoria em ambos os dicionários e imprima o preço e o inventário para cada produto.\n",
    "\n",
    "- Calcule a receita total que você obteria se vendesse todos os itens do seu inventário pelos preços respectivos."
   ]
  },
  {
   "cell_type": "code",
   "execution_count": 46,
   "metadata": {
    "ExecuteTime": {
     "end_time": "2020-02-16T20:08:27.967136Z",
     "start_time": "2020-02-16T20:08:27.962604Z"
    },
    "id": "0xG89Fcmgg0A",
    "solution2": "shown"
   },
   "outputs": [],
   "source": [
    "produtos = {}\n",
    "produtos[\"laptop\"] = 800\n",
    "produtos[\"telefone\"] = 400\n",
    "produtos[\"tablet\"] = 300\n",
    "produtos[\"fones de ouvido\"] = 100"
   ]
  },
  {
   "cell_type": "code",
   "execution_count": 47,
   "metadata": {
    "ExecuteTime": {
     "end_time": "2020-02-16T20:08:35.984107Z",
     "start_time": "2020-02-16T20:08:35.979428Z"
    },
    "id": "HpanQfWugg0A",
    "solution2": "shown"
   },
   "outputs": [],
   "source": [
    "inventário = {}\n",
    "\n",
    "inventário[\"laptop\"] = 10\n",
    "inventário[\"telefone\"] = 20\n",
    "inventário[\"tablet\"] = 15\n",
    "inventário[\"fones de ouvido\"] = 50"
   ]
  },
  {
   "cell_type": "code",
   "execution_count": 49,
   "metadata": {
    "ExecuteTime": {
     "end_time": "2020-02-16T20:08:36.153726Z",
     "start_time": "2020-02-16T20:08:36.145809Z"
    },
    "colab": {
     "base_uri": "https://localhost:8080/"
    },
    "id": "-ijw9YV1gg0B",
    "outputId": "f857ddb4-efb8-4c6e-f8ac-42454f0ac200",
    "solution2": "shown"
   },
   "outputs": [
    {
     "name": "stdout",
     "output_type": "stream",
     "text": [
      "laptop\n",
      "preço: 800\n",
      "inventário: 10\n",
      "\n",
      "telefone\n",
      "preço: 400\n",
      "inventário: 20\n",
      "\n",
      "tablet\n",
      "preço: 300\n",
      "inventário: 15\n",
      "\n",
      "fones de ouvido\n",
      "preço: 100\n",
      "inventário: 50\n",
      "\n"
     ]
    }
   ],
   "source": [
    "for produto in produtos:\n",
    "    print (produto)\n",
    "    print (\"preço: %s\" % produtos[produto])\n",
    "    print (\"inventário: %s\" % inventário[produto]+ \"\\n\")"
   ]
  },
  {
   "cell_type": "code",
   "execution_count": 50,
   "metadata": {
    "ExecuteTime": {
     "end_time": "2020-02-16T20:08:36.304795Z",
     "start_time": "2020-02-16T20:08:36.299275Z"
    },
    "colab": {
     "base_uri": "https://localhost:8080/"
    },
    "id": "VwvgKKh6gg0B",
    "outputId": "7706dc17-c0f1-43ad-a13b-e7b04d1551b9",
    "solution2": "shown"
   },
   "outputs": [
    {
     "name": "stdout",
     "output_type": "stream",
     "text": [
      "Profit  25500 €\n"
     ]
    }
   ],
   "source": [
    "profit = 0\n",
    "for produto in produtos:\n",
    "    profit = profit + produtos[produto]*inventário[produto]\n",
    "\n",
    "print(\"Profit \",profit,\"€\")"
   ]
  },
  {
   "cell_type": "markdown",
   "metadata": {
    "id": "YsrsHeBPgg0C",
    "solution2": "shown",
    "solution2_first": true
   },
   "source": [
    "31 - Ainda sobre a questão anterior:\n",
    "\n",
    "Calcule o lucro de uma venda tendo em consideração de que um item é vendido apenas se o produto estiver em inventário e, para cada venda, subtraia uma unidade do inventário do produto."
   ]
  },
  {
   "cell_type": "code",
   "execution_count": 51,
   "metadata": {
    "ExecuteTime": {
     "end_time": "2020-02-16T20:10:50.967163Z",
     "start_time": "2020-02-16T20:10:50.957982Z"
    },
    "colab": {
     "base_uri": "https://localhost:8080/"
    },
    "id": "V__pkWqWgg0D",
    "outputId": "41b9c210-bb44-403e-fc7b-0d1bbf7be2b6",
    "solution2": "shown"
   },
   "outputs": [
    {
     "name": "stdout",
     "output_type": "stream",
     "text": [
      "Profit  1600 €\n"
     ]
    }
   ],
   "source": [
    "profit = 0\n",
    "for produto in produtos:\n",
    "    if inventário[produto] > 0:\n",
    "        profit = profit + produtos[produto]\n",
    "        inventário[produto] -= 1\n",
    "\n",
    "print(\"Profit \",profit,\"€\")"
   ]
  }
 ],
 "metadata": {
  "colab": {
   "provenance": []
  },
  "interpreter": {
   "hash": "a890e96c5bc2e34e713687d667dc1e925660c2a0af9c3a409dd6c550ddd944d3"
  },
  "kernelspec": {
   "display_name": "Python 3 (ipykernel)",
   "language": "python",
   "name": "python3"
  },
  "language_info": {
   "codemirror_mode": {
    "name": "ipython",
    "version": 3
   },
   "file_extension": ".py",
   "mimetype": "text/x-python",
   "name": "python",
   "nbconvert_exporter": "python",
   "pygments_lexer": "ipython3",
   "version": "3.10.12"
  },
  "latex_envs": {
   "LaTeX_envs_menu_present": true,
   "autoclose": false,
   "autocomplete": true,
   "bibliofile": "biblio.bib",
   "cite_by": "apalike",
   "current_citInitial": 1,
   "eqLabelWithNumbers": true,
   "eqNumInitial": 1,
   "hotkeys": {
    "equation": "Ctrl-E",
    "itemize": "Ctrl-I"
   },
   "labels_anchors": false,
   "latex_user_defs": false,
   "report_style_numbering": false,
   "user_envs_cfg": false
  },
  "toc": {
   "base_numbering": 1,
   "nav_menu": {},
   "number_sections": true,
   "sideBar": true,
   "skip_h1_title": false,
   "title_cell": "Table of Contents",
   "title_sidebar": "Contents",
   "toc_cell": false,
   "toc_position": {
    "height": "calc(100% - 180px)",
    "left": "10px",
    "top": "150px",
    "width": "418.3831481933594px"
   },
   "toc_section_display": true,
   "toc_window_display": false
  },
  "varInspector": {
   "cols": {
    "lenName": 16,
    "lenType": 16,
    "lenVar": 40
   },
   "kernels_config": {
    "python": {
     "delete_cmd_postfix": "",
     "delete_cmd_prefix": "del ",
     "library": "var_list.py",
     "varRefreshCmd": "print(var_dic_list())"
    },
    "r": {
     "delete_cmd_postfix": ") ",
     "delete_cmd_prefix": "rm(",
     "library": "var_list.r",
     "varRefreshCmd": "cat(var_dic_list()) "
    }
   },
   "types_to_exclude": [
    "module",
    "function",
    "builtin_function_or_method",
    "instance",
    "_Feature"
   ],
   "window_display": false
  }
 },
 "nbformat": 4,
 "nbformat_minor": 1
}
