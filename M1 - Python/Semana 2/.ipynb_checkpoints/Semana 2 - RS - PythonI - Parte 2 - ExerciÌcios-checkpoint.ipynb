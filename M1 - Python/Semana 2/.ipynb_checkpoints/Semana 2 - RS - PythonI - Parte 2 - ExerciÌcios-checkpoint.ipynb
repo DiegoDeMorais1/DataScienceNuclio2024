{
 "cells": [
  {
   "cell_type": "markdown",
   "metadata": {
    "id": "gunXub49ggzQ"
   },
   "source": [
    "![Nuclio logo](https://nuclio.school/wp-content/uploads/2018/12/nucleoDS-newBlack.png)"
   ]
  },
  {
   "cell_type": "markdown",
   "metadata": {
    "id": "zErpOgsnggzV"
   },
   "source": [
    "# Exercícios - Introdução a Python (Listas + Tuplos + Sets + Dicionários)\n",
    "\n",
    "Nesta folha de exercícios, encontram 31 questões de resposta rápida que vos permitirão aprender o básico sobre listas, tuplos, sets e dicionários em Python.\n",
    "\n",
    "Boa sorte!"
   ]
  },
  {
   "cell_type": "markdown",
   "metadata": {
    "id": "p9O6ESPBggzW"
   },
   "source": [
    "## Listas"
   ]
  },
  {
   "cell_type": "markdown",
   "metadata": {
    "id": "bwVa7c50ggzW"
   },
   "source": [
    "1 - Crie uma lista com os seguintes elementos: apples, pears, bananas, kiwis"
   ]
  },
  {
   "cell_type": "code",
   "execution_count": 2,
   "metadata": {},
   "outputs": [
    {
     "data": {
      "text/plain": [
       "['apples', 'pears', 'bananas', 'kiwis']"
      ]
     },
     "execution_count": 2,
     "metadata": {},
     "output_type": "execute_result"
    }
   ],
   "source": [
    "l1 = ['apples', 'pears', 'bananas', 'kiwis']\n",
    "l1"
   ]
  },
  {
   "cell_type": "markdown",
   "metadata": {
    "id": "d73RmtfOggzZ"
   },
   "source": [
    "2 - Qual é o primeiro elemento da lista?"
   ]
  },
  {
   "cell_type": "code",
   "execution_count": 3,
   "metadata": {},
   "outputs": [
    {
     "data": {
      "text/plain": [
       "'apples'"
      ]
     },
     "execution_count": 3,
     "metadata": {},
     "output_type": "execute_result"
    }
   ],
   "source": [
    "l1[0]"
   ]
  },
  {
   "cell_type": "markdown",
   "metadata": {
    "id": "B9v5-mAYhI7Q"
   },
   "source": [
    "3 - Qual é o último elemento da lista?"
   ]
  },
  {
   "cell_type": "code",
   "execution_count": 4,
   "metadata": {},
   "outputs": [
    {
     "data": {
      "text/plain": [
       "'kiwis'"
      ]
     },
     "execution_count": 4,
     "metadata": {},
     "output_type": "execute_result"
    }
   ],
   "source": [
    "l1[-1]"
   ]
  },
  {
   "cell_type": "markdown",
   "metadata": {
    "id": "dxcbJ4uKhOA9"
   },
   "source": [
    "4 - Qual é o penúltimo elemento da lista?"
   ]
  },
  {
   "cell_type": "code",
   "execution_count": 5,
   "metadata": {},
   "outputs": [
    {
     "data": {
      "text/plain": [
       "'bananas'"
      ]
     },
     "execution_count": 5,
     "metadata": {},
     "output_type": "execute_result"
    }
   ],
   "source": [
    "l1[-2]"
   ]
  },
  {
   "cell_type": "markdown",
   "metadata": {
    "id": "DwmJHCLvggzd"
   },
   "source": [
    "5 - Selecione os primeiros 2 elementos da lista.\n",
    "\n"
   ]
  },
  {
   "cell_type": "code",
   "execution_count": 7,
   "metadata": {},
   "outputs": [
    {
     "data": {
      "text/plain": [
       "['apples', 'pears']"
      ]
     },
     "execution_count": 7,
     "metadata": {},
     "output_type": "execute_result"
    }
   ],
   "source": [
    "l1[:2]"
   ]
  },
  {
   "cell_type": "markdown",
   "metadata": {
    "id": "jjE1dzbSggzf"
   },
   "source": [
    "6 - Altere o elemento 'apples' por 'grapefruits'."
   ]
  },
  {
   "cell_type": "code",
   "execution_count": 10,
   "metadata": {},
   "outputs": [
    {
     "data": {
      "text/plain": [
       "['grapefruits', 'pears', 'bananas', 'kiwis']"
      ]
     },
     "execution_count": 10,
     "metadata": {},
     "output_type": "execute_result"
    }
   ],
   "source": [
    "l1[0] = 'grapefruits'\n",
    "l1"
   ]
  },
  {
   "cell_type": "markdown",
   "metadata": {
    "id": "92hIsqhJggzg"
   },
   "source": [
    "7 - Quantos elementos tem a lista?"
   ]
  },
  {
   "cell_type": "code",
   "execution_count": 12,
   "metadata": {},
   "outputs": [
    {
     "data": {
      "text/plain": [
       "4"
      ]
     },
     "execution_count": 12,
     "metadata": {},
     "output_type": "execute_result"
    }
   ],
   "source": [
    "len(l1)"
   ]
  },
  {
   "cell_type": "markdown",
   "metadata": {
    "id": "BrIbJhE7ggzh"
   },
   "source": [
    "8 - Adicione 'pineapple' à lista."
   ]
  },
  {
   "cell_type": "code",
   "execution_count": 13,
   "metadata": {},
   "outputs": [
    {
     "data": {
      "text/plain": [
       "['grapefruits', 'pears', 'bananas', 'kiwis', 'pineapple']"
      ]
     },
     "execution_count": 13,
     "metadata": {},
     "output_type": "execute_result"
    }
   ],
   "source": [
    "l1.append('pineapple')\n",
    "l1"
   ]
  },
  {
   "cell_type": "markdown",
   "metadata": {
    "id": "3NbrAq6Rggzi"
   },
   "source": [
    "9 - Adicione 'carrots' à lista como segundo elemento da mesma."
   ]
  },
  {
   "cell_type": "code",
   "execution_count": 14,
   "metadata": {},
   "outputs": [
    {
     "data": {
      "text/plain": [
       "['grapefruits', 'carrots', 'pears', 'bananas', 'kiwis', 'pineapple']"
      ]
     },
     "execution_count": 14,
     "metadata": {},
     "output_type": "execute_result"
    }
   ],
   "source": [
    "l1.insert(1, \"carrots\")\n",
    "l1"
   ]
  },
  {
   "cell_type": "markdown",
   "metadata": {
    "id": "29jAwyZEggzj"
   },
   "source": [
    "10 - Elimine o elemento 'bananas'."
   ]
  },
  {
   "cell_type": "code",
   "execution_count": 16,
   "metadata": {},
   "outputs": [
    {
     "data": {
      "text/plain": [
       "['grapefruits', 'carrots', 'pears', 'kiwis', 'pineapple']"
      ]
     },
     "execution_count": 16,
     "metadata": {},
     "output_type": "execute_result"
    }
   ],
   "source": [
    "l1.remove('bananas')\n",
    "l1"
   ]
  },
  {
   "cell_type": "markdown",
   "metadata": {
    "id": "m22cRaQlggzj"
   },
   "source": [
    "11 - Elimine o último elemento da lista."
   ]
  },
  {
   "cell_type": "code",
   "execution_count": 17,
   "metadata": {},
   "outputs": [
    {
     "data": {
      "text/plain": [
       "['grapefruits', 'carrots', 'pears', 'kiwis']"
      ]
     },
     "execution_count": 17,
     "metadata": {},
     "output_type": "execute_result"
    }
   ],
   "source": [
    "l1.pop()\n",
    "l1"
   ]
  },
  {
   "cell_type": "markdown",
   "metadata": {
    "id": "_4NCUXomggzk"
   },
   "source": [
    "12 - Crie o reverso da lista atual."
   ]
  },
  {
   "cell_type": "code",
   "execution_count": 18,
   "metadata": {},
   "outputs": [
    {
     "data": {
      "text/plain": [
       "['kiwis', 'pears', 'carrots', 'grapefruits']"
      ]
     },
     "execution_count": 18,
     "metadata": {},
     "output_type": "execute_result"
    }
   ],
   "source": [
    "l1.reverse()\n",
    "l1"
   ]
  },
  {
   "cell_type": "markdown",
   "metadata": {
    "id": "yX_4gbFpggzl"
   },
   "source": [
    "13 - Adicione os seguintes elementos à lista:\n",
    "- deodorant\n",
    "- shampoo\n",
    "- bread\n",
    "- gum\n",
    "- tictacs"
   ]
  },
  {
   "cell_type": "code",
   "execution_count": 20,
   "metadata": {},
   "outputs": [
    {
     "data": {
      "text/plain": [
       "['kiwis',\n",
       " 'pears',\n",
       " 'carrots',\n",
       " 'grapefruits',\n",
       " 'deodorante',\n",
       " 'shampoo',\n",
       " 'bread',\n",
       " 'gum',\n",
       " 'tictacs']"
      ]
     },
     "execution_count": 20,
     "metadata": {},
     "output_type": "execute_result"
    }
   ],
   "source": [
    "l2 = ['deodorante', 'shampoo', 'bread', 'gum', 'tictacs']\n",
    "l1 = l1 + l2\n",
    "l1"
   ]
  },
  {
   "cell_type": "markdown",
   "metadata": {
    "id": "I2bR8mYBggzm"
   },
   "source": [
    "## Tuplos"
   ]
  },
  {
   "cell_type": "markdown",
   "metadata": {
    "id": "Tv3BfwIaggzm"
   },
   "source": [
    "14 - Qual é a principal diferença entre um tuplo e uma lista?"
   ]
  },
  {
   "cell_type": "markdown",
   "metadata": {},
   "source": [
    "\"A diferença entre esses tipos de objetos é que listas são editáveis: após criadas, é possível alterar qualquer um de seus elementos. Já strings e tuplas são imutáveis: após criadas, elas não podem ser editadas, apenas sobrescritas.\""
   ]
  },
  {
   "cell_type": "markdown",
   "metadata": {
    "id": "RFyCXicMggzn"
   },
   "source": [
    "15 - Crie um tuplo com os elementos 1,2,3."
   ]
  },
  {
   "cell_type": "code",
   "execution_count": 24,
   "metadata": {},
   "outputs": [
    {
     "name": "stdout",
     "output_type": "stream",
     "text": [
      "<class 'tuple'> ('1', '2', '3')\n"
     ]
    }
   ],
   "source": [
    "t1 = ('1', '2', '3')\n",
    "print(type(t1), t1)"
   ]
  },
  {
   "cell_type": "markdown",
   "metadata": {
    "id": "N_CN5iILggzp"
   },
   "source": [
    "16 - Converta a sua lista num tuplo."
   ]
  },
  {
   "cell_type": "code",
   "execution_count": 26,
   "metadata": {},
   "outputs": [
    {
     "name": "stdout",
     "output_type": "stream",
     "text": [
      "<class 'tuple'> ('kiwis', 'pears', 'carrots', 'grapefruits', 'deodorante', 'shampoo', 'bread', 'gum', 'tictacs')\n"
     ]
    }
   ],
   "source": [
    "t2 = tuple(l1)\n",
    "print(type(t2), t2)"
   ]
  },
  {
   "cell_type": "markdown",
   "metadata": {
    "id": "0ysFxpI0ggzr"
   },
   "source": [
    "17 - Quantos elementos tem o tuplo?"
   ]
  },
  {
   "cell_type": "code",
   "execution_count": 27,
   "metadata": {},
   "outputs": [
    {
     "data": {
      "text/plain": [
       "9"
      ]
     },
     "execution_count": 27,
     "metadata": {},
     "output_type": "execute_result"
    }
   ],
   "source": [
    "len(t2)"
   ]
  },
  {
   "cell_type": "markdown",
   "metadata": {
    "ExecuteTime": {
     "end_time": "2020-02-16T19:27:27.210778Z",
     "start_time": "2020-02-16T19:27:27.204153Z"
    },
    "id": "Cv-kfobaggzs"
   },
   "source": [
    "18 - Em que lugar do tuplo se encontra o elemento 'gum'?"
   ]
  },
  {
   "cell_type": "code",
   "execution_count": 28,
   "metadata": {},
   "outputs": [
    {
     "data": {
      "text/plain": [
       "7"
      ]
     },
     "execution_count": 28,
     "metadata": {},
     "output_type": "execute_result"
    }
   ],
   "source": [
    "t2.index('gum')"
   ]
  },
  {
   "cell_type": "markdown",
   "metadata": {
    "id": "3bcxb_aJggzt"
   },
   "source": [
    "19 - Adicione o elemento 'water' ao tuplo."
   ]
  },
  {
   "cell_type": "code",
   "execution_count": 34,
   "metadata": {},
   "outputs": [
    {
     "name": "stdout",
     "output_type": "stream",
     "text": [
      "<class 'list'> ['kiwis', 'pears', 'carrots', 'grapefruits', 'deodorante', 'shampoo', 'bread', 'gum', 'tictacs', 'water']\n",
      "<class 'tuple'> ('kiwis', 'pears', 'carrots', 'grapefruits', 'deodorante', 'shampoo', 'bread', 'gum', 'tictacs', 'water')\n"
     ]
    }
   ],
   "source": [
    "t3 = list(t2)\n",
    "t3.append('water')\n",
    "t4 = tuple(t3)\n",
    "print(type(t4), t4)"
   ]
  },
  {
   "cell_type": "markdown",
   "metadata": {
    "id": "kn9IJ6XYggzv"
   },
   "source": [
    "## Sets"
   ]
  },
  {
   "cell_type": "markdown",
   "metadata": {
    "id": "JnTHEvjjggzv"
   },
   "source": [
    "20 - Qual é a diferença entre um set e um tuplo? E entre um set e uma lista?\n",
    "\n",
    "\"É uma lista definida entre chaves, a qual representa um conjunto sem elementos repetidos. Enquanto uma tupla, por exemplo, pode ter dois elementos iguais, um set não terá. são uma coleção de itens desordenada, parcialmente imutável e que não podem conter elementos duplicados\""
   ]
  },
  {
   "cell_type": "markdown",
   "metadata": {
    "id": "KcxHlmIJggzx"
   },
   "source": [
    "21 - Defina um set com as seguintes cores: azul, amarelo, branco, rosa"
   ]
  },
  {
   "cell_type": "code",
   "execution_count": 35,
   "metadata": {},
   "outputs": [
    {
     "data": {
      "text/plain": [
       "{'amarelo', 'azul', 'branco', 'rosa'}"
      ]
     },
     "execution_count": 35,
     "metadata": {},
     "output_type": "execute_result"
    }
   ],
   "source": [
    "s1 = {'azul', 'amarelo', 'branco', 'rosa'}\n",
    "s1"
   ]
  },
  {
   "cell_type": "markdown",
   "metadata": {
    "id": "-sbF_aZkggzy"
   },
   "source": [
    "22 - Qual é a posição que a cor branco ocupa no set?"
   ]
  },
  {
   "cell_type": "code",
   "execution_count": 38,
   "metadata": {},
   "outputs": [
    {
     "ename": "AttributeError",
     "evalue": "'set' object has no attribute 'index'",
     "output_type": "error",
     "traceback": [
      "\u001b[0;31m---------------------------------------------------------------------------\u001b[0m",
      "\u001b[0;31mAttributeError\u001b[0m                            Traceback (most recent call last)",
      "\u001b[0;32m/tmp/ipykernel_12399/1547293541.py\u001b[0m in \u001b[0;36m<module>\u001b[0;34m\u001b[0m\n\u001b[0;32m----> 1\u001b[0;31m \u001b[0ms1\u001b[0m\u001b[0;34m.\u001b[0m\u001b[0mindex\u001b[0m\u001b[0;34m(\u001b[0m\u001b[0;34m'branco'\u001b[0m\u001b[0;34m)\u001b[0m\u001b[0;34m\u001b[0m\u001b[0;34m\u001b[0m\u001b[0m\n\u001b[0m",
      "\u001b[0;31mAttributeError\u001b[0m: 'set' object has no attribute 'index'"
     ]
    }
   ],
   "source": [
    "s1.index('branco')"
   ]
  },
  {
   "cell_type": "markdown",
   "metadata": {
    "id": "p_6cTLrXggzz"
   },
   "source": [
    "23 - Adicione a cor lilás ao set."
   ]
  },
  {
   "cell_type": "code",
   "execution_count": 39,
   "metadata": {},
   "outputs": [
    {
     "data": {
      "text/plain": [
       "{'amarelo', 'azul', 'branco', 'lilas', 'rosa'}"
      ]
     },
     "execution_count": 39,
     "metadata": {},
     "output_type": "execute_result"
    }
   ],
   "source": [
    "s1.add('lilas')\n",
    "s1"
   ]
  },
  {
   "cell_type": "markdown",
   "metadata": {
    "id": "UhU3yAFVggz0"
   },
   "source": [
    "24 - Adicione as seguintes cores ao set: castanho, laranja, verde"
   ]
  },
  {
   "cell_type": "code",
   "execution_count": 40,
   "metadata": {},
   "outputs": [
    {
     "data": {
      "text/plain": [
       "{'amarelo', 'azul', 'branco', 'castanho', 'laranja', 'lilas', 'rosa', 'verde'}"
      ]
     },
     "execution_count": 40,
     "metadata": {},
     "output_type": "execute_result"
    }
   ],
   "source": [
    "s1.update(['castanho', 'laranja', 'verde'])\n",
    "s1"
   ]
  },
  {
   "cell_type": "markdown",
   "metadata": {
    "id": "RSU8Ng-Eggz1"
   },
   "source": [
    "25 - Quantos elementos em o set?"
   ]
  },
  {
   "cell_type": "code",
   "execution_count": 41,
   "metadata": {},
   "outputs": [
    {
     "data": {
      "text/plain": [
       "8"
      ]
     },
     "execution_count": 41,
     "metadata": {},
     "output_type": "execute_result"
    }
   ],
   "source": [
    "len(s1)"
   ]
  },
  {
   "cell_type": "markdown",
   "metadata": {
    "id": "C4v56Fmeggz2"
   },
   "source": [
    "26 - Crie um novo set com os elementos a,b,c,d."
   ]
  },
  {
   "cell_type": "code",
   "execution_count": 42,
   "metadata": {},
   "outputs": [
    {
     "data": {
      "text/plain": [
       "{'a', 'b', 'c', 'd'}"
      ]
     },
     "execution_count": 42,
     "metadata": {},
     "output_type": "execute_result"
    }
   ],
   "source": [
    "s2 = {'a', 'b', 'c', 'd'}\n",
    "s2"
   ]
  },
  {
   "cell_type": "markdown",
   "metadata": {
    "id": "AVvVRmTCggz3"
   },
   "source": [
    "27 - Adicione o novo set ao anterior."
   ]
  },
  {
   "cell_type": "code",
   "execution_count": 43,
   "metadata": {},
   "outputs": [
    {
     "data": {
      "text/plain": [
       "{'a',\n",
       " 'amarelo',\n",
       " 'azul',\n",
       " 'b',\n",
       " 'branco',\n",
       " 'c',\n",
       " 'castanho',\n",
       " 'd',\n",
       " 'laranja',\n",
       " 'lilas',\n",
       " 'rosa',\n",
       " 'verde'}"
      ]
     },
     "execution_count": 43,
     "metadata": {},
     "output_type": "execute_result"
    }
   ],
   "source": [
    "s3 = s1.union(s2)\n",
    "s3"
   ]
  },
  {
   "cell_type": "markdown",
   "metadata": {
    "id": "dTU4Boi8ggz4",
    "solution2": "hidden",
    "solution2_first": true
   },
   "source": [
    "28 - Elimine todos os elementos do set my_set."
   ]
  },
  {
   "cell_type": "code",
   "execution_count": 44,
   "metadata": {},
   "outputs": [
    {
     "data": {
      "text/plain": [
       "set()"
      ]
     },
     "execution_count": 44,
     "metadata": {},
     "output_type": "execute_result"
    }
   ],
   "source": [
    "s1.clear()\n",
    "s1"
   ]
  },
  {
   "cell_type": "markdown",
   "metadata": {
    "id": "G4MmYchnggz5"
   },
   "source": [
    "## Dicionários"
   ]
  },
  {
   "cell_type": "markdown",
   "metadata": {
    "id": "W6zNIqzIggz6",
    "solution2": "shown",
    "solution2_first": true
   },
   "source": [
    "29 - Dado o seguinte dicionário:\n",
    "\n",
    "estudante = {\n",
    "    'nome': 'Alice',\n",
    "    'idade': 25,\n",
    "    'cursos': ['Matemática', 'Física', 'Química'],\n",
    "    'notas': {'Matemática': 90, 'Física': 85, 'Química': 88}\n",
    "}"
   ]
  },
  {
   "cell_type": "code",
   "execution_count": 24,
   "metadata": {
    "scrolled": true
   },
   "outputs": [
    {
     "data": {
      "text/plain": [
       "{'nome': 'Alice',\n",
       " 'idade': 25,\n",
       " 'cursos': ['Matemática', 'Física', 'Química'],\n",
       " 'notas': {'Matemática': 90, 'Física': 85, 'Química': 88}}"
      ]
     },
     "execution_count": 24,
     "metadata": {},
     "output_type": "execute_result"
    }
   ],
   "source": [
    "estudante = { 'nome': 'Alice', \n",
    "             'idade': 25, \n",
    "             'cursos': ['Matemática', 'Física', 'Química'], \n",
    "             'notas': {'Matemática': 90, 'Física': 85, 'Química': 88} }\n",
    "estudante"
   ]
  },
  {
   "cell_type": "code",
   "execution_count": 19,
   "metadata": {},
   "outputs": [
    {
     "data": {
      "text/plain": [
       "{'nome': 'Alice',\n",
       " 'idade': 26,\n",
       " 'cursos': ['Matemática', 'Física', 'Química', 'História'],\n",
       " 'endereço': 'Rua Principal, 123'}"
      ]
     },
     "execution_count": 19,
     "metadata": {},
     "output_type": "execute_result"
    }
   ],
   "source": [
    "#Adicione um novo par de chave-valor ao dicionário. A chave deve ser 'endereço' e o valor deve ser 'Rua Principal, 123'.\n",
    "estudante['endereço'] = 'Rua Principal, 123'\n",
    "estudante"
   ]
  },
  {
   "cell_type": "code",
   "execution_count": 20,
   "metadata": {},
   "outputs": [
    {
     "data": {
      "text/plain": [
       "{'nome': 'Alice',\n",
       " 'idade': 26,\n",
       " 'cursos': ['Matemática', 'Física', 'Química', 'História', 'História'],\n",
       " 'endereço': 'Rua Principal, 123'}"
      ]
     },
     "execution_count": 20,
     "metadata": {},
     "output_type": "execute_result"
    }
   ],
   "source": [
    "#Acrescente 'História' à lista de cursos.\n",
    "estudante['cursos'].append('História')\n",
    "estudante"
   ]
  },
  {
   "cell_type": "code",
   "execution_count": 21,
   "metadata": {},
   "outputs": [
    {
     "data": {
      "text/plain": [
       "{'nome': 'Alice',\n",
       " 'idade': 27,\n",
       " 'cursos': ['Matemática', 'Física', 'Química', 'História', 'História'],\n",
       " 'endereço': 'Rua Principal, 123'}"
      ]
     },
     "execution_count": 21,
     "metadata": {},
     "output_type": "execute_result"
    }
   ],
   "source": [
    "#Aumente a idade da Alice em 1 ano.\n",
    "estudante['idade']+=1\n",
    "estudante"
   ]
  },
  {
   "cell_type": "code",
   "execution_count": 16,
   "metadata": {},
   "outputs": [
    {
     "data": {
      "text/plain": [
       "{'nome': 'Alice',\n",
       " 'idade': 26,\n",
       " 'cursos': ['Matemática', 'Física', 'Química', 'História'],\n",
       " 'notas': {'Matemática': 90, 'Física': 90, 'Química': 88},\n",
       " 'endereço': 'Rua Principal, 123'}"
      ]
     },
     "execution_count": 16,
     "metadata": {},
     "output_type": "execute_result"
    }
   ],
   "source": [
    "#Altere a nota dela em Física para 90.\n",
    "estudante['notas']['Física'] = 90\n",
    "estudante"
   ]
  },
  {
   "cell_type": "code",
   "execution_count": 25,
   "metadata": {},
   "outputs": [
    {
     "data": {
      "text/plain": [
       "{'nome': 'Alice', 'idade': 25, 'cursos': ['Matemática', 'Física', 'Química']}"
      ]
     },
     "execution_count": 25,
     "metadata": {},
     "output_type": "execute_result"
    }
   ],
   "source": [
    "#Remova a chave 'notas' do dicionário.\n",
    "estudante.pop('notas')\n",
    "estudante"
   ]
  },
  {
   "cell_type": "markdown",
   "metadata": {
    "id": "gaKx3BeVggz_",
    "solution2": "shown",
    "solution2_first": true
   },
   "source": [
    "30 - Crie um dicionário chamado 'produtos' que represente o inventário de uma loja.\n",
    "\n",
    "- Adicione os seguintes itens ao dicionário, juntamente com seus preços: \"laptop\": 800, \"telefone\": 400, \"tablet\": 300, \"fones de ouvido\": 100.\n",
    "\n",
    "- Agora, crie outro dicionário chamado 'inventário' com as seguintes quantidades para cada item: \"laptop\": 10, \"telefone\": 20, \"tablet\": 15, \"fones de ouvido\": 50.\n",
    "\n",
    "- Itere por cada categoria em ambos os dicionários e imprima o preço e o inventário para cada produto.\n",
    "\n",
    "- Calcule a receita total que você obteria se vendesse todos os itens do seu inventário pelos preços respectivos."
   ]
  },
  {
   "cell_type": "code",
   "execution_count": 26,
   "metadata": {},
   "outputs": [
    {
     "data": {
      "text/plain": [
       "{'laptop': 800, 'telefone': 400, 'tablet': 300, 'fones de ouvido': 100}"
      ]
     },
     "execution_count": 26,
     "metadata": {},
     "output_type": "execute_result"
    }
   ],
   "source": [
    "produtos = {\"laptop\": 800, \"telefone\": 400, \"tablet\": 300, \"fones de ouvido\": 100}\n",
    "produtos"
   ]
  },
  {
   "cell_type": "code",
   "execution_count": 28,
   "metadata": {},
   "outputs": [
    {
     "data": {
      "text/plain": [
       "{'laptop': 10, 'telefone': 20, 'tablet': 15, 'fones de ouvido': 50}"
      ]
     },
     "execution_count": 28,
     "metadata": {},
     "output_type": "execute_result"
    }
   ],
   "source": [
    "#Agora, crie outro dicionário chamado 'inventário' com as seguintes quantidades para cada item: \"laptop\": 10, \"telefone\": 20, \"tablet\": 15, \"fones de ouvido\": 50.\n",
    "inventario = {\"laptop\": 10, \"telefone\": 20, \"tablet\": 15, \"fones de ouvido\": 50}\n",
    "inventario"
   ]
  },
  {
   "cell_type": "code",
   "execution_count": 37,
   "metadata": {},
   "outputs": [
    {
     "name": "stdout",
     "output_type": "stream",
     "text": [
      "laptop\n",
      "preço: 800\n",
      "inventário: 9\n",
      "\n",
      "telefone\n",
      "preço: 400\n",
      "inventário: 19\n",
      "\n",
      "tablet\n",
      "preço: 300\n",
      "inventário: 14\n",
      "\n",
      "fones de ouvido\n",
      "preço: 100\n",
      "inventário: 49\n",
      "\n"
     ]
    }
   ],
   "source": [
    "#Itere por cada categoria em ambos os dicionários e imprima o preço e o inventário para cada produto.\n",
    "for produto in produtos:\n",
    "    print (produto)\n",
    "    print (\"preço: %s\" % produtos[produto])\n",
    "    print (\"inventário: %s\" % inventario[produto]+ \"\\n\")"
   ]
  },
  {
   "cell_type": "code",
   "execution_count": 34,
   "metadata": {},
   "outputs": [
    {
     "name": "stdout",
     "output_type": "stream",
     "text": [
      "Profit  25500 €\n"
     ]
    }
   ],
   "source": [
    "#Calcule a receita total que você obteria se vendesse todos os itens do seu inventário pelos preços respectivos.\n",
    "\n",
    "profit = 0\n",
    "for produto in produtos:\n",
    "    profit = profit + produtos[produto]*inventario[produto]\n",
    "\n",
    "print(\"Profit \",profit,\"€\")"
   ]
  },
  {
   "cell_type": "markdown",
   "metadata": {
    "id": "YsrsHeBPgg0C",
    "solution2": "shown",
    "solution2_first": true
   },
   "source": [
    "31 - Ainda sobre a questão anterior:\n",
    "\n",
    "Calcule o lucro de uma venda tendo em consideração de que um item é vendido apenas se o produto estiver em inventário e, para cada venda, subtraia uma unidade do inventário do produto."
   ]
  },
  {
   "cell_type": "code",
   "execution_count": 35,
   "metadata": {},
   "outputs": [
    {
     "name": "stdout",
     "output_type": "stream",
     "text": [
      "Profit  1600 €\n"
     ]
    }
   ],
   "source": [
    "profit = 0\n",
    "for produto in produtos:\n",
    "    if inventario[produto] > 0:\n",
    "        profit = profit + produtos[produto]\n",
    "        inventario[produto] -= 1\n",
    "\n",
    "print(\"Profit \",profit,\"€\")"
   ]
  },
  {
   "cell_type": "code",
   "execution_count": 38,
   "metadata": {},
   "outputs": [
    {
     "data": {
      "text/plain": [
       "{'laptop': 9, 'telefone': 19, 'tablet': 14, 'fones de ouvido': 49}"
      ]
     },
     "execution_count": 38,
     "metadata": {},
     "output_type": "execute_result"
    }
   ],
   "source": [
    "inventario\n"
   ]
  },
  {
   "cell_type": "code",
   "execution_count": 40,
   "metadata": {},
   "outputs": [
    {
     "data": {
      "text/plain": [
       "{'laptop': 800, 'telefone': 400, 'tablet': 300, 'fones de ouvido': 100}"
      ]
     },
     "execution_count": 40,
     "metadata": {},
     "output_type": "execute_result"
    }
   ],
   "source": [
    "produtos"
   ]
  }
 ],
 "metadata": {
  "colab": {
   "provenance": []
  },
  "interpreter": {
   "hash": "a890e96c5bc2e34e713687d667dc1e925660c2a0af9c3a409dd6c550ddd944d3"
  },
  "kernelspec": {
   "display_name": "Python 3 (ipykernel)",
   "language": "python",
   "name": "python3"
  },
  "language_info": {
   "codemirror_mode": {
    "name": "ipython",
    "version": 3
   },
   "file_extension": ".py",
   "mimetype": "text/x-python",
   "name": "python",
   "nbconvert_exporter": "python",
   "pygments_lexer": "ipython3",
   "version": "3.10.12"
  },
  "latex_envs": {
   "LaTeX_envs_menu_present": true,
   "autoclose": false,
   "autocomplete": true,
   "bibliofile": "biblio.bib",
   "cite_by": "apalike",
   "current_citInitial": 1,
   "eqLabelWithNumbers": true,
   "eqNumInitial": 1,
   "hotkeys": {
    "equation": "Ctrl-E",
    "itemize": "Ctrl-I"
   },
   "labels_anchors": false,
   "latex_user_defs": false,
   "report_style_numbering": false,
   "user_envs_cfg": false
  },
  "toc": {
   "base_numbering": 1,
   "nav_menu": {},
   "number_sections": true,
   "sideBar": true,
   "skip_h1_title": false,
   "title_cell": "Table of Contents",
   "title_sidebar": "Contents",
   "toc_cell": false,
   "toc_position": {
    "height": "calc(100% - 180px)",
    "left": "10px",
    "top": "150px",
    "width": "418.3831481933594px"
   },
   "toc_section_display": true,
   "toc_window_display": false
  },
  "varInspector": {
   "cols": {
    "lenName": 16,
    "lenType": 16,
    "lenVar": 40
   },
   "kernels_config": {
    "python": {
     "delete_cmd_postfix": "",
     "delete_cmd_prefix": "del ",
     "library": "var_list.py",
     "varRefreshCmd": "print(var_dic_list())"
    },
    "r": {
     "delete_cmd_postfix": ") ",
     "delete_cmd_prefix": "rm(",
     "library": "var_list.r",
     "varRefreshCmd": "cat(var_dic_list()) "
    }
   },
   "types_to_exclude": [
    "module",
    "function",
    "builtin_function_or_method",
    "instance",
    "_Feature"
   ],
   "window_display": false
  }
 },
 "nbformat": 4,
 "nbformat_minor": 1
}
