{
 "cells": [
  {
   "cell_type": "markdown",
   "id": "341e1929",
   "metadata": {},
   "source": [
    "# Execução de código em Python\n",
    "\n",
    "1 - Crie um programa em Python que imprima o seu nome.\n",
    "\n",
    "2 - Crie um programa em Python que imprima os seus dados pessoais (nome e idade).\n"
   ]
  },
  {
   "cell_type": "code",
   "execution_count": 3,
   "id": "94d0aa0a",
   "metadata": {},
   "outputs": [
    {
     "name": "stdout",
     "output_type": "stream",
     "text": [
      "Nome:  Diego\n",
      "Idade:  41\n"
     ]
    }
   ],
   "source": [
    "Nome = 'Diego'\n",
    "Idade = '41'\n",
    "print(\"Nome: \", Nome)\n",
    "print(\"Idade: \", Idade)"
   ]
  },
  {
   "cell_type": "markdown",
   "id": "e38a67a6",
   "metadata": {},
   "source": [
    "# Tipos de dados\n",
    "\n",
    "3 - Qual é o tipo de dados da variável x se esta for x = 3.15?\n",
    "\n",
    "4 - Qual é o tipo de dados da variável x se esta for x = \"Hi!\"?\n",
    "\n",
    "5 - Qual é o tipo de dados da variável x se esta x = True?\n",
    "\n",
    "6 - Qual é o tipo de dados da variável x se esta for x = 3?\n",
    "\n",
    "7 - Crie uma variável (pode escolher o nome a dar à variável) e declare-a com um valor à sua escolha.\n",
    "\n",
    "8 - Ainda usando a variável que criou, imprima o tipo de dados que lhe foi atribuído.\n",
    "\n",
    "9 - Converta as seguintes variáveis x = 3.15 e y = \"25\" em números inteiros.\n",
    "\n",
    "10 - Converta x = 3 e y = \"25\" em números decimais.\n",
    "\n",
    "11 - Converta x = 3 e y = -1.5 em texto (strings).\n",
    "\n",
    "12 - Imprima os 3 tipos mais básicos de dados numéricos que existem e dê um exemplo para cada um.\n",
    "\n",
    "13 - Converta x = 3.15 para os outros tipos de dados numéricos.\n"
   ]
  },
  {
   "cell_type": "code",
   "execution_count": 18,
   "id": "ba46b43a",
   "metadata": {},
   "outputs": [
    {
     "name": "stdout",
     "output_type": "stream",
     "text": [
      "<class 'float'>\n",
      "<class 'str'>\n",
      "<class 'bool'>\n",
      "<class 'int'>\n",
      "<class 'float'>\n",
      "3 25\n",
      "3 -1.5\n",
      "<class 'int'> <class 'float'> <class 'complex'>\n",
      "(3+0j) 3\n"
     ]
    }
   ],
   "source": [
    "x = 3.15\n",
    "print(type(x))\n",
    "x = \"Hi!\"\n",
    "print(type(x))\n",
    "x = True\n",
    "print(type(x))\n",
    "x = 3\n",
    "print(type(x))\n",
    "y = 3.14\n",
    "print(type(y))\n",
    "# Conversão\n",
    "x = 3.15\n",
    "y = \"25\"\n",
    "print(int(x), int(y))\n",
    "x = 3\n",
    "y = -1.5\n",
    "print(str(x), str(y))\n",
    "print(type(3), type(3.15), type(3j))\n",
    "print(complex(x), int(x))"
   ]
  },
  {
   "cell_type": "markdown",
   "id": "2b34f57c",
   "metadata": {},
   "source": [
    "# Variáveis numéricas"
   ]
  },
  {
   "cell_type": "code",
   "execution_count": 25,
   "id": "5ae8255d",
   "metadata": {},
   "outputs": [
    {
     "data": {
      "text/plain": [
       "96"
      ]
     },
     "execution_count": 25,
     "metadata": {},
     "output_type": "execute_result"
    }
   ],
   "source": [
    "#14 - Calcule a soma de 64 + 32.\n",
    "\n",
    "64 + 32"
   ]
  },
  {
   "cell_type": "code",
   "execution_count": 26,
   "id": "88e7fc64",
   "metadata": {
    "scrolled": true
   },
   "outputs": [
    {
     "name": "stdout",
     "output_type": "stream",
     "text": [
      "32\n",
      "2048\n",
      "2.0\n"
     ]
    }
   ],
   "source": [
    "#15 - Agora calcule a subtração, produto e divisão desses mesmos números.\n",
    "\n",
    "print(64-32)\n",
    "print(64*32)\n",
    "print(64/32)"
   ]
  },
  {
   "cell_type": "code",
   "execution_count": 27,
   "id": "548c5a26",
   "metadata": {},
   "outputs": [
    {
     "ename": "ZeroDivisionError",
     "evalue": "division by zero",
     "output_type": "error",
     "traceback": [
      "\u001b[0;31m---------------------------------------------------------------------------\u001b[0m",
      "\u001b[0;31mZeroDivisionError\u001b[0m                         Traceback (most recent call last)",
      "\u001b[0;32m/tmp/ipykernel_6920/352429407.py\u001b[0m in \u001b[0;36m<module>\u001b[0;34m\u001b[0m\n\u001b[1;32m      2\u001b[0m \u001b[0mx\u001b[0m \u001b[0;34m=\u001b[0m \u001b[0;36m2\u001b[0m\u001b[0;34m\u001b[0m\u001b[0;34m\u001b[0m\u001b[0m\n\u001b[1;32m      3\u001b[0m \u001b[0my\u001b[0m \u001b[0;34m=\u001b[0m \u001b[0;36m0\u001b[0m\u001b[0;34m\u001b[0m\u001b[0;34m\u001b[0m\u001b[0m\n\u001b[0;32m----> 4\u001b[0;31m \u001b[0mprint\u001b[0m\u001b[0;34m(\u001b[0m\u001b[0mx\u001b[0m\u001b[0;34m/\u001b[0m\u001b[0my\u001b[0m\u001b[0;34m)\u001b[0m\u001b[0;34m\u001b[0m\u001b[0;34m\u001b[0m\u001b[0m\n\u001b[0m",
      "\u001b[0;31mZeroDivisionError\u001b[0m: division by zero"
     ]
    }
   ],
   "source": [
    "#16 - Se tivermos x = 2 e y = 0, qual será o resultado da divisão de x por y?\n",
    "x = 2\n",
    "y = 0\n",
    "print(x/y)"
   ]
  },
  {
   "cell_type": "code",
   "execution_count": 28,
   "id": "fb3759ec",
   "metadata": {},
   "outputs": [
    {
     "name": "stdout",
     "output_type": "stream",
     "text": [
      "0\n"
     ]
    }
   ],
   "source": [
    "#17Se tivermos x = 4 e y = 2, qual é o resto da divisão de x por y (x%y)?\n",
    "x = 4\n",
    "y = 2\n",
    "print(x%y)"
   ]
  },
  {
   "cell_type": "code",
   "execution_count": 4,
   "id": "3f307cde",
   "metadata": {},
   "outputs": [
    {
     "name": "stdout",
     "output_type": "stream",
     "text": [
      "Area:  9  Perimetro:  12\n",
      "a área do círculo é  12.56 cm\n",
      "o volume do cubo é  64 cm\n",
      "cada aluno receberá  3.0 lápis\n",
      "cada caixa terá  5 chocolates, e sobrarão 4 chocolates\n"
     ]
    }
   ],
   "source": [
    "#18 - Imagine que tem um quadrado como o seguinte. Qual é a sua área e perímetro?\n",
    "x = 3\n",
    "area = x**2\n",
    "perimetro = x*4\n",
    "\n",
    "print(\"Area: \", area, \" Perimetro: \", perimetro)\n",
    "\n",
    "#19 - Calcule a área e perímetro do seguinte círculo.\n",
    "r = 2\n",
    "print(\"a área do círculo é \", 2*3.14*r, \"cm\")\n",
    "\n",
    "#20 - Calcule o volume do seguinte cubo.\n",
    "x = 4\n",
    "print(\"o volume do cubo é \", x**3, \"cm\")\n",
    "\n",
    "#21 - Se eu tiver 24 lápis e desejar distribuí-los igualmente entre 8 alunos, quantos lápis cada aluno deverá receber?\n",
    "x = 24\n",
    "y = 8\n",
    "print(\"cada aluno receberá \", x/8, \"lápis\")\n",
    "\n",
    "#22 - Suponha que tem 34 chocolates, e deseja colocá-los em caixas com 6 chocolates em cada uma. Quantas caixas poderá fazer e quantos chocolates sobrarão?\n",
    "x = 34\n",
    "y = 6\n",
    "print('cada caixa terá ', x//y, \"chocolates, e sobrarão\", x%y, \"chocolates\")"
   ]
  },
  {
   "cell_type": "code",
   "execution_count": 2,
   "id": "df54bf9c",
   "metadata": {},
   "outputs": [
    {
     "name": "stdout",
     "output_type": "stream",
     "text": [
      "Area:  14.137166941154069  Perimetro:  18.84955592153876\n"
     ]
    }
   ],
   "source": [
    "import numpy as np\n",
    "\n",
    "circle = 3\n",
    "area = (np.pi*circle**2)/2\n",
    "perimetro = 2*np.pi*circle\n",
    "\n",
    "print(\"Area: \", area, \" Perimetro: \", perimetro)"
   ]
  },
  {
   "cell_type": "markdown",
   "id": "eb0572e6",
   "metadata": {},
   "source": [
    "# Booleans"
   ]
  },
  {
   "cell_type": "code",
   "execution_count": 6,
   "id": "bb4caf91",
   "metadata": {},
   "outputs": [
    {
     "name": "stdout",
     "output_type": "stream",
     "text": [
      "jorge é mais velho\n"
     ]
    }
   ],
   "source": [
    "# 23 - Se a Ana tem 15 anos e o Jorge tem 20, verifique quem é mais velho.\n",
    "ana = 15\n",
    "jorge = 20\n",
    "if ana > jorge:\n",
    "    print(\"Ana é mais velha\"),\n",
    "else:\n",
    "    print(\"jorge é mais velho\")"
   ]
  },
  {
   "cell_type": "code",
   "execution_count": 5,
   "id": "e1193e8a",
   "metadata": {},
   "outputs": [
    {
     "name": "stdout",
     "output_type": "stream",
     "text": [
      "Ana é mais velha que Jorge (T/F)? False\n"
     ]
    }
   ],
   "source": [
    "ana = 15\n",
    "jorge = 20\n",
    "print(\"Ana é mais velha que Jorge (T/F)?\", ana > jorge)"
   ]
  },
  {
   "cell_type": "code",
   "execution_count": 14,
   "id": "1e5e419f",
   "metadata": {},
   "outputs": [
    {
     "name": "stdout",
     "output_type": "stream",
     "text": [
      "True\n"
     ]
    }
   ],
   "source": [
    "#24 - As variáveis x e y têm os seguintes valores: x = 123 e y = \"123\". \n",
    "#Como pode ver, x e y pertencem a tipos de dados diferentes. \n",
    "#Converta-os no mesmo tipo de dados e depois verifique se x e y representam o mesmo valor. Strings\n",
    "x = 123\n",
    "y = \"123\"\n",
    "y = int(y)\n",
    "print(x == y)\n"
   ]
  },
  {
   "cell_type": "code",
   "execution_count": 6,
   "id": "0c0b4532",
   "metadata": {},
   "outputs": [
    {
     "name": "stdout",
     "output_type": "stream",
     "text": [
      "x e y têm o mesmo valor (T/F)? True\n"
     ]
    }
   ],
   "source": [
    "x = 123\n",
    "y = \"123\"\n",
    "print(\"x e y têm o mesmo valor (T/F)?\", x == int(y))"
   ]
  },
  {
   "cell_type": "code",
   "execution_count": 7,
   "id": "13d371b7",
   "metadata": {},
   "outputs": [
    {
     "name": "stdout",
     "output_type": "stream",
     "text": [
      "['diego', 'canquerini', 'de', 'morais']\n"
     ]
    }
   ],
   "source": [
    "#25 - Crie uma lista contendo o seu nome completo separado por vírgulas. Depois imprima a lista.\n",
    "name = [\"diego\",'canquerini','de',\"morais\"]\n",
    "print(name)"
   ]
  },
  {
   "cell_type": "code",
   "execution_count": 21,
   "id": "de43e153",
   "metadata": {},
   "outputs": [
    {
     "data": {
      "text/plain": [
       "12"
      ]
     },
     "execution_count": 21,
     "metadata": {},
     "output_type": "execute_result"
    }
   ],
   "source": [
    "#26 - Quantas letras tem a palavra 'ornitorrinco'?\n",
    "len('ornitorrinco')"
   ]
  },
  {
   "cell_type": "code",
   "execution_count": 25,
   "id": "0a65c532",
   "metadata": {},
   "outputs": [
    {
     "data": {
      "text/plain": [
       "'Amanhecer'"
      ]
     },
     "execution_count": 25,
     "metadata": {},
     "output_type": "execute_result"
    }
   ],
   "source": [
    "#27 - Capitalize a palavra 'amanhecer'.\n",
    "a = \"amanhecer\"\n",
    "a.capitalize()"
   ]
  },
  {
   "cell_type": "code",
   "execution_count": 28,
   "id": "faf8fa64",
   "metadata": {},
   "outputs": [
    {
     "data": {
      "text/plain": [
       "'O Rio Amazonas É O Rio Mais Longo Do Mundo E É Conhecido Por Sua Vasta Bacia Hidrográfica. Ele Atravessa Várias Nações Da América Do Sul, Incluindo Brasil,  Peru E Colômbia. A Floresta Amazônica, Que O Rio Amazonas Corta, É Famosa Por Sua  Rica Biodiversidade E É Considerada A Maior Floresta Tropical Do Planeta.'"
      ]
     },
     "execution_count": 28,
     "metadata": {},
     "output_type": "execute_result"
    }
   ],
   "source": [
    "\"\"\"\n",
    "28 - Capitalize a primeira letra de cada palavra no seguinte texto:\n",
    "\"o rio amazonas é o rio mais longo do mundo e é conhecido por sua vasta \n",
    "bacia hidrográfica. ele atravessa várias nações da América do Sul, incluindo Brasil, \n",
    "Peru e Colômbia. a floresta amazônica, que o rio amazonas corta, é famosa por sua \n",
    "rica biodiversidade e é considerada a maior floresta tropical do planeta.\"\n",
    "\"\"\"\n",
    "b = \"o rio amazonas é o rio mais longo do mundo e é conhecido por sua vasta bacia hidrográfica. ele atravessa várias nações da América do Sul, incluindo Brasil,  Peru e Colômbia. a floresta amazônica, que o rio amazonas corta, é famosa por sua  rica biodiversidade e é considerada a maior floresta tropical do planeta.\"\n",
    "b.title()"
   ]
  },
  {
   "cell_type": "code",
   "execution_count": 15,
   "id": "bb401716",
   "metadata": {},
   "outputs": [
    {
     "name": "stdout",
     "output_type": "stream",
     "text": [
      "iwantolearnpython\n"
     ]
    }
   ],
   "source": [
    "#29 - Limpe os espaços no seguinte texto: \"i w a n t o l e a r n p y t h o n\".\n",
    "\n",
    "text = \"i w a n t o l e a r n p y t h o n\"\n",
    "print(text.replace(\" \",\"\"))"
   ]
  },
  {
   "cell_type": "code",
   "execution_count": 17,
   "id": "2a1b516f",
   "metadata": {},
   "outputs": [
    {
     "data": {
      "text/plain": [
       "'Eu quero aprender python, Eu quero me divertir muito!'"
      ]
     },
     "execution_count": 17,
     "metadata": {},
     "output_type": "execute_result"
    }
   ],
   "source": [
    "#30 - Substitua o \"não\" por um \"Eu\" no seguinte texto: \n",
    "text = \"não quero aprender python, não quero me divertir muito!\"\n",
    "text.replace('não', 'Eu')\n"
   ]
  },
  {
   "cell_type": "code",
   "execution_count": 18,
   "id": "23a02c00",
   "metadata": {},
   "outputs": [
    {
     "data": {
      "text/plain": [
       "7"
      ]
     },
     "execution_count": 18,
     "metadata": {},
     "output_type": "execute_result"
    }
   ],
   "source": [
    "#31 - Quantas vezes a palavra \"tecnologia\" aparece no seguinte texto?\n",
    "\n",
    "text = \"Nos dias de hoje, a tecnologia desempenha um papel crucial em nossas vidas. A velocidade com que a tecnologia avança é impressionante. A educação está cada vez mais incorporando a tecnologia em suas práticas pedagógicas. Além disso, a indústria de tecnologia da informação está em constante crescimento, oferecendo oportunidades de emprego para profissionais qualificados em tecnologia. A tecnologia também está revolucionando a medicina, permitindo diagnósticos mais precisos e tratamentos inovadores. Em resumo, a tecnologia é uma parte essencial do nosso mundo moderno.\"\n",
    "text.count('tecnologia')"
   ]
  }
 ],
 "metadata": {
  "kernelspec": {
   "display_name": "Python 3 (ipykernel)",
   "language": "python",
   "name": "python3"
  },
  "language_info": {
   "codemirror_mode": {
    "name": "ipython",
    "version": 3
   },
   "file_extension": ".py",
   "mimetype": "text/x-python",
   "name": "python",
   "nbconvert_exporter": "python",
   "pygments_lexer": "ipython3",
   "version": "3.10.12"
  }
 },
 "nbformat": 4,
 "nbformat_minor": 5
}
