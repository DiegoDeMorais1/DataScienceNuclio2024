{
 "cells": [
  {
   "cell_type": "markdown",
   "metadata": {
    "id": "8-wY_RK-hBvT"
   },
   "source": [
    "![Nuclio logo](https://nuclio.school/wp-content/uploads/2018/12/nucleoDS-newBlack.png)"
   ]
  },
  {
   "cell_type": "markdown",
   "metadata": {
    "id": "ugeYoNHjhBva"
   },
   "source": [
    "# Exercícios - Pandas Series\n",
    "\n",
    "Neste notebook, encontram 20 exercícios que vos permitirão aprender as bases acerca de Pandas Series."
   ]
  },
  {
   "cell_type": "markdown",
   "metadata": {
    "id": "CvqxRz3IhBvb"
   },
   "source": [
    "1 - Importe as bibliotecas numpy e pandas.\n",
    "\n"
   ]
  },
  {
   "cell_type": "code",
   "execution_count": 2,
   "metadata": {},
   "outputs": [],
   "source": [
    "import numpy as np\n",
    "import pandas as pd"
   ]
  },
  {
   "cell_type": "markdown",
   "metadata": {
    "id": "Cei2FQGohBve"
   },
   "source": [
    "2 - Crie uma Pandas Series através de uma lista contendo números de 0 a 10 guardados como strings."
   ]
  },
  {
   "cell_type": "code",
   "execution_count": 3,
   "metadata": {},
   "outputs": [
    {
     "data": {
      "text/plain": [
       "0      0\n",
       "1      1\n",
       "2      2\n",
       "3      3\n",
       "4      4\n",
       "5      5\n",
       "6      6\n",
       "7      7\n",
       "8      8\n",
       "9      9\n",
       "10    10\n",
       "dtype: object"
      ]
     },
     "execution_count": 3,
     "metadata": {},
     "output_type": "execute_result"
    }
   ],
   "source": [
    "listx = ['0','1','2','3','4','5','6','7','8','9','10']\n",
    "serie = pd.Series(data=listx)\n",
    "serie"
   ]
  },
  {
   "cell_type": "markdown",
   "metadata": {
    "id": "fcj6YDythBvg"
   },
   "source": [
    "3 - Crie uma serie a partir de um array com números entre 0 e 5."
   ]
  },
  {
   "cell_type": "code",
   "execution_count": 20,
   "metadata": {},
   "outputs": [
    {
     "data": {
      "text/plain": [
       "0    0\n",
       "1    1\n",
       "2    2\n",
       "3    3\n",
       "4    4\n",
       "5    5\n",
       "dtype: int64"
      ]
     },
     "execution_count": 20,
     "metadata": {},
     "output_type": "execute_result"
    }
   ],
   "source": [
    "list1 = [0, 1, 2, 3, 4, 5]\n",
    "serie1 = pd.Series(data=list1)\n",
    "serie1"
   ]
  },
  {
   "cell_type": "code",
   "execution_count": 37,
   "metadata": {},
   "outputs": [
    {
     "data": {
      "text/plain": [
       "0    0\n",
       "1    1\n",
       "2    2\n",
       "3    3\n",
       "4    4\n",
       "5    5\n",
       "dtype: int64"
      ]
     },
     "execution_count": 37,
     "metadata": {},
     "output_type": "execute_result"
    }
   ],
   "source": [
    "arr = np.arange(6)\n",
    "series_1 = pd.Series(arr)\n",
    "series_1"
   ]
  },
  {
   "cell_type": "markdown",
   "metadata": {
    "id": "x24a97ZzhBvi"
   },
   "source": [
    "4 - Crie uma serie a partir do seguinte dicionário:\n",
    "\n",
    "dict_1 = {'a':0, 'b':1, 'c':2, 'd':3, 'e':4}"
   ]
  },
  {
   "cell_type": "code",
   "execution_count": 21,
   "metadata": {},
   "outputs": [
    {
     "data": {
      "text/plain": [
       "a    0\n",
       "b    1\n",
       "c    2\n",
       "d    3\n",
       "e    4\n",
       "dtype: int64"
      ]
     },
     "execution_count": 21,
     "metadata": {},
     "output_type": "execute_result"
    }
   ],
   "source": [
    "dict_1 = {'a':0, 'b':1, 'c':2, 'd':3, 'e':4}\n",
    "dic = pd.Series(dict_1)\n",
    "dic"
   ]
  },
  {
   "cell_type": "markdown",
   "metadata": {
    "id": "-8kqv6Y9hBvm"
   },
   "source": [
    "5 - Dê um nome à serie anterior."
   ]
  },
  {
   "cell_type": "code",
   "execution_count": 23,
   "metadata": {},
   "outputs": [
    {
     "data": {
      "text/plain": [
       "a    0\n",
       "b    1\n",
       "c    2\n",
       "d    3\n",
       "e    4\n",
       "Name: letras nuclio, dtype: int64"
      ]
     },
     "execution_count": 23,
     "metadata": {},
     "output_type": "execute_result"
    }
   ],
   "source": [
    "dic.name = \"letras nuclio\"\n",
    "dic"
   ]
  },
  {
   "cell_type": "markdown",
   "metadata": {
    "id": "oJ90bHlyhBvj"
   },
   "source": [
    "6 - Modifique os índices da serie anterior para:\n",
    "\n",
    "['label1', 'label2', 'label3', 'label4', 'label5']"
   ]
  },
  {
   "cell_type": "code",
   "execution_count": 24,
   "metadata": {},
   "outputs": [],
   "source": [
    "new_ind = ['label1', 'label2', 'label3', 'label4', 'label5']"
   ]
  },
  {
   "cell_type": "code",
   "execution_count": 33,
   "metadata": {},
   "outputs": [],
   "source": [
    "dic.index = new_ind"
   ]
  },
  {
   "cell_type": "code",
   "execution_count": 34,
   "metadata": {},
   "outputs": [
    {
     "data": {
      "text/plain": [
       "label1    0\n",
       "label2    1\n",
       "label3    2\n",
       "label4    3\n",
       "label5    4\n",
       "Name: letras nuclio, dtype: int64"
      ]
     },
     "execution_count": 34,
     "metadata": {},
     "output_type": "execute_result"
    }
   ],
   "source": [
    "dic"
   ]
  },
  {
   "cell_type": "markdown",
   "metadata": {
    "id": "PHhum-FAhBvo"
   },
   "source": [
    "7 - Dadas as seguintes listas:\n",
    "\n",
    "a = np.array([1, 2, 3, 4, 5, 6])\n",
    "\n",
    "b = np.array([4, 5, 6, 7, 8, 9])\n",
    "\n",
    "Converta as listas em series e, em seguida, crie uma nova serie que contenha os elementos que são comuns a ambas as séries 'a' e 'b', ou seja, os elementos que estão presentes em ambas as listas."
   ]
  },
  {
   "cell_type": "code",
   "execution_count": 4,
   "metadata": {},
   "outputs": [
    {
     "name": "stdout",
     "output_type": "stream",
     "text": [
      "0    1\n",
      "1    2\n",
      "2    3\n",
      "3    4\n",
      "4    5\n",
      "5    6\n",
      "dtype: int64\n",
      "\n",
      "0    4\n",
      "1    5\n",
      "2    6\n",
      "3    7\n",
      "4    8\n",
      "5    9\n",
      "dtype: int64\n"
     ]
    }
   ],
   "source": [
    "a = np.array([1, 2, 3, 4, 5, 6])\n",
    "b = np.array([4, 5, 6, 7, 8, 9])\n",
    "\n",
    "a1 = pd.Series(a)\n",
    "b1 = pd.Series(b)\n",
    "print(a1)\n",
    "print()\n",
    "print(b1)"
   ]
  },
  {
   "cell_type": "code",
   "execution_count": 5,
   "metadata": {},
   "outputs": [
    {
     "name": "stdout",
     "output_type": "stream",
     "text": [
      "Elementos comuns:\n",
      "3    4\n",
      "4    5\n",
      "5    6\n",
      "dtype: int64\n"
     ]
    }
   ],
   "source": [
    "new_series = a1[a1.isin(b1)]\n",
    "new_series\n",
    "\n",
    "print(\"Elementos comuns:\")\n",
    "print(new_series)"
   ]
  },
  {
   "cell_type": "markdown",
   "metadata": {
    "id": "igtlh28fhBvq"
   },
   "source": [
    "8 - Encontre os elementos que não são comuns entre 'a' e 'b'."
   ]
  },
  {
   "cell_type": "code",
   "execution_count": 6,
   "metadata": {},
   "outputs": [
    {
     "name": "stderr",
     "output_type": "stream",
     "text": [
      "/tmp/ipykernel_5456/3147422437.py:4: FutureWarning: The series.append method is deprecated and will be removed from pandas in a future version. Use pandas.concat instead.\n",
      "  n3 = n1.append(n2, ignore_index=True)\n"
     ]
    },
    {
     "data": {
      "text/plain": [
       "0    1\n",
       "1    2\n",
       "2    3\n",
       "3    7\n",
       "4    8\n",
       "5    9\n",
       "dtype: int64"
      ]
     },
     "execution_count": 6,
     "metadata": {},
     "output_type": "execute_result"
    }
   ],
   "source": [
    "n1 = a1[~a1.isin(b1)]\n",
    "n2 = b1[~b1.isin(a1)]\n",
    "\n",
    "n3 = n1.append(n2, ignore_index=True)\n",
    "n3"
   ]
  },
  {
   "cell_type": "markdown",
   "metadata": {
    "id": "nq92hsKZhBvr"
   },
   "source": [
    "9 - Calcule o mínimo, máximo e percentis 25 e 75 da series 'b'."
   ]
  },
  {
   "cell_type": "code",
   "execution_count": 7,
   "metadata": {},
   "outputs": [
    {
     "name": "stdout",
     "output_type": "stream",
     "text": [
      "Mínimo: 4\n",
      "Máximo: 9\n"
     ]
    }
   ],
   "source": [
    "print('Mínimo:', b1.min())\n",
    "print('Máximo:', b1.max())"
   ]
  },
  {
   "cell_type": "code",
   "execution_count": 8,
   "metadata": {},
   "outputs": [
    {
     "data": {
      "text/plain": [
       "count    6.000000\n",
       "mean     6.500000\n",
       "std      1.870829\n",
       "min      4.000000\n",
       "25%      5.250000\n",
       "50%      6.500000\n",
       "75%      7.750000\n",
       "max      9.000000\n",
       "dtype: float64"
      ]
     },
     "execution_count": 8,
     "metadata": {},
     "output_type": "execute_result"
    }
   ],
   "source": [
    "describe = b1.describe()\n",
    "describe"
   ]
  },
  {
   "cell_type": "code",
   "execution_count": 9,
   "metadata": {},
   "outputs": [
    {
     "name": "stdout",
     "output_type": "stream",
     "text": [
      "25%: 5.25\n",
      "75%: 7.75\n"
     ]
    }
   ],
   "source": [
    "print(\"25%:\", describe[\"25%\"])\n",
    "print(\"75%:\", describe[\"75%\"])"
   ]
  },
  {
   "cell_type": "code",
   "execution_count": 39,
   "metadata": {},
   "outputs": [
    {
     "name": "stdout",
     "output_type": "stream",
     "text": [
      "minimum = 4 maximum = 9 percentile 25 = 5.25 percentile 75 = 7.75\n"
     ]
    }
   ],
   "source": [
    "print('minimum =', b1.min(), 'maximum =', b1.max(), 'percentile 25 =', b1.quantile(q=0.25), 'percentile 75 =', b1.quantile(q=0.75))"
   ]
  },
  {
   "cell_type": "markdown",
   "metadata": {
    "ExecuteTime": {
     "end_time": "2020-03-02T07:30:12.381136Z",
     "start_time": "2020-03-02T07:30:12.374105Z"
    },
    "id": "9NoIuQeMhBvt"
   },
   "source": [
    "10 - Calcule a frequência de cada elemento único da seguinte series:\n",
    "\n",
    "ser = pd.Series(np.take(list('abcdefgh'), np.random.randint(8, size = 30)))"
   ]
  },
  {
   "cell_type": "code",
   "execution_count": 10,
   "metadata": {},
   "outputs": [
    {
     "data": {
      "text/plain": [
       "0     d\n",
       "1     b\n",
       "2     g\n",
       "3     b\n",
       "4     f\n",
       "5     a\n",
       "6     h\n",
       "7     b\n",
       "8     g\n",
       "9     d\n",
       "10    d\n",
       "11    c\n",
       "12    f\n",
       "13    a\n",
       "14    e\n",
       "15    f\n",
       "16    f\n",
       "17    d\n",
       "18    h\n",
       "19    g\n",
       "20    b\n",
       "21    d\n",
       "22    g\n",
       "23    g\n",
       "24    d\n",
       "25    e\n",
       "26    d\n",
       "27    b\n",
       "28    h\n",
       "29    b\n",
       "dtype: object"
      ]
     },
     "execution_count": 10,
     "metadata": {},
     "output_type": "execute_result"
    }
   ],
   "source": [
    "ser = pd.Series(np.take(list('abcdefgh'), np.random.randint(8, size = 30)))\n",
    "ser"
   ]
  },
  {
   "cell_type": "code",
   "execution_count": 12,
   "metadata": {},
   "outputs": [
    {
     "data": {
      "text/plain": [
       "d    7\n",
       "b    6\n",
       "g    5\n",
       "f    4\n",
       "h    3\n",
       "a    2\n",
       "e    2\n",
       "c    1\n",
       "dtype: int64"
      ]
     },
     "execution_count": 12,
     "metadata": {},
     "output_type": "execute_result"
    }
   ],
   "source": [
    "ser.value_counts()"
   ]
  },
  {
   "cell_type": "markdown",
   "metadata": {
    "id": "DSKrpXjghBvv"
   },
   "source": [
    "11 - A partir da series anterior, mantenha os 3 elementos mais frequentes e altere os restantes para \"...\"."
   ]
  },
  {
   "cell_type": "code",
   "execution_count": 13,
   "metadata": {},
   "outputs": [],
   "source": [
    "freq_indx_top_3 = ser.value_counts(sort=True, ascending=False)[:3].index"
   ]
  },
  {
   "cell_type": "code",
   "execution_count": 14,
   "metadata": {},
   "outputs": [
    {
     "data": {
      "text/plain": [
       "0       d\n",
       "1       b\n",
       "2       g\n",
       "3       b\n",
       "4     ...\n",
       "5     ...\n",
       "6     ...\n",
       "7       b\n",
       "8       g\n",
       "9       d\n",
       "10      d\n",
       "11    ...\n",
       "12    ...\n",
       "13    ...\n",
       "14    ...\n",
       "15    ...\n",
       "16    ...\n",
       "17      d\n",
       "18    ...\n",
       "19      g\n",
       "20      b\n",
       "21      d\n",
       "22      g\n",
       "23      g\n",
       "24      d\n",
       "25    ...\n",
       "26      d\n",
       "27      b\n",
       "28    ...\n",
       "29      b\n",
       "dtype: object"
      ]
     },
     "execution_count": 14,
     "metadata": {},
     "output_type": "execute_result"
    }
   ],
   "source": [
    "ser[~ser.isin(freq_indx_top_3)] = '...'\n",
    "ser"
   ]
  },
  {
   "cell_type": "markdown",
   "metadata": {
    "id": "bbW0INWmhBvz"
   },
   "source": [
    "12 - Encontre as posições dos números da series que se segue que são múltiplos de 2.\n",
    "\n",
    "ser = pd.Series(np.random.randint (1, 10, 10))"
   ]
  },
  {
   "cell_type": "code",
   "execution_count": 15,
   "metadata": {},
   "outputs": [
    {
     "data": {
      "text/plain": [
       "0    3\n",
       "1    9\n",
       "2    5\n",
       "3    7\n",
       "4    2\n",
       "5    6\n",
       "6    4\n",
       "7    1\n",
       "8    9\n",
       "9    8\n",
       "dtype: int64"
      ]
     },
     "execution_count": 15,
     "metadata": {},
     "output_type": "execute_result"
    }
   ],
   "source": [
    "ser = pd.Series(np.random.randint (1, 10, 10))\n",
    "ser"
   ]
  },
  {
   "cell_type": "code",
   "execution_count": 16,
   "metadata": {},
   "outputs": [
    {
     "data": {
      "text/plain": [
       "[4, 5, 6, 9]"
      ]
     },
     "execution_count": 16,
     "metadata": {},
     "output_type": "execute_result"
    }
   ],
   "source": [
    "ser[ser % 2 == 0].index.to_list()"
   ]
  },
  {
   "cell_type": "markdown",
   "metadata": {
    "id": "YHV7IDd_hBv2"
   },
   "source": [
    "13 - Extraia os elementos da seguinte series que se encontram nas posições especificadas.\n",
    "\n",
    "ser = pd.Series(list('abcdefghijklmnopqrstuvwxyz'))\n",
    "\n",
    "pos = [0, 5, 9, 16, 21]"
   ]
  },
  {
   "cell_type": "code",
   "execution_count": 19,
   "metadata": {},
   "outputs": [
    {
     "data": {
      "text/plain": [
       "0     a\n",
       "1     b\n",
       "2     c\n",
       "3     d\n",
       "4     e\n",
       "5     f\n",
       "6     g\n",
       "7     h\n",
       "8     i\n",
       "9     j\n",
       "10    k\n",
       "11    l\n",
       "12    m\n",
       "13    n\n",
       "14    o\n",
       "15    p\n",
       "16    q\n",
       "17    r\n",
       "18    s\n",
       "19    t\n",
       "20    u\n",
       "21    v\n",
       "22    w\n",
       "23    x\n",
       "24    y\n",
       "25    z\n",
       "dtype: object"
      ]
     },
     "execution_count": 19,
     "metadata": {},
     "output_type": "execute_result"
    }
   ],
   "source": [
    "ser = pd.Series(list('abcdefghijklmnopqrstuvwxyz'))\n",
    "pos = [0, 5, 9, 16, 21]\n",
    "\n",
    "ser"
   ]
  },
  {
   "cell_type": "code",
   "execution_count": 20,
   "metadata": {},
   "outputs": [
    {
     "data": {
      "text/plain": [
       "0     a\n",
       "5     f\n",
       "9     j\n",
       "16    q\n",
       "21    v\n",
       "dtype: object"
      ]
     },
     "execution_count": 20,
     "metadata": {},
     "output_type": "execute_result"
    }
   ],
   "source": [
    "ser.take(pos)"
   ]
  },
  {
   "cell_type": "code",
   "execution_count": 23,
   "metadata": {},
   "outputs": [
    {
     "data": {
      "text/plain": [
       "0     a\n",
       "5     f\n",
       "9     j\n",
       "16    q\n",
       "21    v\n",
       "dtype: object"
      ]
     },
     "execution_count": 23,
     "metadata": {},
     "output_type": "execute_result"
    }
   ],
   "source": [
    "ser[pos]"
   ]
  },
  {
   "cell_type": "markdown",
   "metadata": {
    "id": "vBvivux4hBv5"
   },
   "source": [
    "14 - Empilhe (stack) as series series_1 e series_2 tanto horizontalmente como verticalmente.\n",
    "\n",
    "series_1 = pd.Series(np.arange(0, 5, 1))\n",
    "\n",
    "series_2 = pd.Series(list('abcde'))"
   ]
  },
  {
   "cell_type": "code",
   "execution_count": 21,
   "metadata": {},
   "outputs": [
    {
     "data": {
      "text/plain": [
       "0    0\n",
       "1    1\n",
       "2    2\n",
       "3    3\n",
       "4    4\n",
       "dtype: int64"
      ]
     },
     "execution_count": 21,
     "metadata": {},
     "output_type": "execute_result"
    }
   ],
   "source": [
    "s1 = pd.Series(np.arange(0, 5, 1))\n",
    "s1"
   ]
  },
  {
   "cell_type": "code",
   "execution_count": 22,
   "metadata": {},
   "outputs": [
    {
     "data": {
      "text/plain": [
       "0    a\n",
       "1    b\n",
       "2    c\n",
       "3    d\n",
       "4    e\n",
       "dtype: object"
      ]
     },
     "execution_count": 22,
     "metadata": {},
     "output_type": "execute_result"
    }
   ],
   "source": [
    "s2 = pd.Series(list('abcde'))\n",
    "s2"
   ]
  },
  {
   "cell_type": "code",
   "execution_count": 24,
   "metadata": {},
   "outputs": [
    {
     "data": {
      "text/html": [
       "<div>\n",
       "<style scoped>\n",
       "    .dataframe tbody tr th:only-of-type {\n",
       "        vertical-align: middle;\n",
       "    }\n",
       "\n",
       "    .dataframe tbody tr th {\n",
       "        vertical-align: top;\n",
       "    }\n",
       "\n",
       "    .dataframe thead th {\n",
       "        text-align: right;\n",
       "    }\n",
       "</style>\n",
       "<table border=\"1\" class=\"dataframe\">\n",
       "  <thead>\n",
       "    <tr style=\"text-align: right;\">\n",
       "      <th></th>\n",
       "      <th>0</th>\n",
       "      <th>1</th>\n",
       "    </tr>\n",
       "  </thead>\n",
       "  <tbody>\n",
       "    <tr>\n",
       "      <th>0</th>\n",
       "      <td>0</td>\n",
       "      <td>a</td>\n",
       "    </tr>\n",
       "    <tr>\n",
       "      <th>1</th>\n",
       "      <td>1</td>\n",
       "      <td>b</td>\n",
       "    </tr>\n",
       "    <tr>\n",
       "      <th>2</th>\n",
       "      <td>2</td>\n",
       "      <td>c</td>\n",
       "    </tr>\n",
       "    <tr>\n",
       "      <th>3</th>\n",
       "      <td>3</td>\n",
       "      <td>d</td>\n",
       "    </tr>\n",
       "    <tr>\n",
       "      <th>4</th>\n",
       "      <td>4</td>\n",
       "      <td>e</td>\n",
       "    </tr>\n",
       "  </tbody>\n",
       "</table>\n",
       "</div>"
      ],
      "text/plain": [
       "   0  1\n",
       "0  0  a\n",
       "1  1  b\n",
       "2  2  c\n",
       "3  3  d\n",
       "4  4  e"
      ]
     },
     "execution_count": 24,
     "metadata": {},
     "output_type": "execute_result"
    }
   ],
   "source": [
    "s3 = pd.concat([s1, s2], axis=1) #horizontal\n",
    "s3"
   ]
  },
  {
   "cell_type": "code",
   "execution_count": 29,
   "metadata": {},
   "outputs": [
    {
     "data": {
      "text/plain": [
       "0    0\n",
       "1    1\n",
       "2    2\n",
       "3    3\n",
       "4    4\n",
       "5    a\n",
       "6    b\n",
       "7    c\n",
       "8    d\n",
       "9    e\n",
       "dtype: object"
      ]
     },
     "execution_count": 29,
     "metadata": {},
     "output_type": "execute_result"
    }
   ],
   "source": [
    "s4 = pd.concat([s1, s2], axis=0, ignore_index=True) #vertical\n",
    "s4"
   ]
  },
  {
   "cell_type": "markdown",
   "metadata": {
    "ExecuteTime": {
     "end_time": "2020-03-02T07:51:22.858003Z",
     "start_time": "2020-03-02T07:51:22.848319Z"
    },
    "id": "8XCFAfhJhBv-"
   },
   "source": [
    "15 - Filtre os elementos de series_1 que também se entram na series_2.\n",
    "\n",
    "series_1 = pd.Series ([9, 11, 6, 10, 3, 1, 15, 8, 13])\n",
    "\n",
    "series_2 = pd.Series ([1, 3, 11, 14])"
   ]
  },
  {
   "cell_type": "code",
   "execution_count": 30,
   "metadata": {},
   "outputs": [],
   "source": [
    "series_1 = pd.Series ([9, 11, 6, 10, 3, 1, 15, 8, 13])\n",
    "\n",
    "series_2 = pd.Series ([1, 3, 11, 14])"
   ]
  },
  {
   "cell_type": "code",
   "execution_count": 31,
   "metadata": {},
   "outputs": [
    {
     "name": "stdout",
     "output_type": "stream",
     "text": [
      "1    11\n",
      "4     3\n",
      "5     1\n",
      "dtype: int64\n"
     ]
    }
   ],
   "source": [
    "filtro = series_1.isin(series_2)\n",
    "elementos_comuns = series_1[filtro]\n",
    "\n",
    "print(elementos_comuns)"
   ]
  },
  {
   "cell_type": "markdown",
   "metadata": {
    "id": "HC3qzXTMhBwD"
   },
   "source": [
    "16 - Capitalize a primeira letra de cada elemento da seguinte series:\n",
    "\n",
    "my_phrase = pd.Series(['como', 'domina', 'a', 'programação', 'em', 'Python?'])\n"
   ]
  },
  {
   "cell_type": "code",
   "execution_count": 32,
   "metadata": {},
   "outputs": [
    {
     "name": "stdout",
     "output_type": "stream",
     "text": [
      "0           Como\n",
      "1         Domina\n",
      "2              A\n",
      "3    Programação\n",
      "4             Em\n",
      "5        Python?\n",
      "dtype: object\n"
     ]
    }
   ],
   "source": [
    "my_phrase = pd.Series(['como', 'domina', 'a', 'programação', 'em', 'Python?'])\n",
    "\n",
    "# Aplique o método str.capitalize() para capitalizar a primeira letra de cada elemento\n",
    "my_phrase_capitalized = my_phrase.str.capitalize()\n",
    "\n",
    "# Exiba a série com as primeiras letras capitalizadas\n",
    "print(my_phrase_capitalized)\n"
   ]
  },
  {
   "cell_type": "code",
   "execution_count": 40,
   "metadata": {},
   "outputs": [
    {
     "data": {
      "text/plain": [
       "0           Como\n",
       "1         Domina\n",
       "2              A\n",
       "3    Programação\n",
       "4             Em\n",
       "5        Python?\n",
       "dtype: object"
      ]
     },
     "execution_count": 40,
     "metadata": {},
     "output_type": "execute_result"
    }
   ],
   "source": [
    "my_phrase.str.title()"
   ]
  },
  {
   "cell_type": "code",
   "execution_count": 41,
   "metadata": {},
   "outputs": [
    {
     "data": {
      "text/plain": [
       "0           Como\n",
       "1         Domina\n",
       "2              A\n",
       "3    Programação\n",
       "4             Em\n",
       "5        Python?\n",
       "dtype: object"
      ]
     },
     "execution_count": 41,
     "metadata": {},
     "output_type": "execute_result"
    }
   ],
   "source": [
    "my_phrase.map(lambda x : x.title())"
   ]
  },
  {
   "cell_type": "markdown",
   "metadata": {
    "id": "ZeHZ8vyDhBwE"
   },
   "source": [
    "17 - Calcule o número de caracteres de cada elemento da serie anterior."
   ]
  },
  {
   "cell_type": "code",
   "execution_count": 33,
   "metadata": {},
   "outputs": [
    {
     "name": "stdout",
     "output_type": "stream",
     "text": [
      "0     4\n",
      "1     6\n",
      "2     1\n",
      "3    11\n",
      "4     2\n",
      "5     7\n",
      "dtype: int64\n"
     ]
    }
   ],
   "source": [
    "# Use o método str.len() para calcular o número de caracteres de cada elemento\n",
    "num_caracteres = my_phrase.str.len()\n",
    "\n",
    "# Exiba a série com o número de caracteres de cada elemento\n",
    "print(num_caracteres)"
   ]
  },
  {
   "cell_type": "code",
   "execution_count": 42,
   "metadata": {},
   "outputs": [
    {
     "data": {
      "text/plain": [
       "como            4\n",
       "domina          6\n",
       "a               1\n",
       "programação    11\n",
       "em              2\n",
       "Python?         7\n",
       "dtype: int64"
      ]
     },
     "execution_count": 42,
     "metadata": {},
     "output_type": "execute_result"
    }
   ],
   "source": [
    "pd.Series([len(i) for i in my_phrase], index=my_phrase)"
   ]
  },
  {
   "cell_type": "code",
   "execution_count": 43,
   "metadata": {},
   "outputs": [
    {
     "data": {
      "text/plain": [
       "0     4\n",
       "1     6\n",
       "2     1\n",
       "3    11\n",
       "4     2\n",
       "5     7\n",
       "dtype: int64"
      ]
     },
     "execution_count": 43,
     "metadata": {},
     "output_type": "execute_result"
    }
   ],
   "source": [
    "my_phrase.map(lambda x: len(x))"
   ]
  },
  {
   "cell_type": "markdown",
   "metadata": {
    "ExecuteTime": {
     "end_time": "2020-03-02T07:59:28.860357Z",
     "start_time": "2020-03-02T07:59:28.853633Z"
    },
    "id": "80o7ytoOhBwH"
   },
   "source": [
    "18 - Calcule o número de valores únicos da seguinte series:\n",
    "\n",
    "numbers = pd.Series([2, 8, 3, 5, 8, 10, 2, 2, 3])"
   ]
  },
  {
   "cell_type": "code",
   "execution_count": 45,
   "metadata": {},
   "outputs": [
    {
     "data": {
      "text/plain": [
       "5"
      ]
     },
     "execution_count": 45,
     "metadata": {},
     "output_type": "execute_result"
    }
   ],
   "source": [
    "# Verificar números não repetidos\n",
    "numbers = pd.Series([2, 8, 3, 5, 8, 10, 2, 2, 3])\n",
    "\n",
    "# Use o método nunique() para calcular o número de valores únicos\n",
    "numbers.nunique()"
   ]
  },
  {
   "cell_type": "markdown",
   "metadata": {
    "id": "UGgAQVxIhBwI"
   },
   "source": [
    "19 - Tendo em conta a series anterior, calcule a diferença entre elementos consecutivos."
   ]
  },
  {
   "cell_type": "code",
   "execution_count": 44,
   "metadata": {},
   "outputs": [
    {
     "data": {
      "text/plain": [
       "0    NaN\n",
       "1    6.0\n",
       "2   -5.0\n",
       "3    2.0\n",
       "4    3.0\n",
       "5    2.0\n",
       "6   -8.0\n",
       "7    0.0\n",
       "8    1.0\n",
       "dtype: float64"
      ]
     },
     "execution_count": 44,
     "metadata": {},
     "output_type": "execute_result"
    }
   ],
   "source": [
    "numbers.diff()"
   ]
  },
  {
   "cell_type": "markdown",
   "metadata": {
    "id": "4lTG8JVUhBwJ"
   },
   "source": [
    "20 - Tendo em conta o texto que se segue, liste os caracteres que menos ocorrem no texto.\n",
    "\n",
    "text = \"Explorar a vastidão do universo é uma tarefa desafiadora, mas fascinante. Na imensidão do espaço, descobrimos mistérios que nos intrigam e nos fazem questionar nosso lugar no cosmos.\""
   ]
  },
  {
   "cell_type": "code",
   "execution_count": 36,
   "metadata": {},
   "outputs": [
    {
     "name": "stdout",
     "output_type": "stream",
     "text": [
      "Caracteres que menos ocorrem no texto:\n",
      "['E', 'x', 'N', 'ç', 'b', 'z']\n"
     ]
    }
   ],
   "source": [
    "text = \"Explorar a vastidão do universo é uma tarefa desafiadora, mas fascinante. Na imensidão do espaço, descobrimos mistérios que nos intrigam e nos fazem questionar nosso lugar no cosmos.\"\n",
    "\n",
    "# Crie um dicionário para contar a ocorrência de cada caractere\n",
    "ocorrencias = {}\n",
    "for char in text:\n",
    "    if char.isalpha():  # Verifica se o caractere é uma letra (ignora espaços e pontuação)\n",
    "        if char in ocorrencias:\n",
    "            ocorrencias[char] += 1\n",
    "        else:\n",
    "            ocorrencias[char] = 1\n",
    "\n",
    "# Encontre os caracteres com as contagens mais baixas\n",
    "menos_ocorrem = [char for char, count in ocorrencias.items() if count == min(ocorrencias.values())]\n",
    "\n",
    "print(\"Caracteres que menos ocorrem no texto:\")\n",
    "print(menos_ocorrem)"
   ]
  },
  {
   "cell_type": "code",
   "execution_count": 46,
   "metadata": {},
   "outputs": [
    {
     "name": "stdout",
     "output_type": "stream",
     "text": [
      "Caracteres menos frequentes:\n",
      "b    1\n",
      "E    1\n",
      "ç    1\n",
      "N    1\n",
      "x    1\n",
      "z    1\n",
      "dtype: int64\n"
     ]
    }
   ],
   "source": [
    "sr = pd.Series(list(text))\n",
    "freq = sr.value_counts()\n",
    "print(\"Caracteres menos frequentes:\")\n",
    "print(freq[freq == freq.min()])"
   ]
  }
 ],
 "metadata": {
  "colab": {
   "provenance": []
  },
  "interpreter": {
   "hash": "a890e96c5bc2e34e713687d667dc1e925660c2a0af9c3a409dd6c550ddd944d3"
  },
  "kernelspec": {
   "display_name": "Python 3 (ipykernel)",
   "language": "python",
   "name": "python3"
  },
  "language_info": {
   "codemirror_mode": {
    "name": "ipython",
    "version": 3
   },
   "file_extension": ".py",
   "mimetype": "text/x-python",
   "name": "python",
   "nbconvert_exporter": "python",
   "pygments_lexer": "ipython3",
   "version": "3.9.13"
  },
  "latex_envs": {
   "LaTeX_envs_menu_present": true,
   "autoclose": false,
   "autocomplete": true,
   "bibliofile": "biblio.bib",
   "cite_by": "apalike",
   "current_citInitial": 1,
   "eqLabelWithNumbers": true,
   "eqNumInitial": 1,
   "hotkeys": {
    "equation": "Ctrl-E",
    "itemize": "Ctrl-I"
   },
   "labels_anchors": false,
   "latex_user_defs": false,
   "report_style_numbering": false,
   "user_envs_cfg": false
  },
  "toc": {
   "base_numbering": 1,
   "nav_menu": {},
   "number_sections": true,
   "sideBar": true,
   "skip_h1_title": false,
   "title_cell": "Table of Contents",
   "title_sidebar": "Contents",
   "toc_cell": false,
   "toc_position": {
    "height": "calc(100% - 180px)",
    "left": "10px",
    "top": "150px",
    "width": "418.3831481933594px"
   },
   "toc_section_display": true,
   "toc_window_display": false
  },
  "varInspector": {
   "cols": {
    "lenName": 16,
    "lenType": 16,
    "lenVar": 40
   },
   "kernels_config": {
    "python": {
     "delete_cmd_postfix": "",
     "delete_cmd_prefix": "del ",
     "library": "var_list.py",
     "varRefreshCmd": "print(var_dic_list())"
    },
    "r": {
     "delete_cmd_postfix": ") ",
     "delete_cmd_prefix": "rm(",
     "library": "var_list.r",
     "varRefreshCmd": "cat(var_dic_list()) "
    }
   },
   "types_to_exclude": [
    "module",
    "function",
    "builtin_function_or_method",
    "instance",
    "_Feature"
   ],
   "window_display": false
  }
 },
 "nbformat": 4,
 "nbformat_minor": 4
}
