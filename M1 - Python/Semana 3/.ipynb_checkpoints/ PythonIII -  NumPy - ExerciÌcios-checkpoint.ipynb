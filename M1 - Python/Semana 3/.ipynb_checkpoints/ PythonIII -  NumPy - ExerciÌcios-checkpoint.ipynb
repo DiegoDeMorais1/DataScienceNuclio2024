{
 "cells": [
  {
   "cell_type": "markdown",
   "metadata": {
    "id": "6bkRUOcOWEB3"
   },
   "source": [
    "![Nuclio logo](https://nuclio.school/wp-content/uploads/2018/12/nucleoDS-newBlack.png)"
   ]
  },
  {
   "cell_type": "markdown",
   "metadata": {
    "id": "DrBzzG9gWEB9"
   },
   "source": [
    "# Exercícios - NumPy Arrays\n",
    "\n",
    "Neste notebook, encontram 20 exercícios que vos permitirão aprender as bases acerca de NumPy Arrays."
   ]
  },
  {
   "cell_type": "markdown",
   "metadata": {
    "id": "4TpGLtMYWEB9"
   },
   "source": [
    "1 - Importe a biblioteca numpy."
   ]
  },
  {
   "cell_type": "code",
   "execution_count": 1,
   "metadata": {},
   "outputs": [],
   "source": [
    "import numpy as np"
   ]
  },
  {
   "cell_type": "code",
   "execution_count": 16,
   "metadata": {},
   "outputs": [
    {
     "name": "stdout",
     "output_type": "stream",
     "text": [
      "Name: numpy\n",
      "Version: 1.21.5\n",
      "Summary: NumPy is the fundamental package for array computing with Python.\n",
      "Home-page: https://www.numpy.org\n",
      "Author: Travis E. Oliphant et al.\n",
      "Author-email: \n",
      "License: BSD\n",
      "Location: /home/dcm/anaconda3/lib/python3.9/site-packages\n",
      "Requires: \n",
      "Required-by: astropy, autograd, bkcharts, bokeh, Bottleneck, daal4py, datashader, datashape, gensim, gym, h5py, holoviews, hvplot, imagecodecs, imageio, matplotlib, mkl-fft, mkl-random, mla, numba, numexpr, pandas, patsy, pyerfa, PyWavelets, scikit-image, scikit-learn, scipy, seaborn, statsmodels, tables, tifffile, torchvision, xarray\n",
      "Note: you may need to restart the kernel to use updated packages.\n"
     ]
    }
   ],
   "source": [
    "pip show numpy"
   ]
  },
  {
   "cell_type": "markdown",
   "metadata": {
    "id": "XzaZ-Tl0WECC"
   },
   "source": [
    "2 - Crie um numpy array com valores inteiros entre 0 e 9."
   ]
  },
  {
   "cell_type": "code",
   "execution_count": 2,
   "metadata": {},
   "outputs": [
    {
     "name": "stdout",
     "output_type": "stream",
     "text": [
      "[0 1 2 3 4 5 6 7 8 9]\n"
     ]
    }
   ],
   "source": [
    "#arr = np.array = ([0, 9, 8, 7, 6, 7, 8, 9])\n",
    "arr = np.arange(10)\n",
    "print(arr)"
   ]
  },
  {
   "cell_type": "markdown",
   "metadata": {
    "id": "8y49vlWhWECE"
   },
   "source": [
    "3 - Extraia todos os números pares do array que criou anteriormente."
   ]
  },
  {
   "cell_type": "code",
   "execution_count": 3,
   "metadata": {},
   "outputs": [
    {
     "name": "stdout",
     "output_type": "stream",
     "text": [
      "[0 2 4 6 8]\n"
     ]
    }
   ],
   "source": [
    "array_even = arr[arr % 2 == 0]\n",
    "print(array_even)"
   ]
  },
  {
   "cell_type": "markdown",
   "metadata": {
    "id": "yJtW8UeSWECH"
   },
   "source": [
    "4 - Substitua todos os números pares por zero."
   ]
  },
  {
   "cell_type": "code",
   "execution_count": 4,
   "metadata": {},
   "outputs": [
    {
     "name": "stdout",
     "output_type": "stream",
     "text": [
      "[0 1 0 3 0 5 0 7 0 9]\n"
     ]
    }
   ],
   "source": [
    "arr[arr % 2 == 0] = 0\n",
    "print(arr)"
   ]
  },
  {
   "cell_type": "markdown",
   "metadata": {
    "id": "gEMzhsSwWECJ"
   },
   "source": [
    "5 - Modifique o array para que este passe a ser um array 2D com 5 rows."
   ]
  },
  {
   "cell_type": "code",
   "execution_count": 5,
   "metadata": {},
   "outputs": [
    {
     "data": {
      "text/plain": [
       "array([[0, 1],\n",
       "       [0, 3],\n",
       "       [0, 5],\n",
       "       [0, 7],\n",
       "       [0, 9]])"
      ]
     },
     "execution_count": 5,
     "metadata": {},
     "output_type": "execute_result"
    }
   ],
   "source": [
    "arr.reshape([5, 2]) # cada row deve ter 2 elementos"
   ]
  },
  {
   "cell_type": "markdown",
   "metadata": {
    "id": "gzD4a6NqWECK"
   },
   "source": [
    "6 - Dados dois arrays:\n",
    "\n",
    "a = np.array([1, 2, 3, 4, 4, 1, 2, 5, 5, 6])\n",
    "\n",
    "b = np.array([7, 2, 8, 4, 4, 0, 9, 4, 9, 0])\n",
    "\n",
    "Verifique os elementos comuns entre ambos arrays (valor e posição iguais) e crie um array com o resultado (sem elementos duplicados)."
   ]
  },
  {
   "cell_type": "code",
   "execution_count": 6,
   "metadata": {},
   "outputs": [],
   "source": [
    "a = np.array([1, 2, 3, 4, 4, 1, 2, 5, 5, 6])\n",
    "\n",
    "b = np.array([7, 2, 8, 4, 4, 0, 9, 4, 9, 0])\n"
   ]
  },
  {
   "cell_type": "code",
   "execution_count": 7,
   "metadata": {},
   "outputs": [
    {
     "data": {
      "text/plain": [
       "array([2, 4, 4])"
      ]
     },
     "execution_count": 7,
     "metadata": {},
     "output_type": "execute_result"
    }
   ],
   "source": [
    "a[a == b]"
   ]
  },
  {
   "cell_type": "code",
   "execution_count": 8,
   "metadata": {},
   "outputs": [
    {
     "data": {
      "text/plain": [
       "array([2, 4])"
      ]
     },
     "execution_count": 8,
     "metadata": {},
     "output_type": "execute_result"
    }
   ],
   "source": [
    "np.unique(a[a == b])"
   ]
  },
  {
   "cell_type": "markdown",
   "metadata": {
    "id": "7nPcFKE-WECO"
   },
   "source": [
    "7 - Elimine do array a todos os elementos que também estão presentes em b."
   ]
  },
  {
   "cell_type": "code",
   "execution_count": 9,
   "metadata": {},
   "outputs": [
    {
     "name": "stdout",
     "output_type": "stream",
     "text": [
      "[1 3 1 2 5 5 6]\n",
      "[1 2 3 5 6]\n"
     ]
    }
   ],
   "source": [
    "print(a[a != b])\n",
    "print(np.unique(a[a != b]))\n",
    "\n",
    "#segunda opção\n",
    "#print(a[np.isin(a,b) == False])\n",
    "#print(np.unique(a[np.isin(a,b) == False]))"
   ]
  },
  {
   "cell_type": "markdown",
   "metadata": {
    "id": "ELbNpPh3WECS"
   },
   "source": [
    "8 - Returne um array com as posições dos elementos do array a que são comuns ao array b."
   ]
  },
  {
   "cell_type": "code",
   "execution_count": 10,
   "metadata": {},
   "outputs": [
    {
     "data": {
      "text/plain": [
       "array([1, 2, 3, 4, 4, 1, 2, 5, 5, 6])"
      ]
     },
     "execution_count": 10,
     "metadata": {},
     "output_type": "execute_result"
    }
   ],
   "source": [
    "a"
   ]
  },
  {
   "cell_type": "code",
   "execution_count": 11,
   "metadata": {},
   "outputs": [
    {
     "data": {
      "text/plain": [
       "(array([1, 3, 4]),)"
      ]
     },
     "execution_count": 11,
     "metadata": {},
     "output_type": "execute_result"
    }
   ],
   "source": [
    "np.where(a == b)"
   ]
  },
  {
   "cell_type": "markdown",
   "metadata": {
    "id": "cebmG6pmWECb"
   },
   "source": [
    "9 - Crie um array 4x4 com elementos entre 0 e 15."
   ]
  },
  {
   "cell_type": "code",
   "execution_count": 14,
   "metadata": {},
   "outputs": [
    {
     "data": {
      "text/plain": [
       "array([ 0,  1,  2,  3,  4,  5,  6,  7,  8,  9, 10, 11, 12, 13, 14, 15])"
      ]
     },
     "execution_count": 14,
     "metadata": {},
     "output_type": "execute_result"
    }
   ],
   "source": [
    "arr = np.array(np.arange(16))\n",
    "arr"
   ]
  },
  {
   "cell_type": "code",
   "execution_count": 15,
   "metadata": {},
   "outputs": [
    {
     "data": {
      "text/plain": [
       "array([[ 0,  1,  2,  3],\n",
       "       [ 4,  5,  6,  7],\n",
       "       [ 8,  9, 10, 11],\n",
       "       [12, 13, 14, 15]])"
      ]
     },
     "execution_count": 15,
     "metadata": {},
     "output_type": "execute_result"
    }
   ],
   "source": [
    "my_arr = arr.reshape([4,4])\n",
    "my_arr"
   ]
  },
  {
   "cell_type": "markdown",
   "metadata": {
    "id": "k5P7M00-WECg"
   },
   "source": [
    "10 - Troque a ordem das colunas 2 e 3 do array anterior."
   ]
  },
  {
   "cell_type": "code",
   "execution_count": 17,
   "metadata": {},
   "outputs": [],
   "source": [
    "col1 = my_arr[:,2].copy()\n",
    "col2 = my_arr[:,3].copy()"
   ]
  },
  {
   "cell_type": "code",
   "execution_count": 18,
   "metadata": {},
   "outputs": [
    {
     "data": {
      "text/plain": [
       "array([[ 0,  1,  3,  2],\n",
       "       [ 4,  5,  7,  6],\n",
       "       [ 8,  9, 11, 10],\n",
       "       [12, 13, 15, 14]])"
      ]
     },
     "execution_count": 18,
     "metadata": {},
     "output_type": "execute_result"
    }
   ],
   "source": [
    "my_arr[:,2], my_arr[:,3] = col2, col1\n",
    "my_arr"
   ]
  },
  {
   "cell_type": "markdown",
   "metadata": {
    "id": "22QyvmEmWECp"
   },
   "source": [
    "11 - Troque as rows 1 e 2 do array anterior."
   ]
  },
  {
   "cell_type": "code",
   "execution_count": 19,
   "metadata": {},
   "outputs": [],
   "source": [
    "row1 = my_arr[1,:].copy()\n",
    "row2 = my_arr[2,:].copy()"
   ]
  },
  {
   "cell_type": "code",
   "execution_count": 20,
   "metadata": {},
   "outputs": [
    {
     "data": {
      "text/plain": [
       "array([[ 0,  1,  3,  2],\n",
       "       [ 8,  9, 11, 10],\n",
       "       [ 4,  5,  7,  6],\n",
       "       [12, 13, 15, 14]])"
      ]
     },
     "execution_count": 20,
     "metadata": {},
     "output_type": "execute_result"
    }
   ],
   "source": [
    "my_arr[1,:], my_arr[2,:] = row2, row1\n",
    "my_arr"
   ]
  },
  {
   "cell_type": "markdown",
   "metadata": {
    "id": "tHdNRQf9WEC5"
   },
   "source": [
    "12 - Some os valores para cada coluna."
   ]
  },
  {
   "cell_type": "code",
   "execution_count": 21,
   "metadata": {},
   "outputs": [
    {
     "data": {
      "text/plain": [
       "array([24, 28, 36, 32])"
      ]
     },
     "execution_count": 21,
     "metadata": {},
     "output_type": "execute_result"
    }
   ],
   "source": [
    "my_arr.sum(axis = 0)"
   ]
  },
  {
   "cell_type": "code",
   "execution_count": 22,
   "metadata": {
    "ExecuteTime": {
     "end_time": "2021-01-20T20:49:13.705002Z",
     "start_time": "2021-01-20T20:49:13.687490Z"
    },
    "colab": {
     "base_uri": "https://localhost:8080/"
    },
    "id": "SE4GO5pFWEC6",
    "outputId": "c087a505-a1b6-41e6-a000-5ca1cb78e437"
   },
   "outputs": [
    {
     "name": "stdout",
     "output_type": "stream",
     "text": [
      "Coluna 0 :  [ 0  8  4 12] : sum= 24\n",
      "Coluna 1 :  [ 1  9  5 13] : sum= 28\n",
      "Coluna 2 :  [ 3 11  7 15] : sum= 36\n",
      "Coluna 3 :  [ 2 10  6 14] : sum= 32\n"
     ]
    }
   ],
   "source": [
    "for i in range(my_arr.shape[1]):\n",
    "    print(\"Coluna\",i,\": \",my_arr[:,i],\": sum=\",my_arr[:,i].sum())"
   ]
  },
  {
   "cell_type": "markdown",
   "metadata": {
    "id": "4LDRaM81WECx"
   },
   "source": [
    "13 - Calcule a média, valor máximo e mínimo e o desvio padrão de cada row."
   ]
  },
  {
   "cell_type": "code",
   "execution_count": 23,
   "metadata": {},
   "outputs": [
    {
     "data": {
      "text/plain": [
       "array([ 1.5,  9.5,  5.5, 13.5])"
      ]
     },
     "execution_count": 23,
     "metadata": {},
     "output_type": "execute_result"
    }
   ],
   "source": [
    "my_arr.mean(axis = 1) #média"
   ]
  },
  {
   "cell_type": "code",
   "execution_count": 24,
   "metadata": {},
   "outputs": [
    {
     "data": {
      "text/plain": [
       "array([ 3, 11,  7, 15])"
      ]
     },
     "execution_count": 24,
     "metadata": {},
     "output_type": "execute_result"
    }
   ],
   "source": [
    "my_arr.max(axis = 1) #máximo"
   ]
  },
  {
   "cell_type": "code",
   "execution_count": 25,
   "metadata": {},
   "outputs": [
    {
     "data": {
      "text/plain": [
       "array([ 0,  8,  4, 12])"
      ]
     },
     "execution_count": 25,
     "metadata": {},
     "output_type": "execute_result"
    }
   ],
   "source": [
    "my_arr.min(axis = 1) #máximo"
   ]
  },
  {
   "cell_type": "code",
   "execution_count": 26,
   "metadata": {},
   "outputs": [
    {
     "data": {
      "text/plain": [
       "array([1.11803399, 1.11803399, 1.11803399, 1.11803399])"
      ]
     },
     "execution_count": 26,
     "metadata": {},
     "output_type": "execute_result"
    }
   ],
   "source": [
    "my_arr.std(axis = 1) #máximo"
   ]
  },
  {
   "cell_type": "code",
   "execution_count": 27,
   "metadata": {},
   "outputs": [
    {
     "name": "stdout",
     "output_type": "stream",
     "text": [
      "Row  0 :  [0 1 3 2] : mean= 1.5 , max= 3 , min= 0 , sdev= 1.118033988749895\n",
      "Row  1 :  [ 8  9 11 10] : mean= 9.5 , max= 11 , min= 8 , sdev= 1.118033988749895\n",
      "Row  2 :  [4 5 7 6] : mean= 5.5 , max= 7 , min= 4 , sdev= 1.118033988749895\n",
      "Row  3 :  [12 13 15 14] : mean= 13.5 , max= 15 , min= 12 , sdev= 1.118033988749895\n"
     ]
    }
   ],
   "source": [
    "for i in range(my_arr.shape[0]):\n",
    "    print(\"Row \",i,\": \",my_arr[i],\": mean=\",my_arr[i].mean(), \", max=\",my_arr[i].max(),\", min=\",my_arr[i].min(),\", sdev=\",my_arr[i].std())"
   ]
  },
  {
   "cell_type": "markdown",
   "metadata": {
    "id": "0lsKtLuHWEC7"
   },
   "source": [
    "14 - Existem elementos repetidos no array?"
   ]
  },
  {
   "cell_type": "code",
   "execution_count": 28,
   "metadata": {},
   "outputs": [
    {
     "name": "stdout",
     "output_type": "stream",
     "text": [
      "[ 0  1  2  3  4  5  6  7  8  9 10 11 12 13 14 15]\n",
      "[1 1 1 1 1 1 1 1 1 1 1 1 1 1 1 1]\n"
     ]
    }
   ],
   "source": [
    "elems_unique, freq = np.unique(my_arr, return_counts=True)\n",
    "print(elems_unique)\n",
    "print(freq )"
   ]
  },
  {
   "cell_type": "code",
   "execution_count": 29,
   "metadata": {},
   "outputs": [
    {
     "name": "stdout",
     "output_type": "stream",
     "text": [
      "Não existem elementos repetidos!!!\n"
     ]
    }
   ],
   "source": [
    "if freq[freq != 1].size != 0:\n",
    "    print('Existem elementos repetidos!!!')\n",
    "else:\n",
    "    print('Não existem elementos repetidos!!!')"
   ]
  },
  {
   "cell_type": "markdown",
   "metadata": {
    "id": "AQ71fIfTWEC-"
   },
   "source": [
    "15 - Crie um array 3x2 contendo apenas 1s."
   ]
  },
  {
   "cell_type": "code",
   "execution_count": 30,
   "metadata": {},
   "outputs": [
    {
     "data": {
      "text/plain": [
       "array([[1, 1],\n",
       "       [1, 1],\n",
       "       [1, 1]])"
      ]
     },
     "execution_count": 30,
     "metadata": {},
     "output_type": "execute_result"
    }
   ],
   "source": [
    "arr_0 = np.ones([3,2], dtype=int)\n",
    "arr_0"
   ]
  },
  {
   "cell_type": "markdown",
   "metadata": {
    "id": "mT7Hx8IPWEDA"
   },
   "source": [
    "16 - Crie um array 3x5 apenas com números random entre 0 e 20."
   ]
  },
  {
   "cell_type": "code",
   "execution_count": 31,
   "metadata": {},
   "outputs": [
    {
     "name": "stdout",
     "output_type": "stream",
     "text": [
      "[[13 11 12 18  8]\n",
      " [12  0 17 10 10]\n",
      " [ 6  3 17  5 11]]\n"
     ]
    }
   ],
   "source": [
    "arr_r = np.random.randint(0,20,size=(3,5))\n",
    "print(arr_r)"
   ]
  },
  {
   "cell_type": "markdown",
   "metadata": {
    "id": "89D4j_vEchcn"
   },
   "source": [
    "17 - Substraia 2 unidades a cada elemento do array anterior."
   ]
  },
  {
   "cell_type": "code",
   "execution_count": 32,
   "metadata": {},
   "outputs": [
    {
     "name": "stdout",
     "output_type": "stream",
     "text": [
      "[[11  9 10 16  6]\n",
      " [10 -2 15  8  8]\n",
      " [ 4  1 15  3  9]]\n"
     ]
    }
   ],
   "source": [
    "arr_r = arr_r - 2\n",
    "print(arr_r)"
   ]
  },
  {
   "cell_type": "markdown",
   "metadata": {
    "id": "07y81JFkWEDg"
   },
   "source": [
    "18 - Crie o array transposto do array anterior."
   ]
  },
  {
   "cell_type": "code",
   "execution_count": 33,
   "metadata": {},
   "outputs": [
    {
     "data": {
      "text/plain": [
       "array([[11, 10,  4],\n",
       "       [ 9, -2,  1],\n",
       "       [10, 15, 15],\n",
       "       [16,  8,  3],\n",
       "       [ 6,  8,  9]])"
      ]
     },
     "execution_count": 33,
     "metadata": {},
     "output_type": "execute_result"
    }
   ],
   "source": [
    "arr_r_t = arr_r.T\n",
    "arr_r_t"
   ]
  },
  {
   "cell_type": "markdown",
   "metadata": {
    "id": "qdL1Myilc2A7"
   },
   "source": [
    "19 - Divida o array anterior em 3 arrays."
   ]
  },
  {
   "cell_type": "code",
   "execution_count": 34,
   "metadata": {},
   "outputs": [],
   "source": [
    "arr_a, arr_b, arr_c = np.array_split(arr_r_t, 3)"
   ]
  },
  {
   "cell_type": "code",
   "execution_count": 35,
   "metadata": {},
   "outputs": [
    {
     "name": "stdout",
     "output_type": "stream",
     "text": [
      "[[11 10  4]\n",
      " [ 9 -2  1]]\n"
     ]
    }
   ],
   "source": [
    "print(arr_a)"
   ]
  },
  {
   "cell_type": "code",
   "execution_count": 36,
   "metadata": {},
   "outputs": [
    {
     "name": "stdout",
     "output_type": "stream",
     "text": [
      "[[10 15 15]\n",
      " [16  8  3]]\n"
     ]
    }
   ],
   "source": [
    "print(arr_b)"
   ]
  },
  {
   "cell_type": "code",
   "execution_count": 37,
   "metadata": {},
   "outputs": [
    {
     "name": "stdout",
     "output_type": "stream",
     "text": [
      "[[6 8 9]]\n"
     ]
    }
   ],
   "source": [
    "print(arr_c)"
   ]
  },
  {
   "cell_type": "markdown",
   "metadata": {
    "id": "cqTHjzgFWEDz"
   },
   "source": [
    "20 - Calcule o valor ao cubo (valor^3) do array transposto."
   ]
  },
  {
   "cell_type": "code",
   "execution_count": 38,
   "metadata": {},
   "outputs": [
    {
     "data": {
      "text/plain": [
       "array([[1331, 1000,   64],\n",
       "       [ 729,   -8,    1],\n",
       "       [1000, 3375, 3375],\n",
       "       [4096,  512,   27],\n",
       "       [ 216,  512,  729]])"
      ]
     },
     "execution_count": 38,
     "metadata": {},
     "output_type": "execute_result"
    }
   ],
   "source": [
    "arr_r_t ** 3"
   ]
  },
  {
   "cell_type": "markdown",
   "metadata": {
    "id": "bv_KNy5BWED4"
   },
   "source": [
    "21 - Verifique se multiplicar o array seguinte por um outro contendo apenas 1s dá ou não os mesmos valores.\n",
    "\n",
    "arr = [[1,2,3],[6,1,5],[1,2,9]]"
   ]
  },
  {
   "cell_type": "code",
   "execution_count": 39,
   "metadata": {},
   "outputs": [
    {
     "data": {
      "text/plain": [
       "array([[1, 2, 3],\n",
       "       [6, 1, 5],\n",
       "       [1, 2, 9]])"
      ]
     },
     "execution_count": 39,
     "metadata": {},
     "output_type": "execute_result"
    }
   ],
   "source": [
    "list_nums = [[1,2,3],[6,1,5],[1,2,9]]\n",
    "arr = np.array(list_nums)\n",
    "arr"
   ]
  },
  {
   "cell_type": "code",
   "execution_count": 40,
   "metadata": {},
   "outputs": [
    {
     "data": {
      "text/plain": [
       "array([[ True,  True,  True],\n",
       "       [ True,  True,  True],\n",
       "       [ True,  True,  True]])"
      ]
     },
     "execution_count": 40,
     "metadata": {},
     "output_type": "execute_result"
    }
   ],
   "source": [
    "np.multiply(arr, np.ones(arr.shape)) == arr"
   ]
  },
  {
   "cell_type": "markdown",
   "metadata": {
    "id": "wnMiFRaeWED7"
   },
   "source": [
    "22 - Crie um array de tamanho 8, contendo números random entre 1 e 60, distribuídos seguindo uma distribuição uniforme."
   ]
  },
  {
   "cell_type": "code",
   "execution_count": 41,
   "metadata": {},
   "outputs": [
    {
     "data": {
      "text/plain": [
       "array([46.50791795,  2.22436501, 38.38524586, 45.17942907, 30.41191373,\n",
       "       14.26300209, 12.68570902, 45.87131202])"
      ]
     },
     "execution_count": 41,
     "metadata": {},
     "output_type": "execute_result"
    }
   ],
   "source": [
    "np.random.seed(10)\n",
    "arr = np.random.uniform(1,60,8)\n",
    "arr"
   ]
  }
 ],
 "metadata": {
  "colab": {
   "provenance": []
  },
  "interpreter": {
   "hash": "a890e96c5bc2e34e713687d667dc1e925660c2a0af9c3a409dd6c550ddd944d3"
  },
  "kernelspec": {
   "display_name": "Python 3 (ipykernel)",
   "language": "python",
   "name": "python3"
  },
  "language_info": {
   "codemirror_mode": {
    "name": "ipython",
    "version": 3
   },
   "file_extension": ".py",
   "mimetype": "text/x-python",
   "name": "python",
   "nbconvert_exporter": "python",
   "pygments_lexer": "ipython3",
   "version": "3.9.13"
  },
  "latex_envs": {
   "LaTeX_envs_menu_present": true,
   "autoclose": false,
   "autocomplete": true,
   "bibliofile": "biblio.bib",
   "cite_by": "apalike",
   "current_citInitial": 1,
   "eqLabelWithNumbers": true,
   "eqNumInitial": 1,
   "hotkeys": {
    "equation": "Ctrl-E",
    "itemize": "Ctrl-I"
   },
   "labels_anchors": false,
   "latex_user_defs": false,
   "report_style_numbering": false,
   "user_envs_cfg": false
  },
  "toc": {
   "base_numbering": 1,
   "nav_menu": {},
   "number_sections": true,
   "sideBar": true,
   "skip_h1_title": false,
   "title_cell": "Table of Contents",
   "title_sidebar": "Contents",
   "toc_cell": false,
   "toc_position": {
    "height": "calc(100% - 180px)",
    "left": "10px",
    "top": "150px",
    "width": "418.3831481933594px"
   },
   "toc_section_display": true,
   "toc_window_display": false
  },
  "varInspector": {
   "cols": {
    "lenName": 16,
    "lenType": 16,
    "lenVar": 40
   },
   "kernels_config": {
    "python": {
     "delete_cmd_postfix": "",
     "delete_cmd_prefix": "del ",
     "library": "var_list.py",
     "varRefreshCmd": "print(var_dic_list())"
    },
    "r": {
     "delete_cmd_postfix": ") ",
     "delete_cmd_prefix": "rm(",
     "library": "var_list.r",
     "varRefreshCmd": "cat(var_dic_list()) "
    }
   },
   "types_to_exclude": [
    "module",
    "function",
    "builtin_function_or_method",
    "instance",
    "_Feature"
   ],
   "window_display": false
  }
 },
 "nbformat": 4,
 "nbformat_minor": 4
}
