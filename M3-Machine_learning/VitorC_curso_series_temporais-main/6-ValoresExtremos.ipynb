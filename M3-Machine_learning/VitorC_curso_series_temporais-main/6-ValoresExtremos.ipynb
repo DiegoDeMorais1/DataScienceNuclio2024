{
 "cells": [
  {
   "cell_type": "code",
   "execution_count": 1,
   "id": "37aba87a",
   "metadata": {},
   "outputs": [],
   "source": [
    "import numpy as np\n",
    "import pandas as pd\n",
    "%matplotlib inline"
   ]
  },
  {
   "cell_type": "code",
   "execution_count": 2,
   "id": "a2ba7f89",
   "metadata": {},
   "outputs": [],
   "source": [
    "data = pd.read_csv('assets/wave_height_hourly.csv')"
   ]
  },
  {
   "cell_type": "code",
   "execution_count": 3,
   "id": "400f4621",
   "metadata": {
    "scrolled": true
   },
   "outputs": [
    {
     "data": {
      "text/html": [
       "<div>\n",
       "<style scoped>\n",
       "    .dataframe tbody tr th:only-of-type {\n",
       "        vertical-align: middle;\n",
       "    }\n",
       "\n",
       "    .dataframe tbody tr th {\n",
       "        vertical-align: top;\n",
       "    }\n",
       "\n",
       "    .dataframe thead th {\n",
       "        text-align: right;\n",
       "    }\n",
       "</style>\n",
       "<table border=\"1\" class=\"dataframe\">\n",
       "  <thead>\n",
       "    <tr style=\"text-align: right;\">\n",
       "      <th></th>\n",
       "      <th>time</th>\n",
       "      <th>SignificantWaveHeight</th>\n",
       "    </tr>\n",
       "  </thead>\n",
       "  <tbody>\n",
       "    <tr>\n",
       "      <th>0</th>\n",
       "      <td>2016-01-01 00:00:00</td>\n",
       "      <td>6.085000</td>\n",
       "    </tr>\n",
       "    <tr>\n",
       "      <th>1</th>\n",
       "      <td>2016-01-01 01:00:00</td>\n",
       "      <td>5.989611</td>\n",
       "    </tr>\n",
       "    <tr>\n",
       "      <th>2</th>\n",
       "      <td>2016-01-01 02:00:00</td>\n",
       "      <td>5.494222</td>\n",
       "    </tr>\n",
       "    <tr>\n",
       "      <th>3</th>\n",
       "      <td>2016-01-01 03:00:00</td>\n",
       "      <td>5.170778</td>\n",
       "    </tr>\n",
       "    <tr>\n",
       "      <th>4</th>\n",
       "      <td>2016-01-01 04:00:00</td>\n",
       "      <td>5.362333</td>\n",
       "    </tr>\n",
       "  </tbody>\n",
       "</table>\n",
       "</div>"
      ],
      "text/plain": [
       "                  time  SignificantWaveHeight\n",
       "0  2016-01-01 00:00:00               6.085000\n",
       "1  2016-01-01 01:00:00               5.989611\n",
       "2  2016-01-01 02:00:00               5.494222\n",
       "3  2016-01-01 03:00:00               5.170778\n",
       "4  2016-01-01 04:00:00               5.362333"
      ]
     },
     "execution_count": 3,
     "metadata": {},
     "output_type": "execute_result"
    }
   ],
   "source": [
    "data.head()"
   ]
  },
  {
   "cell_type": "code",
   "execution_count": 4,
   "id": "94c5dea0",
   "metadata": {},
   "outputs": [],
   "source": [
    "wave = pd.Series(data['SignificantWaveHeight'].values, index = pd.to_datetime(data['time']))"
   ]
  },
  {
   "cell_type": "code",
   "execution_count": 5,
   "id": "711fb2be",
   "metadata": {},
   "outputs": [],
   "source": [
    "from src.tde import UnivariateTDE"
   ]
  },
  {
   "cell_type": "code",
   "execution_count": 6,
   "id": "83c4195d",
   "metadata": {},
   "outputs": [
    {
     "data": {
      "text/html": [
       "<div>\n",
       "<style scoped>\n",
       "    .dataframe tbody tr th:only-of-type {\n",
       "        vertical-align: middle;\n",
       "    }\n",
       "\n",
       "    .dataframe tbody tr th {\n",
       "        vertical-align: top;\n",
       "    }\n",
       "\n",
       "    .dataframe thead th {\n",
       "        text-align: right;\n",
       "    }\n",
       "</style>\n",
       "<table border=\"1\" class=\"dataframe\">\n",
       "  <thead>\n",
       "    <tr style=\"text-align: right;\">\n",
       "      <th></th>\n",
       "      <th>t-5</th>\n",
       "      <th>t-4</th>\n",
       "      <th>t-3</th>\n",
       "      <th>t-2</th>\n",
       "      <th>t-1</th>\n",
       "      <th>t-0</th>\n",
       "      <th>t+1</th>\n",
       "      <th>t+2</th>\n",
       "      <th>t+3</th>\n",
       "      <th>t+4</th>\n",
       "      <th>t+5</th>\n",
       "      <th>t+6</th>\n",
       "    </tr>\n",
       "  </thead>\n",
       "  <tbody>\n",
       "    <tr>\n",
       "      <th>0</th>\n",
       "      <td>6.085000</td>\n",
       "      <td>5.989611</td>\n",
       "      <td>5.494222</td>\n",
       "      <td>5.170778</td>\n",
       "      <td>5.362333</td>\n",
       "      <td>4.876556</td>\n",
       "      <td>5.110222</td>\n",
       "      <td>4.856111</td>\n",
       "      <td>5.071167</td>\n",
       "      <td>4.984167</td>\n",
       "      <td>5.418722</td>\n",
       "      <td>5.306167</td>\n",
       "    </tr>\n",
       "    <tr>\n",
       "      <th>1</th>\n",
       "      <td>5.989611</td>\n",
       "      <td>5.494222</td>\n",
       "      <td>5.170778</td>\n",
       "      <td>5.362333</td>\n",
       "      <td>4.876556</td>\n",
       "      <td>5.110222</td>\n",
       "      <td>4.856111</td>\n",
       "      <td>5.071167</td>\n",
       "      <td>4.984167</td>\n",
       "      <td>5.418722</td>\n",
       "      <td>5.306167</td>\n",
       "      <td>5.193222</td>\n",
       "    </tr>\n",
       "    <tr>\n",
       "      <th>2</th>\n",
       "      <td>5.494222</td>\n",
       "      <td>5.170778</td>\n",
       "      <td>5.362333</td>\n",
       "      <td>4.876556</td>\n",
       "      <td>5.110222</td>\n",
       "      <td>4.856111</td>\n",
       "      <td>5.071167</td>\n",
       "      <td>4.984167</td>\n",
       "      <td>5.418722</td>\n",
       "      <td>5.306167</td>\n",
       "      <td>5.193222</td>\n",
       "      <td>5.798111</td>\n",
       "    </tr>\n",
       "    <tr>\n",
       "      <th>3</th>\n",
       "      <td>5.170778</td>\n",
       "      <td>5.362333</td>\n",
       "      <td>4.876556</td>\n",
       "      <td>5.110222</td>\n",
       "      <td>4.856111</td>\n",
       "      <td>5.071167</td>\n",
       "      <td>4.984167</td>\n",
       "      <td>5.418722</td>\n",
       "      <td>5.306167</td>\n",
       "      <td>5.193222</td>\n",
       "      <td>5.798111</td>\n",
       "      <td>4.452444</td>\n",
       "    </tr>\n",
       "    <tr>\n",
       "      <th>4</th>\n",
       "      <td>5.362333</td>\n",
       "      <td>4.876556</td>\n",
       "      <td>5.110222</td>\n",
       "      <td>4.856111</td>\n",
       "      <td>5.071167</td>\n",
       "      <td>4.984167</td>\n",
       "      <td>5.418722</td>\n",
       "      <td>5.306167</td>\n",
       "      <td>5.193222</td>\n",
       "      <td>5.798111</td>\n",
       "      <td>4.452444</td>\n",
       "      <td>4.506556</td>\n",
       "    </tr>\n",
       "  </tbody>\n",
       "</table>\n",
       "</div>"
      ],
      "text/plain": [
       "        t-5       t-4       t-3       t-2       t-1       t-0       t+1  \\\n",
       "0  6.085000  5.989611  5.494222  5.170778  5.362333  4.876556  5.110222   \n",
       "1  5.989611  5.494222  5.170778  5.362333  4.876556  5.110222  4.856111   \n",
       "2  5.494222  5.170778  5.362333  4.876556  5.110222  4.856111  5.071167   \n",
       "3  5.170778  5.362333  4.876556  5.110222  4.856111  5.071167  4.984167   \n",
       "4  5.362333  4.876556  5.110222  4.856111  5.071167  4.984167  5.418722   \n",
       "\n",
       "        t+2       t+3       t+4       t+5       t+6  \n",
       "0  4.856111  5.071167  4.984167  5.418722  5.306167  \n",
       "1  5.071167  4.984167  5.418722  5.306167  5.193222  \n",
       "2  4.984167  5.418722  5.306167  5.193222  5.798111  \n",
       "3  5.418722  5.306167  5.193222  5.798111  4.452444  \n",
       "4  5.306167  5.193222  5.798111  4.452444  4.506556  "
      ]
     },
     "execution_count": 6,
     "metadata": {},
     "output_type": "execute_result"
    }
   ],
   "source": [
    "wave_tde = UnivariateTDE(wave, horizon=6, k=6)\n",
    "wave_tde.head()"
   ]
  },
  {
   "cell_type": "code",
   "execution_count": 7,
   "id": "4a544792",
   "metadata": {},
   "outputs": [],
   "source": [
    "is_future = wave_tde.columns.str.contains('\\+')\n",
    "X = wave_tde.iloc[:,~is_future]\n",
    "y = wave_tde['t+6']"
   ]
  },
  {
   "cell_type": "code",
   "execution_count": 8,
   "id": "1f5d52a8",
   "metadata": {},
   "outputs": [],
   "source": [
    "from sklearn.model_selection import train_test_split"
   ]
  },
  {
   "cell_type": "code",
   "execution_count": 9,
   "id": "cecb2efd",
   "metadata": {},
   "outputs": [],
   "source": [
    "X_train, X_test, y_train, y_test = train_test_split(X, y, test_size=0.3, shuffle=False)"
   ]
  },
  {
   "cell_type": "code",
   "execution_count": 10,
   "id": "521637f1",
   "metadata": {},
   "outputs": [
    {
     "data": {
      "text/html": [
       "<div>\n",
       "<style scoped>\n",
       "    .dataframe tbody tr th:only-of-type {\n",
       "        vertical-align: middle;\n",
       "    }\n",
       "\n",
       "    .dataframe tbody tr th {\n",
       "        vertical-align: top;\n",
       "    }\n",
       "\n",
       "    .dataframe thead th {\n",
       "        text-align: right;\n",
       "    }\n",
       "</style>\n",
       "<table border=\"1\" class=\"dataframe\">\n",
       "  <thead>\n",
       "    <tr style=\"text-align: right;\">\n",
       "      <th></th>\n",
       "      <th>t-5</th>\n",
       "      <th>t-4</th>\n",
       "      <th>t-3</th>\n",
       "      <th>t-2</th>\n",
       "      <th>t-1</th>\n",
       "      <th>t-0</th>\n",
       "    </tr>\n",
       "  </thead>\n",
       "  <tbody>\n",
       "    <tr>\n",
       "      <th>0</th>\n",
       "      <td>6.085000</td>\n",
       "      <td>5.989611</td>\n",
       "      <td>5.494222</td>\n",
       "      <td>5.170778</td>\n",
       "      <td>5.362333</td>\n",
       "      <td>4.876556</td>\n",
       "    </tr>\n",
       "    <tr>\n",
       "      <th>1</th>\n",
       "      <td>5.989611</td>\n",
       "      <td>5.494222</td>\n",
       "      <td>5.170778</td>\n",
       "      <td>5.362333</td>\n",
       "      <td>4.876556</td>\n",
       "      <td>5.110222</td>\n",
       "    </tr>\n",
       "    <tr>\n",
       "      <th>2</th>\n",
       "      <td>5.494222</td>\n",
       "      <td>5.170778</td>\n",
       "      <td>5.362333</td>\n",
       "      <td>4.876556</td>\n",
       "      <td>5.110222</td>\n",
       "      <td>4.856111</td>\n",
       "    </tr>\n",
       "    <tr>\n",
       "      <th>3</th>\n",
       "      <td>5.170778</td>\n",
       "      <td>5.362333</td>\n",
       "      <td>4.876556</td>\n",
       "      <td>5.110222</td>\n",
       "      <td>4.856111</td>\n",
       "      <td>5.071167</td>\n",
       "    </tr>\n",
       "    <tr>\n",
       "      <th>4</th>\n",
       "      <td>5.362333</td>\n",
       "      <td>4.876556</td>\n",
       "      <td>5.110222</td>\n",
       "      <td>4.856111</td>\n",
       "      <td>5.071167</td>\n",
       "      <td>4.984167</td>\n",
       "    </tr>\n",
       "  </tbody>\n",
       "</table>\n",
       "</div>"
      ],
      "text/plain": [
       "        t-5       t-4       t-3       t-2       t-1       t-0\n",
       "0  6.085000  5.989611  5.494222  5.170778  5.362333  4.876556\n",
       "1  5.989611  5.494222  5.170778  5.362333  4.876556  5.110222\n",
       "2  5.494222  5.170778  5.362333  4.876556  5.110222  4.856111\n",
       "3  5.170778  5.362333  4.876556  5.110222  4.856111  5.071167\n",
       "4  5.362333  4.876556  5.110222  4.856111  5.071167  4.984167"
      ]
     },
     "execution_count": 10,
     "metadata": {},
     "output_type": "execute_result"
    }
   ],
   "source": [
    "X_train.head()"
   ]
  },
  {
   "cell_type": "code",
   "execution_count": 11,
   "id": "1e8ea7d8",
   "metadata": {},
   "outputs": [
    {
     "data": {
      "text/plain": [
       "0    5.306167\n",
       "1    5.193222\n",
       "2    5.798111\n",
       "3    4.452444\n",
       "4    4.506556\n",
       "Name: t+6, dtype: float64"
      ]
     },
     "execution_count": 11,
     "metadata": {},
     "output_type": "execute_result"
    }
   ],
   "source": [
    "y_train.head()"
   ]
  },
  {
   "cell_type": "code",
   "execution_count": 12,
   "id": "beae6cdf",
   "metadata": {},
   "outputs": [],
   "source": [
    "from sklearn.ensemble import RandomForestRegressor\n",
    "from sklearn.linear_model import Ridge"
   ]
  },
  {
   "cell_type": "code",
   "execution_count": 13,
   "id": "3874de04",
   "metadata": {},
   "outputs": [
    {
     "data": {
      "text/plain": [
       "Ridge()"
      ]
     },
     "execution_count": 13,
     "metadata": {},
     "output_type": "execute_result"
    }
   ],
   "source": [
    "model = Ridge()\n",
    "model.fit(X_train, y_train)"
   ]
  },
  {
   "cell_type": "code",
   "execution_count": 14,
   "id": "899327f2",
   "metadata": {},
   "outputs": [
    {
     "data": {
      "text/plain": [
       "array([5.44728269, 5.60579269, 5.47630491, ..., 2.13982708, 2.14912856,\n",
       "       2.18913029])"
      ]
     },
     "execution_count": 14,
     "metadata": {},
     "output_type": "execute_result"
    }
   ],
   "source": [
    "forecasts = model.predict(X_test)\n",
    "forecasts"
   ]
  },
  {
   "cell_type": "code",
   "execution_count": 15,
   "id": "5b5235c5",
   "metadata": {},
   "outputs": [
    {
     "data": {
      "text/html": [
       "<div>\n",
       "<style scoped>\n",
       "    .dataframe tbody tr th:only-of-type {\n",
       "        vertical-align: middle;\n",
       "    }\n",
       "\n",
       "    .dataframe tbody tr th {\n",
       "        vertical-align: top;\n",
       "    }\n",
       "\n",
       "    .dataframe thead th {\n",
       "        text-align: right;\n",
       "    }\n",
       "</style>\n",
       "<table border=\"1\" class=\"dataframe\">\n",
       "  <thead>\n",
       "    <tr style=\"text-align: right;\">\n",
       "      <th></th>\n",
       "      <th>forecasts</th>\n",
       "      <th>actual</th>\n",
       "    </tr>\n",
       "  </thead>\n",
       "  <tbody>\n",
       "    <tr>\n",
       "      <th>18345</th>\n",
       "      <td>5.447283</td>\n",
       "      <td>5.540222</td>\n",
       "    </tr>\n",
       "    <tr>\n",
       "      <th>18346</th>\n",
       "      <td>5.605793</td>\n",
       "      <td>5.203722</td>\n",
       "    </tr>\n",
       "    <tr>\n",
       "      <th>18347</th>\n",
       "      <td>5.476305</td>\n",
       "      <td>5.038833</td>\n",
       "    </tr>\n",
       "    <tr>\n",
       "      <th>18348</th>\n",
       "      <td>6.118067</td>\n",
       "      <td>5.252444</td>\n",
       "    </tr>\n",
       "    <tr>\n",
       "      <th>18349</th>\n",
       "      <td>5.665701</td>\n",
       "      <td>5.517056</td>\n",
       "    </tr>\n",
       "  </tbody>\n",
       "</table>\n",
       "</div>"
      ],
      "text/plain": [
       "       forecasts    actual\n",
       "18345   5.447283  5.540222\n",
       "18346   5.605793  5.203722\n",
       "18347   5.476305  5.038833\n",
       "18348   6.118067  5.252444\n",
       "18349   5.665701  5.517056"
      ]
     },
     "execution_count": 15,
     "metadata": {},
     "output_type": "execute_result"
    }
   ],
   "source": [
    "test_data = pd.DataFrame({'forecasts': forecasts, 'actual': y_test})\n",
    "test_data.head()"
   ]
  },
  {
   "cell_type": "code",
   "execution_count": 16,
   "id": "6d2ed995",
   "metadata": {
    "scrolled": true
   },
   "outputs": [
    {
     "data": {
      "text/plain": [
       "<seaborn.axisgrid.FacetGrid at 0x7f4e1ff40160>"
      ]
     },
     "execution_count": 16,
     "metadata": {},
     "output_type": "execute_result"
    },
    {
     "data": {
      "image/png": "[encoded data removed]",
      "text/plain": [
       "<Figure size 500x500 with 1 Axes>"
      ]
     },
     "metadata": {},
     "output_type": "display_data"
    }
   ],
   "source": [
    "import seaborn as sns\n",
    "sns.lmplot(x='forecasts', y='actual',data=test_data,fit_reg=True) "
   ]
  },
  {
   "cell_type": "code",
   "execution_count": 17,
   "id": "c9f8cfa0",
   "metadata": {},
   "outputs": [],
   "source": [
    "from sklearn.metrics import mean_absolute_error, r2_score\n",
    "from src.error import MASE"
   ]
  },
  {
   "cell_type": "code",
   "execution_count": 18,
   "id": "ff5af2d8",
   "metadata": {},
   "outputs": [
    {
     "data": {
      "text/plain": [
       "0.3361998453948207"
      ]
     },
     "execution_count": 18,
     "metadata": {},
     "output_type": "execute_result"
    }
   ],
   "source": [
    "# MASE(y_train, y_test, forecasts)\n",
    "mean_absolute_error(y_test, forecasts)"
   ]
  },
  {
   "cell_type": "code",
   "execution_count": 19,
   "id": "fc6d0110",
   "metadata": {},
   "outputs": [
    {
     "data": {
      "text/plain": [
       "0.9090665247163432"
      ]
     },
     "execution_count": 19,
     "metadata": {},
     "output_type": "execute_result"
    }
   ],
   "source": [
    "large_y_test = y_test[y_test > 5]\n",
    "large_forecasts = forecasts[y_test > 5]\n",
    "mean_absolute_error(large_y_test, large_forecasts)"
   ]
  },
  {
   "cell_type": "code",
   "execution_count": 20,
   "id": "41584c0c",
   "metadata": {},
   "outputs": [
    {
     "data": {
      "text/plain": [
       "0.855926023954011"
      ]
     },
     "execution_count": 20,
     "metadata": {},
     "output_type": "execute_result"
    }
   ],
   "source": [
    "r2_score(y_test, forecasts)"
   ]
  },
  {
   "cell_type": "code",
   "execution_count": 21,
   "id": "15ddd02a",
   "metadata": {},
   "outputs": [
    {
     "data": {
      "text/plain": [
       "-0.5545428784168429"
      ]
     },
     "execution_count": 21,
     "metadata": {},
     "output_type": "execute_result"
    }
   ],
   "source": [
    "r2_score(large_y_test, large_forecasts)"
   ]
  }
 ],
 "metadata": {
  "kernelspec": {
   "display_name": "Python 3 (ipykernel)",
   "language": "python",
   "name": "python3"
  },
  "language_info": {
   "codemirror_mode": {
    "name": "ipython",
    "version": 3
   },
   "file_extension": ".py",
   "mimetype": "text/x-python",
   "name": "python",
   "nbconvert_exporter": "python",
   "pygments_lexer": "ipython3",
   "version": "3.9.13"
  }
 },
 "nbformat": 4,
 "nbformat_minor": 5
}
