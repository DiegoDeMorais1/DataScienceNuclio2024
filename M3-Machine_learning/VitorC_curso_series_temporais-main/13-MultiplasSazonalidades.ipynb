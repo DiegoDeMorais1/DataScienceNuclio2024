{
 "cells": [
  {
   "cell_type": "code",
   "execution_count": null,
   "id": "e48a5af8",
   "metadata": {},
   "outputs": [],
   "source": [
    "import numpy as np\n",
    "import pandas as pd\n",
    "%matplotlib inline"
   ]
  },
  {
   "cell_type": "code",
   "execution_count": null,
   "id": "6f82adb7",
   "metadata": {},
   "outputs": [],
   "source": [
    "# https://www.kaggle.com/datasets/gmkeshav/tetuan-city-power-consumption\n",
    "data = pd.read_csv('assets/power_consumption.csv')\n",
    "# dimensão dos dados\n",
    "data.shape"
   ]
  },
  {
   "cell_type": "code",
   "execution_count": null,
   "id": "a3848901",
   "metadata": {},
   "outputs": [],
   "source": [
    "data.head()"
   ]
  },
  {
   "cell_type": "code",
   "execution_count": null,
   "id": "f1fe008e",
   "metadata": {},
   "outputs": [],
   "source": [
    "# agregar consumo numa só coluna\n",
    "data.set_index('DateTime', inplace=True)\n",
    "data['load'] = data['Zone 1 Power Consumption'] + data['Zone 2  Power Consumption'] + data['Zone 3  Power Consumption']"
   ]
  },
  {
   "cell_type": "code",
   "execution_count": null,
   "id": "611ddfab",
   "metadata": {},
   "outputs": [],
   "source": [
    "# transformar coluna de consumo como série\n",
    "series = data['load']\n",
    "series.index = pd.to_datetime(series.index)\n",
    "\n",
    "series.head()"
   ]
  },
  {
   "cell_type": "code",
   "execution_count": null,
   "id": "ceb1f53c",
   "metadata": {},
   "outputs": [],
   "source": [
    "series.plot()"
   ]
  },
  {
   "cell_type": "code",
   "execution_count": null,
   "id": "3ddf3e02",
   "metadata": {},
   "outputs": [],
   "source": [
    "# agregar para granularidade horária\n",
    "series_h = series.resample('H').sum()\n",
    "series_h.plot()"
   ]
  },
  {
   "cell_type": "code",
   "execution_count": null,
   "id": "5eadd035",
   "metadata": {},
   "outputs": [],
   "source": [
    "print(series_h.shape)\n",
    "series_h.head()"
   ]
  },
  {
   "cell_type": "markdown",
   "id": "20c6370f",
   "metadata": {},
   "source": [
    "## Múltiplas sazonalidades"
   ]
  },
  {
   "cell_type": "code",
   "execution_count": null,
   "id": "01ae5eb6",
   "metadata": {},
   "outputs": [],
   "source": [
    "# analisar auto-correlação para verificar os diferentes padrões sazonais\n",
    "from pmdarima.arima import nsdiffs, ndiffs\n",
    "from pmdarima.utils import plot_acf"
   ]
  },
  {
   "cell_type": "code",
   "execution_count": null,
   "id": "3669477d",
   "metadata": {},
   "outputs": [],
   "source": [
    "plt = plot_acf(series_h, lags=48)"
   ]
  },
  {
   "cell_type": "code",
   "execution_count": null,
   "id": "0bae4094",
   "metadata": {},
   "outputs": [],
   "source": [
    "series_d = series_h.diff(24)[24:]\n",
    "\n",
    "plt = plot_acf(series_d, lags=48)"
   ]
  },
  {
   "cell_type": "code",
   "execution_count": null,
   "id": "5bb90cfb",
   "metadata": {},
   "outputs": [],
   "source": [
    "plt = plot_acf(series_d, lags=24 * 7 + 1)"
   ]
  },
  {
   "cell_type": "code",
   "execution_count": null,
   "id": "6adefa1e",
   "metadata": {},
   "outputs": [],
   "source": [
    "series_d2 = series_d.diff(24*7)[(24*7):]\n",
    "\n",
    "plt = plot_acf(series_d2, lags=24*7 + 1)"
   ]
  },
  {
   "cell_type": "code",
   "execution_count": null,
   "id": "84b51384",
   "metadata": {},
   "outputs": [],
   "source": [
    "plot_acf(series_d.diff(periods=24*7*4).dropna(), lags=24*7*4+1)"
   ]
  },
  {
   "cell_type": "markdown",
   "id": "6efd5f27",
   "metadata": {},
   "source": [
    "## Abordagens"
   ]
  },
  {
   "cell_type": "code",
   "execution_count": null,
   "id": "ed382576",
   "metadata": {},
   "outputs": [],
   "source": [
    "from sklearn.model_selection import train_test_split\n",
    "\n",
    "train, test = train_test_split(series_h, test_size=48, shuffle=False)"
   ]
  },
  {
   "cell_type": "markdown",
   "id": "8688210e",
   "metadata": {},
   "source": [
    "### SARIMA"
   ]
  },
  {
   "cell_type": "code",
   "execution_count": null,
   "id": "4dedbe4f",
   "metadata": {},
   "outputs": [],
   "source": [
    "from pmdarima import auto_arima\n",
    "\n",
    "arima_model = auto_arima(train.tail(100), seasonal=True, m=24, trace=True)\n",
    "y_arima_forecast = arima_model.predict(n_periods=48)\n",
    "\n",
    "print(np.mean(abs(test - y_arima_forecast)))"
   ]
  },
  {
   "cell_type": "markdown",
   "id": "975191f5",
   "metadata": {},
   "source": [
    "### TBATS"
   ]
  },
  {
   "cell_type": "code",
   "execution_count": null,
   "id": "9b551cbb",
   "metadata": {},
   "outputs": [],
   "source": [
    "from tbats import TBATS\n",
    "\n",
    "# treinar o modelo\n",
    "estimator = TBATS(seasonal_periods=(24, 24 * 7, 24 * 7 * 4))\n",
    "model = estimator.fit(train.tail(100))\n",
    "# Forecast 48 days ahead\n",
    "y_tbats_forecast = model.forecast(steps=48)\n",
    "\n",
    "print(np.mean(abs(test - y_tbats_forecast)))"
   ]
  },
  {
   "cell_type": "markdown",
   "id": "a49c6a38",
   "metadata": {},
   "source": [
    "### Prophet"
   ]
  },
  {
   "cell_type": "code",
   "execution_count": null,
   "id": "6086b575",
   "metadata": {},
   "outputs": [],
   "source": [
    "from prophet import Prophet\n",
    "\n",
    "model = Prophet(weekly_seasonality=True,\n",
    "                daily_seasonality=True,\n",
    "                yearly_seasonality=True)\n",
    "\n",
    "# é possível adicionar sazonalidades específicas\n",
    "model = model.add_seasonality(name='monthly', period=24 * 7 * 4, fourier_order=10)\n",
    "\n",
    "\n",
    "train_df = train.reset_index()\n",
    "train_df.columns = ['ds', 'y']\n",
    "\n",
    "#model.fit(train_df.tail(1000))\n",
    "model.fit(train_df)\n",
    "\n",
    "y_prophet_forecast = model.make_future_dataframe(periods=48,\n",
    "                                       include_history=False,\n",
    "                                       freq='H')\n",
    "y_prophet_forecast = model.predict(y_prophet_forecast)\n"
   ]
  },
  {
   "cell_type": "code",
   "execution_count": null,
   "id": "da994c1a",
   "metadata": {},
   "outputs": [],
   "source": [
    "fig1 = model.plot(y_prophet_forecast)"
   ]
  },
  {
   "cell_type": "code",
   "execution_count": null,
   "id": "367d23c4",
   "metadata": {},
   "outputs": [],
   "source": [
    "fig2 = model.plot_components(y_prophet_forecast)"
   ]
  },
  {
   "cell_type": "code",
   "execution_count": null,
   "id": "6f01aafb",
   "metadata": {},
   "outputs": [],
   "source": [
    "from prophet.plot import add_changepoints_to_plot\n",
    "\n",
    "fig = model.plot(y_prophet_forecast)\n",
    "a = add_changepoints_to_plot(fig.gca(), model, y_prophet_forecast)"
   ]
  },
  {
   "cell_type": "code",
   "execution_count": null,
   "id": "aeb9ff59",
   "metadata": {},
   "outputs": [],
   "source": [
    "print(np.mean(abs(test - y_prophet_forecast['yhat'].values)))"
   ]
  },
  {
   "cell_type": "markdown",
   "id": "e8eb851d",
   "metadata": {},
   "source": [
    "### Optimizing Prophet"
   ]
  },
  {
   "cell_type": "code",
   "execution_count": null,
   "id": "14a3b48c",
   "metadata": {},
   "outputs": [],
   "source": [
    "from sklearn.model_selection import ParameterGrid, train_test_split\n",
    "from sklearn.metrics import mean_absolute_error as mae\n",
    "from src.prophet import optimize_prophet\n",
    "\n",
    "params_grid = {'seasonality_mode': ['multiplicative', 'additive'],\n",
    "               'growth': ['linear', 'flat'],\n",
    "               'changepoint_prior_scale': [0.01,0.1, 0.25, 0.5],\n",
    "               'seasonality_prior_scale': [0.01,0.5, 1, 5, 10],\n",
    "               'n_changepoints': [0, 1, 2, 10]}\n",
    "\n",
    "\n",
    "grid = ParameterGrid(params_grid)\n",
    "\n",
    "train_in, validation = train_test_split(train, test_size=48, shuffle=False)\n",
    "\n",
    "train_in_df = train_in.reset_index()\n",
    "train_in_df.columns = ['ds', 'y']\n",
    "\n",
    "val_results = {'losses': [], 'params': []}\n",
    "for params in grid:\n",
    "    print(params)\n",
    "    model = Prophet(seasonality_mode=params['seasonality_mode'],\n",
    "                    growth=params['growth'],\n",
    "                    weekly_seasonality=True,\n",
    "                    daily_seasonality=True,\n",
    "                    yearly_seasonality=False,\n",
    "                    n_changepoints=params['n_changepoints'],\n",
    "                    changepoint_prior_scale=params['changepoint_prior_scale'])\n",
    "    \n",
    "    model = model.fit(train_in_df)\n",
    "\n",
    "    forecast = model.make_future_dataframe(periods=48,\n",
    "                                           include_history=False,\n",
    "                                           freq='H')\n",
    "    forecast = model.predict(forecast)\n",
    "    forecast = forecast.filter(items=['ds', 'yhat'])\n",
    "\n",
    "    loss = mae(validation, forecast['yhat'].values)\n",
    "\n",
    "    val_results['losses'].append(loss)\n",
    "    val_results['params'].append(params)\n",
    "\n",
    "idx_params = np.argmin(val_results['losses'])\n",
    "params = val_results['params'][idx_params]"
   ]
  },
  {
   "cell_type": "code",
   "execution_count": null,
   "id": "a4586f1e",
   "metadata": {},
   "outputs": [],
   "source": [
    "params"
   ]
  },
  {
   "cell_type": "code",
   "execution_count": null,
   "id": "6ad16fec",
   "metadata": {},
   "outputs": [],
   "source": [
    "model = Prophet(weekly_seasonality=True,\n",
    "                daily_seasonality=True,\n",
    "                yearly_seasonality=False,\n",
    "                **params)\n",
    "\n",
    "model = model.add_seasonality(name='monthly', period=24 * 7 * 4, fourier_order=10)\n",
    "\n",
    "model.fit(train_df)\n",
    "\n",
    "y_prophetopt_forecast = model.make_future_dataframe(periods=test.shape[0],\n",
    "                                       include_history=False,\n",
    "                                       freq='H')\n",
    "y_prophetopt_forecast = model.predict(y_prophetopt_forecast)\n",
    "y_prophetopt_forecast = y_prophet_forecast.filter(items=['ds', 'yhat'])\n",
    "\n",
    "print(np.mean(abs(test - y_prophetopt_forecast['yhat'].values)))"
   ]
  },
  {
   "cell_type": "markdown",
   "id": "47ca9a48",
   "metadata": {},
   "source": [
    "#### Feriados"
   ]
  },
  {
   "cell_type": "code",
   "execution_count": null,
   "id": "fd28828d",
   "metadata": {},
   "outputs": [],
   "source": [
    "feriados = pd.DataFrame({\n",
    "  'holiday': 'feriados',\n",
    "  'ds': pd.to_datetime(['2017-01-13', '2017-02-07', '2017-03-19',\n",
    "                        '2017-04-02', '2017-05-11', '2017-05-17',\n",
    "                        '2017-09-24', '2017-10-07']),\n",
    "  'lower_window': 0,\n",
    "  'upper_window': 1,\n",
    "})\n",
    "\n",
    "model = Prophet(holidays=feriados,\n",
    "                weekly_seasonality=True,\n",
    "                daily_seasonality=True,\n",
    "                yearly_seasonality=True)\n",
    "\n",
    "model = model.add_seasonality(name='monthly', period=24 * 7 * 4, fourier_order=10)\n",
    "\n",
    "model.fit(train_df)\n",
    "\n",
    "y_prophet_forecast = model.make_future_dataframe(periods=48,\n",
    "                                       include_history=False,\n",
    "                                       freq='H')\n",
    "y_prophet_forecast = model.predict(y_prophet_forecast)\n",
    "\n",
    "fig = model.plot(y_prophet_forecast)\n",
    "a = add_changepoints_to_plot(fig.gca(), model, y_prophet_forecast)"
   ]
  },
  {
   "cell_type": "markdown",
   "id": "0db4f1ab",
   "metadata": {},
   "source": [
    "### Fourier and Repeating Basis Functions"
   ]
  },
  {
   "cell_type": "code",
   "execution_count": null,
   "id": "c1080e43",
   "metadata": {},
   "outputs": [],
   "source": [
    "from src.tde import time_delay_embedding\n",
    "from sklearn.ensemble import RandomForestRegressor\n",
    "from sklearn.linear_model import RidgeCV, Lasso\n",
    "\n",
    "train_df = time_delay_embedding(train, n_lags=24, horizon=48)\n",
    "train_df = train_df.dropna()\n",
    "target_columns = train_df.columns.str.contains('\\+')\n",
    "X = train_df.iloc[:, ~target_columns]\n",
    "Y = train_df.iloc[:, target_columns]\n",
    "\n",
    "train_df.head()"
   ]
  },
  {
   "cell_type": "code",
   "execution_count": null,
   "id": "59fc5420",
   "metadata": {},
   "outputs": [],
   "source": [
    "test_dummy = pd.Series(np.repeat(np.nan, 48), index=test.index)\n",
    "test_df = time_delay_embedding(pd.concat([train.tail(24), test_dummy]), n_lags=24, horizon=48)\n",
    "test_df = test_df.loc[test.head(1).index, :]\n",
    "X_test = test_df.iloc[:, ~target_columns]\n",
    "X_test"
   ]
  },
  {
   "cell_type": "code",
   "execution_count": null,
   "id": "c6ebe7d3",
   "metadata": {},
   "outputs": [],
   "source": [
    "from src.seasonality import FourierTerms\n",
    "\n",
    "daily_terms = FourierTerms(period=24, n_terms=2, prefix='D_')\n",
    "weekly_terms = FourierTerms(period=24 * 7, n_terms=2, prefix='W_')\n",
    "monthly_terms = FourierTerms(period=24 * 30, n_terms=2, prefix='M_')\n",
    "\n",
    "daily_fourier = daily_terms.transform(train_df.index)\n",
    "weekly_fourier = weekly_terms.transform(train_df.index)\n",
    "monthly_fourier = monthly_terms.transform(train_df.index)\n",
    "\n",
    "weekly_fourier['MONTH'] = train_df.index.month\n",
    "\n",
    "#daily_fourier.tail(400).plot(figsize=(15,6))\n",
    "weekly_fourier.plot(figsize=(15,6))"
   ]
  },
  {
   "cell_type": "code",
   "execution_count": null,
   "id": "34ef4225",
   "metadata": {},
   "outputs": [],
   "source": [
    "from src.seasonality import RBFTerms\n",
    "\n",
    "rbf_hour = RBFTerms(n_terms=12, period='.hour', prefix='H_')\n",
    "rbf_day = RBFTerms(n_terms=12, period='.day', prefix='D_')\n",
    "\n",
    "rbf_hour.fit(train_df.index)\n",
    "rbf_day.fit(train_df.index)\n",
    "\n",
    "rbf_hour_x = rbf_hour.transform(train_df.index)\n",
    "rbf_day_x = rbf_day.transform(train_df.index)\n",
    "\n",
    "rbf_day_x.iloc[:,2:4].tail(1400).plot(figsize=(15,6))"
   ]
  },
  {
   "cell_type": "code",
   "execution_count": null,
   "id": "3b1c8cd9",
   "metadata": {},
   "outputs": [],
   "source": [
    "from src.seasonality import FourierTerms, RBFTerms\n",
    "\n",
    "daily_terms = FourierTerms(period=24, n_terms=2, prefix='D_')\n",
    "weekly_terms = FourierTerms(period=24 * 7, n_terms=2, prefix='W_')\n",
    "monthly_terms = FourierTerms(period=24 * 30, n_terms=2, prefix='M_')\n",
    "\n",
    "rbf_hour = RBFTerms(n_terms=12, period='.hour', prefix='H_')\n",
    "rbf_day = RBFTerms(n_terms=12, period='.day', prefix='D_')\n",
    "\n",
    "rbf_hour.fit(train_df.index)\n",
    "rbf_day.fit(train_df.index)\n",
    "\n",
    "rbf_hour_x = rbf_hour.transform(train_df.index)\n",
    "rbf_day_x = rbf_day.transform(train_df.index)\n",
    "daily_fourier = daily_terms.transform(train_df.index)\n",
    "weekly_fourier = weekly_terms.transform(train_df.index)\n",
    "monthly_fourier = monthly_terms.transform(train_df.index)\n",
    "\n",
    "X_exog = pd.concat([X, daily_fourier, weekly_fourier, monthly_fourier,\n",
    "                    rbf_hour_x, rbf_day_x],\n",
    "                   ignore_index=False, axis=1)\n",
    "\n",
    "model_with_terms = RandomForestRegressor()\n",
    "model_with_terms.fit(X_exog, Y)\n",
    "model_without_terms = RandomForestRegressor()\n",
    "model_without_terms.fit(X, Y)\n",
    "\n",
    "\n",
    "\n",
    "daily_ts_fourier = daily_terms.transform(X_test.index)\n",
    "weekly_ts_fourier = weekly_terms.transform(X_test.index)\n",
    "monthly_ts_fourier = monthly_terms.transform(X_test.index)\n",
    "rbf_hour_ts = rbf_hour.transform(X_test.index)\n",
    "rbf_day_ts = rbf_day.transform(X_test.index)\n",
    "\n",
    "X_ts_exog = pd.concat([X_test, daily_ts_fourier,\n",
    "                       weekly_ts_fourier, monthly_ts_fourier,\n",
    "                       rbf_hour_ts, rbf_day_ts\n",
    "                       ],\n",
    "                      ignore_index=False, axis=1)\n",
    "\n",
    "preds_with_terms = model_with_terms.predict(X_ts_exog)[0]\n",
    "preds_without_terms = model_without_terms.predict(X_test)[0]\n",
    "\n",
    "print(np.mean(abs(test - preds_with_terms)))\n",
    "print(np.mean(abs(test - preds_without_terms)))"
   ]
  },
  {
   "cell_type": "code",
   "execution_count": null,
   "id": "5ea41b01",
   "metadata": {},
   "outputs": [],
   "source": [
    "pd.Series(dict(zip(X_exog.columns,model_with_terms.feature_importances_))).plot.barh(figsize=(8,13))"
   ]
  },
  {
   "cell_type": "code",
   "execution_count": null,
   "id": "1067e188",
   "metadata": {},
   "outputs": [],
   "source": [
    "results = {'SARIMA': np.mean(abs(test - y_arima_forecast)),\n",
    "'TBATS': np.mean(abs(test - y_tbats_forecast)),\n",
    "'PROPHET': np.mean(abs(test - y_prophet_forecast['yhat'].values)),\n",
    "'PROPHET_OPT': np.mean(abs(test - y_prophetopt_forecast['yhat'].values)),\n",
    "'RF+Fourier': np.mean(abs(test - preds_with_terms)),\n",
    "'RF': np.mean(abs(test - preds_without_terms))\n",
    "}\n",
    "\n",
    "pd.Series(results).plot.bar()"
   ]
  }
 ],
 "metadata": {
  "kernelspec": {
   "display_name": "Python 3 (ipykernel)",
   "language": "python",
   "name": "python3"
  },
  "language_info": {
   "codemirror_mode": {
    "name": "ipython",
    "version": 3
   },
   "file_extension": ".py",
   "mimetype": "text/x-python",
   "name": "python",
   "nbconvert_exporter": "python",
   "pygments_lexer": "ipython3",
   "version": "3.9.13"
  }
 },
 "nbformat": 4,
 "nbformat_minor": 5
}
