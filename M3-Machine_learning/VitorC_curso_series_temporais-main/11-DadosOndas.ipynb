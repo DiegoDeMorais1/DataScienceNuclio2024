{
 "cells": [
  {
   "cell_type": "code",
   "execution_count": null,
   "id": "c82ac8fb",
   "metadata": {},
   "outputs": [],
   "source": [
    "import pandas as pd\n",
    "%matplotlib inline"
   ]
  },
  {
   "cell_type": "code",
   "execution_count": null,
   "id": "a1be9af4",
   "metadata": {},
   "outputs": [],
   "source": [
    "data = pd.read_csv('assets/wave_height.csv')\n",
    "# dimensão dos dados\n",
    "data.shape"
   ]
  },
  {
   "cell_type": "code",
   "execution_count": null,
   "id": "6f41a87e",
   "metadata": {},
   "outputs": [],
   "source": [
    "# frequencia alta e irregular\n",
    "data.head(10)"
   ]
  },
  {
   "cell_type": "code",
   "execution_count": null,
   "id": "2fd72940",
   "metadata": {},
   "outputs": [],
   "source": [
    "wave = pd.Series(data['SignificantWaveHeight'])"
   ]
  },
  {
   "cell_type": "code",
   "execution_count": null,
   "id": "a7d7a8b0",
   "metadata": {},
   "outputs": [],
   "source": [
    "# transformando os dados para pd.Series com indice no tempo\n",
    "wave.index = pd.to_datetime(data['time'])"
   ]
  },
  {
   "cell_type": "code",
   "execution_count": null,
   "id": "765a8838",
   "metadata": {},
   "outputs": [],
   "source": [
    "wave.head(10)"
   ]
  },
  {
   "cell_type": "code",
   "execution_count": null,
   "id": "8fb8af67",
   "metadata": {},
   "outputs": [],
   "source": [
    "# existem valores omissos\n",
    "wave.isna().sum() / wave.shape"
   ]
  },
  {
   "cell_type": "code",
   "execution_count": null,
   "id": "f019110a",
   "metadata": {},
   "outputs": [],
   "source": [
    "# propagando o último valor conhecido para a frente\n",
    "wave = wave.ffill()"
   ]
  },
  {
   "cell_type": "code",
   "execution_count": null,
   "id": "36889e80",
   "metadata": {},
   "outputs": [],
   "source": [
    "# re-amostrar para dados horários\n",
    "wave = wave.resample('H').mean()"
   ]
  },
  {
   "cell_type": "code",
   "execution_count": null,
   "id": "cc3c97d4",
   "metadata": {},
   "outputs": [],
   "source": [
    "wave.head(10)"
   ]
  },
  {
   "cell_type": "code",
   "execution_count": null,
   "id": "d17021a3",
   "metadata": {},
   "outputs": [],
   "source": [
    "wave.describe()"
   ]
  },
  {
   "cell_type": "code",
   "execution_count": null,
   "id": "26aaa733",
   "metadata": {},
   "outputs": [],
   "source": [
    "wave.plot(x='time', y='SignificantWaveHeight')"
   ]
  },
  {
   "cell_type": "code",
   "execution_count": null,
   "id": "7552280c",
   "metadata": {},
   "outputs": [],
   "source": [
    "# tem valores extremos\n",
    "wave.plot.hist()"
   ]
  },
  {
   "cell_type": "code",
   "execution_count": null,
   "id": "d9853c39",
   "metadata": {},
   "outputs": [],
   "source": [
    "# algumas horas não tem qualquer observação\n",
    "wave.isna().sum() / wave.shape"
   ]
  },
  {
   "cell_type": "code",
   "execution_count": null,
   "id": "8cdc9588",
   "metadata": {},
   "outputs": [],
   "source": [
    "wave = wave.ffill()"
   ]
  },
  {
   "cell_type": "code",
   "execution_count": null,
   "id": "3fe2ea9e",
   "metadata": {},
   "outputs": [],
   "source": [
    "from pmdarima.arima import ndiffs, nsdiffs\n",
    "\n",
    "print(ndiffs(wave, test='kpss'))\n",
    "print(ndiffs(wave, test='adf'))\n",
    "print(ndiffs(wave, test='pp'))"
   ]
  },
  {
   "cell_type": "code",
   "execution_count": null,
   "id": "fd1f9749",
   "metadata": {},
   "outputs": [],
   "source": [
    "nsdiffs(wave,m=24*365)"
   ]
  },
  {
   "cell_type": "code",
   "execution_count": null,
   "id": "c3961df1",
   "metadata": {},
   "outputs": [],
   "source": []
  },
  {
   "cell_type": "code",
   "execution_count": null,
   "id": "bd95776f",
   "metadata": {},
   "outputs": [],
   "source": [
    "wave_d = wave.resample('W').mean()\n",
    "wave_d.plot()\n",
    "\n",
    "# heterocedastidade\n",
    "from heteroskedasticity import het_tests\n",
    "\n",
    "p_value = het_tests(wave_d, test='white')\n",
    "# p_value = het_tests(series, test='breuschpagan')\n",
    "\n",
    "p_value"
   ]
  }
 ],
 "metadata": {
  "kernelspec": {
   "display_name": "Python 3 (ipykernel)",
   "language": "python",
   "name": "python3"
  },
  "language_info": {
   "codemirror_mode": {
    "name": "ipython",
    "version": 3
   },
   "file_extension": ".py",
   "mimetype": "text/x-python",
   "name": "python",
   "nbconvert_exporter": "python",
   "pygments_lexer": "ipython3",
   "version": "3.9.11"
  }
 },
 "nbformat": 4,
 "nbformat_minor": 5
}
