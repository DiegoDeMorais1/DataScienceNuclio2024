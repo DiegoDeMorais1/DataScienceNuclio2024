{
 "cells": [
  {
   "cell_type": "code",
   "execution_count": null,
   "id": "37aba87a",
   "metadata": {},
   "outputs": [],
   "source": [
    "import numpy as np\n",
    "import pandas as pd\n",
    "%matplotlib inline"
   ]
  },
  {
   "cell_type": "code",
   "execution_count": null,
   "id": "a2ba7f89",
   "metadata": {},
   "outputs": [],
   "source": [
    "data = pd.read_csv('assets/wave_height_hourly.csv')"
   ]
  },
  {
   "cell_type": "code",
   "execution_count": null,
   "id": "400f4621",
   "metadata": {
    "scrolled": true
   },
   "outputs": [],
   "source": [
    "data.head()"
   ]
  },
  {
   "cell_type": "code",
   "execution_count": null,
   "id": "94c5dea0",
   "metadata": {},
   "outputs": [],
   "source": [
    "wave = pd.Series(data['SignificantWaveHeight'].values, index = pd.to_datetime(data['time']))\n",
    "wave.plot()"
   ]
  },
  {
   "cell_type": "code",
   "execution_count": null,
   "id": "711fb2be",
   "metadata": {},
   "outputs": [],
   "source": [
    "from src.tde import UnivariateTDE"
   ]
  },
  {
   "cell_type": "code",
   "execution_count": null,
   "id": "83c4195d",
   "metadata": {},
   "outputs": [],
   "source": [
    "# prever o próximo valor com base nos 6 anteriores\n",
    "wave_tde = UnivariateTDE(wave.diff(), horizon=1, k=6)\n",
    "wave_tde.head()"
   ]
  },
  {
   "cell_type": "code",
   "execution_count": null,
   "id": "4a544792",
   "metadata": {},
   "outputs": [],
   "source": [
    "# separar variáveis explicativas da variável objetivo\n",
    "X = wave_tde.drop('t+1', axis=1)\n",
    "y = wave_tde['t+1']"
   ]
  },
  {
   "cell_type": "code",
   "execution_count": null,
   "id": "cecb2efd",
   "metadata": {},
   "outputs": [],
   "source": [
    "from sklearn.model_selection import train_test_split\n",
    "\n",
    "X_train, X_test, y_train, y_test = train_test_split(X, y, test_size=0.3, shuffle=False)"
   ]
  },
  {
   "cell_type": "code",
   "execution_count": null,
   "id": "521637f1",
   "metadata": {},
   "outputs": [],
   "source": [
    "X_train.head()"
   ]
  },
  {
   "cell_type": "code",
   "execution_count": null,
   "id": "1e8ea7d8",
   "metadata": {},
   "outputs": [],
   "source": [
    "y_train.head()"
   ]
  },
  {
   "cell_type": "markdown",
   "id": "dbf27791",
   "metadata": {},
   "source": [
    "# Estimação de Desempenho"
   ]
  },
  {
   "cell_type": "code",
   "execution_count": null,
   "id": "beae6cdf",
   "metadata": {},
   "outputs": [],
   "source": [
    "from sklearn.model_selection import TimeSeriesSplit\n",
    "from sklearn.metrics import mean_absolute_error\n",
    "\n",
    "from sklearn.ensemble import RandomForestRegressor\n",
    "from sklearn.linear_model import Ridge, Lasso\n",
    "from sklearn.tree import DecisionTreeRegressor\n",
    "from sklearn.neighbors import KNeighborsRegressor"
   ]
  },
  {
   "cell_type": "code",
   "execution_count": null,
   "id": "a6bcbf68",
   "metadata": {},
   "outputs": [],
   "source": [
    "cv = TimeSeriesSplit(n_splits=5)\n",
    "\n",
    "cv_err = []\n",
    "for tr_idx, ts_idx in cv.split(X_train, y_train):\n",
    "    print('Training indices:')\n",
    "    print(tr_idx[-5:])\n",
    "    X_tr = X_train.values[tr_idx]\n",
    "    y_tr = y_train.values[tr_idx]\n",
    "\n",
    "    X_vl = X_train.values[ts_idx]\n",
    "    y_vl = y_train.values[ts_idx]\n",
    "\n",
    "    print('Training the model')\n",
    "    model = Ridge()\n",
    "\n",
    "    model.fit(X_tr, y_tr)\n",
    "    print('Making predictions')\n",
    "    pred = model.predict(X_vl)\n",
    "\n",
    "    print('Computing error')\n",
    "    err = mean_absolute_error(y_vl, pred)\n",
    "    cv_err.append(err)\n",
    "\n",
    "    \n",
    "print(cv_err)"
   ]
  },
  {
   "cell_type": "code",
   "execution_count": null,
   "id": "5d7ad656",
   "metadata": {},
   "outputs": [],
   "source": [
    "# erro estimado em validação cruzada\n",
    "print(f'Average error is: {np.mean(cv_err)}')"
   ]
  },
  {
   "cell_type": "code",
   "execution_count": null,
   "id": "4b9c00be",
   "metadata": {},
   "outputs": [],
   "source": [
    "# erro que obtemos no teste\n",
    "model = Ridge()\n",
    "model.fit(X_train, y_train)\n",
    "pred_test = model.predict(X_test)\n",
    "err_test = mean_absolute_error(y_test, pred_test)\n",
    "print(f'Test error is: {err_test}')"
   ]
  },
  {
   "cell_type": "markdown",
   "id": "2531e455",
   "metadata": {},
   "source": [
    "# Seleção de Modelo"
   ]
  },
  {
   "cell_type": "code",
   "execution_count": null,
   "id": "94fb6b8c",
   "metadata": {},
   "outputs": [],
   "source": [
    "model_list = {\n",
    "    'Ridge': Ridge(),\n",
    "    'Lasso': Lasso(),\n",
    "    'RandomForestRegressor': RandomForestRegressor(n_estimators=10),\n",
    "    'DecisionTreeRegressor': DecisionTreeRegressor(),\n",
    "    'KNeighborsRegressor': KNeighborsRegressor(),\n",
    "}\n",
    "\n",
    "from sklearn.model_selection import cross_val_score"
   ]
  },
  {
   "cell_type": "code",
   "execution_count": null,
   "id": "d934cbb0",
   "metadata": {},
   "outputs": [],
   "source": [
    "err_by_method = {}\n",
    "for method in model_list:\n",
    "    print(f'Running model: {method}')\n",
    "    cv_error = cross_val_score(model_list[method],\n",
    "                               X_train,\n",
    "                               y_train,\n",
    "                               cv=cv,\n",
    "                               scoring='neg_mean_absolute_error')\n",
    "\n",
    "    err_by_method[method] = -np.mean(cv_error)"
   ]
  },
  {
   "cell_type": "code",
   "execution_count": null,
   "id": "3874de04",
   "metadata": {},
   "outputs": [],
   "source": [
    "pd.Series(err_by_method).plot.bar()"
   ]
  },
  {
   "cell_type": "code",
   "execution_count": null,
   "id": "f3aab4d6",
   "metadata": {},
   "outputs": [],
   "source": [
    "from pprint import pprint\n",
    "pprint(err_by_method)"
   ]
  },
  {
   "cell_type": "markdown",
   "id": "950bbfd5",
   "metadata": {},
   "source": [
    "# Seleção de Parâmetros"
   ]
  },
  {
   "cell_type": "code",
   "execution_count": null,
   "id": "ba2d771b",
   "metadata": {},
   "outputs": [],
   "source": [
    "from sklearn.model_selection import GridSearchCV\n",
    "\n",
    "?GridSearchCV\n",
    "\n",
    "parameters = {'weights': ['uniform', 'distance'],\n",
    "              'n_neighbors': [1, 5, 10]}"
   ]
  },
  {
   "cell_type": "code",
   "execution_count": null,
   "id": "bb1a107b",
   "metadata": {},
   "outputs": [],
   "source": [
    "model = KNeighborsRegressor()\n",
    "cv = TimeSeriesSplit(n_splits=5)\n",
    "\n",
    "grid_search = GridSearchCV(estimator=model,\n",
    "                           param_grid=parameters,\n",
    "                           cv=cv, \n",
    "                           refit=True)\n"
   ]
  },
  {
   "cell_type": "code",
   "execution_count": null,
   "id": "b13f7704",
   "metadata": {},
   "outputs": [],
   "source": [
    "grid_search.fit(X_train, y_train)"
   ]
  },
  {
   "cell_type": "code",
   "execution_count": null,
   "id": "7efb4089",
   "metadata": {},
   "outputs": [],
   "source": [
    "grid_search.best_estimator_"
   ]
  },
  {
   "cell_type": "code",
   "execution_count": null,
   "id": "b0d53f26",
   "metadata": {},
   "outputs": [],
   "source": [
    "pred_test_best = grid_search.predict(X_test)\n",
    "err_test = mean_absolute_error(y_test, pred_test_best)\n",
    "print(f'Test error is: {err_test}')"
   ]
  }
 ],
 "metadata": {
  "kernelspec": {
   "display_name": "Python 3 (ipykernel)",
   "language": "python",
   "name": "python3"
  },
  "language_info": {
   "codemirror_mode": {
    "name": "ipython",
    "version": 3
   },
   "file_extension": ".py",
   "mimetype": "text/x-python",
   "name": "python",
   "nbconvert_exporter": "python",
   "pygments_lexer": "ipython3",
   "version": "3.9.11"
  }
 },
 "nbformat": 4,
 "nbformat_minor": 5
}
