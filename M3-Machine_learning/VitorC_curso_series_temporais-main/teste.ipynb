{
 "cells": [
  {
   "cell_type": "code",
   "execution_count": null,
   "metadata": {},
   "outputs": [],
   "source": [
    "# Assuming 'train', 'test', and 'forecasts' are numpy arrays\n",
    "train = pd.DataFrame(train)\n",
    "test = pd.DataFrame(test)\n",
    "\n",
    "test = test.rename(columns={0: 'Actual'})  # Renaming column in DataFrame\n",
    "forecasts = pd.Series(forecasts, index=test.index).rename('Forecasts')\n",
    "\n",
    "# Plotting\n",
    "ax = train.plot()\n",
    "test.plot(y='Actual', ax=ax, legend=True, color='red', figsize=(12, 6), title='Forecasting with Auto Arima')\n",
    "forecasts.plot(legend=True, color='green')\n",
    "\n",
    "plt.show()  # Show the plot"
   ]
  },
  {
   "cell_type": "code",
   "execution_count": null,
   "metadata": {},
   "outputs": [],
   "source": [
    "# Calcula a média dos valores não nulos\n",
    "mean_value = np.nanmean(train)\n",
    "\n",
    "# Substitui os valores nan pela média\n",
    "data_filled = np.nan_to_num(train, nan=mean_value)\n",
    "\n",
    "print(\"Série original:\", train)\n",
    "print(\"Série com valores nan substituídos pela média:\", data_filled)\n",
    "train = data_filled"
   ]
  },
  {
   "cell_type": "code",
   "execution_count": null,
   "metadata": {},
   "outputs": [],
   "source": [
    "# train test split\n",
    "X_train, X_test, y_train, y_test = train_test_split(X, y, test_size=0.3, shuffle=False)"
   ]
  },
  {
   "cell_type": "code",
   "execution_count": null,
   "metadata": {},
   "outputs": [],
   "source": [
    "y_test = y_test.rename('Actual')\n",
    "forecasts = pd.Series(forecasts, index=y_test.index).rename('Forecasts')\n",
    "ax = y_train.plot()\n",
    "ax = y_test.plot(legend=True,color='red', figsize=(12,6),title='Forecasting with RF')\n",
    "forecasts.plot(legend=True, color='green')"
   ]
  }
 ],
 "metadata": {
  "language_info": {
   "name": "python"
  }
 },
 "nbformat": 4,
 "nbformat_minor": 2
}
