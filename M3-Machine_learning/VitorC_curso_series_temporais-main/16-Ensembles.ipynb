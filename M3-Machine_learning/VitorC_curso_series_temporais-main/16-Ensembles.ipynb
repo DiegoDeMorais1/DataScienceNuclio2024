{
 "cells": [
  {
   "cell_type": "code",
   "execution_count": null,
   "id": "37aba87a",
   "metadata": {},
   "outputs": [],
   "source": [
    "import numpy as np\n",
    "import pandas as pd\n",
    "%matplotlib inline"
   ]
  },
  {
   "cell_type": "code",
   "execution_count": null,
   "id": "a2ba7f89",
   "metadata": {},
   "outputs": [],
   "source": [
    "data = pd.read_csv('assets/wave_height_hourly.csv')"
   ]
  },
  {
   "cell_type": "code",
   "execution_count": null,
   "id": "400f4621",
   "metadata": {
    "scrolled": true
   },
   "outputs": [],
   "source": [
    "data.head()"
   ]
  },
  {
   "cell_type": "code",
   "execution_count": null,
   "id": "8eb2a27c",
   "metadata": {},
   "outputs": [],
   "source": [
    "wave = pd.Series(data['SignificantWaveHeight'].values, index = pd.to_datetime(data['time']))\n",
    "wave.plot()"
   ]
  },
  {
   "cell_type": "code",
   "execution_count": null,
   "id": "711fb2be",
   "metadata": {},
   "outputs": [],
   "source": [
    "from src.tde import UnivariateTDE"
   ]
  },
  {
   "cell_type": "code",
   "execution_count": null,
   "id": "83c4195d",
   "metadata": {},
   "outputs": [],
   "source": [
    "# prever os valores das próximas 12 horas com base nas últimas 6\n",
    "wave_tde = UnivariateTDE(wave, horizon=12, k=6)\n",
    "wave_tde.head()"
   ]
  },
  {
   "cell_type": "code",
   "execution_count": null,
   "id": "4a544792",
   "metadata": {},
   "outputs": [],
   "source": [
    "is_future = wave_tde.columns.str.contains('\\+')\n",
    "X = wave_tde.iloc[:,~is_future]\n",
    "Y = wave_tde.iloc[:,is_future]\n",
    "\n",
    "X.head()"
   ]
  },
  {
   "cell_type": "code",
   "execution_count": null,
   "id": "a6bbba62",
   "metadata": {},
   "outputs": [],
   "source": [
    "Y.head()"
   ]
  },
  {
   "cell_type": "code",
   "execution_count": null,
   "id": "1f5d52a8",
   "metadata": {},
   "outputs": [],
   "source": [
    "from sklearn.model_selection import train_test_split"
   ]
  },
  {
   "cell_type": "code",
   "execution_count": null,
   "id": "cecb2efd",
   "metadata": {},
   "outputs": [],
   "source": [
    "X_train, X_test, Y_train, Y_test = train_test_split(X, Y, test_size=0.3, shuffle=False)"
   ]
  },
  {
   "cell_type": "code",
   "execution_count": null,
   "id": "521637f1",
   "metadata": {},
   "outputs": [],
   "source": [
    "X_train.head()"
   ]
  },
  {
   "cell_type": "code",
   "execution_count": null,
   "id": "03795b96",
   "metadata": {
    "scrolled": true
   },
   "outputs": [],
   "source": [
    "X_test.head()"
   ]
  },
  {
   "cell_type": "markdown",
   "id": "85354371",
   "metadata": {},
   "source": [
    "### Ensembles"
   ]
  },
  {
   "cell_type": "code",
   "execution_count": null,
   "id": "beae6cdf",
   "metadata": {},
   "outputs": [],
   "source": [
    "from sklearn.ensemble \\\n",
    "    import (RandomForestRegressor,\n",
    "            ExtraTreesRegressor,\n",
    "            BaggingRegressor)\n",
    "from sklearn.linear_model \\\n",
    "    import (Lasso,\n",
    "            Ridge,\n",
    "            OrthogonalMatchingPursuit,\n",
    "            ElasticNet)\n",
    "from sklearn.neighbors import KNeighborsRegressor\n",
    "from sklearn.cross_decomposition import PLSRegression, PLSCanonical\n",
    "\n",
    "METHODS = \\\n",
    "    dict(\n",
    "        RandomForestRegressor=RandomForestRegressor,\n",
    "        PLSRegression=PLSRegression,\n",
    "        ExtraTreesRegressor=ExtraTreesRegressor,\n",
    "        KNeighborsRegressor=KNeighborsRegressor,\n",
    "        Ridge=Ridge,\n",
    "        ElasticNet=ElasticNet,\n",
    "        BaggingRegressor=BaggingRegressor,\n",
    "    )\n",
    "\n",
    "METHODS_PARAMETERS = \\\n",
    "    dict(\n",
    "        RandomForestRegressor={\n",
    "            'n_estimators': [50, 100],\n",
    "            'max_depth': [None, 3, 5],\n",
    "        },\n",
    "        ExtraTreesRegressor={\n",
    "            'n_estimators': [50, 100],\n",
    "            'max_depth': [None, 3, 5],\n",
    "        },\n",
    "        KNeighborsRegressor={\n",
    "            'n_neighbors': [1, 5, 10, 20, 50],\n",
    "            'weights': ['uniform', 'distance'],\n",
    "        },\n",
    "        Ridge={\n",
    "            'alpha': [1, .5, .25, .75]\n",
    "        },\n",
    "        ElasticNet={\n",
    "        },\n",
    "        PLSRegression={\n",
    "            'n_components': [2, 3, 5]\n",
    "        },\n",
    "        BaggingRegressor={\n",
    "            'n_estimators': [50, 100]\n",
    "        },\n",
    "    )\n"
   ]
  },
  {
   "cell_type": "code",
   "execution_count": null,
   "id": "3874de04",
   "metadata": {},
   "outputs": [],
   "source": [
    "from src.utils import expand_grid_all\n",
    "\n",
    "models = {}\n",
    "\n",
    "for learning_method in METHODS:\n",
    "    print(f'Creating {learning_method}')\n",
    "    if len(METHODS_PARAMETERS[learning_method]) > 0:\n",
    "        gs_df = expand_grid_all(METHODS_PARAMETERS[learning_method])\n",
    "\n",
    "        n_gs = len(gs_df[[*gs_df][0]])\n",
    "        for i in range(n_gs):\n",
    "            print(f'Training {i} out of {n_gs}')\n",
    "\n",
    "            pars = {k: gs_df[k][i] for k in gs_df}\n",
    "            pars = {p: pars[p] for p in pars if pars[p] is not None}\n",
    "            print(pars)\n",
    "\n",
    "            model = METHODS[learning_method](**pars)\n",
    "            model.fit(X_train, Y_train)\n",
    "\n",
    "            models[f'{learning_method}_{i}'] = model\n",
    "    else:\n",
    "        model = METHODS[learning_method]()\n",
    "        model.fit(X_train, Y_train)\n",
    "\n",
    "        models[f'{learning_method}_0'] = model\n"
   ]
  },
  {
   "cell_type": "code",
   "execution_count": null,
   "id": "a314672d",
   "metadata": {},
   "outputs": [],
   "source": [
    "preds_all = {}\n",
    "for method_ in models:\n",
    "    predictions = models[method_].predict(X_test)\n",
    "    preds_all[method_] = pd.DataFrame(predictions, columns=Y_test.columns)"
   ]
  },
  {
   "cell_type": "code",
   "execution_count": null,
   "id": "dad01c83",
   "metadata": {},
   "outputs": [],
   "source": [
    "preds_all.keys()"
   ]
  },
  {
   "cell_type": "code",
   "execution_count": null,
   "id": "31371539",
   "metadata": {},
   "outputs": [],
   "source": [
    "len(preds_all)"
   ]
  },
  {
   "cell_type": "code",
   "execution_count": null,
   "id": "d869e5f6",
   "metadata": {},
   "outputs": [],
   "source": [
    "preds_all['RandomForestRegressor_0']"
   ]
  },
  {
   "cell_type": "code",
   "execution_count": null,
   "id": "899327f2",
   "metadata": {},
   "outputs": [],
   "source": [
    "model_names = [*preds_all]\n",
    "\n",
    "horizon_names = preds_all[model_names[0]].columns.tolist()\n",
    "\n",
    "yhat_by_horizon_ = {h_: pd.DataFrame({m: preds_all[m][h_]\n",
    "                                      for m in model_names})\n",
    "                    for h_ in horizon_names}"
   ]
  },
  {
   "cell_type": "code",
   "execution_count": null,
   "id": "91e67cf7",
   "metadata": {},
   "outputs": [],
   "source": [
    "yhat_by_horizon_['t+1']"
   ]
  },
  {
   "cell_type": "code",
   "execution_count": null,
   "id": "978ad15d",
   "metadata": {},
   "outputs": [],
   "source": [
    "avg_preds = pd.DataFrame({k: yhat_by_horizon_[k].mean(axis=1) for k in yhat_by_horizon_})\n",
    "avg_preds.head()"
   ]
  },
  {
   "cell_type": "code",
   "execution_count": null,
   "id": "fdaf388a",
   "metadata": {},
   "outputs": [],
   "source": [
    "preds_all['Ensemble'] = avg_preds"
   ]
  },
  {
   "cell_type": "code",
   "execution_count": null,
   "id": "163f9c96",
   "metadata": {},
   "outputs": [],
   "source": [
    "from sklearn.metrics import mean_squared_error\n",
    "\n",
    "error = {}\n",
    "for k, pred in preds_all.items():\n",
    "    error[k] = mean_squared_error(Y_test, pred)\n",
    "\n",
    "error"
   ]
  },
  {
   "cell_type": "code",
   "execution_count": null,
   "id": "41e29499",
   "metadata": {},
   "outputs": [],
   "source": [
    "pd.Series(error).sort_values().plot.bar(figsize=(30,13), fontsize=30)"
   ]
  }
 ],
 "metadata": {
  "kernelspec": {
   "display_name": "Python 3 (ipykernel)",
   "language": "python",
   "name": "python3"
  },
  "language_info": {
   "codemirror_mode": {
    "name": "ipython",
    "version": 3
   },
   "file_extension": ".py",
   "mimetype": "text/x-python",
   "name": "python",
   "nbconvert_exporter": "python",
   "pygments_lexer": "ipython3",
   "version": "3.9.11"
  }
 },
 "nbformat": 4,
 "nbformat_minor": 5
}
