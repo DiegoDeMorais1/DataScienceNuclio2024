{
 "cells": [
  {
   "cell_type": "code",
   "execution_count": 1,
   "id": "37aba87a",
   "metadata": {},
   "outputs": [],
   "source": [
    "import numpy as np\n",
    "import pandas as pd\n",
    "%matplotlib inline"
   ]
  },
  {
   "cell_type": "code",
   "execution_count": 2,
   "id": "a2ba7f89",
   "metadata": {},
   "outputs": [],
   "source": [
    "wine = pd.read_csv('assets/wines.csv')"
   ]
  },
  {
   "cell_type": "code",
   "execution_count": 3,
   "id": "400f4621",
   "metadata": {
    "scrolled": true
   },
   "outputs": [
    {
     "data": {
      "text/html": [
       "<div>\n",
       "<style scoped>\n",
       "    .dataframe tbody tr th:only-of-type {\n",
       "        vertical-align: middle;\n",
       "    }\n",
       "\n",
       "    .dataframe tbody tr th {\n",
       "        vertical-align: top;\n",
       "    }\n",
       "\n",
       "    .dataframe thead th {\n",
       "        text-align: right;\n",
       "    }\n",
       "</style>\n",
       "<table border=\"1\" class=\"dataframe\">\n",
       "  <thead>\n",
       "    <tr style=\"text-align: right;\">\n",
       "      <th></th>\n",
       "      <th>Fortified</th>\n",
       "      <th>Drywhite</th>\n",
       "      <th>Sweetwhite</th>\n",
       "      <th>Red</th>\n",
       "      <th>Rose</th>\n",
       "      <th>Sparkling</th>\n",
       "      <th>date</th>\n",
       "    </tr>\n",
       "  </thead>\n",
       "  <tbody>\n",
       "    <tr>\n",
       "      <th>0</th>\n",
       "      <td>2585</td>\n",
       "      <td>1954</td>\n",
       "      <td>85</td>\n",
       "      <td>464</td>\n",
       "      <td>112.0</td>\n",
       "      <td>1686</td>\n",
       "      <td>Jan 1980</td>\n",
       "    </tr>\n",
       "    <tr>\n",
       "      <th>1</th>\n",
       "      <td>3368</td>\n",
       "      <td>2302</td>\n",
       "      <td>89</td>\n",
       "      <td>675</td>\n",
       "      <td>118.0</td>\n",
       "      <td>1591</td>\n",
       "      <td>Feb 1980</td>\n",
       "    </tr>\n",
       "    <tr>\n",
       "      <th>2</th>\n",
       "      <td>3210</td>\n",
       "      <td>3054</td>\n",
       "      <td>109</td>\n",
       "      <td>703</td>\n",
       "      <td>129.0</td>\n",
       "      <td>2304</td>\n",
       "      <td>Mar 1980</td>\n",
       "    </tr>\n",
       "    <tr>\n",
       "      <th>3</th>\n",
       "      <td>3111</td>\n",
       "      <td>2414</td>\n",
       "      <td>95</td>\n",
       "      <td>887</td>\n",
       "      <td>99.0</td>\n",
       "      <td>1712</td>\n",
       "      <td>Apr 1980</td>\n",
       "    </tr>\n",
       "    <tr>\n",
       "      <th>4</th>\n",
       "      <td>3756</td>\n",
       "      <td>2226</td>\n",
       "      <td>91</td>\n",
       "      <td>1139</td>\n",
       "      <td>116.0</td>\n",
       "      <td>1471</td>\n",
       "      <td>May 1980</td>\n",
       "    </tr>\n",
       "  </tbody>\n",
       "</table>\n",
       "</div>"
      ],
      "text/plain": [
       "   Fortified  Drywhite  Sweetwhite   Red   Rose  Sparkling      date\n",
       "0       2585      1954          85   464  112.0       1686  Jan 1980\n",
       "1       3368      2302          89   675  118.0       1591  Feb 1980\n",
       "2       3210      3054         109   703  129.0       2304  Mar 1980\n",
       "3       3111      2414          95   887   99.0       1712  Apr 1980\n",
       "4       3756      2226          91  1139  116.0       1471  May 1980"
      ]
     },
     "execution_count": 3,
     "metadata": {},
     "output_type": "execute_result"
    }
   ],
   "source": [
    "wine.head()"
   ]
  },
  {
   "cell_type": "code",
   "execution_count": 4,
   "id": "94c5dea0",
   "metadata": {},
   "outputs": [],
   "source": [
    "wine.set_index('date', inplace=True)\n",
    "wine.index = pd.to_datetime(wine.index)"
   ]
  },
  {
   "cell_type": "code",
   "execution_count": 5,
   "id": "711fb2be",
   "metadata": {},
   "outputs": [],
   "source": [
    "from src.tde import MultivariateTDE"
   ]
  },
  {
   "cell_type": "code",
   "execution_count": 6,
   "id": "83c4195d",
   "metadata": {},
   "outputs": [
    {
     "data": {
      "text/html": [
       "<div>\n",
       "<style scoped>\n",
       "    .dataframe tbody tr th:only-of-type {\n",
       "        vertical-align: middle;\n",
       "    }\n",
       "\n",
       "    .dataframe tbody tr th {\n",
       "        vertical-align: top;\n",
       "    }\n",
       "\n",
       "    .dataframe thead th {\n",
       "        text-align: right;\n",
       "    }\n",
       "</style>\n",
       "<table border=\"1\" class=\"dataframe\">\n",
       "  <thead>\n",
       "    <tr style=\"text-align: right;\">\n",
       "      <th></th>\n",
       "      <th>Fortified-1</th>\n",
       "      <th>Fortified-0</th>\n",
       "      <th>Drywhite-1</th>\n",
       "      <th>Drywhite-0</th>\n",
       "      <th>Sweetwhite-1</th>\n",
       "      <th>Sweetwhite-0</th>\n",
       "      <th>Red-1</th>\n",
       "      <th>Red-0</th>\n",
       "      <th>Rose-1</th>\n",
       "      <th>Rose-0</th>\n",
       "      <th>Sparkling-1</th>\n",
       "      <th>Sparkling-0</th>\n",
       "      <th>Red+1</th>\n",
       "      <th>Red+2</th>\n",
       "      <th>Red+3</th>\n",
       "    </tr>\n",
       "    <tr>\n",
       "      <th>date</th>\n",
       "      <th></th>\n",
       "      <th></th>\n",
       "      <th></th>\n",
       "      <th></th>\n",
       "      <th></th>\n",
       "      <th></th>\n",
       "      <th></th>\n",
       "      <th></th>\n",
       "      <th></th>\n",
       "      <th></th>\n",
       "      <th></th>\n",
       "      <th></th>\n",
       "      <th></th>\n",
       "      <th></th>\n",
       "      <th></th>\n",
       "    </tr>\n",
       "  </thead>\n",
       "  <tbody>\n",
       "    <tr>\n",
       "      <th>1980-03-01</th>\n",
       "      <td>2585.0</td>\n",
       "      <td>3368.0</td>\n",
       "      <td>1954.0</td>\n",
       "      <td>2302.0</td>\n",
       "      <td>85.0</td>\n",
       "      <td>89.0</td>\n",
       "      <td>464.0</td>\n",
       "      <td>675.0</td>\n",
       "      <td>112.0</td>\n",
       "      <td>118.0</td>\n",
       "      <td>1686.0</td>\n",
       "      <td>1591.0</td>\n",
       "      <td>703</td>\n",
       "      <td>887.0</td>\n",
       "      <td>1139.0</td>\n",
       "    </tr>\n",
       "    <tr>\n",
       "      <th>1980-04-01</th>\n",
       "      <td>3368.0</td>\n",
       "      <td>3210.0</td>\n",
       "      <td>2302.0</td>\n",
       "      <td>3054.0</td>\n",
       "      <td>89.0</td>\n",
       "      <td>109.0</td>\n",
       "      <td>675.0</td>\n",
       "      <td>703.0</td>\n",
       "      <td>118.0</td>\n",
       "      <td>129.0</td>\n",
       "      <td>1591.0</td>\n",
       "      <td>2304.0</td>\n",
       "      <td>887</td>\n",
       "      <td>1139.0</td>\n",
       "      <td>1077.0</td>\n",
       "    </tr>\n",
       "    <tr>\n",
       "      <th>1980-05-01</th>\n",
       "      <td>3210.0</td>\n",
       "      <td>3111.0</td>\n",
       "      <td>3054.0</td>\n",
       "      <td>2414.0</td>\n",
       "      <td>109.0</td>\n",
       "      <td>95.0</td>\n",
       "      <td>703.0</td>\n",
       "      <td>887.0</td>\n",
       "      <td>129.0</td>\n",
       "      <td>99.0</td>\n",
       "      <td>2304.0</td>\n",
       "      <td>1712.0</td>\n",
       "      <td>1139</td>\n",
       "      <td>1077.0</td>\n",
       "      <td>1318.0</td>\n",
       "    </tr>\n",
       "    <tr>\n",
       "      <th>1980-06-01</th>\n",
       "      <td>3111.0</td>\n",
       "      <td>3756.0</td>\n",
       "      <td>2414.0</td>\n",
       "      <td>2226.0</td>\n",
       "      <td>95.0</td>\n",
       "      <td>91.0</td>\n",
       "      <td>887.0</td>\n",
       "      <td>1139.0</td>\n",
       "      <td>99.0</td>\n",
       "      <td>116.0</td>\n",
       "      <td>1712.0</td>\n",
       "      <td>1471.0</td>\n",
       "      <td>1077</td>\n",
       "      <td>1318.0</td>\n",
       "      <td>1260.0</td>\n",
       "    </tr>\n",
       "    <tr>\n",
       "      <th>1980-07-01</th>\n",
       "      <td>3756.0</td>\n",
       "      <td>4216.0</td>\n",
       "      <td>2226.0</td>\n",
       "      <td>2725.0</td>\n",
       "      <td>91.0</td>\n",
       "      <td>95.0</td>\n",
       "      <td>1139.0</td>\n",
       "      <td>1077.0</td>\n",
       "      <td>116.0</td>\n",
       "      <td>168.0</td>\n",
       "      <td>1471.0</td>\n",
       "      <td>1377.0</td>\n",
       "      <td>1318</td>\n",
       "      <td>1260.0</td>\n",
       "      <td>1120.0</td>\n",
       "    </tr>\n",
       "  </tbody>\n",
       "</table>\n",
       "</div>"
      ],
      "text/plain": [
       "            Fortified-1  Fortified-0  Drywhite-1  Drywhite-0  Sweetwhite-1  \\\n",
       "date                                                                         \n",
       "1980-03-01       2585.0       3368.0      1954.0      2302.0          85.0   \n",
       "1980-04-01       3368.0       3210.0      2302.0      3054.0          89.0   \n",
       "1980-05-01       3210.0       3111.0      3054.0      2414.0         109.0   \n",
       "1980-06-01       3111.0       3756.0      2414.0      2226.0          95.0   \n",
       "1980-07-01       3756.0       4216.0      2226.0      2725.0          91.0   \n",
       "\n",
       "            Sweetwhite-0   Red-1   Red-0  Rose-1  Rose-0  Sparkling-1  \\\n",
       "date                                                                    \n",
       "1980-03-01          89.0   464.0   675.0   112.0   118.0       1686.0   \n",
       "1980-04-01         109.0   675.0   703.0   118.0   129.0       1591.0   \n",
       "1980-05-01          95.0   703.0   887.0   129.0    99.0       2304.0   \n",
       "1980-06-01          91.0   887.0  1139.0    99.0   116.0       1712.0   \n",
       "1980-07-01          95.0  1139.0  1077.0   116.0   168.0       1471.0   \n",
       "\n",
       "            Sparkling-0  Red+1   Red+2   Red+3  \n",
       "date                                            \n",
       "1980-03-01       1591.0    703   887.0  1139.0  \n",
       "1980-04-01       2304.0    887  1139.0  1077.0  \n",
       "1980-05-01       1712.0   1139  1077.0  1318.0  \n",
       "1980-06-01       1471.0   1077  1318.0  1260.0  \n",
       "1980-07-01       1377.0   1318  1260.0  1120.0  "
      ]
     },
     "execution_count": 6,
     "metadata": {},
     "output_type": "execute_result"
    }
   ],
   "source": [
    "# predicting the next 3 steps\n",
    "# using the last 3 observations\n",
    "wine_tde = MultivariateTDE(wine, horizon=3, k=2, target_col='Red')\n",
    "wine_tde.head()"
   ]
  },
  {
   "cell_type": "code",
   "execution_count": 7,
   "id": "4a544792",
   "metadata": {},
   "outputs": [],
   "source": [
    "is_future = wine_tde.columns.str.contains('\\+')\n",
    "X = wine_tde.iloc[:,~is_future]\n",
    "Y = wine_tde.iloc[:,is_future]"
   ]
  },
  {
   "cell_type": "code",
   "execution_count": null,
   "id": "80179e1f",
   "metadata": {},
   "outputs": [],
   "source": []
  },
  {
   "cell_type": "code",
   "execution_count": 8,
   "id": "1f5d52a8",
   "metadata": {},
   "outputs": [],
   "source": [
    "from sklearn.model_selection import train_test_split"
   ]
  },
  {
   "cell_type": "code",
   "execution_count": 9,
   "id": "cecb2efd",
   "metadata": {},
   "outputs": [],
   "source": [
    "X_train, X_test, Y_train, Y_test = train_test_split(X, Y, test_size=0.3, shuffle=False)"
   ]
  },
  {
   "cell_type": "code",
   "execution_count": 10,
   "id": "521637f1",
   "metadata": {},
   "outputs": [
    {
     "data": {
      "text/html": [
       "<div>\n",
       "<style scoped>\n",
       "    .dataframe tbody tr th:only-of-type {\n",
       "        vertical-align: middle;\n",
       "    }\n",
       "\n",
       "    .dataframe tbody tr th {\n",
       "        vertical-align: top;\n",
       "    }\n",
       "\n",
       "    .dataframe thead th {\n",
       "        text-align: right;\n",
       "    }\n",
       "</style>\n",
       "<table border=\"1\" class=\"dataframe\">\n",
       "  <thead>\n",
       "    <tr style=\"text-align: right;\">\n",
       "      <th></th>\n",
       "      <th>Fortified-1</th>\n",
       "      <th>Fortified-0</th>\n",
       "      <th>Drywhite-1</th>\n",
       "      <th>Drywhite-0</th>\n",
       "      <th>Sweetwhite-1</th>\n",
       "      <th>Sweetwhite-0</th>\n",
       "      <th>Red-1</th>\n",
       "      <th>Red-0</th>\n",
       "      <th>Rose-1</th>\n",
       "      <th>Rose-0</th>\n",
       "      <th>Sparkling-1</th>\n",
       "      <th>Sparkling-0</th>\n",
       "    </tr>\n",
       "    <tr>\n",
       "      <th>date</th>\n",
       "      <th></th>\n",
       "      <th></th>\n",
       "      <th></th>\n",
       "      <th></th>\n",
       "      <th></th>\n",
       "      <th></th>\n",
       "      <th></th>\n",
       "      <th></th>\n",
       "      <th></th>\n",
       "      <th></th>\n",
       "      <th></th>\n",
       "      <th></th>\n",
       "    </tr>\n",
       "  </thead>\n",
       "  <tbody>\n",
       "    <tr>\n",
       "      <th>1980-03-01</th>\n",
       "      <td>2585.0</td>\n",
       "      <td>3368.0</td>\n",
       "      <td>1954.0</td>\n",
       "      <td>2302.0</td>\n",
       "      <td>85.0</td>\n",
       "      <td>89.0</td>\n",
       "      <td>464.0</td>\n",
       "      <td>675.0</td>\n",
       "      <td>112.0</td>\n",
       "      <td>118.0</td>\n",
       "      <td>1686.0</td>\n",
       "      <td>1591.0</td>\n",
       "    </tr>\n",
       "    <tr>\n",
       "      <th>1980-04-01</th>\n",
       "      <td>3368.0</td>\n",
       "      <td>3210.0</td>\n",
       "      <td>2302.0</td>\n",
       "      <td>3054.0</td>\n",
       "      <td>89.0</td>\n",
       "      <td>109.0</td>\n",
       "      <td>675.0</td>\n",
       "      <td>703.0</td>\n",
       "      <td>118.0</td>\n",
       "      <td>129.0</td>\n",
       "      <td>1591.0</td>\n",
       "      <td>2304.0</td>\n",
       "    </tr>\n",
       "    <tr>\n",
       "      <th>1980-05-01</th>\n",
       "      <td>3210.0</td>\n",
       "      <td>3111.0</td>\n",
       "      <td>3054.0</td>\n",
       "      <td>2414.0</td>\n",
       "      <td>109.0</td>\n",
       "      <td>95.0</td>\n",
       "      <td>703.0</td>\n",
       "      <td>887.0</td>\n",
       "      <td>129.0</td>\n",
       "      <td>99.0</td>\n",
       "      <td>2304.0</td>\n",
       "      <td>1712.0</td>\n",
       "    </tr>\n",
       "    <tr>\n",
       "      <th>1980-06-01</th>\n",
       "      <td>3111.0</td>\n",
       "      <td>3756.0</td>\n",
       "      <td>2414.0</td>\n",
       "      <td>2226.0</td>\n",
       "      <td>95.0</td>\n",
       "      <td>91.0</td>\n",
       "      <td>887.0</td>\n",
       "      <td>1139.0</td>\n",
       "      <td>99.0</td>\n",
       "      <td>116.0</td>\n",
       "      <td>1712.0</td>\n",
       "      <td>1471.0</td>\n",
       "    </tr>\n",
       "    <tr>\n",
       "      <th>1980-07-01</th>\n",
       "      <td>3756.0</td>\n",
       "      <td>4216.0</td>\n",
       "      <td>2226.0</td>\n",
       "      <td>2725.0</td>\n",
       "      <td>91.0</td>\n",
       "      <td>95.0</td>\n",
       "      <td>1139.0</td>\n",
       "      <td>1077.0</td>\n",
       "      <td>116.0</td>\n",
       "      <td>168.0</td>\n",
       "      <td>1471.0</td>\n",
       "      <td>1377.0</td>\n",
       "    </tr>\n",
       "  </tbody>\n",
       "</table>\n",
       "</div>"
      ],
      "text/plain": [
       "            Fortified-1  Fortified-0  Drywhite-1  Drywhite-0  Sweetwhite-1  \\\n",
       "date                                                                         \n",
       "1980-03-01       2585.0       3368.0      1954.0      2302.0          85.0   \n",
       "1980-04-01       3368.0       3210.0      2302.0      3054.0          89.0   \n",
       "1980-05-01       3210.0       3111.0      3054.0      2414.0         109.0   \n",
       "1980-06-01       3111.0       3756.0      2414.0      2226.0          95.0   \n",
       "1980-07-01       3756.0       4216.0      2226.0      2725.0          91.0   \n",
       "\n",
       "            Sweetwhite-0   Red-1   Red-0  Rose-1  Rose-0  Sparkling-1  \\\n",
       "date                                                                    \n",
       "1980-03-01          89.0   464.0   675.0   112.0   118.0       1686.0   \n",
       "1980-04-01         109.0   675.0   703.0   118.0   129.0       1591.0   \n",
       "1980-05-01          95.0   703.0   887.0   129.0    99.0       2304.0   \n",
       "1980-06-01          91.0   887.0  1139.0    99.0   116.0       1712.0   \n",
       "1980-07-01          95.0  1139.0  1077.0   116.0   168.0       1471.0   \n",
       "\n",
       "            Sparkling-0  \n",
       "date                     \n",
       "1980-03-01       1591.0  \n",
       "1980-04-01       2304.0  \n",
       "1980-05-01       1712.0  \n",
       "1980-06-01       1471.0  \n",
       "1980-07-01       1377.0  "
      ]
     },
     "execution_count": 10,
     "metadata": {},
     "output_type": "execute_result"
    }
   ],
   "source": [
    "X_train.head()"
   ]
  },
  {
   "cell_type": "code",
   "execution_count": 11,
   "id": "1e8ea7d8",
   "metadata": {},
   "outputs": [
    {
     "data": {
      "text/html": [
       "<div>\n",
       "<style scoped>\n",
       "    .dataframe tbody tr th:only-of-type {\n",
       "        vertical-align: middle;\n",
       "    }\n",
       "\n",
       "    .dataframe tbody tr th {\n",
       "        vertical-align: top;\n",
       "    }\n",
       "\n",
       "    .dataframe thead th {\n",
       "        text-align: right;\n",
       "    }\n",
       "</style>\n",
       "<table border=\"1\" class=\"dataframe\">\n",
       "  <thead>\n",
       "    <tr style=\"text-align: right;\">\n",
       "      <th></th>\n",
       "      <th>Red+1</th>\n",
       "      <th>Red+2</th>\n",
       "      <th>Red+3</th>\n",
       "    </tr>\n",
       "    <tr>\n",
       "      <th>date</th>\n",
       "      <th></th>\n",
       "      <th></th>\n",
       "      <th></th>\n",
       "    </tr>\n",
       "  </thead>\n",
       "  <tbody>\n",
       "    <tr>\n",
       "      <th>1980-03-01</th>\n",
       "      <td>703</td>\n",
       "      <td>887.0</td>\n",
       "      <td>1139.0</td>\n",
       "    </tr>\n",
       "    <tr>\n",
       "      <th>1980-04-01</th>\n",
       "      <td>887</td>\n",
       "      <td>1139.0</td>\n",
       "      <td>1077.0</td>\n",
       "    </tr>\n",
       "    <tr>\n",
       "      <th>1980-05-01</th>\n",
       "      <td>1139</td>\n",
       "      <td>1077.0</td>\n",
       "      <td>1318.0</td>\n",
       "    </tr>\n",
       "    <tr>\n",
       "      <th>1980-06-01</th>\n",
       "      <td>1077</td>\n",
       "      <td>1318.0</td>\n",
       "      <td>1260.0</td>\n",
       "    </tr>\n",
       "    <tr>\n",
       "      <th>1980-07-01</th>\n",
       "      <td>1318</td>\n",
       "      <td>1260.0</td>\n",
       "      <td>1120.0</td>\n",
       "    </tr>\n",
       "  </tbody>\n",
       "</table>\n",
       "</div>"
      ],
      "text/plain": [
       "            Red+1   Red+2   Red+3\n",
       "date                             \n",
       "1980-03-01    703   887.0  1139.0\n",
       "1980-04-01    887  1139.0  1077.0\n",
       "1980-05-01   1139  1077.0  1318.0\n",
       "1980-06-01   1077  1318.0  1260.0\n",
       "1980-07-01   1318  1260.0  1120.0"
      ]
     },
     "execution_count": 11,
     "metadata": {},
     "output_type": "execute_result"
    }
   ],
   "source": [
    "Y_train.head()"
   ]
  },
  {
   "cell_type": "code",
   "execution_count": 12,
   "id": "beae6cdf",
   "metadata": {},
   "outputs": [],
   "source": [
    "from sklearn.multioutput import MultiOutputRegressor\n",
    "from sklearn.ensemble import RandomForestRegressor"
   ]
  },
  {
   "cell_type": "code",
   "execution_count": 13,
   "id": "3874de04",
   "metadata": {},
   "outputs": [
    {
     "data": {
      "text/plain": [
       "MultiOutputRegressor(estimator=RandomForestRegressor())"
      ]
     },
     "execution_count": 13,
     "metadata": {},
     "output_type": "execute_result"
    }
   ],
   "source": [
    "model = MultiOutputRegressor(RandomForestRegressor())\n",
    "model.fit(X_train, Y_train)"
   ]
  },
  {
   "cell_type": "code",
   "execution_count": 14,
   "id": "899327f2",
   "metadata": {},
   "outputs": [
    {
     "data": {
      "text/plain": [
       "array([[2029.27, 2162.51, 2068.73],\n",
       "       [2169.58, 2183.65, 2051.57],\n",
       "       [2008.6 , 2188.03, 1789.79],\n",
       "       [2150.04, 1302.78, 1540.48],\n",
       "       [1115.99, 1237.82, 1527.23]])"
      ]
     },
     "execution_count": 14,
     "metadata": {},
     "output_type": "execute_result"
    }
   ],
   "source": [
    "forecasts = model.predict(X_test)\n",
    "forecasts[:5]"
   ]
  },
  {
   "cell_type": "code",
   "execution_count": 15,
   "id": "c9f8cfa0",
   "metadata": {},
   "outputs": [],
   "source": [
    "from sklearn.metrics import mean_absolute_error"
   ]
  },
  {
   "cell_type": "code",
   "execution_count": 16,
   "id": "ff5af2d8",
   "metadata": {},
   "outputs": [
    {
     "data": {
      "text/plain": [
       "411.8068518518519"
      ]
     },
     "execution_count": 16,
     "metadata": {},
     "output_type": "execute_result"
    }
   ],
   "source": [
    "mean_absolute_error(Y_test, forecasts)"
   ]
  },
  {
   "cell_type": "code",
   "execution_count": 17,
   "id": "5defcafb",
   "metadata": {},
   "outputs": [
    {
     "data": {
      "text/plain": [
       "Red+1    366.432778\n",
       "Red+2    416.482222\n",
       "Red+3    452.505556\n",
       "dtype: float64"
      ]
     },
     "execution_count": 17,
     "metadata": {},
     "output_type": "execute_result"
    }
   ],
   "source": [
    "np.abs(Y_test-forecasts).mean()"
   ]
  },
  {
   "cell_type": "code",
   "execution_count": 18,
   "id": "571d8069",
   "metadata": {},
   "outputs": [
    {
     "data": {
      "text/plain": [
       "411.80685185185183"
      ]
     },
     "execution_count": 18,
     "metadata": {},
     "output_type": "execute_result"
    }
   ],
   "source": [
    "np.abs(Y_test-forecasts).mean().mean()"
   ]
  }
 ],
 "metadata": {
  "kernelspec": {
   "display_name": "Python 3 (ipykernel)",
   "language": "python",
   "name": "python3"
  },
  "language_info": {
   "codemirror_mode": {
    "name": "ipython",
    "version": 3
   },
   "file_extension": ".py",
   "mimetype": "text/x-python",
   "name": "python",
   "nbconvert_exporter": "python",
   "pygments_lexer": "ipython3",
   "version": "3.9.13"
  }
 },
 "nbformat": 4,
 "nbformat_minor": 5
}
