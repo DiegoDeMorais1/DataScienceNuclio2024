{
 "cells": [
  {
   "cell_type": "code",
   "execution_count": null,
   "id": "37aba87a",
   "metadata": {},
   "outputs": [],
   "source": [
    "import numpy as np\n",
    "import pandas as pd\n",
    "%matplotlib inline"
   ]
  },
  {
   "cell_type": "code",
   "execution_count": null,
   "id": "a2ba7f89",
   "metadata": {},
   "outputs": [],
   "source": [
    "wine = pd.read_csv('assets/wines.csv')"
   ]
  },
  {
   "cell_type": "code",
   "execution_count": null,
   "id": "400f4621",
   "metadata": {
    "scrolled": true
   },
   "outputs": [],
   "source": [
    "wine.head()"
   ]
  },
  {
   "cell_type": "code",
   "execution_count": null,
   "id": "94c5dea0",
   "metadata": {},
   "outputs": [],
   "source": [
    "wine.set_index('date', inplace=True)\n",
    "wine.index = pd.to_datetime(wine.index)"
   ]
  },
  {
   "cell_type": "code",
   "execution_count": null,
   "id": "711fb2be",
   "metadata": {},
   "outputs": [],
   "source": [
    "from src.tde import MultivariateTDE"
   ]
  },
  {
   "cell_type": "code",
   "execution_count": null,
   "id": "83c4195d",
   "metadata": {},
   "outputs": [],
   "source": [
    "# predicting the next 3 steps\n",
    "# using the last 3 observations\n",
    "wine_tde = MultivariateTDE(wine, horizon=3, k=2, target_col='Red')\n",
    "wine_tde.head()"
   ]
  },
  {
   "cell_type": "code",
   "execution_count": null,
   "id": "4a544792",
   "metadata": {},
   "outputs": [],
   "source": [
    "is_future = wine_tde.columns.str.contains('\\+')\n",
    "X = wine_tde.iloc[:,~is_future]\n",
    "Y = wine_tde.iloc[:,is_future]"
   ]
  },
  {
   "cell_type": "code",
   "execution_count": null,
   "id": "80179e1f",
   "metadata": {},
   "outputs": [],
   "source": []
  },
  {
   "cell_type": "code",
   "execution_count": null,
   "id": "1f5d52a8",
   "metadata": {},
   "outputs": [],
   "source": [
    "from sklearn.model_selection import train_test_split"
   ]
  },
  {
   "cell_type": "code",
   "execution_count": null,
   "id": "cecb2efd",
   "metadata": {},
   "outputs": [],
   "source": [
    "X_train, X_test, Y_train, Y_test = train_test_split(X, Y, test_size=0.3, shuffle=False)"
   ]
  },
  {
   "cell_type": "code",
   "execution_count": null,
   "id": "521637f1",
   "metadata": {},
   "outputs": [],
   "source": [
    "X_train.head()"
   ]
  },
  {
   "cell_type": "code",
   "execution_count": null,
   "id": "1e8ea7d8",
   "metadata": {},
   "outputs": [],
   "source": [
    "Y_train.head()"
   ]
  },
  {
   "cell_type": "code",
   "execution_count": null,
   "id": "beae6cdf",
   "metadata": {},
   "outputs": [],
   "source": [
    "from sklearn.multioutput import MultiOutputRegressor\n",
    "from sklearn.ensemble import RandomForestRegressor"
   ]
  },
  {
   "cell_type": "code",
   "execution_count": null,
   "id": "3874de04",
   "metadata": {},
   "outputs": [],
   "source": [
    "model = MultiOutputRegressor(RandomForestRegressor())\n",
    "model.fit(X_train, Y_train)"
   ]
  },
  {
   "cell_type": "code",
   "execution_count": null,
   "id": "899327f2",
   "metadata": {},
   "outputs": [],
   "source": [
    "forecasts = model.predict(X_test)\n",
    "forecasts[:5]"
   ]
  },
  {
   "cell_type": "code",
   "execution_count": null,
   "id": "c9f8cfa0",
   "metadata": {},
   "outputs": [],
   "source": [
    "from sklearn.metrics import mean_absolute_error"
   ]
  },
  {
   "cell_type": "code",
   "execution_count": null,
   "id": "ff5af2d8",
   "metadata": {},
   "outputs": [],
   "source": [
    "mean_absolute_error(Y_test, forecasts)"
   ]
  },
  {
   "cell_type": "code",
   "execution_count": null,
   "id": "5defcafb",
   "metadata": {},
   "outputs": [],
   "source": [
    "np.abs(Y_test-forecasts).mean()"
   ]
  },
  {
   "cell_type": "code",
   "execution_count": null,
   "id": "571d8069",
   "metadata": {},
   "outputs": [],
   "source": [
    "np.abs(Y_test-forecasts).mean().mean()"
   ]
  }
 ],
 "metadata": {
  "kernelspec": {
   "display_name": "Python 3 (ipykernel)",
   "language": "python",
   "name": "python3"
  },
  "language_info": {
   "codemirror_mode": {
    "name": "ipython",
    "version": 3
   },
   "file_extension": ".py",
   "mimetype": "text/x-python",
   "name": "python",
   "nbconvert_exporter": "python",
   "pygments_lexer": "ipython3",
   "version": "3.9.11"
  }
 },
 "nbformat": 4,
 "nbformat_minor": 5
}
