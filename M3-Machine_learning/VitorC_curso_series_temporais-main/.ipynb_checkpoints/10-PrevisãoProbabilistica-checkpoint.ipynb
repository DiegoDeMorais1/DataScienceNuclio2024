{
 "cells": [
  {
   "cell_type": "code",
   "execution_count": null,
   "id": "5d05f0dd",
   "metadata": {},
   "outputs": [],
   "source": [
    "import numpy as np\n",
    "import pandas as pd\n",
    "%matplotlib inline"
   ]
  },
  {
   "cell_type": "code",
   "execution_count": null,
   "id": "342cb543",
   "metadata": {},
   "outputs": [],
   "source": [
    "# dados dos passageiros\n",
    "from pmdarima.datasets import load_airpassengers\n",
    "\n",
    "series = load_airpassengers(as_series=True)[:-1]\n",
    "\n",
    "series.plot()"
   ]
  },
  {
   "cell_type": "code",
   "execution_count": null,
   "id": "a0948a3a",
   "metadata": {},
   "outputs": [],
   "source": [
    "from sklearn.model_selection import train_test_split\n",
    "\n",
    "train, test = train_test_split(series, shuffle=False, test_size=12)\n",
    "\n",
    "train.tail()"
   ]
  },
  {
   "cell_type": "code",
   "execution_count": null,
   "id": "bba19b26",
   "metadata": {},
   "outputs": [],
   "source": [
    "test"
   ]
  },
  {
   "cell_type": "code",
   "execution_count": null,
   "id": "62db21b4",
   "metadata": {},
   "outputs": [],
   "source": [
    "import pmdarima as pm\n",
    "\n",
    "model = pm.auto_arima(train, m=12, trace=True, suppress_warnings=True)"
   ]
  },
  {
   "cell_type": "code",
   "execution_count": null,
   "id": "3aef3a80",
   "metadata": {},
   "outputs": [],
   "source": [
    "forecasts, pred_interval = model.predict(n_periods=len(test), return_conf_int=True, alpha=0.05)\n",
    "forecasts"
   ]
  },
  {
   "cell_type": "code",
   "execution_count": null,
   "id": "655b6e12",
   "metadata": {},
   "outputs": [],
   "source": [
    "pred_interval"
   ]
  },
  {
   "cell_type": "code",
   "execution_count": null,
   "id": "e11bfba8",
   "metadata": {},
   "outputs": [],
   "source": [
    "test = test.rename('Actual')\n",
    "forecasts = pd.Series(forecasts, index=test.index).rename('Forecasts')\n",
    "ax = train.plot()\n",
    "ax = test.plot(legend=True,color='red', figsize=(12,6),title='Forecasting with Auto Arima')\n",
    "forecasts.plot(legend=True, color='green')\n",
    "ax.fill_between(test.index,\n",
    "                pred_interval[:, 0], \n",
    "                pred_interval[:, 1],\n",
    "                alpha=0.9, color='orange',\n",
    "                label=\"Prediction Intervals\")"
   ]
  },
  {
   "cell_type": "code",
   "execution_count": null,
   "id": "59460065",
   "metadata": {},
   "outputs": [],
   "source": [
    "forecasts, pred_interval = model.predict(n_periods=len(test), return_conf_int=True, alpha=0.5)\n",
    "\n",
    "test = test.rename('Actual')\n",
    "forecasts = pd.Series(forecasts, index=test.index).rename('Forecasts')\n",
    "ax = train.plot()\n",
    "ax = test.plot(legend=True,color='red', figsize=(12,6),title='Forecasting with Auto Arima')\n",
    "forecasts.plot(legend=True, color='green')\n",
    "ax.fill_between(test.index,\n",
    "                pred_interval[:, 0], \n",
    "                pred_interval[:, 1],\n",
    "                alpha=0.9, color='orange',\n",
    "                label=\"Prediction Intervals\")"
   ]
  },
  {
   "cell_type": "markdown",
   "id": "ed186960",
   "metadata": {},
   "source": [
    "# Previsão de Excedência"
   ]
  },
  {
   "cell_type": "code",
   "execution_count": null,
   "id": "53281109",
   "metadata": {},
   "outputs": [],
   "source": [
    "data = pd.read_csv('assets/wave_height_hourly.csv')"
   ]
  },
  {
   "cell_type": "code",
   "execution_count": null,
   "id": "f1ace8f8",
   "metadata": {},
   "outputs": [],
   "source": [
    "data.head()"
   ]
  },
  {
   "cell_type": "code",
   "execution_count": null,
   "id": "58a4dd18",
   "metadata": {},
   "outputs": [],
   "source": [
    "wave = pd.Series(data['SignificantWaveHeight'].values, index = pd.to_datetime(data['time']))\n",
    "wave.plot()"
   ]
  },
  {
   "cell_type": "code",
   "execution_count": null,
   "id": "524828b5",
   "metadata": {},
   "outputs": [],
   "source": [
    "from src.tde import UnivariateTDE\n",
    "\n",
    "wave_tde = UnivariateTDE(wave, horizon=12, k=6)\n",
    "wave_tde.head()"
   ]
  },
  {
   "cell_type": "code",
   "execution_count": null,
   "id": "e6bac435",
   "metadata": {},
   "outputs": [],
   "source": [
    "is_future = wave_tde.columns.str.contains('\\+')\n",
    "X = wave_tde.iloc[:,~is_future]\n",
    "y = wave_tde['t+12']\n",
    "\n",
    "X.head()"
   ]
  },
  {
   "cell_type": "code",
   "execution_count": null,
   "id": "cf407b25",
   "metadata": {},
   "outputs": [],
   "source": [
    "y"
   ]
  },
  {
   "cell_type": "code",
   "execution_count": null,
   "id": "9c52ce35",
   "metadata": {},
   "outputs": [],
   "source": [
    "X_train, X_test, y_train, y_test = train_test_split(X, y, test_size=0.3, shuffle=False)"
   ]
  },
  {
   "cell_type": "code",
   "execution_count": null,
   "id": "04dc201e",
   "metadata": {},
   "outputs": [],
   "source": [
    "y_train.describe()"
   ]
  },
  {
   "cell_type": "code",
   "execution_count": null,
   "id": "4a25a42c",
   "metadata": {},
   "outputs": [],
   "source": [
    "threshold = y_train.quantile(0.95)\n",
    "threshold"
   ]
  },
  {
   "cell_type": "code",
   "execution_count": null,
   "id": "77e1e31d",
   "metadata": {},
   "outputs": [],
   "source": [
    "y_train_clf = (y_train > threshold).astype(int)\n",
    "y_train_clf"
   ]
  },
  {
   "cell_type": "code",
   "execution_count": null,
   "id": "00eab2ee",
   "metadata": {},
   "outputs": [],
   "source": [
    "y_train_clf.value_counts(normalize=True)"
   ]
  },
  {
   "cell_type": "code",
   "execution_count": null,
   "id": "ab00f21a",
   "metadata": {},
   "outputs": [],
   "source": [
    "y_test_clf = (y_test > threshold).astype(int)\n",
    "y_test_clf.value_counts(normalize=True)"
   ]
  },
  {
   "cell_type": "code",
   "execution_count": null,
   "id": "95b54816",
   "metadata": {},
   "outputs": [],
   "source": [
    "from sklearn.ensemble import RandomForestClassifier\n",
    "\n",
    "model = RandomForestClassifier()\n",
    "model.fit(X_train, y_train_clf)"
   ]
  },
  {
   "cell_type": "code",
   "execution_count": null,
   "id": "acfbae58",
   "metadata": {},
   "outputs": [],
   "source": [
    "forecasts_prob = model.predict_proba(X_test)\n",
    "forecasts_prob"
   ]
  },
  {
   "cell_type": "code",
   "execution_count": null,
   "id": "413ca5d0",
   "metadata": {},
   "outputs": [],
   "source": [
    "exceedance_prob = forecasts_prob[:,1]\n",
    "exceedance_prob[:6]"
   ]
  },
  {
   "cell_type": "code",
   "execution_count": null,
   "id": "560ae685",
   "metadata": {},
   "outputs": [],
   "source": [
    "exceedance_prob = pd.Series(exceedance_prob, index=y_test_clf.index).rename('Exceedance Prob.')\n",
    "ax = y_test_clf.plot(legend=True,color='red', figsize=(12,6), alpha=0.5)\n",
    "exceedance_prob.plot(legend=True, color='green', alpha=0.5)"
   ]
  },
  {
   "cell_type": "code",
   "execution_count": null,
   "id": "c0af10f3",
   "metadata": {},
   "outputs": [],
   "source": [
    "from sklearn.metrics import roc_auc_score, roc_curve, plot_roc_curve\n",
    "?roc_auc_score\n",
    "\n",
    "plot_roc_curve(model, X_test, y_test_clf)"
   ]
  },
  {
   "cell_type": "code",
   "execution_count": null,
   "id": "ddf6ce47",
   "metadata": {},
   "outputs": [],
   "source": [
    "\n",
    "roc_auc_score(y_test_clf, exceedance_prob)"
   ]
  },
  {
   "cell_type": "code",
   "execution_count": null,
   "id": "f2851d2f",
   "metadata": {},
   "outputs": [],
   "source": [
    "from imblearn.ensemble import BalancedRandomForestClassifier"
   ]
  },
  {
   "cell_type": "code",
   "execution_count": null,
   "id": "64ad5f41",
   "metadata": {},
   "outputs": [],
   "source": [
    "model = BalancedRandomForestClassifier()\n",
    "model.fit(X_train, y_train_clf)"
   ]
  },
  {
   "cell_type": "code",
   "execution_count": null,
   "id": "58fbdf66",
   "metadata": {},
   "outputs": [],
   "source": [
    "forecasts_prob = model.predict_proba(X_test)\n",
    "forecasts_prob"
   ]
  },
  {
   "cell_type": "code",
   "execution_count": null,
   "id": "0af64927",
   "metadata": {},
   "outputs": [],
   "source": [
    "roc_auc_score(y_test_clf, forecasts_prob[:,1])"
   ]
  },
  {
   "cell_type": "code",
   "execution_count": null,
   "id": "350dd3c2",
   "metadata": {},
   "outputs": [],
   "source": [
    "from imblearn.over_sampling import SMOTE\n",
    "from imblearn.under_sampling import TomekLinks"
   ]
  },
  {
   "cell_type": "code",
   "execution_count": null,
   "id": "a528c365",
   "metadata": {},
   "outputs": [],
   "source": [
    "smote = SMOTE()\n",
    "X_train_r, y_train_clf_r = smote.fit_resample(X_train, y_train_clf)"
   ]
  },
  {
   "cell_type": "code",
   "execution_count": null,
   "id": "fcfef53c",
   "metadata": {},
   "outputs": [],
   "source": [
    "smote_model = RandomForestClassifier()\n",
    "smote_model.fit(X_train_r, y_train_clf_r)"
   ]
  },
  {
   "cell_type": "code",
   "execution_count": null,
   "id": "bed01187",
   "metadata": {},
   "outputs": [],
   "source": [
    "forecasts_prob_sm = smote_model.predict_proba(X_test)\n",
    "forecasts_prob_sm"
   ]
  },
  {
   "cell_type": "code",
   "execution_count": null,
   "id": "6401b74f",
   "metadata": {},
   "outputs": [],
   "source": [
    "roc_auc_score(y_test_clf, forecasts_prob_sm[:,1])"
   ]
  }
 ],
 "metadata": {
  "kernelspec": {
   "display_name": "Python 3 (ipykernel)",
   "language": "python",
   "name": "python3"
  },
  "language_info": {
   "codemirror_mode": {
    "name": "ipython",
    "version": 3
   },
   "file_extension": ".py",
   "mimetype": "text/x-python",
   "name": "python",
   "nbconvert_exporter": "python",
   "pygments_lexer": "ipython3",
   "version": "3.9.11"
  }
 },
 "nbformat": 4,
 "nbformat_minor": 5
}
