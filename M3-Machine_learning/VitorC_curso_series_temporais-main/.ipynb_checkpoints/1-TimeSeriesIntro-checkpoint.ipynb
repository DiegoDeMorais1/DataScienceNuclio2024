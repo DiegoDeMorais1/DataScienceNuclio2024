{
 "cells": [
  {
   "cell_type": "code",
   "execution_count": null,
   "id": "0a2e5273",
   "metadata": {},
   "outputs": [],
   "source": [
    "import numpy as np\n",
    "import pandas as pd\n",
    "%matplotlib inline"
   ]
  },
  {
   "cell_type": "code",
   "execution_count": null,
   "id": "fbcf0e94",
   "metadata": {},
   "outputs": [],
   "source": [
    "from pmdarima.datasets import load_ausbeer\n",
    "\n",
    "# dados trimestrais\n",
    "series = load_ausbeer(as_series=True)[:-1]"
   ]
  },
  {
   "cell_type": "code",
   "execution_count": null,
   "id": "fd173f7f",
   "metadata": {},
   "outputs": [],
   "source": [
    "?load_ausbeer"
   ]
  },
  {
   "cell_type": "code",
   "execution_count": null,
   "id": "edb5772e",
   "metadata": {},
   "outputs": [],
   "source": [
    "series.head()"
   ]
  },
  {
   "cell_type": "code",
   "execution_count": null,
   "id": "64064310",
   "metadata": {},
   "outputs": [],
   "source": [
    "series.tail()"
   ]
  },
  {
   "cell_type": "code",
   "execution_count": null,
   "id": "ebd391c8",
   "metadata": {},
   "outputs": [],
   "source": [
    "series.plot()"
   ]
  },
  {
   "cell_type": "code",
   "execution_count": null,
   "id": "938abb44",
   "metadata": {},
   "outputs": [],
   "source": [
    "series.hist()"
   ]
  },
  {
   "cell_type": "code",
   "execution_count": null,
   "id": "389fdc61",
   "metadata": {},
   "outputs": [],
   "source": [
    "from pmdarima.arima import ndiffs, nsdiffs\n",
    "\n",
    "\n",
    "# kpss test\n",
    "ndiffs(series, test='kpss')"
   ]
  },
  {
   "cell_type": "code",
   "execution_count": null,
   "id": "befd72f3",
   "metadata": {},
   "outputs": [],
   "source": [
    "# augmented dickey-fuller\n",
    "ndiffs(series, test='adf')"
   ]
  },
  {
   "cell_type": "code",
   "execution_count": null,
   "id": "25961b76",
   "metadata": {},
   "outputs": [],
   "source": [
    "# testes para sazonalidade\n",
    "nsdiffs(series, test='ocsb', m=4)"
   ]
  },
  {
   "cell_type": "code",
   "execution_count": null,
   "id": "c7dd0c24",
   "metadata": {},
   "outputs": [],
   "source": [
    "nsdiffs(series, test='ch', m=4)"
   ]
  },
  {
   "cell_type": "code",
   "execution_count": null,
   "id": "eeceb2de",
   "metadata": {},
   "outputs": [],
   "source": [
    "?series.diff"
   ]
  },
  {
   "cell_type": "code",
   "execution_count": null,
   "id": "e2ec4f19",
   "metadata": {},
   "outputs": [],
   "source": [
    "# removendo a tendencia\n",
    "series.diff(periods=1).plot()"
   ]
  },
  {
   "cell_type": "code",
   "execution_count": null,
   "id": "642404b9",
   "metadata": {},
   "outputs": [],
   "source": [
    "# removendo a sazonalidade\n",
    "series.diff(periods=4).plot()"
   ]
  },
  {
   "cell_type": "code",
   "execution_count": null,
   "id": "723f4610",
   "metadata": {},
   "outputs": [],
   "source": [
    "# residuos\n",
    "series.diff(periods=1).diff(periods=4).plot()"
   ]
  },
  {
   "cell_type": "code",
   "execution_count": null,
   "id": "ff51fb5f",
   "metadata": {},
   "outputs": [],
   "source": [
    "from statsmodels.tsa.seasonal import seasonal_decompose\n",
    "\n",
    "result = seasonal_decompose(series,\n",
    "                            model='additive',\n",
    "                            period=4)\n",
    "\n",
    "plt = result.plot()\n",
    "?seasonal_decompose"
   ]
  },
  {
   "cell_type": "code",
   "execution_count": null,
   "id": "3eaefb0c",
   "metadata": {},
   "outputs": [],
   "source": [
    "from statsmodels.graphics.tsaplots import plot_acf, plot_pacf\n",
    "\n",
    "plt = plot_acf(series, lags=12)"
   ]
  },
  {
   "cell_type": "code",
   "execution_count": null,
   "id": "b8f25463",
   "metadata": {},
   "outputs": [],
   "source": [
    "plt = plot_pacf(series, lags=12)"
   ]
  },
  {
   "cell_type": "code",
   "execution_count": null,
   "id": "c189d049",
   "metadata": {},
   "outputs": [],
   "source": [
    "plt = plot_acf(series.diff(periods=4)[4:], lags=12)"
   ]
  },
  {
   "cell_type": "code",
   "execution_count": null,
   "id": "71cf593d",
   "metadata": {},
   "outputs": [],
   "source": [
    "plt = plot_acf(series.diff().diff(periods=4)[5:], lags=12)"
   ]
  },
  {
   "cell_type": "code",
   "execution_count": null,
   "id": "e80b02f7",
   "metadata": {},
   "outputs": [],
   "source": [
    "import os\n",
    "os.listdir('..')"
   ]
  },
  {
   "cell_type": "code",
   "execution_count": null,
   "id": "7110e6e3",
   "metadata": {},
   "outputs": [],
   "source": [
    "# heterocedastidade\n",
    "from src.heteroskedasticity import het_tests\n",
    "\n",
    "p_value = het_tests(series, test='white')\n",
    "# p_value = het_tests(series, test='breuschpagan')\n",
    "\n",
    "p_value"
   ]
  },
  {
   "cell_type": "code",
   "execution_count": null,
   "id": "401fd1e6",
   "metadata": {},
   "outputs": [],
   "source": [
    "from scipy.stats import boxcox\n",
    "from scipy.special import inv_boxcox\n",
    "\n",
    "?boxcox\n",
    "# box-cox\n",
    "transformed_data, best_lambda = boxcox(series)\n",
    "\n",
    "print(transformed_data[:5])\n",
    "print(series.values[:5])\n",
    "print(best_lambda)"
   ]
  },
  {
   "cell_type": "code",
   "execution_count": null,
   "id": "5104b637",
   "metadata": {},
   "outputs": [],
   "source": [
    "pd.Series(transformed_data).plot()"
   ]
  },
  {
   "cell_type": "code",
   "execution_count": null,
   "id": "56357470",
   "metadata": {},
   "outputs": [],
   "source": [
    "series.plot()"
   ]
  },
  {
   "cell_type": "code",
   "execution_count": null,
   "id": "38011356",
   "metadata": {},
   "outputs": [],
   "source": [
    "# revertendo\n",
    "original_series = inv_boxcox(transformed_data, best_lambda)\n",
    "\n",
    "original_series[:5]"
   ]
  },
  {
   "cell_type": "code",
   "execution_count": null,
   "id": "3fabfd76",
   "metadata": {},
   "outputs": [],
   "source": [
    "all(np.isclose(original_series, series.values))"
   ]
  },
  {
   "cell_type": "markdown",
   "id": "e7f450db",
   "metadata": {},
   "source": [
    "### Dealing with missing values"
   ]
  },
  {
   "cell_type": "code",
   "execution_count": null,
   "id": "5bf351e8",
   "metadata": {},
   "outputs": [],
   "source": [
    "# missing data\n",
    "series_with_nan = series.copy()\n",
    "\n",
    "idx = np.random.choice(range(len(series)), size=50, replace=False)\n",
    "\n",
    "series_with_nan[idx] = np.nan\n",
    "\n",
    "series_with_nan.plot()"
   ]
  },
  {
   "cell_type": "code",
   "execution_count": null,
   "id": "986a1a88",
   "metadata": {},
   "outputs": [],
   "source": [
    "# ffill: propagate last valid observation forward to next valid \n",
    "series_with_nan.ffill().plot()\n",
    "?series_with_nan.ffill"
   ]
  },
  {
   "cell_type": "code",
   "execution_count": null,
   "id": "c86cee05",
   "metadata": {},
   "outputs": [],
   "source": [
    "# bfill: use next valid observation to fill gap.\n",
    "series_with_nan.bfill().plot()"
   ]
  },
  {
   "cell_type": "code",
   "execution_count": null,
   "id": "1113aa8e",
   "metadata": {},
   "outputs": [],
   "source": [
    "# filling nan with mean\n",
    "series_with_nan.fillna(series.mean()).plot()"
   ]
  },
  {
   "cell_type": "markdown",
   "id": "610523b3",
   "metadata": {},
   "source": [
    "### Dealing with irregular series"
   ]
  },
  {
   "cell_type": "code",
   "execution_count": null,
   "id": "77ad552e",
   "metadata": {},
   "outputs": [],
   "source": [
    "# IRREGULAR SERIES\n",
    "irregular = pd.read_csv('assets/irregular_series.csv')\n",
    "print(irregular.head())\n",
    "irregular['Event'] = 'Event'\n",
    "irregular.set_index('Timestamp', inplace=True)\n",
    "irregular.index = pd.DatetimeIndex(irregular.index)\n",
    "\n",
    "irregular.head()"
   ]
  },
  {
   "cell_type": "code",
   "execution_count": null,
   "id": "9cdb56a6",
   "metadata": {},
   "outputs": [],
   "source": [
    "irregular.index.date"
   ]
  },
  {
   "cell_type": "code",
   "execution_count": null,
   "id": "e4bab4d5",
   "metadata": {},
   "outputs": [],
   "source": [
    "# grouping by date\n",
    "regular = irregular.groupby(irregular.index.date).count()\n",
    "\n",
    "# counting zeros\n",
    "index_range = pd.date_range('2021-08-14', '2022-04-07')\n",
    "regular = regular.reindex(index_range, fill_value=0)\n",
    "\n",
    "regular.reset_index().plot.line(x='index', y='Event', rot=0)"
   ]
  },
  {
   "cell_type": "code",
   "execution_count": null,
   "id": "2b04f36a",
   "metadata": {},
   "outputs": [],
   "source": [
    "regular"
   ]
  },
  {
   "cell_type": "code",
   "execution_count": null,
   "id": "e745d493",
   "metadata": {},
   "outputs": [],
   "source": [
    "regular.resample('W').mean()"
   ]
  },
  {
   "cell_type": "code",
   "execution_count": null,
   "id": "96ad9937",
   "metadata": {},
   "outputs": [],
   "source": [
    "?regular.resample"
   ]
  },
  {
   "cell_type": "code",
   "execution_count": null,
   "id": "404add08",
   "metadata": {},
   "outputs": [],
   "source": [
    "regular.resample('M').mean()"
   ]
  },
  {
   "cell_type": "markdown",
   "id": "81d677eb",
   "metadata": {},
   "source": [
    "### Weekly Seasonality"
   ]
  },
  {
   "cell_type": "code",
   "execution_count": null,
   "id": "efabcda6",
   "metadata": {},
   "outputs": [],
   "source": [
    "from pmdarima.datasets import load_gasoline\n",
    "\n",
    "?load_gasoline"
   ]
  },
  {
   "cell_type": "code",
   "execution_count": null,
   "id": "52b00bf6",
   "metadata": {},
   "outputs": [],
   "source": [
    "gasoline = load_gasoline(True)\n",
    "gasoline.plot()"
   ]
  },
  {
   "cell_type": "code",
   "execution_count": null,
   "id": "09bdaf37",
   "metadata": {},
   "outputs": [],
   "source": [
    "nsdiffs(gasoline, m=52)"
   ]
  },
  {
   "cell_type": "code",
   "execution_count": null,
   "id": "0c63714d",
   "metadata": {},
   "outputs": [],
   "source": [
    "from pmdarima.datasets import load_wineind\n",
    "\n",
    "?load_wineind"
   ]
  }
 ],
 "metadata": {
  "kernelspec": {
   "display_name": "Python 3 (ipykernel)",
   "language": "python",
   "name": "python3"
  },
  "language_info": {
   "codemirror_mode": {
    "name": "ipython",
    "version": 3
   },
   "file_extension": ".py",
   "mimetype": "text/x-python",
   "name": "python",
   "nbconvert_exporter": "python",
   "pygments_lexer": "ipython3",
   "version": "3.9.11"
  }
 },
 "nbformat": 4,
 "nbformat_minor": 5
}
