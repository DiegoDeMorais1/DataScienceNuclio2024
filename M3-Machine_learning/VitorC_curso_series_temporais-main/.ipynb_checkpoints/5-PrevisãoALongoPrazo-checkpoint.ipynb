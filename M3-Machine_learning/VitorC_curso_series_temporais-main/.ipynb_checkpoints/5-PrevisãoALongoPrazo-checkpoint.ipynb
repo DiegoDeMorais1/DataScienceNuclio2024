{
 "cells": [
  {
   "cell_type": "code",
   "execution_count": null,
   "id": "37aba87a",
   "metadata": {},
   "outputs": [],
   "source": [
    "import numpy as np\n",
    "import pandas as pd\n",
    "%matplotlib inline"
   ]
  },
  {
   "cell_type": "code",
   "execution_count": null,
   "id": "a2ba7f89",
   "metadata": {},
   "outputs": [],
   "source": [
    "data = pd.read_csv('assets/wave_height_hourly.csv')"
   ]
  },
  {
   "cell_type": "code",
   "execution_count": null,
   "id": "400f4621",
   "metadata": {
    "scrolled": true
   },
   "outputs": [],
   "source": [
    "data.head()"
   ]
  },
  {
   "cell_type": "code",
   "execution_count": null,
   "id": "8eb2a27c",
   "metadata": {},
   "outputs": [],
   "source": [
    "wave = pd.Series(data['SignificantWaveHeight'].values, index = pd.to_datetime(data['time']))\n",
    "wave.plot()"
   ]
  },
  {
   "cell_type": "code",
   "execution_count": null,
   "id": "711fb2be",
   "metadata": {},
   "outputs": [],
   "source": [
    "from src.tde import UnivariateTDE"
   ]
  },
  {
   "cell_type": "code",
   "execution_count": null,
   "id": "83c4195d",
   "metadata": {},
   "outputs": [],
   "source": [
    "# prever os valores das próximas 12 horas com base nas últimas 6\n",
    "wave_tde = UnivariateTDE(wave, horizon=12, k=6)\n",
    "wave_tde.head()"
   ]
  },
  {
   "cell_type": "code",
   "execution_count": null,
   "id": "4a544792",
   "metadata": {},
   "outputs": [],
   "source": [
    "is_future = wave_tde.columns.str.contains('\\+')\n",
    "X = wave_tde.iloc[:,~is_future]\n",
    "Y = wave_tde.iloc[:,is_future]\n",
    "\n",
    "X.head()"
   ]
  },
  {
   "cell_type": "code",
   "execution_count": null,
   "id": "a6bbba62",
   "metadata": {},
   "outputs": [],
   "source": [
    "Y.head()"
   ]
  },
  {
   "cell_type": "code",
   "execution_count": null,
   "id": "1f5d52a8",
   "metadata": {},
   "outputs": [],
   "source": [
    "from sklearn.model_selection import train_test_split"
   ]
  },
  {
   "cell_type": "code",
   "execution_count": null,
   "id": "cecb2efd",
   "metadata": {},
   "outputs": [],
   "source": [
    "X_train, X_test, Y_train, Y_test = train_test_split(X, Y, test_size=0.3, shuffle=False)"
   ]
  },
  {
   "cell_type": "code",
   "execution_count": null,
   "id": "521637f1",
   "metadata": {},
   "outputs": [],
   "source": [
    "X_train.head()"
   ]
  },
  {
   "cell_type": "code",
   "execution_count": null,
   "id": "03795b96",
   "metadata": {
    "scrolled": true
   },
   "outputs": [],
   "source": [
    "X_test.head()"
   ]
  },
  {
   "cell_type": "markdown",
   "id": "85354371",
   "metadata": {},
   "source": [
    "### Método Direto"
   ]
  },
  {
   "cell_type": "code",
   "execution_count": null,
   "id": "beae6cdf",
   "metadata": {},
   "outputs": [],
   "source": [
    "# Abordagem direta\n",
    "from sklearn.multioutput import MultiOutputRegressor\n",
    "from sklearn.linear_model import Ridge\n",
    "\n",
    "?MultiOutputRegressor"
   ]
  },
  {
   "cell_type": "code",
   "execution_count": null,
   "id": "3874de04",
   "metadata": {},
   "outputs": [],
   "source": [
    "model = MultiOutputRegressor(Ridge())"
   ]
  },
  {
   "cell_type": "code",
   "execution_count": null,
   "id": "a314672d",
   "metadata": {},
   "outputs": [],
   "source": [
    "model.fit(X_train, Y_train)"
   ]
  },
  {
   "cell_type": "code",
   "execution_count": null,
   "id": "899327f2",
   "metadata": {},
   "outputs": [],
   "source": [
    "forecasts_direto = model.predict(X_test)\n",
    "print(forecasts_direto[:5])\n",
    "forecasts_direto = pd.DataFrame(forecasts_direto, columns = Y_test.columns)\n",
    "forecasts_direto.head()"
   ]
  },
  {
   "cell_type": "code",
   "execution_count": null,
   "id": "5b5235c5",
   "metadata": {},
   "outputs": [],
   "source": [
    "from sklearn.metrics import mean_absolute_error"
   ]
  },
  {
   "cell_type": "code",
   "execution_count": null,
   "id": "1eab0086",
   "metadata": {},
   "outputs": [],
   "source": [
    "error_by_horizon_dir = {}\n",
    "for h in Y_test.columns:\n",
    "    error_by_horizon_dir[h] = mean_absolute_error(Y_test[h], forecasts_direto[h])\n",
    "    \n",
    "error_by_horizon_dir"
   ]
  },
  {
   "cell_type": "code",
   "execution_count": null,
   "id": "a73bd28a",
   "metadata": {},
   "outputs": [],
   "source": [
    "pd.Series(error_by_horizon_dir).plot()"
   ]
  },
  {
   "cell_type": "markdown",
   "id": "3b45eb7c",
   "metadata": {},
   "source": [
    "### Método Recursivo"
   ]
  },
  {
   "cell_type": "code",
   "execution_count": null,
   "id": "cac9dd72",
   "metadata": {},
   "outputs": [],
   "source": [
    "model = Ridge()\n",
    "print(Y_train['t+1'].head())\n",
    "model.fit(X_train, Y_train['t+1'])"
   ]
  },
  {
   "cell_type": "code",
   "execution_count": null,
   "id": "07e07112",
   "metadata": {},
   "outputs": [],
   "source": [
    "Y_hat = pd.DataFrame(np.zeros((X_test.shape[0], 12)), columns=Y_train.columns)\n",
    "Y_hat.head()"
   ]
  },
  {
   "cell_type": "code",
   "execution_count": null,
   "id": "10613601",
   "metadata": {},
   "outputs": [],
   "source": [
    "yh = model.predict(X_test)\n",
    "Y_hat['t+1'] = yh\n",
    "\n",
    "X_ = X_test.copy()\n",
    "for i in range(2, 12 + 1):\n",
    "    print('Antes')\n",
    "    print(X_.head(3))\n",
    "    X_.iloc[:, :-1] = X_.iloc[:, 1:].values\n",
    "    X_['t-0'] = yh\n",
    "    print('Depois')\n",
    "    print(X_.head(3))\n",
    "\n",
    "    yh = model.predict(X_)\n",
    "\n",
    "    Y_hat[f't+{i}'] = yh"
   ]
  },
  {
   "cell_type": "code",
   "execution_count": null,
   "id": "6f7d370d",
   "metadata": {},
   "outputs": [],
   "source": [
    "Y_hat.head()"
   ]
  },
  {
   "cell_type": "code",
   "execution_count": null,
   "id": "1cbf1ba7",
   "metadata": {},
   "outputs": [],
   "source": [
    "error_by_horizon_rec = {}\n",
    "for h in Y_test.columns:\n",
    "    error_by_horizon_rec[h] = mean_absolute_error(Y_test[h], Y_hat[h])\n",
    "    \n",
    "error_by_horizon_rec"
   ]
  },
  {
   "cell_type": "code",
   "execution_count": null,
   "id": "f87f0f3f",
   "metadata": {},
   "outputs": [],
   "source": [
    "pd.Series(error_by_horizon_rec).mean()"
   ]
  },
  {
   "cell_type": "code",
   "execution_count": null,
   "id": "1c822fe0",
   "metadata": {},
   "outputs": [],
   "source": [
    "pd.Series(error_by_horizon_dir).mean()"
   ]
  },
  {
   "cell_type": "markdown",
   "id": "e5b9b946",
   "metadata": {},
   "source": [
    "### Método Direto-Recursivo (DirRec)"
   ]
  },
  {
   "cell_type": "code",
   "execution_count": null,
   "id": "c575e825",
   "metadata": {},
   "outputs": [],
   "source": [
    "from sklearn.multioutput import RegressorChain\n",
    "\n",
    "?RegressorChain\n",
    "\n",
    "model = RegressorChain(Ridge())\n",
    "model.fit(X_train, Y_train)"
   ]
  },
  {
   "cell_type": "code",
   "execution_count": null,
   "id": "457b5a6b",
   "metadata": {},
   "outputs": [],
   "source": [
    "forecasts_dr = model.predict(X_test)\n",
    "forecasts_dr = pd.DataFrame(forecasts_dr, columns = Y_test.columns)\n",
    "forecasts_dr.head()"
   ]
  },
  {
   "cell_type": "code",
   "execution_count": null,
   "id": "b02d2ea4",
   "metadata": {},
   "outputs": [],
   "source": [
    "error_by_horizon_dr = {}\n",
    "for h in Y_test.columns:\n",
    "    error_by_horizon_dr[h] = mean_absolute_error(Y_test[h], forecasts_dr[h])\n",
    "    \n",
    "error_by_horizon_dr"
   ]
  },
  {
   "cell_type": "code",
   "execution_count": null,
   "id": "ce95b279",
   "metadata": {},
   "outputs": [],
   "source": [
    "# pd.Series(error_by_horizon_dr)\n",
    "pd.Series(error_by_horizon_dr).mean()"
   ]
  },
  {
   "cell_type": "markdown",
   "id": "7fa2adfe",
   "metadata": {},
   "source": [
    "### Método Multi-output"
   ]
  },
  {
   "cell_type": "code",
   "execution_count": null,
   "id": "e4e0de9d",
   "metadata": {},
   "outputs": [],
   "source": [
    "from sklearn.neighbors import KNeighborsRegressor\n",
    "model_mo = KNeighborsRegressor()\n",
    "model_mo.fit(X_train, Y_train)"
   ]
  },
  {
   "cell_type": "code",
   "execution_count": null,
   "id": "86a718f1",
   "metadata": {},
   "outputs": [],
   "source": [
    "forecasts_mo = model_mo.predict(X_test)\n",
    "forecasts_mo = pd.DataFrame(forecasts_mo, columns = Y_test.columns)\n",
    "forecasts_mo.head()"
   ]
  },
  {
   "cell_type": "code",
   "execution_count": null,
   "id": "0e9f9a31",
   "metadata": {},
   "outputs": [],
   "source": [
    "error_by_horizon_mo = {}\n",
    "for h in Y_test.columns:\n",
    "    error_by_horizon_mo[h] = mean_absolute_error(Y_test[h], forecasts_mo[h])\n",
    "    \n",
    "error_by_horizon_mo"
   ]
  },
  {
   "cell_type": "code",
   "execution_count": null,
   "id": "6696fcb1",
   "metadata": {},
   "outputs": [],
   "source": [
    "pd.Series(error_by_horizon_mo).mean()"
   ]
  },
  {
   "cell_type": "code",
   "execution_count": null,
   "id": "7c79d900",
   "metadata": {},
   "outputs": [],
   "source": [
    "print(f'Erro Direto: {pd.Series(error_by_horizon_dir).mean()}')\n",
    "print(f'Erro Recursivo: {pd.Series(error_by_horizon_rec).mean()}')\n",
    "print(f'Erro Direto-Recursivo: {pd.Series(error_by_horizon_dr).mean()}')\n",
    "print(f'Erro Multi-output: {pd.Series(error_by_horizon_mo).mean()}')"
   ]
  }
 ],
 "metadata": {
  "kernelspec": {
   "display_name": "Python 3 (ipykernel)",
   "language": "python",
   "name": "python3"
  },
  "language_info": {
   "codemirror_mode": {
    "name": "ipython",
    "version": 3
   },
   "file_extension": ".py",
   "mimetype": "text/x-python",
   "name": "python",
   "nbconvert_exporter": "python",
   "pygments_lexer": "ipython3",
   "version": "3.9.11"
  }
 },
 "nbformat": 4,
 "nbformat_minor": 5
}
