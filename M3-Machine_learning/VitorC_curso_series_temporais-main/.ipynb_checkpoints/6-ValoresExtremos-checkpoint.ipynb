{
 "cells": [
  {
   "cell_type": "code",
   "execution_count": null,
   "id": "37aba87a",
   "metadata": {},
   "outputs": [],
   "source": [
    "import numpy as np\n",
    "import pandas as pd\n",
    "%matplotlib inline"
   ]
  },
  {
   "cell_type": "code",
   "execution_count": null,
   "id": "a2ba7f89",
   "metadata": {},
   "outputs": [],
   "source": [
    "data = pd.read_csv('assets/wave_height_hourly.csv')"
   ]
  },
  {
   "cell_type": "code",
   "execution_count": null,
   "id": "400f4621",
   "metadata": {
    "scrolled": true
   },
   "outputs": [],
   "source": [
    "data.head()"
   ]
  },
  {
   "cell_type": "code",
   "execution_count": null,
   "id": "94c5dea0",
   "metadata": {},
   "outputs": [],
   "source": [
    "wave = pd.Series(data['SignificantWaveHeight'].values, index = pd.to_datetime(data['time']))"
   ]
  },
  {
   "cell_type": "code",
   "execution_count": null,
   "id": "711fb2be",
   "metadata": {},
   "outputs": [],
   "source": [
    "from src.tde import UnivariateTDE"
   ]
  },
  {
   "cell_type": "code",
   "execution_count": null,
   "id": "83c4195d",
   "metadata": {},
   "outputs": [],
   "source": [
    "wave_tde = UnivariateTDE(wave, horizon=6, k=6)\n",
    "wave_tde.head()"
   ]
  },
  {
   "cell_type": "code",
   "execution_count": null,
   "id": "4a544792",
   "metadata": {},
   "outputs": [],
   "source": [
    "is_future = wave_tde.columns.str.contains('\\+')\n",
    "X = wave_tde.iloc[:,~is_future]\n",
    "y = wave_tde['t+6']"
   ]
  },
  {
   "cell_type": "code",
   "execution_count": null,
   "id": "1f5d52a8",
   "metadata": {},
   "outputs": [],
   "source": [
    "from sklearn.model_selection import train_test_split"
   ]
  },
  {
   "cell_type": "code",
   "execution_count": null,
   "id": "cecb2efd",
   "metadata": {},
   "outputs": [],
   "source": [
    "X_train, X_test, y_train, y_test = train_test_split(X, y, test_size=0.3, shuffle=False)"
   ]
  },
  {
   "cell_type": "code",
   "execution_count": null,
   "id": "521637f1",
   "metadata": {},
   "outputs": [],
   "source": [
    "X_train.head()"
   ]
  },
  {
   "cell_type": "code",
   "execution_count": null,
   "id": "1e8ea7d8",
   "metadata": {},
   "outputs": [],
   "source": [
    "y_train.head()"
   ]
  },
  {
   "cell_type": "code",
   "execution_count": null,
   "id": "beae6cdf",
   "metadata": {},
   "outputs": [],
   "source": [
    "from sklearn.ensemble import RandomForestRegressor\n",
    "from sklearn.linear_model import Ridge"
   ]
  },
  {
   "cell_type": "code",
   "execution_count": null,
   "id": "3874de04",
   "metadata": {},
   "outputs": [],
   "source": [
    "model = Ridge()\n",
    "model.fit(X_train, y_train)"
   ]
  },
  {
   "cell_type": "code",
   "execution_count": null,
   "id": "899327f2",
   "metadata": {},
   "outputs": [],
   "source": [
    "forecasts = model.predict(X_test)\n",
    "forecasts"
   ]
  },
  {
   "cell_type": "code",
   "execution_count": null,
   "id": "5b5235c5",
   "metadata": {},
   "outputs": [],
   "source": [
    "test_data = pd.DataFrame({'forecasts': forecasts, 'actual': y_test})\n",
    "test_data.head()"
   ]
  },
  {
   "cell_type": "code",
   "execution_count": null,
   "id": "6d2ed995",
   "metadata": {
    "scrolled": true
   },
   "outputs": [],
   "source": [
    "import seaborn as sns\n",
    "sns.lmplot(x='forecasts', y='actual',data=test_data,fit_reg=True) "
   ]
  },
  {
   "cell_type": "code",
   "execution_count": null,
   "id": "c9f8cfa0",
   "metadata": {},
   "outputs": [],
   "source": [
    "from sklearn.metrics import mean_absolute_error, r2_score\n",
    "from src.error import MASE"
   ]
  },
  {
   "cell_type": "code",
   "execution_count": null,
   "id": "ff5af2d8",
   "metadata": {},
   "outputs": [],
   "source": [
    "# MASE(y_train, y_test, forecasts)\n",
    "mean_absolute_error(y_test, forecasts)"
   ]
  },
  {
   "cell_type": "code",
   "execution_count": null,
   "id": "fc6d0110",
   "metadata": {},
   "outputs": [],
   "source": [
    "large_y_test = y_test[y_test > 5]\n",
    "large_forecasts = forecasts[y_test > 5]\n",
    "mean_absolute_error(large_y_test, large_forecasts)"
   ]
  },
  {
   "cell_type": "code",
   "execution_count": null,
   "id": "41584c0c",
   "metadata": {},
   "outputs": [],
   "source": [
    "r2_score(y_test, forecasts)"
   ]
  },
  {
   "cell_type": "code",
   "execution_count": null,
   "id": "15ddd02a",
   "metadata": {},
   "outputs": [],
   "source": [
    "r2_score(large_y_test, large_forecasts)"
   ]
  }
 ],
 "metadata": {
  "kernelspec": {
   "display_name": "Python 3 (ipykernel)",
   "language": "python",
   "name": "python3"
  },
  "language_info": {
   "codemirror_mode": {
    "name": "ipython",
    "version": 3
   },
   "file_extension": ".py",
   "mimetype": "text/x-python",
   "name": "python",
   "nbconvert_exporter": "python",
   "pygments_lexer": "ipython3",
   "version": "3.9.11"
  }
 },
 "nbformat": 4,
 "nbformat_minor": 5
}
