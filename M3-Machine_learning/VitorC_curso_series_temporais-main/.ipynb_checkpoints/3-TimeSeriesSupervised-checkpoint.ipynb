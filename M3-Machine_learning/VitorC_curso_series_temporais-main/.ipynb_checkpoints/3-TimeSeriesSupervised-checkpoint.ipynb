{
 "cells": [
  {
   "cell_type": "code",
   "execution_count": null,
   "id": "5d05f0dd",
   "metadata": {},
   "outputs": [],
   "source": [
    "import numpy as np\n",
    "import pandas as pd\n",
    "%matplotlib inline"
   ]
  },
  {
   "cell_type": "code",
   "execution_count": null,
   "id": "fcea1942",
   "metadata": {},
   "outputs": [],
   "source": [
    "# exemplo - sequencia de 0 até 19\n",
    "dummy_series = pd.Series(range(20))\n",
    "dummy_series"
   ]
  },
  {
   "cell_type": "code",
   "execution_count": null,
   "id": "017762b8",
   "metadata": {},
   "outputs": [],
   "source": [
    "from src.tde import UnivariateTDE\n",
    "\n",
    "# série para matriz\n",
    "UnivariateTDE(data=dummy_series, k=5, horizon=1)"
   ]
  },
  {
   "cell_type": "code",
   "execution_count": null,
   "id": "db27f0f1",
   "metadata": {},
   "outputs": [],
   "source": [
    "# vários pontos no futuro\n",
    "UnivariateTDE(data=dummy_series, k=5, horizon=5)"
   ]
  },
  {
   "cell_type": "code",
   "execution_count": null,
   "id": "342cb543",
   "metadata": {},
   "outputs": [],
   "source": [
    "from pmdarima.datasets import load_airpassengers\n",
    "\n",
    "series = load_airpassengers(as_series=True)[:-1]\n",
    "\n",
    "series.plot()"
   ]
  },
  {
   "cell_type": "code",
   "execution_count": null,
   "id": "6df692d1",
   "metadata": {},
   "outputs": [],
   "source": [
    "series_df = UnivariateTDE(data=series, k=5, horizon=1)\n",
    "series_df.head()"
   ]
  },
  {
   "cell_type": "code",
   "execution_count": null,
   "id": "f6d77a1a",
   "metadata": {},
   "outputs": [],
   "source": [
    "from sklearn.ensemble import RandomForestRegressor\n",
    "from sklearn.model_selection import train_test_split\n",
    "\n",
    "# separando as variáveis explicativas\n",
    "X = series_df.drop('t+1', axis=1)\n",
    "y = series_df['t+1']\n",
    "\n",
    "# train test split\n",
    "X_train, X_test, y_train, y_test = train_test_split(X, y, test_size=0.3, shuffle=False)"
   ]
  },
  {
   "cell_type": "code",
   "execution_count": null,
   "id": "a10a5056",
   "metadata": {},
   "outputs": [],
   "source": [
    "# treinando uma Random Forest\n",
    "model = RandomForestRegressor()\n",
    "model.fit(X_train, y_train)"
   ]
  },
  {
   "cell_type": "code",
   "execution_count": null,
   "id": "3dbdf23d",
   "metadata": {},
   "outputs": [],
   "source": [
    "# previsoes\n",
    "forecasts = model.predict(X_test)\n",
    "forecasts[:10]"
   ]
  },
  {
   "cell_type": "code",
   "execution_count": null,
   "id": "996de887",
   "metadata": {},
   "outputs": [],
   "source": [
    "# computing the error\n",
    "from src.error import MASE\n",
    "\n",
    "MASE(y_train, y_test, forecasts)"
   ]
  },
  {
   "cell_type": "code",
   "execution_count": null,
   "id": "d3fcfc03",
   "metadata": {},
   "outputs": [],
   "source": [
    "y_test = y_test.rename('Actual')\n",
    "forecasts = pd.Series(forecasts, index=y_test.index).rename('Forecasts')\n",
    "ax = y_train.plot()\n",
    "ax = y_test.plot(legend=True,color='red', figsize=(12,6),title='Forecasting with RF')\n",
    "forecasts.plot(legend=True, color='green')"
   ]
  },
  {
   "cell_type": "code",
   "execution_count": null,
   "id": "7b861cff",
   "metadata": {},
   "outputs": [],
   "source": [
    "from sklearn.linear_model import Ridge, Lasso, LinearRegression\n",
    "from sklearn.tree import DecisionTreeRegressor\n",
    "from lightgbm import LGBMRegressor\n",
    "\n",
    "ridge = Ridge()\n",
    "lasso = Lasso()\n",
    "linear_reg = LinearRegression()\n",
    "rf = RandomForestRegressor()\n",
    "tree = DecisionTreeRegressor()\n",
    "lgbm = LGBMRegressor()"
   ]
  },
  {
   "cell_type": "code",
   "execution_count": null,
   "id": "2e963da5",
   "metadata": {},
   "outputs": [],
   "source": [
    "ridge.fit(X_train, y_train)\n",
    "lasso.fit(X_train, y_train)\n",
    "linear_reg.fit(X_train, y_train)\n",
    "rf.fit(X_train, y_train)\n",
    "tree.fit(X_train, y_train)\n",
    "lgbm.fit(X_train, y_train)"
   ]
  },
  {
   "cell_type": "code",
   "execution_count": null,
   "id": "12b0f30e",
   "metadata": {},
   "outputs": [],
   "source": [
    "models = [ridge, lasso, linear_reg, rf, tree, lgbm]\n",
    "colors = ['yellow','orange','green','grey','black','purple']\n",
    "forecasts = []\n",
    "for j,m in enumerate(models):\n",
    "    print(j)\n",
    "    pred = m.predict(X_test)\n",
    "    pred = pd.Series(pred, index=y_test.index).rename(f'Forecast {j}')\n",
    "    forecasts.append(pred)\n"
   ]
  },
  {
   "cell_type": "code",
   "execution_count": null,
   "id": "a28dd266",
   "metadata": {
    "scrolled": true
   },
   "outputs": [],
   "source": [
    "ax = y_train.plot()\n",
    "ax = y_test.plot(legend=True,color='red', figsize=(12,6))\n",
    "for j, pred in enumerate(forecasts):\n",
    "    pred.plot(legend=True, color=colors[j])"
   ]
  },
  {
   "cell_type": "code",
   "execution_count": null,
   "id": "33187dd9",
   "metadata": {},
   "outputs": [],
   "source": [
    "for pred in forecasts:\n",
    "    print(MASE(y_train, y_test, pred))"
   ]
  },
  {
   "cell_type": "code",
   "execution_count": null,
   "id": "4842cb8c",
   "metadata": {},
   "outputs": [],
   "source": [
    "ridge.fit(X_train[1:], y_train.diff()[1:])\n",
    "lasso.fit(X_train[1:], y_train.diff()[1:])\n",
    "linear_reg.fit(X_train[1:], y_train.diff()[1:])\n",
    "rf.fit(X_train[1:], y_train.diff()[1:])\n",
    "tree.fit(X_train[1:], y_train.diff()[1:])\n",
    "lgbm.fit(X_train[1:], y_train.diff()[1:])"
   ]
  },
  {
   "cell_type": "code",
   "execution_count": null,
   "id": "bba9540e",
   "metadata": {},
   "outputs": [],
   "source": [
    "models = [ridge, lasso, linear_reg, rf, tree, lgbm]\n",
    "for m in models:\n",
    "    pred = m.predict(X_test)\n",
    "    print(MASE(y_train.diff()[1:], y_test.diff()[1:], pred[1:]))"
   ]
  },
  {
   "cell_type": "markdown",
   "id": "ee914689",
   "metadata": {},
   "source": [
    "# Transformations\n",
    "\n",
    "##### About the importance of transformations"
   ]
  },
  {
   "cell_type": "code",
   "execution_count": null,
   "id": "fe882a5a",
   "metadata": {},
   "outputs": [],
   "source": [
    "dummy_series.plot()"
   ]
  },
  {
   "cell_type": "code",
   "execution_count": null,
   "id": "bd8355f7",
   "metadata": {},
   "outputs": [],
   "source": [
    "train, test = train_test_split(dummy_series, test_size=1, shuffle=False)\n",
    "\n",
    "train.tail()"
   ]
  },
  {
   "cell_type": "code",
   "execution_count": null,
   "id": "8c342cbb",
   "metadata": {},
   "outputs": [],
   "source": [
    "test.head()"
   ]
  },
  {
   "cell_type": "code",
   "execution_count": null,
   "id": "de299bb3",
   "metadata": {},
   "outputs": [],
   "source": [
    "train_df = UnivariateTDE(data=train, k=3, horizon=1)\n",
    "\n",
    "train_df"
   ]
  },
  {
   "cell_type": "code",
   "execution_count": null,
   "id": "f802005f",
   "metadata": {},
   "outputs": [],
   "source": [
    "X_train, y_train = train_df.drop('t+1', axis=1), train_df['t+1']"
   ]
  },
  {
   "cell_type": "code",
   "execution_count": null,
   "id": "ae99012b",
   "metadata": {},
   "outputs": [],
   "source": [
    "from sklearn.ensemble import RandomForestRegressor\n",
    "\n",
    "model = RandomForestRegressor()\n",
    "model.fit(X_train.values, y_train)\n",
    "\n",
    "forecast = model.predict([[16,17,18]])\n",
    "\n",
    "forecast"
   ]
  },
  {
   "cell_type": "code",
   "execution_count": null,
   "id": "a64419f3",
   "metadata": {},
   "outputs": [],
   "source": [
    "# same process but with differenced data\n",
    "train_df = UnivariateTDE(data=train.diff(), k=3, horizon=1)\n",
    "print(train_df)\n",
    "\n",
    "X_train, y_train = train_df.drop('t+1', axis=1), train_df['t+1']\n",
    "\n",
    "from sklearn.ensemble import RandomForestRegressor\n",
    "\n",
    "model = RandomForestRegressor()\n",
    "model.fit(X_train.values, y_train)"
   ]
  },
  {
   "cell_type": "code",
   "execution_count": null,
   "id": "15e7b637",
   "metadata": {},
   "outputs": [],
   "source": [
    "forecast = model.predict([[16,17,18]])\n",
    "print(forecast)\n",
    "\n",
    "# adding last known value to the forecast to revert the differencing operation\n",
    "forecast + train.values[-1]"
   ]
  }
 ],
 "metadata": {
  "kernelspec": {
   "display_name": "Python 3 (ipykernel)",
   "language": "python",
   "name": "python3"
  },
  "language_info": {
   "codemirror_mode": {
    "name": "ipython",
    "version": 3
   },
   "file_extension": ".py",
   "mimetype": "text/x-python",
   "name": "python",
   "nbconvert_exporter": "python",
   "pygments_lexer": "ipython3",
   "version": "3.9.11"
  }
 },
 "nbformat": 4,
 "nbformat_minor": 5
}
