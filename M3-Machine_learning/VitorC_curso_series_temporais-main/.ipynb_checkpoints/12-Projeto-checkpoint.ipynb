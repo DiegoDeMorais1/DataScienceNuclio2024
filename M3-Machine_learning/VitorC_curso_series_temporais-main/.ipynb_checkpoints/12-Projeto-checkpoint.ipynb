{
 "cells": [
  {
   "cell_type": "markdown",
   "id": "86a85cdb",
   "metadata": {},
   "source": [
    "# Objetivos\n",
    "\n",
    "1. Descrever a série temporal de acordo com as suas componentes e propriedades.\n",
    "Desde a tendência, sazonalidade, heterocedastidade, entre outros.\n",
    "\n",
    "2. Descrever a estrutura ARIMA que melhor se adequa aos dados\n",
    "\n",
    "3. Avaliar diferentes métodos de aprendizagem máquina com validação cruzada.\n",
    "\n",
    "4. Analisar os resultados obtidos no ponto 3. Descrever o impacto dos seguintes aspetos no desempenho preditivo: a) diferentes horizontes de previsão, b) desempenho nos valores extremos, diferentes algoritmos de aprendizagem máquina"
   ]
  },
  {
   "cell_type": "code",
   "execution_count": null,
   "id": "79a6a2c4",
   "metadata": {},
   "outputs": [],
   "source": [
    "import pandas as pd\n",
    "%matplotlib inline"
   ]
  },
  {
   "cell_type": "code",
   "execution_count": null,
   "id": "a1be9af4",
   "metadata": {},
   "outputs": [],
   "source": [
    "# https://github.com/vcerqueira/energy_load_data\n",
    "data = pd.read_csv('assets/energy_load_pt.csv')\n",
    "# dimensão dos dados\n",
    "data.shape"
   ]
  },
  {
   "cell_type": "code",
   "execution_count": null,
   "id": "53d8414b",
   "metadata": {},
   "outputs": [],
   "source": [
    "data.head()"
   ]
  },
  {
   "cell_type": "code",
   "execution_count": null,
   "id": "0fd7bb45",
   "metadata": {},
   "outputs": [],
   "source": [
    "series = pd.Series(data['load'])\n",
    "series.index = pd.to_datetime(data['datetime'])\n",
    "series.plot()"
   ]
  },
  {
   "cell_type": "code",
   "execution_count": null,
   "id": "77e4ad2f",
   "metadata": {},
   "outputs": [],
   "source": [
    "series.resample('D').mean().plot()"
   ]
  }
 ],
 "metadata": {
  "kernelspec": {
   "display_name": "Python 3 (ipykernel)",
   "language": "python",
   "name": "python3"
  },
  "language_info": {
   "codemirror_mode": {
    "name": "ipython",
    "version": 3
   },
   "file_extension": ".py",
   "mimetype": "text/x-python",
   "name": "python",
   "nbconvert_exporter": "python",
   "pygments_lexer": "ipython3",
   "version": "3.9.11"
  }
 },
 "nbformat": 4,
 "nbformat_minor": 5
}
