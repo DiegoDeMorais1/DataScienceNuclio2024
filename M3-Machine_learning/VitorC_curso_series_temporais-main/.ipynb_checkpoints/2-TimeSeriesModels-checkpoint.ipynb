{
 "cells": [
  {
   "cell_type": "code",
   "execution_count": null,
   "id": "0a2e5273",
   "metadata": {},
   "outputs": [],
   "source": [
    "import numpy as np\n",
    "import pandas as pd\n",
    "import matplotlib.pyplot as plt\n",
    "%matplotlib inline"
   ]
  },
  {
   "cell_type": "code",
   "execution_count": null,
   "id": "fbcf0e94",
   "metadata": {},
   "outputs": [],
   "source": [
    "from pmdarima.datasets import load_ausbeer\n",
    "\n",
    "# dados trimestrais\n",
    "series = load_ausbeer(as_series=True)[:-1]\n",
    "\n",
    "series.plot()"
   ]
  },
  {
   "cell_type": "code",
   "execution_count": null,
   "id": "edb5772e",
   "metadata": {},
   "outputs": [],
   "source": [
    "# divisao entre treino e validacao\n",
    "from sklearn.model_selection import train_test_split\n",
    "\n",
    "train, test = train_test_split(series, shuffle=False, test_size=12)"
   ]
  },
  {
   "cell_type": "code",
   "execution_count": null,
   "id": "73fc3bb5",
   "metadata": {},
   "outputs": [],
   "source": [
    "train.tail()"
   ]
  },
  {
   "cell_type": "code",
   "execution_count": null,
   "id": "ebd391c8",
   "metadata": {},
   "outputs": [],
   "source": [
    "test.head()"
   ]
  },
  {
   "cell_type": "code",
   "execution_count": null,
   "id": "938abb44",
   "metadata": {},
   "outputs": [],
   "source": [
    "# auto arima\n",
    "import pmdarima as pm\n",
    "\n",
    "?pm.auto_arima\n",
    "\n",
    "model = pm.auto_arima(train, m=4, trace=True, suppress_warnings=True)"
   ]
  },
  {
   "cell_type": "code",
   "execution_count": null,
   "id": "389fdc61",
   "metadata": {},
   "outputs": [],
   "source": [
    "model.summary()\n",
    "# https://github.com/statsmodels/statsmodels/blob/db4336b6ef0de96312fbd7156aab4cb72207f768/statsmodels/tsa/statespace/mlemodel.py#L4598"
   ]
  },
  {
   "cell_type": "code",
   "execution_count": null,
   "id": "b244015c",
   "metadata": {},
   "outputs": [],
   "source": [
    "from statsmodels.stats.stattools import jarque_bera\n",
    "\n",
    "?jarque_bera"
   ]
  },
  {
   "cell_type": "code",
   "execution_count": null,
   "id": "236f24c4",
   "metadata": {},
   "outputs": [],
   "source": [
    "from statsmodels.stats.diagnostic import acorr_ljungbox\n",
    "\n",
    "?acorr_ljungbox"
   ]
  },
  {
   "cell_type": "code",
   "execution_count": null,
   "id": "b07546ef",
   "metadata": {},
   "outputs": [],
   "source": [
    "from statsmodels.tsa.stattools import breakvar_heteroskedasticity_test\n",
    "\n",
    "?breakvar_heteroskedasticity_test"
   ]
  },
  {
   "cell_type": "code",
   "execution_count": null,
   "id": "25961b76",
   "metadata": {},
   "outputs": [],
   "source": [
    "plot=model.plot_diagnostics(figsize=(15, 12))"
   ]
  },
  {
   "cell_type": "code",
   "execution_count": null,
   "id": "723f4610",
   "metadata": {},
   "outputs": [],
   "source": [
    "forecasts = model.predict(12)\n",
    "forecasts"
   ]
  },
  {
   "cell_type": "code",
   "execution_count": null,
   "id": "3f1cf1f2",
   "metadata": {},
   "outputs": [],
   "source": [
    "test = test.rename('Actual')\n",
    "forecasts = pd.Series(forecasts, index=test.index).rename('Forecasts')\n",
    "ax = train.plot()\n",
    "ax = test.plot(legend=True,color='red', figsize=(12,6),title='Forecasting with Auto Arima')\n",
    "forecasts.plot(legend=True, color='green')"
   ]
  },
  {
   "cell_type": "code",
   "execution_count": null,
   "id": "ff51fb5f",
   "metadata": {},
   "outputs": [],
   "source": [
    "# computing the error\n",
    "from src.error import MASE\n",
    "\n",
    "err = MASE(train, test, forecasts)\n",
    "\n",
    "err"
   ]
  },
  {
   "cell_type": "code",
   "execution_count": null,
   "id": "ee528dc7",
   "metadata": {},
   "outputs": [],
   "source": [
    "AR = pm.ARIMA(order=(1,0,0))\n",
    "MA = pm.ARIMA(order=(0,0,1))\n",
    "\n",
    "AR.fit(train)"
   ]
  },
  {
   "cell_type": "code",
   "execution_count": null,
   "id": "c9fd4c9b",
   "metadata": {},
   "outputs": [],
   "source": [
    "AR.summary()"
   ]
  },
  {
   "cell_type": "code",
   "execution_count": null,
   "id": "0a461d76",
   "metadata": {},
   "outputs": [],
   "source": [
    "plot=AR.plot_diagnostics(figsize=(15, 12))"
   ]
  },
  {
   "cell_type": "code",
   "execution_count": null,
   "id": "266afad7",
   "metadata": {},
   "outputs": [],
   "source": [
    "MA.fit(train)\n",
    "\n",
    "MA.summary()"
   ]
  },
  {
   "cell_type": "code",
   "execution_count": null,
   "id": "c9554f6c",
   "metadata": {},
   "outputs": [],
   "source": [
    "plot=MA.plot_diagnostics(figsize=(15, 12))"
   ]
  },
  {
   "cell_type": "code",
   "execution_count": null,
   "id": "125f9073",
   "metadata": {},
   "outputs": [],
   "source": [
    "forecasts = AR.predict(12)\n",
    "forecasts = pd.Series(forecasts, index=test.index).rename('AR Forecasts')\n",
    "ax = train.plot()\n",
    "ax = test.plot(legend=True,color='red', figsize=(12,6),title='Forecasting with AR')\n",
    "forecasts.plot(legend=True, color='green')"
   ]
  },
  {
   "cell_type": "code",
   "execution_count": null,
   "id": "f7e930b5",
   "metadata": {},
   "outputs": [],
   "source": [
    "err = MASE(train, test, forecasts)\n",
    "\n",
    "err"
   ]
  },
  {
   "cell_type": "markdown",
   "id": "1fb9ec5c",
   "metadata": {},
   "source": [
    "## Exponential Smoothing"
   ]
  },
  {
   "cell_type": "code",
   "execution_count": null,
   "id": "c189d049",
   "metadata": {},
   "outputs": [],
   "source": [
    "from statsmodels.tsa.api import ExponentialSmoothing, SimpleExpSmoothing, Holt\n",
    "from statsmodels.tsa.exponential_smoothing.ets import ETSModel\n",
    "?ETSModel\n",
    "\n",
    "\n",
    "ses_model_manual = SimpleExpSmoothing(train, initialization_method=\"heuristic\").fit(smoothing_level=0.5, optimized=False)\n",
    "\n",
    "ses_model_auto = SimpleExpSmoothing(train, initialization_method=\"estimated\").fit()"
   ]
  },
  {
   "cell_type": "code",
   "execution_count": null,
   "id": "41811645",
   "metadata": {},
   "outputs": [],
   "source": [
    "ses_model_manual.summary()"
   ]
  },
  {
   "cell_type": "code",
   "execution_count": null,
   "id": "52cb95ff",
   "metadata": {},
   "outputs": [],
   "source": [
    "ses_model_auto.summary()"
   ]
  },
  {
   "cell_type": "code",
   "execution_count": null,
   "id": "71cf593d",
   "metadata": {},
   "outputs": [],
   "source": [
    "ses_forecasts = ses_model_auto.forecast(12)\n",
    "\n",
    "print(MASE(train,test,ses_forecasts))"
   ]
  },
  {
   "cell_type": "code",
   "execution_count": null,
   "id": "3699380f",
   "metadata": {},
   "outputs": [],
   "source": [
    "ses_forecasts = pd.Series(ses_forecasts, index=test.index).rename('SES Forecasts')\n",
    "ax = train.plot()\n",
    "ax = test.plot(legend=True,color='red', figsize=(12,6),title='Forecasting with SES')\n",
    "ses_forecasts.plot(legend=True, color='green')"
   ]
  },
  {
   "cell_type": "markdown",
   "id": "a6ba1a93",
   "metadata": {},
   "source": [
    "## Método de Holt"
   ]
  },
  {
   "cell_type": "code",
   "execution_count": null,
   "id": "46aec8bb",
   "metadata": {},
   "outputs": [],
   "source": [
    "?Holt\n",
    "\n",
    "holt_model1 = Holt(train, initialization_method=\"estimated\").fit(\n",
    "    smoothing_level=0.8, smoothing_trend=0.2, optimized=False\n",
    ")\n",
    "forecasts_holt_m1 = holt_model1.forecast(12).rename(\"Holt's linear trend\")\n",
    "\n",
    "\n",
    "holt_model2 = Holt(train, exponential=True, initialization_method=\"estimated\").fit(\n",
    "    smoothing_level=0.8, smoothing_trend=0.2, optimized=False\n",
    ")\n",
    "forecasts_holt_m2 = holt_model2.forecast(12).rename(\"Exponential trend\")\n",
    "\n",
    "\n",
    "holt_model3 = Holt(train, damped_trend=True, initialization_method=\"estimated\").fit(\n",
    "    smoothing_level=0.8, smoothing_trend=0.2\n",
    ")\n",
    "forecasts_holt_m3 = holt_model3.forecast(12).rename(\"Additive damped trend\")\n",
    "\n",
    "\n",
    "plt.figure(figsize=(12, 8))\n",
    "plt.plot(test, marker=\"o\", color=\"black\")\n",
    "(line1,) = plt.plot(forecasts_holt_m1, marker=\"o\", color=\"blue\")\n",
    "(line2,) = plt.plot(forecasts_holt_m2, marker=\"o\", color=\"red\")\n",
    "(line3,) = plt.plot(forecasts_holt_m3, marker=\"o\", color=\"green\")\n",
    "plt.legend([line1, line2, line3], [forecasts_holt_m1.name, forecasts_holt_m2.name, forecasts_holt_m3.name])"
   ]
  },
  {
   "cell_type": "code",
   "execution_count": null,
   "id": "7110e6e3",
   "metadata": {},
   "outputs": [],
   "source": [
    "?ExponentialSmoothing\n",
    "# Holt’s Winters Seasonal Exponential Smoothing\n",
    "es = ExponentialSmoothing(\n",
    "    train,\n",
    "    seasonal_periods=4,\n",
    "    trend=\"add\",\n",
    "    seasonal=\"add\",\n",
    "    use_boxcox=False,\n",
    "    initialization_method=\"estimated\",\n",
    ").fit()\n",
    "\n",
    "forecasts_es = es.forecast(12).rename(\"Holt’s Winters Seasonal Exponential Smoothing\")"
   ]
  },
  {
   "cell_type": "code",
   "execution_count": null,
   "id": "401fd1e6",
   "metadata": {},
   "outputs": [],
   "source": [
    "print(MASE(train,test,forecasts_es))\n",
    "\n",
    "forecasts_es = forecasts_es.rename('ES Forecasts')\n",
    "ax = train.plot()\n",
    "ax = test.plot(legend=True,color='red', figsize=(12,6),title='Forecasting with ES')\n",
    "forecasts_es.plot(legend=True, color='green')"
   ]
  },
  {
   "cell_type": "code",
   "execution_count": null,
   "id": "38011356",
   "metadata": {},
   "outputs": [],
   "source": [
    "ets = ETSModel(\n",
    "    train,\n",
    "    seasonal_periods=4,\n",
    "    trend=\"mul\",\n",
    "    seasonal=\"mul\",\n",
    "    initialization_method=\"estimated\",\n",
    ").fit()\n",
    "\n",
    "forecasts_ets = ets.forecast(12).rename(\"ETS\")"
   ]
  },
  {
   "cell_type": "code",
   "execution_count": null,
   "id": "3fabfd76",
   "metadata": {},
   "outputs": [],
   "source": [
    "ets.summary()"
   ]
  },
  {
   "cell_type": "code",
   "execution_count": null,
   "id": "5bf351e8",
   "metadata": {},
   "outputs": [],
   "source": [
    "print(MASE(train,test,forecasts_ets))\n",
    "\n",
    "forecasts_ets = forecasts_ets.rename('ETS Forecasts')\n",
    "ax = train.plot()\n",
    "ax = test.plot(legend=True,color='red', figsize=(12,6),title='Forecasting with ETS')\n",
    "forecasts_ets.plot(legend=True, color='green')"
   ]
  },
  {
   "cell_type": "markdown",
   "id": "adc1674c",
   "metadata": {},
   "source": [
    "## Naive"
   ]
  },
  {
   "cell_type": "code",
   "execution_count": null,
   "id": "244c6210",
   "metadata": {},
   "outputs": [],
   "source": [
    "from sktime.forecasting.naive import NaiveForecaster\n",
    "\n",
    "?NaiveForecaster\n",
    "\n",
    "naive = NaiveForecaster(strategy='mean')\n",
    "naive.fit(train)\n",
    "\n",
    "forecasts_naive = naive.predict(fh=[i for i in range(1,12)])\n",
    "\n",
    "forecasts_naive"
   ]
  },
  {
   "cell_type": "code",
   "execution_count": null,
   "id": "96b49d72",
   "metadata": {},
   "outputs": [],
   "source": [
    "print(MASE(train,test,forecasts_naive))\n",
    "\n",
    "forecasts_naive = forecasts_naive.rename('Naive Forecasts')\n",
    "ax = train.plot()\n",
    "ax = test.plot(legend=True,color='red', figsize=(12,6),title='Forecasting with Naive')\n",
    "forecasts_naive.plot(legend=True, color='green')"
   ]
  },
  {
   "cell_type": "code",
   "execution_count": null,
   "id": "a5d11b98",
   "metadata": {},
   "outputs": [],
   "source": [
    "naive = NaiveForecaster(strategy='last', sp=4)\n",
    "naive.fit(train)\n",
    "\n",
    "forecasts_naive = naive.predict(fh=[i for i in range(1,12)])\n",
    "\n",
    "print(MASE(train,test,forecasts_naive))\n",
    "\n",
    "forecasts_naive = forecasts_naive.rename('Seasonal Naive Forecasts')\n",
    "ax = train.plot()\n",
    "ax = test.plot(legend=True,color='red', figsize=(12,6),title='Forecasting with Seasonal Naive')\n",
    "forecasts_naive.plot(legend=True, color='green')"
   ]
  }
 ],
 "metadata": {
  "kernelspec": {
   "display_name": "Python 3 (ipykernel)",
   "language": "python",
   "name": "python3"
  },
  "language_info": {
   "codemirror_mode": {
    "name": "ipython",
    "version": 3
   },
   "file_extension": ".py",
   "mimetype": "text/x-python",
   "name": "python",
   "nbconvert_exporter": "python",
   "pygments_lexer": "ipython3",
   "version": "3.9.11"
  }
 },
 "nbformat": 4,
 "nbformat_minor": 5
}
