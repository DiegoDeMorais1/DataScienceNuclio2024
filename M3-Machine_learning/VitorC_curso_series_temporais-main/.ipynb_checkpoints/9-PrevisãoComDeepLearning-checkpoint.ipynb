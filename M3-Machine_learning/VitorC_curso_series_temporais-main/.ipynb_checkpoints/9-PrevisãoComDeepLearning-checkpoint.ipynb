{
 "cells": [
  {
   "cell_type": "markdown",
   "id": "34d8d0ce",
   "metadata": {},
   "source": [
    "## Exemplo Básico"
   ]
  },
  {
   "cell_type": "code",
   "execution_count": null,
   "id": "a7f66410",
   "metadata": {},
   "outputs": [],
   "source": [
    "import numpy as np\n",
    "import pandas as pd\n",
    "series = pd.Series(np.arange(50))\n",
    "\n",
    "series"
   ]
  },
  {
   "cell_type": "code",
   "execution_count": null,
   "id": "e46219e0",
   "metadata": {},
   "outputs": [],
   "source": [
    "from src.tde import UnivariateTDE\n",
    "\n",
    "# numeros de lags\n",
    "n_steps = 5\n",
    "# horizonte\n",
    "n_output = 3\n",
    "# no de variables -- 1 porque a série é univariada\n",
    "n_features = 1\n",
    "\n",
    "data = UnivariateTDE(series, k=n_steps, horizon=n_output)\n",
    "\n",
    "data.head()"
   ]
  },
  {
   "cell_type": "code",
   "execution_count": null,
   "id": "400e5269",
   "metadata": {},
   "outputs": [],
   "source": [
    "is_future = data.columns.str.contains('\\+')\n",
    "X = data.iloc[:,~is_future].values\n",
    "Y = data.iloc[:,is_future].values\n",
    "\n",
    "X[:3]"
   ]
  },
  {
   "cell_type": "code",
   "execution_count": null,
   "id": "701e373a",
   "metadata": {},
   "outputs": [],
   "source": [
    "from keras.models import Sequential\n",
    "from keras.layers import Dense, LSTM\n",
    "\n",
    "# building a custom LSTM network\n",
    "model = Sequential()\n",
    "model.add(LSTM(50, activation='relu', input_shape=(n_steps, n_features)))\n",
    "# final layer is contains as many units as the size of the output\n",
    "model.add(Dense(n_output))\n",
    "# compiling with ADAM and optimizing to MSE\n",
    "model.compile(optimizer='adam', loss='mse')"
   ]
  },
  {
   "cell_type": "code",
   "execution_count": null,
   "id": "2306ee2c",
   "metadata": {},
   "outputs": [],
   "source": [
    "X = X.reshape((X.shape[0], X.shape[1], n_features))\n",
    "X[:3]"
   ]
  },
  {
   "cell_type": "code",
   "execution_count": null,
   "id": "dda25c10",
   "metadata": {},
   "outputs": [],
   "source": [
    "Y[:3]"
   ]
  },
  {
   "cell_type": "code",
   "execution_count": null,
   "id": "1ccf4614",
   "metadata": {},
   "outputs": [],
   "source": [
    "model.fit(X, Y, epochs=10, verbose=1)"
   ]
  },
  {
   "cell_type": "code",
   "execution_count": null,
   "id": "9c8ead2a",
   "metadata": {},
   "outputs": [],
   "source": [
    "# lstm but with 2 blocks\n",
    "\n",
    "model = Sequential()\n",
    "model.add(LSTM(50, activation='relu', return_sequences=True, input_shape=(n_steps, n_features)))\n",
    "model.add(LSTM(20, activation='relu'))\n",
    "model.add(Dense(n_output))\n",
    "model.compile(optimizer='adam', loss='mse')\n",
    "\n",
    "model.fit(X, Y, epochs=10, verbose=1)"
   ]
  },
  {
   "cell_type": "code",
   "execution_count": null,
   "id": "3ddbfdeb",
   "metadata": {},
   "outputs": [],
   "source": [
    "model.summary()"
   ]
  },
  {
   "cell_type": "markdown",
   "id": "fbeb8ae9",
   "metadata": {},
   "source": [
    "## Using State-of-the-art Methods"
   ]
  },
  {
   "cell_type": "code",
   "execution_count": null,
   "id": "8f5c5ab0",
   "metadata": {},
   "outputs": [],
   "source": [
    "# métodos avançados\n",
    "\n",
    "from gluonts.model.n_beats import NBEATSEnsembleEstimator\n",
    "from gluonts.mx.trainer import Trainer\n",
    "from gluonts.evaluation import make_evaluation_predictions\n",
    "from gluonts.evaluation import Evaluator\n",
    "from gluonts.dataset.repository.datasets import get_dataset, dataset_names"
   ]
  },
  {
   "cell_type": "code",
   "execution_count": null,
   "id": "b3f97046",
   "metadata": {},
   "outputs": [],
   "source": [
    "from pprint import pprint\n",
    "pprint(dataset_names)"
   ]
  },
  {
   "cell_type": "code",
   "execution_count": null,
   "id": "a8ffaa8e",
   "metadata": {},
   "outputs": [],
   "source": [
    "dataset = get_dataset(\"tourism_quarterly\", regenerate=True)\n",
    "horizon = 4"
   ]
  },
  {
   "cell_type": "raw",
   "id": "062091cd",
   "metadata": {},
   "source": [
    "estimator = NBEATSEnsembleEstimator(freq='Q',\n",
    "                                    prediction_length=horizon,\n",
    "                                    meta_context_length=[multiplier * horizon for multiplier in range(2, 7)],\n",
    "                                    meta_loss_function=['MAPE', 'sMAPE', 'MASE'],\n",
    "                                    meta_bagging_size=10,\n",
    "                                    num_stacks=30,\n",
    "                                    num_blocks=[1],\n",
    "                                    trainer=Trainer(\n",
    "                                        learning_rate=0.001,\n",
    "                                        epochs=30,\n",
    "                                        batch_size=1024\n",
    "                                    ),\n",
    "                                    widths=[512],\n",
    "                                    sharing=[False],\n",
    "                                    expansion_coefficient_lengths=[32],\n",
    "                                    stack_types=['G'])"
   ]
  },
  {
   "cell_type": "code",
   "execution_count": null,
   "id": "f302989e",
   "metadata": {},
   "outputs": [],
   "source": [
    "# versão MUITO simplificada\n",
    "estimator = NBEATSEnsembleEstimator(freq='Q',\n",
    "                                    prediction_length=horizon,\n",
    "                                    meta_context_length=[2 * horizon],\n",
    "                                    meta_loss_function=['MASE'],\n",
    "                                    meta_bagging_size=2,\n",
    "                                    num_stacks=30,\n",
    "                                    num_blocks=[1],\n",
    "                                    trainer=Trainer(\n",
    "                                        learning_rate=0.001,\n",
    "                                        # epochs=30,\n",
    "                                        epochs=2, # to get some quick output\n",
    "                                        batch_size=1024\n",
    "                                    ),\n",
    "                                    widths=[64],\n",
    "                                    sharing=[False],\n",
    "                                    expansion_coefficient_lengths=[32],\n",
    "                                    stack_types=['G'])"
   ]
  },
  {
   "cell_type": "code",
   "execution_count": null,
   "id": "3386caee",
   "metadata": {},
   "outputs": [],
   "source": [
    "model = estimator.train(dataset.train)"
   ]
  },
  {
   "cell_type": "code",
   "execution_count": null,
   "id": "dfa8ac4b",
   "metadata": {},
   "outputs": [],
   "source": [
    "forecast_it, ts_it = make_evaluation_predictions(\n",
    "    dataset=dataset.test,  \n",
    "    predictor=model,  # modelo\n",
    "    num_samples=1,  # number of sample paths we want for evaluation\n",
    ")\n",
    "\n",
    "forecasts = list(forecast_it)\n",
    "tss = list(ts_it)\n",
    "\n",
    "evaluator = Evaluator(quantiles=[0.1, 0.5, 0.9])\n",
    "agg_metrics, item_metrics = evaluator(iter(tss), iter(forecasts), num_series=len(dataset.test))"
   ]
  },
  {
   "cell_type": "code",
   "execution_count": null,
   "id": "782d559d",
   "metadata": {
    "scrolled": true
   },
   "outputs": [],
   "source": [
    "agg_metrics"
   ]
  }
 ],
 "metadata": {
  "kernelspec": {
   "display_name": "Python 3 (ipykernel)",
   "language": "python",
   "name": "python3"
  },
  "language_info": {
   "codemirror_mode": {
    "name": "ipython",
    "version": 3
   },
   "file_extension": ".py",
   "mimetype": "text/x-python",
   "name": "python",
   "nbconvert_exporter": "python",
   "pygments_lexer": "ipython3",
   "version": "3.9.11"
  }
 },
 "nbformat": 4,
 "nbformat_minor": 5
}
