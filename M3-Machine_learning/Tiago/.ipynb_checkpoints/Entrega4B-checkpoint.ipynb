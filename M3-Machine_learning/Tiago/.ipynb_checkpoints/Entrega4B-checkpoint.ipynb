{
 "cells": [
  {
   "cell_type": "code",
   "execution_count": 131,
   "metadata": {
    "executionInfo": {
     "elapsed": 359,
     "status": "ok",
     "timestamp": 1662808439946,
     "user": {
      "displayName": "David Jardim",
      "userId": "03356801395304838428"
     },
     "user_tz": -60
    },
    "id": "prq1DQGKBcwo"
   },
   "outputs": [],
   "source": [
    "from sklearn.metrics import mean_squared_error, mean_absolute_error, mean_absolute_percentage_error, r2_score\n",
    "def evaluate_model(y_test, y_pred):\n",
    "  test_r2 = r2_score(y_test, y_pred)\n",
    "  test_mae = mean_absolute_error(y_test, y_pred)\n",
    "  test_mse = mean_squared_error(y_test, y_pred)\n",
    "  test_rmse = np.sqrt(test_mse)\n",
    "\n",
    "  print(\"R2: {}\".format(test_r2))\n",
    "  print(\"MAE: {}\".format(test_mae))\n",
    "  print(\"MSE: {}\".format(test_mse))\n",
    "  print(\"RMSE: {}\".format(test_rmse))"
   ]
  },
  {
   "cell_type": "markdown",
   "metadata": {
    "id": "CazISR8X_HUG"
   },
   "source": [
    "# Decision Tree and Random Forest Regression\n",
    "\n",
    "In this exercise, we will use Decision Tree and Random Forest regression to predict rent prices in Madrid, using a dataset from Idealista, given a number of features."
   ]
  },
  {
   "cell_type": "markdown",
   "metadata": {
    "id": "pOyqYHTk_Q57"
   },
   "source": [
    "## Importing the libraries"
   ]
  },
  {
   "cell_type": "code",
   "execution_count": 132,
   "metadata": {
    "executionInfo": {
     "elapsed": 32,
     "status": "ok",
     "timestamp": 1662808440210,
     "user": {
      "displayName": "David Jardim",
      "userId": "03356801395304838428"
     },
     "user_tz": -60
    },
    "id": "T_YHJjnD_Tja"
   },
   "outputs": [],
   "source": [
    "import numpy as np\n",
    "import matplotlib.pyplot as plt\n",
    "import pandas as pd"
   ]
  },
  {
   "cell_type": "markdown",
   "metadata": {
    "id": "vgC61-ah_WIz"
   },
   "source": [
    "## Loading the dataset"
   ]
  },
  {
   "cell_type": "code",
   "execution_count": 133,
   "metadata": {
    "executionInfo": {
     "elapsed": 281,
     "status": "ok",
     "timestamp": 1662815736913,
     "user": {
      "displayName": "David Jardim",
      "userId": "03356801395304838428"
     },
     "user_tz": -60
    },
    "id": "UrxyEKGn_ez7"
   },
   "outputs": [],
   "source": [
    "dataset = pd.read_csv('heart_disease_data.csv')"
   ]
  },
  {
   "cell_type": "markdown",
   "metadata": {
    "id": "Der47Ex3OAgz"
   },
   "source": [
    "## Inspect the Data Structure"
   ]
  },
  {
   "cell_type": "code",
   "execution_count": 134,
   "metadata": {
    "colab": {
     "base_uri": "https://localhost:8080/",
     "height": 337
    },
    "executionInfo": {
     "elapsed": 288,
     "status": "ok",
     "timestamp": 1662815740758,
     "user": {
      "displayName": "David Jardim",
      "userId": "03356801395304838428"
     },
     "user_tz": -60
    },
    "id": "5S-aZA0DOG2H",
    "outputId": "60cdcff3-ed05-400a-bda1-ba2230b8b229"
   },
   "outputs": [
    {
     "data": {
      "text/html": [
       "<div>\n",
       "<style scoped>\n",
       "    .dataframe tbody tr th:only-of-type {\n",
       "        vertical-align: middle;\n",
       "    }\n",
       "\n",
       "    .dataframe tbody tr th {\n",
       "        vertical-align: top;\n",
       "    }\n",
       "\n",
       "    .dataframe thead th {\n",
       "        text-align: right;\n",
       "    }\n",
       "</style>\n",
       "<table border=\"1\" class=\"dataframe\">\n",
       "  <thead>\n",
       "    <tr style=\"text-align: right;\">\n",
       "      <th></th>\n",
       "      <th>HeartDisease</th>\n",
       "      <th>BMI</th>\n",
       "      <th>Smoking</th>\n",
       "      <th>AlcoholDrinking</th>\n",
       "      <th>Stroke</th>\n",
       "      <th>PhysicalHealth</th>\n",
       "      <th>MentalHealth</th>\n",
       "      <th>DiffWalking</th>\n",
       "      <th>Sex</th>\n",
       "      <th>AgeCategory</th>\n",
       "      <th>Race</th>\n",
       "      <th>Diabetic</th>\n",
       "      <th>PhysicalActivity</th>\n",
       "      <th>GenHealth</th>\n",
       "      <th>SleepTime</th>\n",
       "      <th>Asthma</th>\n",
       "      <th>KidneyDisease</th>\n",
       "      <th>SkinCancer</th>\n",
       "      <th>HeartDisease_FamilyHistory</th>\n",
       "      <th>State</th>\n",
       "    </tr>\n",
       "  </thead>\n",
       "  <tbody>\n",
       "    <tr>\n",
       "      <th>0</th>\n",
       "      <td>No</td>\n",
       "      <td>16.60</td>\n",
       "      <td>Yes</td>\n",
       "      <td>No</td>\n",
       "      <td>No</td>\n",
       "      <td>3.0</td>\n",
       "      <td>30.0</td>\n",
       "      <td>No</td>\n",
       "      <td>Female</td>\n",
       "      <td>55-59</td>\n",
       "      <td>White</td>\n",
       "      <td>Yes</td>\n",
       "      <td>Yes</td>\n",
       "      <td>Very good</td>\n",
       "      <td>5.0</td>\n",
       "      <td>Yes</td>\n",
       "      <td>No</td>\n",
       "      <td>Yes</td>\n",
       "      <td>No</td>\n",
       "      <td>MT</td>\n",
       "    </tr>\n",
       "    <tr>\n",
       "      <th>1</th>\n",
       "      <td>No</td>\n",
       "      <td>20.34</td>\n",
       "      <td>No</td>\n",
       "      <td>NaN</td>\n",
       "      <td>Yes</td>\n",
       "      <td>0.0</td>\n",
       "      <td>0.0</td>\n",
       "      <td>No</td>\n",
       "      <td>Female</td>\n",
       "      <td>80 or older</td>\n",
       "      <td>White</td>\n",
       "      <td>No</td>\n",
       "      <td>Yes</td>\n",
       "      <td>Very good</td>\n",
       "      <td>7.0</td>\n",
       "      <td>No</td>\n",
       "      <td>No</td>\n",
       "      <td>No</td>\n",
       "      <td>NaN</td>\n",
       "      <td>VT</td>\n",
       "    </tr>\n",
       "    <tr>\n",
       "      <th>2</th>\n",
       "      <td>No</td>\n",
       "      <td>26.58</td>\n",
       "      <td>Yes</td>\n",
       "      <td>NaN</td>\n",
       "      <td>No</td>\n",
       "      <td>20.0</td>\n",
       "      <td>30.0</td>\n",
       "      <td>No</td>\n",
       "      <td>Male</td>\n",
       "      <td>65-69</td>\n",
       "      <td>White</td>\n",
       "      <td>Yes</td>\n",
       "      <td>Yes</td>\n",
       "      <td>Fair</td>\n",
       "      <td>8.0</td>\n",
       "      <td>Yes</td>\n",
       "      <td>No</td>\n",
       "      <td>No</td>\n",
       "      <td>NaN</td>\n",
       "      <td>WY</td>\n",
       "    </tr>\n",
       "    <tr>\n",
       "      <th>3</th>\n",
       "      <td>No</td>\n",
       "      <td>24.21</td>\n",
       "      <td>No</td>\n",
       "      <td>NaN</td>\n",
       "      <td>No</td>\n",
       "      <td>0.0</td>\n",
       "      <td>0.0</td>\n",
       "      <td>No</td>\n",
       "      <td>Female</td>\n",
       "      <td>75-79</td>\n",
       "      <td>White</td>\n",
       "      <td>No</td>\n",
       "      <td>No</td>\n",
       "      <td>Good</td>\n",
       "      <td>6.0</td>\n",
       "      <td>No</td>\n",
       "      <td>No</td>\n",
       "      <td>Yes</td>\n",
       "      <td>No</td>\n",
       "      <td>VT</td>\n",
       "    </tr>\n",
       "    <tr>\n",
       "      <th>4</th>\n",
       "      <td>No</td>\n",
       "      <td>23.71</td>\n",
       "      <td>No</td>\n",
       "      <td>No</td>\n",
       "      <td>No</td>\n",
       "      <td>28.0</td>\n",
       "      <td>0.0</td>\n",
       "      <td>Yes</td>\n",
       "      <td>Female</td>\n",
       "      <td>40-44</td>\n",
       "      <td>White</td>\n",
       "      <td>No</td>\n",
       "      <td>Yes</td>\n",
       "      <td>Very good</td>\n",
       "      <td>8.0</td>\n",
       "      <td>No</td>\n",
       "      <td>No</td>\n",
       "      <td>No</td>\n",
       "      <td>NaN</td>\n",
       "      <td>DC</td>\n",
       "    </tr>\n",
       "  </tbody>\n",
       "</table>\n",
       "</div>"
      ],
      "text/plain": [
       "  HeartDisease    BMI Smoking AlcoholDrinking Stroke  PhysicalHealth  \\\n",
       "0           No  16.60     Yes              No     No             3.0   \n",
       "1           No  20.34      No             NaN    Yes             0.0   \n",
       "2           No  26.58     Yes             NaN     No            20.0   \n",
       "3           No  24.21      No             NaN     No             0.0   \n",
       "4           No  23.71      No              No     No            28.0   \n",
       "\n",
       "   MentalHealth DiffWalking     Sex  AgeCategory   Race Diabetic  \\\n",
       "0          30.0          No  Female        55-59  White      Yes   \n",
       "1           0.0          No  Female  80 or older  White       No   \n",
       "2          30.0          No    Male        65-69  White      Yes   \n",
       "3           0.0          No  Female        75-79  White       No   \n",
       "4           0.0         Yes  Female        40-44  White       No   \n",
       "\n",
       "  PhysicalActivity  GenHealth  SleepTime Asthma KidneyDisease SkinCancer  \\\n",
       "0              Yes  Very good        5.0    Yes            No        Yes   \n",
       "1              Yes  Very good        7.0     No            No         No   \n",
       "2              Yes       Fair        8.0    Yes            No         No   \n",
       "3               No       Good        6.0     No            No        Yes   \n",
       "4              Yes  Very good        8.0     No            No         No   \n",
       "\n",
       "  HeartDisease_FamilyHistory State  \n",
       "0                         No    MT  \n",
       "1                        NaN    VT  \n",
       "2                        NaN    WY  \n",
       "3                         No    VT  \n",
       "4                        NaN    DC  "
      ]
     },
     "execution_count": 134,
     "metadata": {},
     "output_type": "execute_result"
    }
   ],
   "source": [
    "dataset.head()"
   ]
  },
  {
   "cell_type": "code",
   "execution_count": 135,
   "metadata": {
    "colab": {
     "base_uri": "https://localhost:8080/"
    },
    "executionInfo": {
     "elapsed": 30,
     "status": "ok",
     "timestamp": 1662808440212,
     "user": {
      "displayName": "David Jardim",
      "userId": "03356801395304838428"
     },
     "user_tz": -60
    },
    "id": "UGOFfe-8OPq1",
    "outputId": "504b2574-7ed4-4f12-a05c-ca74896f0d9b"
   },
   "outputs": [
    {
     "name": "stdout",
     "output_type": "stream",
     "text": [
      "<class 'pandas.core.frame.DataFrame'>\n",
      "RangeIndex: 319795 entries, 0 to 319794\n",
      "Data columns (total 20 columns):\n",
      " #   Column                      Non-Null Count   Dtype  \n",
      "---  ------                      --------------   -----  \n",
      " 0   HeartDisease                319795 non-null  object \n",
      " 1   BMI                         319795 non-null  float64\n",
      " 2   Smoking                     319795 non-null  object \n",
      " 3   AlcoholDrinking             212984 non-null  object \n",
      " 4   Stroke                      318683 non-null  object \n",
      " 5   PhysicalHealth              319795 non-null  float64\n",
      " 6   MentalHealth                319795 non-null  float64\n",
      " 7   DiffWalking                 319795 non-null  object \n",
      " 8   Sex                         319795 non-null  object \n",
      " 9   AgeCategory                 319795 non-null  object \n",
      " 10  Race                        319795 non-null  object \n",
      " 11  Diabetic                    319795 non-null  object \n",
      " 12  PhysicalActivity            319795 non-null  object \n",
      " 13  GenHealth                   319795 non-null  object \n",
      " 14  SleepTime                   319795 non-null  float64\n",
      " 15  Asthma                      319795 non-null  object \n",
      " 16  KidneyDisease               319795 non-null  object \n",
      " 17  SkinCancer                  319446 non-null  object \n",
      " 18  HeartDisease_FamilyHistory  35263 non-null   object \n",
      " 19  State                       319795 non-null  object \n",
      "dtypes: float64(4), object(16)\n",
      "memory usage: 48.8+ MB\n"
     ]
    }
   ],
   "source": [
    "dataset.info()"
   ]
  },
  {
   "cell_type": "code",
   "execution_count": 136,
   "metadata": {
    "colab": {
     "base_uri": "https://localhost:8080/"
    },
    "executionInfo": {
     "elapsed": 269,
     "status": "ok",
     "timestamp": 1662815708806,
     "user": {
      "displayName": "David Jardim",
      "userId": "03356801395304838428"
     },
     "user_tz": -60
    },
    "id": "bmdKezCmOjJU",
    "outputId": "677e0a96-9622-4cd4-f9a7-50244f7d42ae"
   },
   "outputs": [
    {
     "data": {
      "text/plain": [
       "No     292422\n",
       "Yes     27373\n",
       "Name: HeartDisease, dtype: int64"
      ]
     },
     "execution_count": 136,
     "metadata": {},
     "output_type": "execute_result"
    }
   ],
   "source": [
    "dataset[\"HeartDisease\"].value_counts()\n",
    "#dataset[\"AgeCategory\"].value_counts()"
   ]
  },
  {
   "cell_type": "code",
   "execution_count": 137,
   "metadata": {
    "colab": {
     "base_uri": "https://localhost:8080/",
     "height": 300
    },
    "executionInfo": {
     "elapsed": 304,
     "status": "ok",
     "timestamp": 1662815746273,
     "user": {
      "displayName": "David Jardim",
      "userId": "03356801395304838428"
     },
     "user_tz": -60
    },
    "id": "UUkaBI_Y751J",
    "outputId": "31c480c9-ed30-4251-9ab6-e5d459045464"
   },
   "outputs": [
    {
     "data": {
      "text/html": [
       "<div>\n",
       "<style scoped>\n",
       "    .dataframe tbody tr th:only-of-type {\n",
       "        vertical-align: middle;\n",
       "    }\n",
       "\n",
       "    .dataframe tbody tr th {\n",
       "        vertical-align: top;\n",
       "    }\n",
       "\n",
       "    .dataframe thead th {\n",
       "        text-align: right;\n",
       "    }\n",
       "</style>\n",
       "<table border=\"1\" class=\"dataframe\">\n",
       "  <thead>\n",
       "    <tr style=\"text-align: right;\">\n",
       "      <th></th>\n",
       "      <th>count</th>\n",
       "      <th>unique</th>\n",
       "      <th>top</th>\n",
       "      <th>freq</th>\n",
       "    </tr>\n",
       "  </thead>\n",
       "  <tbody>\n",
       "    <tr>\n",
       "      <th>HeartDisease</th>\n",
       "      <td>319795</td>\n",
       "      <td>2</td>\n",
       "      <td>No</td>\n",
       "      <td>292422</td>\n",
       "    </tr>\n",
       "    <tr>\n",
       "      <th>Smoking</th>\n",
       "      <td>319795</td>\n",
       "      <td>2</td>\n",
       "      <td>No</td>\n",
       "      <td>187887</td>\n",
       "    </tr>\n",
       "    <tr>\n",
       "      <th>AlcoholDrinking</th>\n",
       "      <td>212984</td>\n",
       "      <td>2</td>\n",
       "      <td>No</td>\n",
       "      <td>191207</td>\n",
       "    </tr>\n",
       "    <tr>\n",
       "      <th>Stroke</th>\n",
       "      <td>318683</td>\n",
       "      <td>2</td>\n",
       "      <td>No</td>\n",
       "      <td>306614</td>\n",
       "    </tr>\n",
       "    <tr>\n",
       "      <th>DiffWalking</th>\n",
       "      <td>319795</td>\n",
       "      <td>2</td>\n",
       "      <td>No</td>\n",
       "      <td>275385</td>\n",
       "    </tr>\n",
       "    <tr>\n",
       "      <th>Sex</th>\n",
       "      <td>319795</td>\n",
       "      <td>2</td>\n",
       "      <td>Female</td>\n",
       "      <td>167805</td>\n",
       "    </tr>\n",
       "    <tr>\n",
       "      <th>AgeCategory</th>\n",
       "      <td>319795</td>\n",
       "      <td>14</td>\n",
       "      <td>65-69</td>\n",
       "      <td>34143</td>\n",
       "    </tr>\n",
       "    <tr>\n",
       "      <th>Race</th>\n",
       "      <td>319795</td>\n",
       "      <td>6</td>\n",
       "      <td>White</td>\n",
       "      <td>245212</td>\n",
       "    </tr>\n",
       "    <tr>\n",
       "      <th>Diabetic</th>\n",
       "      <td>319795</td>\n",
       "      <td>4</td>\n",
       "      <td>No</td>\n",
       "      <td>269653</td>\n",
       "    </tr>\n",
       "    <tr>\n",
       "      <th>PhysicalActivity</th>\n",
       "      <td>319795</td>\n",
       "      <td>2</td>\n",
       "      <td>Yes</td>\n",
       "      <td>247957</td>\n",
       "    </tr>\n",
       "    <tr>\n",
       "      <th>GenHealth</th>\n",
       "      <td>319795</td>\n",
       "      <td>5</td>\n",
       "      <td>Very good</td>\n",
       "      <td>113858</td>\n",
       "    </tr>\n",
       "    <tr>\n",
       "      <th>Asthma</th>\n",
       "      <td>319795</td>\n",
       "      <td>2</td>\n",
       "      <td>No</td>\n",
       "      <td>276923</td>\n",
       "    </tr>\n",
       "    <tr>\n",
       "      <th>KidneyDisease</th>\n",
       "      <td>319795</td>\n",
       "      <td>2</td>\n",
       "      <td>No</td>\n",
       "      <td>308016</td>\n",
       "    </tr>\n",
       "    <tr>\n",
       "      <th>SkinCancer</th>\n",
       "      <td>319446</td>\n",
       "      <td>2</td>\n",
       "      <td>No</td>\n",
       "      <td>289627</td>\n",
       "    </tr>\n",
       "    <tr>\n",
       "      <th>HeartDisease_FamilyHistory</th>\n",
       "      <td>35263</td>\n",
       "      <td>2</td>\n",
       "      <td>No</td>\n",
       "      <td>32008</td>\n",
       "    </tr>\n",
       "    <tr>\n",
       "      <th>State</th>\n",
       "      <td>319795</td>\n",
       "      <td>51</td>\n",
       "      <td>OH</td>\n",
       "      <td>6429</td>\n",
       "    </tr>\n",
       "  </tbody>\n",
       "</table>\n",
       "</div>"
      ],
      "text/plain": [
       "                             count unique        top    freq\n",
       "HeartDisease                319795      2         No  292422\n",
       "Smoking                     319795      2         No  187887\n",
       "AlcoholDrinking             212984      2         No  191207\n",
       "Stroke                      318683      2         No  306614\n",
       "DiffWalking                 319795      2         No  275385\n",
       "Sex                         319795      2     Female  167805\n",
       "AgeCategory                 319795     14      65-69   34143\n",
       "Race                        319795      6      White  245212\n",
       "Diabetic                    319795      4         No  269653\n",
       "PhysicalActivity            319795      2        Yes  247957\n",
       "GenHealth                   319795      5  Very good  113858\n",
       "Asthma                      319795      2         No  276923\n",
       "KidneyDisease               319795      2         No  308016\n",
       "SkinCancer                  319446      2         No  289627\n",
       "HeartDisease_FamilyHistory   35263      2         No   32008\n",
       "State                       319795     51         OH    6429"
      ]
     },
     "execution_count": 137,
     "metadata": {},
     "output_type": "execute_result"
    }
   ],
   "source": [
    "dataset.describe(include=['object']).T"
   ]
  },
  {
   "cell_type": "markdown",
   "metadata": {
    "id": "czc_Z_v77m9N"
   },
   "source": [
    "## How to handle bool types?"
   ]
  },
  {
   "cell_type": "code",
   "execution_count": 138,
   "metadata": {
    "colab": {
     "base_uri": "https://localhost:8080/",
     "height": 300
    },
    "executionInfo": {
     "elapsed": 303,
     "status": "ok",
     "timestamp": 1662816639990,
     "user": {
      "displayName": "David Jardim",
      "userId": "03356801395304838428"
     },
     "user_tz": -60
    },
    "id": "EODR5uAHOnLa",
    "outputId": "d9a63d8d-f276-43b8-aeb3-70a68bf3e408",
    "tags": []
   },
   "outputs": [],
   "source": [
    "from sklearn.preprocessing import LabelBinarizer, LabelEncoder\n",
    "labelbinarizer = LabelBinarizer()\n",
    "\n",
    "labelbinarizer.fit(['No', 'Yes'])\n",
    "\n",
    "dataset['HeartDisease'] = labelbinarizer.transform(dataset['HeartDisease'])"
   ]
  },
  {
   "cell_type": "code",
   "execution_count": 139,
   "metadata": {
    "tags": []
   },
   "outputs": [],
   "source": [
    "dataset['Smoking'] = labelbinarizer.transform(dataset['Smoking'])"
   ]
  },
  {
   "cell_type": "code",
   "execution_count": 140,
   "metadata": {
    "tags": []
   },
   "outputs": [],
   "source": [
    "dataset['DiffWalking'] = labelbinarizer.transform(dataset['DiffWalking'])\n",
    "dataset['PhysicalActivity'] = labelbinarizer.transform(dataset['PhysicalActivity'])\n",
    "dataset['Asthma'] = labelbinarizer.transform(dataset['Asthma'])\n",
    "dataset['KidneyDisease'] = labelbinarizer.transform(dataset['KidneyDisease'])"
   ]
  },
  {
   "cell_type": "code",
   "execution_count": 167,
   "metadata": {},
   "outputs": [],
   "source": [
    "dataset['Stroke'] = dataset['Stroke'].map({'Yes': 1, 'No': 0})"
   ]
  },
  {
   "cell_type": "code",
   "execution_count": 141,
   "metadata": {},
   "outputs": [
    {
     "data": {
      "text/plain": [
       "0.0    191207\n",
       "1.0     21777\n",
       "Name: AlcoholDrinking, dtype: int64"
      ]
     },
     "execution_count": 141,
     "metadata": {},
     "output_type": "execute_result"
    }
   ],
   "source": [
    "dataset['AlcoholDrinking'] = dataset['AlcoholDrinking'].map({'Yes': 1, 'No': 0})\n",
    "dataset['SkinCancer'] = dataset['SkinCancer'].map({'Yes': 1, 'No': 0})\n",
    "dataset['HeartDisease_FamilyHistory'] = dataset['HeartDisease_FamilyHistory'].map({'Yes': 1, 'No': 0})"
   ]
  },
  {
   "cell_type": "code",
   "execution_count": 142,
   "metadata": {},
   "outputs": [],
   "source": [
    "labelbinarizer = LabelBinarizer()\n",
    "\n",
    "labelbinarizer.fit(['Female', 'Male'])\n",
    "dataset['Sex'] = labelbinarizer.transform(dataset['Sex'])"
   ]
  },
  {
   "cell_type": "code",
   "execution_count": 143,
   "metadata": {},
   "outputs": [
    {
     "data": {
      "text/html": [
       "<div>\n",
       "<style scoped>\n",
       "    .dataframe tbody tr th:only-of-type {\n",
       "        vertical-align: middle;\n",
       "    }\n",
       "\n",
       "    .dataframe tbody tr th {\n",
       "        vertical-align: top;\n",
       "    }\n",
       "\n",
       "    .dataframe thead th {\n",
       "        text-align: right;\n",
       "    }\n",
       "</style>\n",
       "<table border=\"1\" class=\"dataframe\">\n",
       "  <thead>\n",
       "    <tr style=\"text-align: right;\">\n",
       "      <th></th>\n",
       "      <th>HeartDisease</th>\n",
       "      <th>BMI</th>\n",
       "      <th>Smoking</th>\n",
       "      <th>AlcoholDrinking</th>\n",
       "      <th>PhysicalHealth</th>\n",
       "      <th>MentalHealth</th>\n",
       "      <th>DiffWalking</th>\n",
       "      <th>Sex</th>\n",
       "      <th>PhysicalActivity</th>\n",
       "      <th>SleepTime</th>\n",
       "      <th>Asthma</th>\n",
       "      <th>KidneyDisease</th>\n",
       "      <th>SkinCancer</th>\n",
       "      <th>HeartDisease_FamilyHistory</th>\n",
       "    </tr>\n",
       "  </thead>\n",
       "  <tbody>\n",
       "    <tr>\n",
       "      <th>count</th>\n",
       "      <td>319795.000000</td>\n",
       "      <td>319795.000000</td>\n",
       "      <td>319795.000000</td>\n",
       "      <td>212984.000000</td>\n",
       "      <td>319795.00000</td>\n",
       "      <td>319795.000000</td>\n",
       "      <td>319795.000000</td>\n",
       "      <td>319795.000000</td>\n",
       "      <td>319795.000000</td>\n",
       "      <td>319795.000000</td>\n",
       "      <td>319795.000000</td>\n",
       "      <td>319795.000000</td>\n",
       "      <td>319446.000000</td>\n",
       "      <td>35263.000000</td>\n",
       "    </tr>\n",
       "    <tr>\n",
       "      <th>mean</th>\n",
       "      <td>0.085595</td>\n",
       "      <td>28.327367</td>\n",
       "      <td>0.412477</td>\n",
       "      <td>0.102247</td>\n",
       "      <td>3.37171</td>\n",
       "      <td>3.898366</td>\n",
       "      <td>0.138870</td>\n",
       "      <td>0.475273</td>\n",
       "      <td>0.775362</td>\n",
       "      <td>7.097075</td>\n",
       "      <td>0.134061</td>\n",
       "      <td>0.036833</td>\n",
       "      <td>0.093346</td>\n",
       "      <td>0.092306</td>\n",
       "    </tr>\n",
       "    <tr>\n",
       "      <th>std</th>\n",
       "      <td>0.279766</td>\n",
       "      <td>6.369381</td>\n",
       "      <td>0.492281</td>\n",
       "      <td>0.302974</td>\n",
       "      <td>7.95085</td>\n",
       "      <td>7.955235</td>\n",
       "      <td>0.345812</td>\n",
       "      <td>0.499389</td>\n",
       "      <td>0.417344</td>\n",
       "      <td>1.436007</td>\n",
       "      <td>0.340718</td>\n",
       "      <td>0.188352</td>\n",
       "      <td>0.290917</td>\n",
       "      <td>0.289462</td>\n",
       "    </tr>\n",
       "    <tr>\n",
       "      <th>min</th>\n",
       "      <td>0.000000</td>\n",
       "      <td>12.020000</td>\n",
       "      <td>0.000000</td>\n",
       "      <td>0.000000</td>\n",
       "      <td>0.00000</td>\n",
       "      <td>0.000000</td>\n",
       "      <td>0.000000</td>\n",
       "      <td>0.000000</td>\n",
       "      <td>0.000000</td>\n",
       "      <td>1.000000</td>\n",
       "      <td>0.000000</td>\n",
       "      <td>0.000000</td>\n",
       "      <td>0.000000</td>\n",
       "      <td>0.000000</td>\n",
       "    </tr>\n",
       "    <tr>\n",
       "      <th>25%</th>\n",
       "      <td>0.000000</td>\n",
       "      <td>24.030000</td>\n",
       "      <td>0.000000</td>\n",
       "      <td>0.000000</td>\n",
       "      <td>0.00000</td>\n",
       "      <td>0.000000</td>\n",
       "      <td>0.000000</td>\n",
       "      <td>0.000000</td>\n",
       "      <td>1.000000</td>\n",
       "      <td>6.000000</td>\n",
       "      <td>0.000000</td>\n",
       "      <td>0.000000</td>\n",
       "      <td>0.000000</td>\n",
       "      <td>0.000000</td>\n",
       "    </tr>\n",
       "    <tr>\n",
       "      <th>50%</th>\n",
       "      <td>0.000000</td>\n",
       "      <td>27.340000</td>\n",
       "      <td>0.000000</td>\n",
       "      <td>0.000000</td>\n",
       "      <td>0.00000</td>\n",
       "      <td>0.000000</td>\n",
       "      <td>0.000000</td>\n",
       "      <td>0.000000</td>\n",
       "      <td>1.000000</td>\n",
       "      <td>7.000000</td>\n",
       "      <td>0.000000</td>\n",
       "      <td>0.000000</td>\n",
       "      <td>0.000000</td>\n",
       "      <td>0.000000</td>\n",
       "    </tr>\n",
       "    <tr>\n",
       "      <th>75%</th>\n",
       "      <td>0.000000</td>\n",
       "      <td>31.440000</td>\n",
       "      <td>1.000000</td>\n",
       "      <td>0.000000</td>\n",
       "      <td>2.00000</td>\n",
       "      <td>3.000000</td>\n",
       "      <td>0.000000</td>\n",
       "      <td>1.000000</td>\n",
       "      <td>1.000000</td>\n",
       "      <td>8.000000</td>\n",
       "      <td>0.000000</td>\n",
       "      <td>0.000000</td>\n",
       "      <td>0.000000</td>\n",
       "      <td>0.000000</td>\n",
       "    </tr>\n",
       "    <tr>\n",
       "      <th>max</th>\n",
       "      <td>1.000000</td>\n",
       "      <td>119.000000</td>\n",
       "      <td>1.000000</td>\n",
       "      <td>1.000000</td>\n",
       "      <td>30.00000</td>\n",
       "      <td>30.000000</td>\n",
       "      <td>1.000000</td>\n",
       "      <td>1.000000</td>\n",
       "      <td>1.000000</td>\n",
       "      <td>24.000000</td>\n",
       "      <td>1.000000</td>\n",
       "      <td>1.000000</td>\n",
       "      <td>1.000000</td>\n",
       "      <td>1.000000</td>\n",
       "    </tr>\n",
       "  </tbody>\n",
       "</table>\n",
       "</div>"
      ],
      "text/plain": [
       "        HeartDisease            BMI        Smoking  AlcoholDrinking  \\\n",
       "count  319795.000000  319795.000000  319795.000000    212984.000000   \n",
       "mean        0.085595      28.327367       0.412477         0.102247   \n",
       "std         0.279766       6.369381       0.492281         0.302974   \n",
       "min         0.000000      12.020000       0.000000         0.000000   \n",
       "25%         0.000000      24.030000       0.000000         0.000000   \n",
       "50%         0.000000      27.340000       0.000000         0.000000   \n",
       "75%         0.000000      31.440000       1.000000         0.000000   \n",
       "max         1.000000     119.000000       1.000000         1.000000   \n",
       "\n",
       "       PhysicalHealth   MentalHealth    DiffWalking            Sex  \\\n",
       "count    319795.00000  319795.000000  319795.000000  319795.000000   \n",
       "mean          3.37171       3.898366       0.138870       0.475273   \n",
       "std           7.95085       7.955235       0.345812       0.499389   \n",
       "min           0.00000       0.000000       0.000000       0.000000   \n",
       "25%           0.00000       0.000000       0.000000       0.000000   \n",
       "50%           0.00000       0.000000       0.000000       0.000000   \n",
       "75%           2.00000       3.000000       0.000000       1.000000   \n",
       "max          30.00000      30.000000       1.000000       1.000000   \n",
       "\n",
       "       PhysicalActivity      SleepTime         Asthma  KidneyDisease  \\\n",
       "count     319795.000000  319795.000000  319795.000000  319795.000000   \n",
       "mean           0.775362       7.097075       0.134061       0.036833   \n",
       "std            0.417344       1.436007       0.340718       0.188352   \n",
       "min            0.000000       1.000000       0.000000       0.000000   \n",
       "25%            1.000000       6.000000       0.000000       0.000000   \n",
       "50%            1.000000       7.000000       0.000000       0.000000   \n",
       "75%            1.000000       8.000000       0.000000       0.000000   \n",
       "max            1.000000      24.000000       1.000000       1.000000   \n",
       "\n",
       "          SkinCancer  HeartDisease_FamilyHistory  \n",
       "count  319446.000000                35263.000000  \n",
       "mean        0.093346                    0.092306  \n",
       "std         0.290917                    0.289462  \n",
       "min         0.000000                    0.000000  \n",
       "25%         0.000000                    0.000000  \n",
       "50%         0.000000                    0.000000  \n",
       "75%         0.000000                    0.000000  \n",
       "max         1.000000                    1.000000  "
      ]
     },
     "execution_count": 143,
     "metadata": {},
     "output_type": "execute_result"
    }
   ],
   "source": [
    "dataset.describe()"
   ]
  },
  {
   "cell_type": "code",
   "execution_count": 144,
   "metadata": {},
   "outputs": [
    {
     "data": {
      "text/plain": [
       "0               55-59\n",
       "1         80 or older\n",
       "2               65-69\n",
       "3               75-79\n",
       "4               40-44\n",
       "             ...     \n",
       "319790          60-64\n",
       "319791          35-39\n",
       "319792          45-49\n",
       "319793          25-29\n",
       "319794    80 or older\n",
       "Name: AgeCategory, Length: 319795, dtype: object"
      ]
     },
     "execution_count": 144,
     "metadata": {},
     "output_type": "execute_result"
    }
   ],
   "source": [
    "# Criação do DataFrame com a coluna AgeCategory\n",
    "\n",
    "data = dataset['AgeCategory']\n",
    "data"
   ]
  },
  {
   "cell_type": "code",
   "execution_count": 145,
   "metadata": {},
   "outputs": [
    {
     "name": "stdout",
     "output_type": "stream",
     "text": [
      "        AgeCategory  AgeFloat\n",
      "0             55-59      57.0\n",
      "1       80 or older      80.0\n",
      "2             65-69      67.0\n",
      "3             75-79      77.0\n",
      "4             40-44      42.0\n",
      "...             ...       ...\n",
      "319790        60-64      62.0\n",
      "319791        35-39      37.0\n",
      "319792        45-49      47.0\n",
      "319793        25-29      27.0\n",
      "319794  80 or older      80.0\n",
      "\n",
      "[319795 rows x 2 columns]\n"
     ]
    }
   ],
   "source": [
    "# Função para converter o intervalo em valor float e substituir \"80 or older\" por \"80\"\n",
    "\n",
    "df_ages = pd.DataFrame(data)\n",
    "\n",
    "def calcular_media(intervalo):\n",
    "    if '-' in intervalo:\n",
    "        inicio, fim = map(int, intervalo.split('-'))\n",
    "        return (inicio + fim) / 2\n",
    "    elif intervalo == '80 or older':\n",
    "        return 80\n",
    "    else:\n",
    "        return None\n",
    "\n",
    "# Aplicando a função para calcular a média em cada intervalo e armazenando em uma nova coluna\n",
    "\n",
    "df_ages['AgeFloat'] = df_ages['AgeCategory'].apply(calcular_media)\n",
    "df_ages = pd.DataFrame(df_ages)\n",
    "\n",
    "print(df_ages)"
   ]
  },
  {
   "cell_type": "code",
   "execution_count": 146,
   "metadata": {},
   "outputs": [],
   "source": [
    "# Concatenando o DataFrame original com o DataFrame contendo 'AgeFloat' e dropando 'AgeCategory'\n",
    "\n",
    "dataset = pd.concat([dataset, df_ages], axis=1)\n",
    "dataset = dataset.drop('AgeCategory', axis=1)"
   ]
  },
  {
   "cell_type": "code",
   "execution_count": 147,
   "metadata": {
    "colab": {
     "base_uri": "https://localhost:8080/",
     "height": 879
    },
    "executionInfo": {
     "elapsed": 1642,
     "status": "ok",
     "timestamp": 1662808442187,
     "user": {
      "displayName": "David Jardim",
      "userId": "03356801395304838428"
     },
     "user_tz": -60
    },
    "id": "ginfwW4OO2Ag",
    "outputId": "b92b5d6b-3f24-4b66-a46e-884db36b4c59"
   },
   "outputs": [
    {
     "data": {
      "image/png": "[encoded data removed]",
      "text/plain": [
       "<Figure size 2000x1500 with 16 Axes>"
      ]
     },
     "metadata": {},
     "output_type": "display_data"
    }
   ],
   "source": [
    "import matplotlib.pyplot as plt\n",
    "dataset.hist(bins=50, figsize=(20,15))\n",
    "plt.show()"
   ]
  },
  {
   "cell_type": "markdown",
   "metadata": {
    "id": "uZgCkzfkQCwu"
   },
   "source": [
    "## Data cleaning"
   ]
  },
  {
   "cell_type": "code",
   "execution_count": 148,
   "metadata": {},
   "outputs": [
    {
     "name": "stdout",
     "output_type": "stream",
     "text": [
      "HeartDisease                       0\n",
      "BMI                                0\n",
      "Smoking                            0\n",
      "AlcoholDrinking               106811\n",
      "Stroke                          1112\n",
      "PhysicalHealth                     0\n",
      "MentalHealth                       0\n",
      "DiffWalking                        0\n",
      "Sex                                0\n",
      "Race                               0\n",
      "Diabetic                           0\n",
      "PhysicalActivity                   0\n",
      "GenHealth                          0\n",
      "SleepTime                          0\n",
      "Asthma                             0\n",
      "KidneyDisease                      0\n",
      "SkinCancer                       349\n",
      "HeartDisease_FamilyHistory    284532\n",
      "State                              0\n",
      "AgeFloat                          59\n",
      "dtype: int64\n"
     ]
    }
   ],
   "source": [
    "print(dataset.isnull().sum())  # Conta o número de valores NaN em cada coluna"
   ]
  },
  {
   "cell_type": "code",
   "execution_count": 149,
   "metadata": {},
   "outputs": [
    {
     "name": "stdout",
     "output_type": "stream",
     "text": [
      "   HeartDisease    BMI  Smoking  AlcoholDrinking Stroke  PhysicalHealth  \\\n",
      "1             0  20.34        0              NaN    Yes             0.0   \n",
      "2             0  26.58        1              NaN     No            20.0   \n",
      "3             0  24.21        0              NaN     No             0.0   \n",
      "4             0  23.71        0              0.0     No            28.0   \n",
      "5             1  28.87        1              0.0     No             6.0   \n",
      "\n",
      "   MentalHealth  DiffWalking  Sex   Race Diabetic  PhysicalActivity  \\\n",
      "1           0.0            0    0  White       No                 1   \n",
      "2          30.0            0    1  White      Yes                 1   \n",
      "3           0.0            0    0  White       No                 0   \n",
      "4           0.0            1    0  White       No                 1   \n",
      "5           0.0            1    0  Black       No                 0   \n",
      "\n",
      "   GenHealth  SleepTime  Asthma  KidneyDisease  SkinCancer  \\\n",
      "1  Very good        7.0       0              0         0.0   \n",
      "2       Fair        8.0       1              0         0.0   \n",
      "3       Good        6.0       0              0         1.0   \n",
      "4  Very good        8.0       0              0         0.0   \n",
      "5       Fair       12.0       0              0         0.0   \n",
      "\n",
      "   HeartDisease_FamilyHistory State  AgeFloat  \n",
      "1                         NaN    VT      80.0  \n",
      "2                         NaN    WY      67.0  \n",
      "3                         0.0    VT      77.0  \n",
      "4                         NaN    DC      42.0  \n",
      "5                         NaN    PA      77.0  \n"
     ]
    }
   ],
   "source": [
    "incomplete_rows = dataset[dataset.isnull().any(axis=1)].head()\n",
    "\n",
    "incomplete_rows\n",
    "\n",
    "print(incomplete_rows)"
   ]
  },
  {
   "cell_type": "code",
   "execution_count": 150,
   "metadata": {
    "colab": {
     "base_uri": "https://localhost:8080/"
    },
    "executionInfo": {
     "elapsed": 261,
     "status": "ok",
     "timestamp": 1662816939373,
     "user": {
      "displayName": "David Jardim",
      "userId": "03356801395304838428"
     },
     "user_tz": -60
    },
    "id": "OsSPYAyIQL5o",
    "outputId": "14770785-b081-4b96-bd6f-8c068abbfb47"
   },
   "outputs": [
    {
     "name": "stdout",
     "output_type": "stream",
     "text": [
      "<class 'pandas.core.frame.DataFrame'>\n",
      "RangeIndex: 319795 entries, 0 to 319794\n",
      "Data columns (total 20 columns):\n",
      " #   Column                      Non-Null Count   Dtype  \n",
      "---  ------                      --------------   -----  \n",
      " 0   HeartDisease                319795 non-null  int64  \n",
      " 1   BMI                         319795 non-null  float64\n",
      " 2   Smoking                     319795 non-null  int64  \n",
      " 3   AlcoholDrinking             319795 non-null  float64\n",
      " 4   Stroke                      319795 non-null  object \n",
      " 5   PhysicalHealth              319795 non-null  float64\n",
      " 6   MentalHealth                319795 non-null  float64\n",
      " 7   DiffWalking                 319795 non-null  int64  \n",
      " 8   Sex                         319795 non-null  int64  \n",
      " 9   Race                        319795 non-null  object \n",
      " 10  Diabetic                    319795 non-null  object \n",
      " 11  PhysicalActivity            319795 non-null  int64  \n",
      " 12  GenHealth                   319795 non-null  object \n",
      " 13  SleepTime                   319795 non-null  float64\n",
      " 14  Asthma                      319795 non-null  int64  \n",
      " 15  KidneyDisease               319795 non-null  int64  \n",
      " 16  SkinCancer                  319795 non-null  float64\n",
      " 17  HeartDisease_FamilyHistory  319795 non-null  float64\n",
      " 18  State                       319795 non-null  object \n",
      " 19  AgeFloat                    319795 non-null  float64\n",
      "dtypes: float64(8), int64(7), object(5)\n",
      "memory usage: 48.8+ MB\n"
     ]
    }
   ],
   "source": [
    "# In this cases we can do the following\n",
    "#dataset = dataset.dropna(subset=[\"Rooms\"])    # option 1 remove entries\n",
    "#dataset = dataset.drop(\"Rooms\", axis=1)      # option 2 remove column\n",
    "#median = dataset[\"Rooms\"].median()           # option 3 replace with median\n",
    "\n",
    "dataset[\"AlcoholDrinking\"].fillna(0, inplace=True)  # Substituindo os valores NaN por 0\n",
    "dataset[\"Stroke\"].fillna(0, inplace=True)\n",
    "dataset[\"SkinCancer\"].fillna(0, inplace=True)\n",
    "dataset[\"HeartDisease_FamilyHistory\"].fillna(0, inplace=True)\n",
    "dataset[\"AgeFloat\"].fillna(0, inplace=True)\n",
    "\n",
    "dataset.info()\n"
   ]
  },
  {
   "cell_type": "markdown",
   "metadata": {
    "id": "VadrvE7s_lS9"
   },
   "source": [
    "## Handling Text and Categorical Attributes"
   ]
  },
  {
   "cell_type": "code",
   "execution_count": 157,
   "metadata": {
    "colab": {
     "base_uri": "https://localhost:8080/",
     "height": 363
    },
    "executionInfo": {
     "elapsed": 44,
     "status": "ok",
     "timestamp": 1662808442189,
     "user": {
      "displayName": "David Jardim",
      "userId": "03356801395304838428"
     },
     "user_tz": -60
    },
    "id": "wV3fD1mbAvsh",
    "outputId": "7d6c0cae-1a70-41b8-9114-cd43a3429226",
    "tags": []
   },
   "outputs": [
    {
     "ename": "KeyError",
     "evalue": "\"None of [Index(['AgeFloat'], dtype='object')] are in the [columns]\"",
     "output_type": "error",
     "traceback": [
      "\u001b[0;31m---------------------------------------------------------------------------\u001b[0m",
      "\u001b[0;31mKeyError\u001b[0m                                  Traceback (most recent call last)",
      "\u001b[0;32m/tmp/ipykernel_9516/388241066.py\u001b[0m in \u001b[0;36m<module>\u001b[0;34m\u001b[0m\n\u001b[0;32m----> 1\u001b[0;31m \u001b[0mtype_cat\u001b[0m \u001b[0;34m=\u001b[0m \u001b[0mdataset\u001b[0m\u001b[0;34m[\u001b[0m\u001b[0;34m[\u001b[0m\u001b[0;34m\"AgeFloat\"\u001b[0m\u001b[0;34m]\u001b[0m\u001b[0;34m]\u001b[0m\u001b[0;34m\u001b[0m\u001b[0;34m\u001b[0m\u001b[0m\n\u001b[0m\u001b[1;32m      2\u001b[0m \u001b[0mtype_cat\u001b[0m\u001b[0;34m[\u001b[0m\u001b[0;34m:\u001b[0m\u001b[0;36m10\u001b[0m\u001b[0;34m]\u001b[0m\u001b[0;34m\u001b[0m\u001b[0;34m\u001b[0m\u001b[0m\n",
      "\u001b[0;32m~/anaconda3/lib/python3.9/site-packages/pandas/core/frame.py\u001b[0m in \u001b[0;36m__getitem__\u001b[0;34m(self, key)\u001b[0m\n\u001b[1;32m   3509\u001b[0m             \u001b[0;32mif\u001b[0m \u001b[0mis_iterator\u001b[0m\u001b[0;34m(\u001b[0m\u001b[0mkey\u001b[0m\u001b[0;34m)\u001b[0m\u001b[0;34m:\u001b[0m\u001b[0;34m\u001b[0m\u001b[0;34m\u001b[0m\u001b[0m\n\u001b[1;32m   3510\u001b[0m                 \u001b[0mkey\u001b[0m \u001b[0;34m=\u001b[0m \u001b[0mlist\u001b[0m\u001b[0;34m(\u001b[0m\u001b[0mkey\u001b[0m\u001b[0;34m)\u001b[0m\u001b[0;34m\u001b[0m\u001b[0;34m\u001b[0m\u001b[0m\n\u001b[0;32m-> 3511\u001b[0;31m             \u001b[0mindexer\u001b[0m \u001b[0;34m=\u001b[0m \u001b[0mself\u001b[0m\u001b[0;34m.\u001b[0m\u001b[0mcolumns\u001b[0m\u001b[0;34m.\u001b[0m\u001b[0m_get_indexer_strict\u001b[0m\u001b[0;34m(\u001b[0m\u001b[0mkey\u001b[0m\u001b[0;34m,\u001b[0m \u001b[0;34m\"columns\"\u001b[0m\u001b[0;34m)\u001b[0m\u001b[0;34m[\u001b[0m\u001b[0;36m1\u001b[0m\u001b[0;34m]\u001b[0m\u001b[0;34m\u001b[0m\u001b[0;34m\u001b[0m\u001b[0m\n\u001b[0m\u001b[1;32m   3512\u001b[0m \u001b[0;34m\u001b[0m\u001b[0m\n\u001b[1;32m   3513\u001b[0m         \u001b[0;31m# take() does not accept boolean indexers\u001b[0m\u001b[0;34m\u001b[0m\u001b[0;34m\u001b[0m\u001b[0m\n",
      "\u001b[0;32m~/anaconda3/lib/python3.9/site-packages/pandas/core/indexes/base.py\u001b[0m in \u001b[0;36m_get_indexer_strict\u001b[0;34m(self, key, axis_name)\u001b[0m\n\u001b[1;32m   5794\u001b[0m             \u001b[0mkeyarr\u001b[0m\u001b[0;34m,\u001b[0m \u001b[0mindexer\u001b[0m\u001b[0;34m,\u001b[0m \u001b[0mnew_indexer\u001b[0m \u001b[0;34m=\u001b[0m \u001b[0mself\u001b[0m\u001b[0;34m.\u001b[0m\u001b[0m_reindex_non_unique\u001b[0m\u001b[0;34m(\u001b[0m\u001b[0mkeyarr\u001b[0m\u001b[0;34m)\u001b[0m\u001b[0;34m\u001b[0m\u001b[0;34m\u001b[0m\u001b[0m\n\u001b[1;32m   5795\u001b[0m \u001b[0;34m\u001b[0m\u001b[0m\n\u001b[0;32m-> 5796\u001b[0;31m         \u001b[0mself\u001b[0m\u001b[0;34m.\u001b[0m\u001b[0m_raise_if_missing\u001b[0m\u001b[0;34m(\u001b[0m\u001b[0mkeyarr\u001b[0m\u001b[0;34m,\u001b[0m \u001b[0mindexer\u001b[0m\u001b[0;34m,\u001b[0m \u001b[0maxis_name\u001b[0m\u001b[0;34m)\u001b[0m\u001b[0;34m\u001b[0m\u001b[0;34m\u001b[0m\u001b[0m\n\u001b[0m\u001b[1;32m   5797\u001b[0m \u001b[0;34m\u001b[0m\u001b[0m\n\u001b[1;32m   5798\u001b[0m         \u001b[0mkeyarr\u001b[0m \u001b[0;34m=\u001b[0m \u001b[0mself\u001b[0m\u001b[0;34m.\u001b[0m\u001b[0mtake\u001b[0m\u001b[0;34m(\u001b[0m\u001b[0mindexer\u001b[0m\u001b[0;34m)\u001b[0m\u001b[0;34m\u001b[0m\u001b[0;34m\u001b[0m\u001b[0m\n",
      "\u001b[0;32m~/anaconda3/lib/python3.9/site-packages/pandas/core/indexes/base.py\u001b[0m in \u001b[0;36m_raise_if_missing\u001b[0;34m(self, key, indexer, axis_name)\u001b[0m\n\u001b[1;32m   5854\u001b[0m                 \u001b[0;32mif\u001b[0m \u001b[0muse_interval_msg\u001b[0m\u001b[0;34m:\u001b[0m\u001b[0;34m\u001b[0m\u001b[0;34m\u001b[0m\u001b[0m\n\u001b[1;32m   5855\u001b[0m                     \u001b[0mkey\u001b[0m \u001b[0;34m=\u001b[0m \u001b[0mlist\u001b[0m\u001b[0;34m(\u001b[0m\u001b[0mkey\u001b[0m\u001b[0;34m)\u001b[0m\u001b[0;34m\u001b[0m\u001b[0;34m\u001b[0m\u001b[0m\n\u001b[0;32m-> 5856\u001b[0;31m                 \u001b[0;32mraise\u001b[0m \u001b[0mKeyError\u001b[0m\u001b[0;34m(\u001b[0m\u001b[0;34mf\"None of [{key}] are in the [{axis_name}]\"\u001b[0m\u001b[0;34m)\u001b[0m\u001b[0;34m\u001b[0m\u001b[0;34m\u001b[0m\u001b[0m\n\u001b[0m\u001b[1;32m   5857\u001b[0m \u001b[0;34m\u001b[0m\u001b[0m\n\u001b[1;32m   5858\u001b[0m             \u001b[0mnot_found\u001b[0m \u001b[0;34m=\u001b[0m \u001b[0mlist\u001b[0m\u001b[0;34m(\u001b[0m\u001b[0mensure_index\u001b[0m\u001b[0;34m(\u001b[0m\u001b[0mkey\u001b[0m\u001b[0;34m)\u001b[0m\u001b[0;34m[\u001b[0m\u001b[0mmissing_mask\u001b[0m\u001b[0;34m.\u001b[0m\u001b[0mnonzero\u001b[0m\u001b[0;34m(\u001b[0m\u001b[0;34m)\u001b[0m\u001b[0;34m[\u001b[0m\u001b[0;36m0\u001b[0m\u001b[0;34m]\u001b[0m\u001b[0;34m]\u001b[0m\u001b[0;34m.\u001b[0m\u001b[0munique\u001b[0m\u001b[0;34m(\u001b[0m\u001b[0;34m)\u001b[0m\u001b[0;34m)\u001b[0m\u001b[0;34m\u001b[0m\u001b[0;34m\u001b[0m\u001b[0m\n",
      "\u001b[0;31mKeyError\u001b[0m: \"None of [Index(['AgeFloat'], dtype='object')] are in the [columns]\""
     ]
    }
   ],
   "source": [
    "type_cat = dataset[[\"AgeFloat\"]]\n",
    "type_cat[:10]"
   ]
  },
  {
   "cell_type": "code",
   "execution_count": 152,
   "metadata": {
    "colab": {
     "base_uri": "https://localhost:8080/"
    },
    "executionInfo": {
     "elapsed": 43,
     "status": "ok",
     "timestamp": 1662808442190,
     "user": {
      "displayName": "David Jardim",
      "userId": "03356801395304838428"
     },
     "user_tz": -60
    },
    "id": "YwT_39O9Ty7T",
    "outputId": "f4144bba-ebc7-4d94-c8d5-94ee773af266"
   },
   "outputs": [
    {
     "data": {
      "text/plain": [
       "array(['MT', 'VT', 'WY', 'DC', 'PA', 'AK', 'KY', 'DE', 'CA', 'NM', 'WI',\n",
       "       'VA', 'IN', 'IL', 'OR', 'MS', 'FL', 'OK', 'TN', 'LA', 'HI', 'AZ',\n",
       "       'WA', 'NE', 'AL', 'MO', 'UT', 'NH', 'OH', 'NV', 'IA', 'KS', 'ID',\n",
       "       'GA', 'MA', 'AR', 'MD', 'MI', 'CT', 'NJ', 'WV', 'ME', 'MN', 'CO',\n",
       "       'TX', 'NY', 'SC', 'NC', 'SD', 'RI', 'ND'], dtype=object)"
      ]
     },
     "execution_count": 152,
     "metadata": {},
     "output_type": "execute_result"
    }
   ],
   "source": [
    "dataset[\"State\"].unique()"
   ]
  },
  {
   "cell_type": "code",
   "execution_count": 153,
   "metadata": {
    "colab": {
     "base_uri": "https://localhost:8080/"
    },
    "executionInfo": {
     "elapsed": 37,
     "status": "ok",
     "timestamp": 1662808442191,
     "user": {
      "displayName": "David Jardim",
      "userId": "03356801395304838428"
     },
     "user_tz": -60
    },
    "id": "wa_cxz91T8oZ",
    "outputId": "38765714-86cd-4fc8-be3c-7ba03d8dcb5b"
   },
   "outputs": [],
   "source": [
    "from sklearn.preprocessing import OneHotEncoder\n",
    "#cat_encoder = OneHotEncoder()\n",
    "#race_cat_1hot = cat_encoder.fit_transform(type_cat)\n",
    "#race_cat_1hot\n",
    "\n",
    "def OHE(df, column_name):\n",
    "    dummy_dataset = pd.get_dummies(df[column_name], prefix = column_name)\n",
    "    df = pd.concat([df, dummy_dataset], axis = 1)\n",
    "    df.drop(column_name, axis = 1, inplace = True)\n",
    "    del dummy_dataset\n",
    "\n",
    "    return df"
   ]
  },
  {
   "cell_type": "code",
   "execution_count": 154,
   "metadata": {
    "colab": {
     "base_uri": "https://localhost:8080/"
    },
    "executionInfo": {
     "elapsed": 35,
     "status": "ok",
     "timestamp": 1662808442191,
     "user": {
      "displayName": "David Jardim",
      "userId": "03356801395304838428"
     },
     "user_tz": -60
    },
    "id": "hASlHR45U6kP",
    "outputId": "894ee368-c8e7-4370-9856-e4a9631c0e69"
   },
   "outputs": [],
   "source": [
    "dataset = OHE(dataset, \"AgeFloat\")"
   ]
  },
  {
   "cell_type": "code",
   "execution_count": 159,
   "metadata": {},
   "outputs": [],
   "source": [
    "dataset = OHE(dataset, 'Sex')"
   ]
  },
  {
   "cell_type": "code",
   "execution_count": 160,
   "metadata": {},
   "outputs": [],
   "source": [
    "dataset = OHE(dataset, 'Race')"
   ]
  },
  {
   "cell_type": "code",
   "execution_count": 161,
   "metadata": {},
   "outputs": [],
   "source": [
    "dataset = OHE(dataset, 'Diabetic')"
   ]
  },
  {
   "cell_type": "code",
   "execution_count": 162,
   "metadata": {},
   "outputs": [],
   "source": [
    "dataset = OHE(dataset, 'GenHealth')"
   ]
  },
  {
   "cell_type": "code",
   "execution_count": 163,
   "metadata": {},
   "outputs": [],
   "source": [
    "dataset = OHE(dataset, 'State')"
   ]
  },
  {
   "cell_type": "code",
   "execution_count": 168,
   "metadata": {},
   "outputs": [
    {
     "data": {
      "text/html": [
       "<div>\n",
       "<style scoped>\n",
       "    .dataframe tbody tr th:only-of-type {\n",
       "        vertical-align: middle;\n",
       "    }\n",
       "\n",
       "    .dataframe tbody tr th {\n",
       "        vertical-align: top;\n",
       "    }\n",
       "\n",
       "    .dataframe thead th {\n",
       "        text-align: right;\n",
       "    }\n",
       "</style>\n",
       "<table border=\"1\" class=\"dataframe\">\n",
       "  <thead>\n",
       "    <tr style=\"text-align: right;\">\n",
       "      <th></th>\n",
       "      <th>0</th>\n",
       "      <th>1</th>\n",
       "      <th>2</th>\n",
       "      <th>3</th>\n",
       "      <th>4</th>\n",
       "    </tr>\n",
       "  </thead>\n",
       "  <tbody>\n",
       "    <tr>\n",
       "      <th>HeartDisease</th>\n",
       "      <td>0.0</td>\n",
       "      <td>0.00</td>\n",
       "      <td>0.00</td>\n",
       "      <td>0.00</td>\n",
       "      <td>0.00</td>\n",
       "    </tr>\n",
       "    <tr>\n",
       "      <th>BMI</th>\n",
       "      <td>16.6</td>\n",
       "      <td>20.34</td>\n",
       "      <td>26.58</td>\n",
       "      <td>24.21</td>\n",
       "      <td>23.71</td>\n",
       "    </tr>\n",
       "    <tr>\n",
       "      <th>Smoking</th>\n",
       "      <td>1.0</td>\n",
       "      <td>0.00</td>\n",
       "      <td>1.00</td>\n",
       "      <td>0.00</td>\n",
       "      <td>0.00</td>\n",
       "    </tr>\n",
       "    <tr>\n",
       "      <th>AlcoholDrinking</th>\n",
       "      <td>0.0</td>\n",
       "      <td>0.00</td>\n",
       "      <td>0.00</td>\n",
       "      <td>0.00</td>\n",
       "      <td>0.00</td>\n",
       "    </tr>\n",
       "    <tr>\n",
       "      <th>Stroke</th>\n",
       "      <td>0.0</td>\n",
       "      <td>1.00</td>\n",
       "      <td>0.00</td>\n",
       "      <td>0.00</td>\n",
       "      <td>0.00</td>\n",
       "    </tr>\n",
       "    <tr>\n",
       "      <th>...</th>\n",
       "      <td>...</td>\n",
       "      <td>...</td>\n",
       "      <td>...</td>\n",
       "      <td>...</td>\n",
       "      <td>...</td>\n",
       "    </tr>\n",
       "    <tr>\n",
       "      <th>State_VT</th>\n",
       "      <td>0.0</td>\n",
       "      <td>1.00</td>\n",
       "      <td>0.00</td>\n",
       "      <td>1.00</td>\n",
       "      <td>0.00</td>\n",
       "    </tr>\n",
       "    <tr>\n",
       "      <th>State_WA</th>\n",
       "      <td>0.0</td>\n",
       "      <td>0.00</td>\n",
       "      <td>0.00</td>\n",
       "      <td>0.00</td>\n",
       "      <td>0.00</td>\n",
       "    </tr>\n",
       "    <tr>\n",
       "      <th>State_WI</th>\n",
       "      <td>0.0</td>\n",
       "      <td>0.00</td>\n",
       "      <td>0.00</td>\n",
       "      <td>0.00</td>\n",
       "      <td>0.00</td>\n",
       "    </tr>\n",
       "    <tr>\n",
       "      <th>State_WV</th>\n",
       "      <td>0.0</td>\n",
       "      <td>0.00</td>\n",
       "      <td>0.00</td>\n",
       "      <td>0.00</td>\n",
       "      <td>0.00</td>\n",
       "    </tr>\n",
       "    <tr>\n",
       "      <th>State_WY</th>\n",
       "      <td>0.0</td>\n",
       "      <td>0.00</td>\n",
       "      <td>1.00</td>\n",
       "      <td>0.00</td>\n",
       "      <td>0.00</td>\n",
       "    </tr>\n",
       "  </tbody>\n",
       "</table>\n",
       "<p>96 rows × 5 columns</p>\n",
       "</div>"
      ],
      "text/plain": [
       "                    0      1      2      3      4\n",
       "HeartDisease      0.0   0.00   0.00   0.00   0.00\n",
       "BMI              16.6  20.34  26.58  24.21  23.71\n",
       "Smoking           1.0   0.00   1.00   0.00   0.00\n",
       "AlcoholDrinking   0.0   0.00   0.00   0.00   0.00\n",
       "Stroke            0.0   1.00   0.00   0.00   0.00\n",
       "...               ...    ...    ...    ...    ...\n",
       "State_VT          0.0   1.00   0.00   1.00   0.00\n",
       "State_WA          0.0   0.00   0.00   0.00   0.00\n",
       "State_WI          0.0   0.00   0.00   0.00   0.00\n",
       "State_WV          0.0   0.00   0.00   0.00   0.00\n",
       "State_WY          0.0   0.00   1.00   0.00   0.00\n",
       "\n",
       "[96 rows x 5 columns]"
      ]
     },
     "execution_count": 168,
     "metadata": {},
     "output_type": "execute_result"
    }
   ],
   "source": [
    "dataset.head().T"
   ]
  },
  {
   "cell_type": "markdown",
   "metadata": {
    "id": "S6Rvbb15cbDJ"
   },
   "source": [
    "## Select dependent and independent variables"
   ]
  },
  {
   "cell_type": "code",
   "execution_count": 181,
   "metadata": {
    "executionInfo": {
     "elapsed": 33,
     "status": "ok",
     "timestamp": 1662808442191,
     "user": {
      "displayName": "David Jardim",
      "userId": "03356801395304838428"
     },
     "user_tz": -60
    },
    "id": "pxVSpB58XAz7"
   },
   "outputs": [],
   "source": [
    "feature_cols = ['Rooms', 'Squared_meters', 'Floor', 'Type', 'Pool', 'Furniture',\n",
    "                    'Exterior', 'Elevator', 'Distric']\n",
    "\n",
    "X = dataset[feature_cols]  # Features\n",
    "y = dataset['Price']  # Target variable"
   ]
  },
  {
   "cell_type": "markdown",
   "metadata": {
    "id": "2S2hIZZ0cmJJ"
   },
   "source": [
    "## Apply one hot encoder to data"
   ]
  },
  {
   "cell_type": "code",
   "execution_count": 182,
   "metadata": {
    "executionInfo": {
     "elapsed": 34,
     "status": "ok",
     "timestamp": 1662808442192,
     "user": {
      "displayName": "David Jardim",
      "userId": "03356801395304838428"
     },
     "user_tz": -60
    },
    "id": "I4MmNG2Mb1w6"
   },
   "outputs": [],
   "source": [
    "from sklearn.compose import ColumnTransformer\n",
    "from sklearn.preprocessing import OneHotEncoder\n",
    "cat_attribs = [\"Type\", \"Distric\"]\n",
    "ct = ColumnTransformer(transformers=[('encoder', OneHotEncoder(), cat_attribs)], remainder='passthrough')\n",
    "X = np.array(ct.fit_transform(X))"
   ]
  },
  {
   "cell_type": "markdown",
   "metadata": {
    "id": "WemVnqgeA70k"
   },
   "source": [
    "## Splitting the dataset into the Training set and Test set"
   ]
  },
  {
   "cell_type": "code",
   "execution_count": 183,
   "metadata": {
    "executionInfo": {
     "elapsed": 33,
     "status": "ok",
     "timestamp": 1662808442192,
     "user": {
      "displayName": "David Jardim",
      "userId": "03356801395304838428"
     },
     "user_tz": -60
    },
    "id": "Kb_v_ae-A-20"
   },
   "outputs": [],
   "source": [
    "from sklearn.model_selection import train_test_split\n",
    "X_train, X_test, y_train, y_test = train_test_split(X, y, test_size = 0.2, random_state = 0)"
   ]
  },
  {
   "cell_type": "markdown",
   "metadata": {
    "id": "k-McZVsQBINc"
   },
   "source": [
    "## Training the Multiple Linear Regression model on the Training set\n",
    "\n",
    "---\n",
    "\n"
   ]
  },
  {
   "cell_type": "code",
   "execution_count": 248,
   "metadata": {
    "colab": {
     "base_uri": "https://localhost:8080/"
    },
    "executionInfo": {
     "elapsed": 294,
     "status": "ok",
     "timestamp": 1662817345946,
     "user": {
      "displayName": "David Jardim",
      "userId": "03356801395304838428"
     },
     "user_tz": -60
    },
    "id": "ywPjx0L1BMiD",
    "outputId": "7e3c6448-5d35-490f-92da-cd2db71fa26e"
   },
   "outputs": [
    {
     "data": {
      "text/plain": [
       "LinearRegression()"
      ]
     },
     "execution_count": 248,
     "metadata": {},
     "output_type": "execute_result"
    }
   ],
   "source": [
    "from sklearn.linear_model import LinearRegression\n",
    "regressor = LinearRegression()\n",
    "regressor.fit(X_train, y_train)"
   ]
  },
  {
   "cell_type": "markdown",
   "metadata": {
    "id": "jXoCYWlPIHjF"
   },
   "source": [
    " ## Inspecting the intercept (constant) and the coefficients (slopes)"
   ]
  },
  {
   "cell_type": "code",
   "execution_count": 185,
   "metadata": {
    "colab": {
     "base_uri": "https://localhost:8080/"
    },
    "executionInfo": {
     "elapsed": 33,
     "status": "ok",
     "timestamp": 1662808442193,
     "user": {
      "displayName": "David Jardim",
      "userId": "03356801395304838428"
     },
     "user_tz": -60
    },
    "id": "xBVoNNlQIKrH",
    "outputId": "321c2c0b-fdb7-4e8a-edd9-1c65bf6fa3f8"
   },
   "outputs": [
    {
     "name": "stdout",
     "output_type": "stream",
     "text": [
      "Intercept: 764.5767269062746\n",
      "coefficient: [ 46.56031604 -35.04153907  14.14441745 -25.66319442   3.60605977\n",
      "   0.78822361  -1.94987185  -9.91604144  -2.05751109   9.52914101\n",
      " -13.32399398   2.58139297  -2.84709732  58.38252572   5.78054798\n",
      " -39.16450325   0.        ]\n"
     ]
    }
   ],
   "source": [
    "intercept = regressor.intercept_\n",
    "print(\"Intercept: {}\".format(intercept))\n",
    "\n",
    "coefficient = regressor.coef_\n",
    "print(\"coefficient: {}\".format(coefficient))"
   ]
  },
  {
   "cell_type": "markdown",
   "metadata": {
    "id": "xNkXL1YQBiBT"
   },
   "source": [
    "## Predicting the Test set results"
   ]
  },
  {
   "cell_type": "code",
   "execution_count": 249,
   "metadata": {
    "colab": {
     "base_uri": "https://localhost:8080/"
    },
    "executionInfo": {
     "elapsed": 256,
     "status": "ok",
     "timestamp": 1662817352885,
     "user": {
      "displayName": "David Jardim",
      "userId": "03356801395304838428"
     },
     "user_tz": -60
    },
    "id": "TQKmwvtdBkyb",
    "outputId": "ec5b3947-7f80-424c-df34-11f7e3f3aab5"
   },
   "outputs": [
    {
     "name": "stdout",
     "output_type": "stream",
     "text": [
      "[830. 866. 884. 886. 914. 796. 878. 892. 862. 920. 824. 910. 930. 884.\n",
      " 836. 808. 784. 922. 880. 898. 804. 938. 938. 798. 916. 856. 838. 902.\n",
      " 810. 804. 776. 860. 840. 916. 876. 880. 932. 870. 918. 874. 912. 926.\n",
      " 840. 882. 862. 848. 922. 872. 924. 852. 900. 864. 884. 832. 844. 844.\n",
      " 822. 808. 886. 940. 882. 892. 864. 908. 920. 918. 910. 876. 854. 828.\n",
      " 854. 922. 760. 900. 900. 832. 934. 774. 866. 898. 844. 878. 874. 882.\n",
      " 896. 934. 800. 878. 812. 908. 892. 894. 856. 904. 892. 870. 880. 794.\n",
      " 866. 910. 774. 878. 942. 900.]\n"
     ]
    }
   ],
   "source": [
    "y_pred = regressor.predict(X_test)\n",
    "print(y_pred)"
   ]
  },
  {
   "cell_type": "markdown",
   "metadata": {
    "id": "bUxFoPdWdLPQ"
   },
   "source": [
    "## Evaluating the model with R2, MAE, MSE and RMSE"
   ]
  },
  {
   "cell_type": "code",
   "execution_count": 250,
   "metadata": {
    "colab": {
     "base_uri": "https://localhost:8080/"
    },
    "executionInfo": {
     "elapsed": 285,
     "status": "ok",
     "timestamp": 1662817358364,
     "user": {
      "displayName": "David Jardim",
      "userId": "03356801395304838428"
     },
     "user_tz": -60
    },
    "id": "4NVoytYHdJKh",
    "outputId": "55ecf8d9-753f-4fb3-8bcb-055cf32cecbf"
   },
   "outputs": [
    {
     "name": "stdout",
     "output_type": "stream",
     "text": [
      "R2: 0.13159253636913804\n",
      "MAE: 70.08653846153847\n",
      "MSE: 6910.798076923077\n",
      "RMSE: 83.1312100051664\n"
     ]
    }
   ],
   "source": [
    "evaluate_model(y_test, y_pred)"
   ]
  },
  {
   "cell_type": "markdown",
   "metadata": {
    "id": "J3cgmZ8DMtwI"
   },
   "source": [
    "## Visualize predicted VS actual data comparison"
   ]
  },
  {
   "cell_type": "code",
   "execution_count": 188,
   "metadata": {
    "colab": {
     "base_uri": "https://localhost:8080/",
     "height": 281
    },
    "executionInfo": {
     "elapsed": 582,
     "status": "ok",
     "timestamp": 1662808442747,
     "user": {
      "displayName": "David Jardim",
      "userId": "03356801395304838428"
     },
     "user_tz": -60
    },
    "id": "FaP_yCKveXXW",
    "outputId": "ce285f60-f4a2-4074-f73d-89c022b7fdff"
   },
   "outputs": [
    {
     "data": {
      "image/png": "[encoded data removed]",
      "text/plain": [
       "<Figure size 432x288 with 1 Axes>"
      ]
     },
     "metadata": {
      "needs_background": "light"
     },
     "output_type": "display_data"
    }
   ],
   "source": [
    "import matplotlib.pyplot as plt\n",
    "import numpy as np\n",
    "\n",
    "y_pred_s = y_pred[:50]\n",
    "y_test_s = y_test[:50]\n",
    "x = np.linspace(0, len(y_pred_s),len(y_pred_s))\n",
    "\n",
    "plt.scatter(x, y_pred_s, label='Predicted')\n",
    "plt.scatter(x, y_test_s, label='Actual')\n",
    "plt.ylabel(\"House Rent Price\")\n",
    "plt.legend()\n",
    "plt.title(\"Comparison between predicted and actual data LR model\")\n",
    "plt.show()"
   ]
  },
  {
   "cell_type": "markdown",
   "metadata": {
    "id": "l5arRnLXA4BV"
   },
   "source": [
    "## Training the Decision Tree Regression model on the Training set"
   ]
  },
  {
   "cell_type": "code",
   "execution_count": 189,
   "metadata": {
    "colab": {
     "base_uri": "https://localhost:8080/",
     "height": 352
    },
    "executionInfo": {
     "elapsed": 11,
     "status": "ok",
     "timestamp": 1662808442748,
     "user": {
      "displayName": "David Jardim",
      "userId": "03356801395304838428"
     },
     "user_tz": -60
    },
    "id": "l0mHBUrMA-a2",
    "outputId": "3311c935-c199-4026-e8ae-0273985e1438"
   },
   "outputs": [
    {
     "name": "stdout",
     "output_type": "stream",
     "text": [
      "R2: 0.82187161072377\n",
      "MAE: 10.721153846153847\n",
      "MSE: 1417.548076923077\n",
      "RMSE: 37.65033966544096\n"
     ]
    },
    {
     "data": {
      "image/png": "[encoded data removed]",
      "text/plain": [
       "<Figure size 432x288 with 1 Axes>"
      ]
     },
     "metadata": {
      "needs_background": "light"
     },
     "output_type": "display_data"
    }
   ],
   "source": [
    "from sklearn.tree import DecisionTreeRegressor\n",
    "regressor = DecisionTreeRegressor(random_state=0)\n",
    "regressor.fit(X_train, y_train)\n",
    "\n",
    "y_pred = regressor.predict(X_test)\n",
    "\n",
    "evaluate_model(y_test, y_pred)\n",
    "\n",
    "y_pred_s = y_pred[:50]\n",
    "y_test_s = y_test[:50]\n",
    "x = np.linspace(0, len(y_pred_s),len(y_pred_s))\n",
    "\n",
    "plt.scatter(x, y_pred_s, label='Predicted')\n",
    "plt.scatter(x, y_test_s, label='Actual')\n",
    "plt.ylabel(\"House Rent Price\")\n",
    "plt.legend()\n",
    "plt.title(\"Comparison between predicted and actual data LR model\")\n",
    "plt.show()"
   ]
  },
  {
   "cell_type": "markdown",
   "metadata": {
    "id": "8ET3s4WIC5_L"
   },
   "source": [
    "## Visualizing the Decision Tree"
   ]
  },
  {
   "cell_type": "code",
   "execution_count": 190,
   "metadata": {
    "colab": {
     "base_uri": "https://localhost:8080/",
     "height": 683
    },
    "executionInfo": {
     "elapsed": 6995,
     "status": "ok",
     "timestamp": 1662808449735,
     "user": {
      "displayName": "David Jardim",
      "userId": "03356801395304838428"
     },
     "user_tz": -60
    },
    "id": "TF0nzbw5DAWW",
    "outputId": "827a3299-5970-4aa4-c1aa-249ce0fc73af"
   },
   "outputs": [
    {
     "data": {
      "image/png": "[encoded data removed]",
      "text/plain": [
       "<Figure size 864x864 with 1 Axes>"
      ]
     },
     "metadata": {
      "needs_background": "light"
     },
     "output_type": "display_data"
    }
   ],
   "source": [
    "from sklearn import tree\n",
    "\n",
    "plt.figure(figsize=(12, 12))\n",
    "tree.plot_tree(regressor, fontsize=6)\n",
    "plt.savefig('tree_high_dpi', dpi=100)"
   ]
  },
  {
   "cell_type": "markdown",
   "metadata": {
    "id": "U_YX9QPecZ1m"
   },
   "source": [
    "## Training the Random Forest Regression model on the Training set"
   ]
  },
  {
   "cell_type": "code",
   "execution_count": 254,
   "metadata": {
    "colab": {
     "base_uri": "https://localhost:8080/",
     "height": 406
    },
    "executionInfo": {
     "elapsed": 3557,
     "status": "ok",
     "timestamp": 1662819092847,
     "user": {
      "displayName": "David Jardim",
      "userId": "03356801395304838428"
     },
     "user_tz": -60
    },
    "id": "3mciAkd5iFmz",
    "outputId": "12815d45-b6ca-4b56-a81d-2abead6535dc"
   },
   "outputs": [
    {
     "name": "stdout",
     "output_type": "stream",
     "text": [
      "R2: 0.8685966550714805\n",
      "MAE: 16.983627442002433\n",
      "MSE: 1045.7095562449974\n",
      "RMSE: 32.33743274047891\n"
     ]
    },
    {
     "data": {
      "image/png": "[encoded data removed]",
      "text/plain": [
       "<Figure size 432x288 with 1 Axes>"
      ]
     },
     "metadata": {
      "needs_background": "light"
     },
     "output_type": "display_data"
    },
    {
     "name": "stdout",
     "output_type": "stream",
     "text": [
      "[0.01122066 0.02698312 0.03882745 0.03527649 0.00334334 0.0030202\n",
      " 0.00276926 0.00666039 0.00561877 0.00240877 0.02969921 0.53817946\n",
      " 0.18480373 0.02315751 0.03072706 0.05730457 0.        ]\n"
     ]
    }
   ],
   "source": [
    "from sklearn.ensemble import RandomForestRegressor\n",
    "\n",
    "regressor = RandomForestRegressor(n_estimators=1000, random_state=42, n_jobs=-1)\n",
    "regressor.fit(X_train, y_train)\n",
    "\n",
    "y_pred = regressor.predict(X_test)\n",
    "\n",
    "evaluate_model(y_test, y_pred)\n",
    "\n",
    "y_pred_s = y_pred[:50]\n",
    "y_test_s = y_test[:50]\n",
    "x = np.linspace(0, len(y_pred_s),len(y_pred_s))\n",
    "\n",
    "plt.scatter(x, y_pred_s, label='Predicted')\n",
    "plt.scatter(x, y_test_s, label='Actual')\n",
    "plt.ylabel(\"House Rent Price\")\n",
    "plt.legend()\n",
    "plt.title(\"Comparison between predicted and actual data LR model\")\n",
    "plt.show()\n",
    "\n",
    "\n",
    "\n",
    "fi1 = regressor.feature_importances_\n",
    "print(fi1)"
   ]
  },
  {
   "cell_type": "markdown",
   "metadata": {
    "id": "E-0p3bCLd9MC"
   },
   "source": [
    "## Test with new data points"
   ]
  },
  {
   "cell_type": "code",
   "execution_count": 219,
   "metadata": {
    "colab": {
     "base_uri": "https://localhost:8080/"
    },
    "executionInfo": {
     "elapsed": 274,
     "status": "ok",
     "timestamp": 1662809596509,
     "user": {
      "displayName": "David Jardim",
      "userId": "03356801395304838428"
     },
     "user_tz": -60
    },
    "id": "rO4qDVU3eAca",
    "outputId": "2686da18-ee1d-46db-9d5c-561a950e1f7f"
   },
   "outputs": [
    {
     "name": "stdout",
     "output_type": "stream",
     "text": [
      "   Rooms  Squared_meters  Floor  Type  Pool  Furniture  Exterior  Elevator  \\\n",
      "0      1              49      3  Flat  True      False      True      True   \n",
      "\n",
      "    Distric  \n",
      "0  Malasaña  \n",
      "[[ 0.  0.  1.  0.  0.  0.  0.  0.  1.  0.  1. 49.  3.  1.  0.  1.  1.]]\n",
      "[836.53]\n"
     ]
    }
   ],
   "source": [
    "house_data = {'Rooms': [1], 'Squared_meters': [49], 'Floor': [3],'Type': ['Flat'],\n",
    "     'Pool': [True],'Furniture': [False],'Exterior': [True],'Elevator': [True],'Distric': ['Malasaña']}\n",
    "\n",
    "house_df = pd.DataFrame(data=house_data)\n",
    "print(house_df)\n",
    "\n",
    "\n",
    "# apply the same label binarizer transformation as was fitted on the data\n",
    "house_df['Pool'] = labelbinarizer.transform(house_df['Pool'])\n",
    "house_df['Exterior'] = labelbinarizer.transform(house_df['Exterior'])\n",
    "house_df['Furniture'] = labelbinarizer.transform(house_df['Furniture'])\n",
    "house_df['Elevator'] = labelbinarizer.transform(house_df['Elevator'])\n",
    "\n",
    "\n",
    "# apply the same one hot encoding transformation as was fitted on the data\n",
    "house_df_transformed = np.array(ct.transform(house_df))\n",
    "print(house_df_transformed)\n",
    "\n",
    "\n",
    "house_pred = regressor.predict(house_df_transformed)\n",
    "print(house_pred)"
   ]
  },
  {
   "cell_type": "markdown",
   "metadata": {
    "id": "BEE3q5g7KMX6"
   },
   "source": [
    "## Find the best estimator with GridSearchCV"
   ]
  },
  {
   "cell_type": "code",
   "execution_count": 230,
   "metadata": {
    "colab": {
     "base_uri": "https://localhost:8080/"
    },
    "executionInfo": {
     "elapsed": 35168,
     "status": "ok",
     "timestamp": 1662810326711,
     "user": {
      "displayName": "David Jardim",
      "userId": "03356801395304838428"
     },
     "user_tz": -60
    },
    "id": "fZMGl5MrInOD",
    "outputId": "c71d7f23-c7b9-4cc9-dac5-bcf48d208e88"
   },
   "outputs": [
    {
     "name": "stdout",
     "output_type": "stream",
     "text": [
      "R2: 0.8685966550714805\n",
      "MAE: 16.983627442002433\n",
      "MSE: 1045.7095562449974\n",
      "RMSE: 32.33743274047891\n"
     ]
    }
   ],
   "source": [
    "param_grid = { \n",
    "    'n_estimators': [1000],\n",
    "    'max_features': ['auto', 'sqrt', 'log2'],  \n",
    "    #'max_depth' : [4,5,6,7,8],\n",
    "    'criterion' :['squared_error', 'poisson']\n",
    "}\n",
    "\n",
    "from sklearn.model_selection import GridSearchCV\n",
    "grid_search = GridSearchCV(estimator=regressor, param_grid=param_grid, cv=3)\n",
    "grid_search.fit(X_train, y_train)\n",
    "\n",
    "best_rf_reg = grid_search.best_estimator_\n",
    "\n",
    "y_pred = best_rf_reg.predict(X_test)\n",
    "\n",
    "evaluate_model(y_test, y_pred)"
   ]
  },
  {
   "cell_type": "markdown",
   "metadata": {
    "id": "j7RcxJ2Vc3yP"
   },
   "source": [
    "## Performing Cross-fold validation"
   ]
  },
  {
   "cell_type": "code",
   "execution_count": 228,
   "metadata": {
    "colab": {
     "base_uri": "https://localhost:8080/"
    },
    "executionInfo": {
     "elapsed": 18677,
     "status": "ok",
     "timestamp": 1662809888212,
     "user": {
      "displayName": "David Jardim",
      "userId": "03356801395304838428"
     },
     "user_tz": -60
    },
    "id": "Qgj8HyWGc0Qa",
    "outputId": "c677a42e-6c34-46e2-8b46-d60c6d812477"
   },
   "outputs": [
    {
     "name": "stdout",
     "output_type": "stream",
     "text": [
      "0.84 explained_variance with a standard deviation of 0.12\n"
     ]
    }
   ],
   "source": [
    "#https://scikit-learn.org/stable/modules/model_evaluation.html#scoring-parameter\n",
    "\n",
    "from sklearn.model_selection import cross_val_score\n",
    "\n",
    "regressor = RandomForestRegressor(n_estimators=1000, random_state=42, n_jobs=-1)\n",
    "\n",
    "scoring_param = 'explained_variance'\n",
    "\n",
    "scores = cross_val_score(regressor, X_train, y_train, cv=10, scoring=scoring_param)\n",
    "print(\"%0.2f %s with a standard deviation of %0.2f\" % (scores.mean(), scoring_param, scores.std()))"
   ]
  },
  {
   "cell_type": "markdown",
   "metadata": {
    "id": "119KQUm4dC13"
   },
   "source": [
    "## Normalize the data?"
   ]
  },
  {
   "cell_type": "code",
   "execution_count": 194,
   "metadata": {
    "colab": {
     "base_uri": "https://localhost:8080/"
    },
    "executionInfo": {
     "elapsed": 17999,
     "status": "ok",
     "timestamp": 1662808488268,
     "user": {
      "displayName": "David Jardim",
      "userId": "03356801395304838428"
     },
     "user_tz": -60
    },
    "id": "LQpRzq2Rc_Yw",
    "outputId": "5a2e503c-8dc6-4603-9978-60f94d75b074"
   },
   "outputs": [
    {
     "name": "stdout",
     "output_type": "stream",
     "text": [
      "[[ 0.  0.  0.  1.  1.  0.  0.  0.  0.  0.  1. 55.  2.  0.  0.  1.  1.]\n",
      " [ 0.  0.  0.  1.  1.  0.  0.  0.  0.  0.  1. 50.  4.  0.  0.  0.  1.]\n",
      " [ 0.  0.  0.  1.  1.  0.  0.  0.  0.  0.  1. 73.  2.  0.  0.  1.  1.]\n",
      " [ 0.  0.  0.  1.  1.  0.  0.  0.  0.  0.  1. 41.  0.  0.  1.  1.  1.]\n",
      " [ 0.  0.  0.  1.  1.  0.  0.  0.  0.  0.  1. 42.  1.  0.  0.  1.  1.]\n",
      " [ 0.  0.  0.  1.  1.  0.  0.  0.  0.  0.  1. 34.  0.  0.  0.  0.  1.]\n",
      " [ 0.  0.  0.  1.  1.  0.  0.  0.  0.  0.  1. 30.  3.  0.  0.  0.  1.]\n",
      " [ 0.  0.  0.  1.  1.  0.  0.  0.  0.  0.  1. 37.  2.  1.  0.  1.  1.]\n",
      " [ 0.  0.  0.  1.  1.  0.  0.  0.  0.  0.  1. 35.  0.  0.  0.  1.  1.]\n",
      " [ 0.  0.  0.  1.  1.  0.  0.  0.  0.  0.  1. 50.  0.  0.  0.  1.  1.]]\n",
      "[[0.         0.         0.         1.         1.         0.\n",
      "  0.         0.         0.         0.         0.         0.47560976\n",
      "  0.33333333 0.         0.         1.         0.        ]\n",
      " [0.         0.         0.         1.         1.         0.\n",
      "  0.         0.         0.         0.         0.         0.41463415\n",
      "  0.66666667 0.         0.         0.         0.        ]\n",
      " [0.         0.         0.         1.         1.         0.\n",
      "  0.         0.         0.         0.         0.         0.69512195\n",
      "  0.33333333 0.         0.         1.         0.        ]\n",
      " [0.         0.         0.         1.         1.         0.\n",
      "  0.         0.         0.         0.         0.         0.30487805\n",
      "  0.         0.         1.         1.         0.        ]\n",
      " [0.         0.         0.         1.         1.         0.\n",
      "  0.         0.         0.         0.         0.         0.31707317\n",
      "  0.16666667 0.         0.         1.         0.        ]\n",
      " [0.         0.         0.         1.         1.         0.\n",
      "  0.         0.         0.         0.         0.         0.2195122\n",
      "  0.         0.         0.         0.         0.        ]\n",
      " [0.         0.         0.         1.         1.         0.\n",
      "  0.         0.         0.         0.         0.         0.17073171\n",
      "  0.5        0.         0.         0.         0.        ]\n",
      " [0.         0.         0.         1.         1.         0.\n",
      "  0.         0.         0.         0.         0.         0.25609756\n",
      "  0.33333333 1.         0.         1.         0.        ]\n",
      " [0.         0.         0.         1.         1.         0.\n",
      "  0.         0.         0.         0.         0.         0.23170732\n",
      "  0.         0.         0.         1.         0.        ]\n",
      " [0.         0.         0.         1.         1.         0.\n",
      "  0.         0.         0.         0.         0.         0.41463415\n",
      "  0.         0.         0.         1.         0.        ]]\n",
      "0.84 explained_variance with a standard deviation of 0.12\n"
     ]
    }
   ],
   "source": [
    "from sklearn.preprocessing import MinMaxScaler\n",
    "\n",
    "\n",
    "print(X[:10])\n",
    "\n",
    "scaler = MinMaxScaler()\n",
    "X = scaler.fit_transform(X)\n",
    "\n",
    "print(X[:10])\n",
    "\n",
    "regressor = RandomForestRegressor(n_estimators=1000, random_state=42, n_jobs=-1)\n",
    "X_train, X_test, y_train, y_test = train_test_split(X, y, test_size = 0.2, random_state = 0)\n",
    "\n",
    "scores = cross_val_score(regressor, X_train, y_train, cv=10, scoring=scoring_param)\n",
    "print(\"%0.2f %s with a standard deviation of %0.2f\" % (scores.mean(), scoring_param, scores.std()))"
   ]
  }
 ],
 "metadata": {
  "accelerator": "GPU",
  "colab": {
   "collapsed_sections": [],
   "provenance": []
  },
  "kernelspec": {
   "display_name": "Python 3 (ipykernel)",
   "language": "python",
   "name": "python3"
  },
  "language_info": {
   "codemirror_mode": {
    "name": "ipython",
    "version": 3
   },
   "file_extension": ".py",
   "mimetype": "text/x-python",
   "name": "python",
   "nbconvert_exporter": "python",
   "pygments_lexer": "ipython3",
   "version": "3.9.13"
  }
 },
 "nbformat": 4,
 "nbformat_minor": 4
}
