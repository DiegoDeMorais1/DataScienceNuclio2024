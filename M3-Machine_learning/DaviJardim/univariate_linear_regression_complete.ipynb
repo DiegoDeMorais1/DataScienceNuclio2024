{
 "cells": [
  {
   "cell_type": "markdown",
   "metadata": {
    "id": "l_LulNCC8z96"
   },
   "source": [
    "# Univariate Linear Regression\n",
    "In this exercise, we will use linear regression model to estimate the relationship between a person's height (cm) and weight (kg). Our optimized linear regression model can accurately predict one's weight, given his/her height."
   ]
  },
  {
   "cell_type": "markdown",
   "metadata": {
    "id": "xpXdowrE9DxW"
   },
   "source": [
    "## Importing the libraries"
   ]
  },
  {
   "cell_type": "code",
   "execution_count": 51,
   "metadata": {
    "id": "nhKd4hWx9GFt"
   },
   "outputs": [],
   "source": [
    "import numpy as np\n",
    "import matplotlib.pyplot as plt\n",
    "import pandas as pd"
   ]
  },
  {
   "cell_type": "markdown",
   "metadata": {
    "id": "6JhpWJi59J1p"
   },
   "source": [
    "## Reading the dataset"
   ]
  },
  {
   "cell_type": "code",
   "execution_count": 52,
   "metadata": {
    "id": "f8GfYDZ59O18"
   },
   "outputs": [],
   "source": [
    "dataset = pd.read_csv('df_height_weight.csv')\n",
    "\n",
    "X = dataset[['height']]\n",
    "y = dataset[['weight']]\n",
    "\n",
    "X = dataset.iloc[:, :1].values\n",
    "y = dataset.iloc[:, 1].values"
   ]
  },
  {
   "cell_type": "markdown",
   "metadata": {
    "id": "AyhQaTwP9RzG"
   },
   "source": [
    "## Splitting the dataset into the Training set and Test set"
   ]
  },
  {
   "cell_type": "code",
   "execution_count": 53,
   "metadata": {
    "id": "bxOOauiN9VpC"
   },
   "outputs": [],
   "source": [
    "from sklearn.model_selection import train_test_split\n",
    "X_train, X_test, y_train, y_test = train_test_split(X, y, test_size = 0.2, random_state = 0)"
   ]
  },
  {
   "cell_type": "markdown",
   "metadata": {
    "id": "ZijQwFMQ9itx"
   },
   "source": [
    "## Training the Simple Linear Regression model on the Training set"
   ]
  },
  {
   "cell_type": "code",
   "execution_count": 54,
   "metadata": {
    "colab": {
     "base_uri": "https://localhost:8080/"
    },
    "id": "B4Aj_8YJ9l7J",
    "outputId": "cb8e43ce-66d6-47fc-aa42-c7c196e4572e"
   },
   "outputs": [
    {
     "data": {
      "text/plain": [
       "LinearRegression()"
      ]
     },
     "execution_count": 54,
     "metadata": {},
     "output_type": "execute_result"
    }
   ],
   "source": [
    "from sklearn.linear_model import LinearRegression\n",
    "regressor = LinearRegression()\n",
    "regressor.fit(X_train, y_train)"
   ]
  },
  {
   "cell_type": "markdown",
   "metadata": {
    "id": "rP6eExMnQsAZ"
   },
   "source": [
    " ## Inspecting the intercept (constant) and the coefficient (slope)\n",
    "\n"
   ]
  },
  {
   "cell_type": "code",
   "execution_count": 55,
   "metadata": {
    "colab": {
     "base_uri": "https://localhost:8080/"
    },
    "id": "eVFy-lhzQJQ6",
    "outputId": "1f9b6351-d344-4c61-c864-3eb8ac740981"
   },
   "outputs": [
    {
     "name": "stdout",
     "output_type": "stream",
     "text": [
      "13.955057497784239\n",
      "[0.36675356]\n"
     ]
    }
   ],
   "source": [
    "intercept = regressor.intercept_\n",
    "print(\"Intercept: {}\".format(intercept))\n",
    "\n",
    "coefficient = regressor.coef_\n",
    "print(\"coefficient: {}\".format(coefficient))"
   ]
  },
  {
   "cell_type": "markdown",
   "metadata": {
    "id": "wa2T1Lq89o5H"
   },
   "source": [
    "## Predicting the Test set results"
   ]
  },
  {
   "cell_type": "code",
   "execution_count": 56,
   "metadata": {
    "id": "Rn_sTJ2o9smm"
   },
   "outputs": [],
   "source": [
    "y_pred = regressor.predict(X_test)"
   ]
  },
  {
   "cell_type": "markdown",
   "metadata": {
    "id": "-zSoMZ-P9v8t"
   },
   "source": [
    "## Visualising the Training set results"
   ]
  },
  {
   "cell_type": "code",
   "execution_count": 57,
   "metadata": {
    "colab": {
     "base_uri": "https://localhost:8080/",
     "height": 295
    },
    "id": "IAePn_u-93tI",
    "outputId": "0a31609d-e244-4bd7-e5ae-7487ab45ec1a"
   },
   "outputs": [
    {
     "data": {
      "image/png": "[encoded data removed]",
      "text/plain": [
       "<Figure size 432x288 with 1 Axes>"
      ]
     },
     "metadata": {
      "needs_background": "light"
     },
     "output_type": "display_data"
    }
   ],
   "source": [
    "plt.scatter(X_train, y_train, color = 'red')\n",
    "plt.plot(X_train, regressor.predict(X_train), color = 'blue')\n",
    "plt.title('Weight vs Height (Training set)')\n",
    "plt.xlabel('Height')\n",
    "plt.ylabel('Weight')\n",
    "plt.show()"
   ]
  },
  {
   "cell_type": "markdown",
   "metadata": {
    "id": "EUX1Vhsv97ZT"
   },
   "source": [
    "## Visualising the Test set results\n",
    "\n"
   ]
  },
  {
   "cell_type": "code",
   "execution_count": 58,
   "metadata": {
    "colab": {
     "base_uri": "https://localhost:8080/",
     "height": 295
    },
    "id": "Ze9vpBTf-Bol",
    "outputId": "3da4cef5-31d6-4699-d0f8-b65c56730706"
   },
   "outputs": [
    {
     "data": {
      "image/png": "[encoded data removed]",
      "text/plain": [
       "<Figure size 432x288 with 1 Axes>"
      ]
     },
     "metadata": {
      "needs_background": "light"
     },
     "output_type": "display_data"
    }
   ],
   "source": [
    "plt.scatter(X_test, y_test, color = 'red')\n",
    "plt.plot(X_train, regressor.predict(X_train), color = 'blue')\n",
    "plt.title('Weight vs Height (Test set)')\n",
    "plt.xlabel('Height')\n",
    "plt.ylabel('Weight')\n",
    "plt.show()"
   ]
  },
  {
   "cell_type": "markdown",
   "metadata": {
    "id": "sJUbLT3foT9N"
   },
   "source": [
    "## Evaluating the model with R2, MAE, MSE and RMSE"
   ]
  },
  {
   "cell_type": "code",
   "execution_count": 74,
   "metadata": {
    "colab": {
     "base_uri": "https://localhost:8080/"
    },
    "id": "-F842yFAY3Z5",
    "outputId": "eccea90f-f4b0-44bd-e560-20c8075f55a8"
   },
   "outputs": [
    {
     "name": "stdout",
     "output_type": "stream",
     "text": [
      "R2: 0.9979222256759477\n",
      "MAE: 0.24790525861264961\n",
      "MAPE: 0.0031028431000958943\n",
      "MSE: 0.08382499785854976\n",
      "RMSE: 0.28952547013786156\n"
     ]
    }
   ],
   "source": [
    "from sklearn.metrics import mean_squared_error, mean_absolute_error, mean_absolute_percentage_error, r2_score\n",
    "\n",
    "test_r2 = r2_score(y_test, y_pred)\n",
    "test_mae = mean_absolute_error(y_test, y_pred)\n",
    "test_mape = mean_absolute_percentage_error(y_test, y_pred)\n",
    "test_mse = mean_squared_error(y_test, y_pred)\n",
    "test_rmse = np.sqrt(test_mse)\n",
    "\n",
    "print(\"R2: {}\".format(test_r2))\n",
    "print(\"MAE: {}\".format(test_mae))\n",
    "print(\"MAPE: {}\".format(test_mape))\n",
    "print(\"MSE: {}\".format(test_mse))\n",
    "print(\"RMSE: {}\".format(test_rmse))\n"
   ]
  },
  {
   "cell_type": "markdown",
   "metadata": {
    "id": "G5gPTQRHI10P"
   },
   "source": [
    "## Test with new data points"
   ]
  },
  {
   "cell_type": "code",
   "execution_count": 59,
   "metadata": {
    "colab": {
     "base_uri": "https://localhost:8080/"
    },
    "id": "9j-BknJaI9aZ",
    "outputId": "ce5467b0-85a4-4d7f-a3ee-7033944df656"
   },
   "outputs": [
    {
     "name": "stdout",
     "output_type": "stream",
     "text": [
      "[[  0]\n",
      " [  1]\n",
      " [175]\n",
      " [182]]\n",
      "[13.9550575  14.32181106 78.13693025 80.70420516]\n"
     ]
    }
   ],
   "source": [
    "person_heights_df = np.array([[0],[1],[175],[182]])\n",
    "print(person_heights_df)\n",
    "\n",
    "person_weights_predictions = regressor.predict(person_heights_df)\n",
    "print(person_weights_predictions)"
   ]
  }
 ],
 "metadata": {
  "colab": {
   "name": "simple_linear_regression.ipynb",
   "provenance": []
  },
  "kernelspec": {
   "display_name": "Python 3 (ipykernel)",
   "language": "python",
   "name": "python3"
  },
  "language_info": {
   "codemirror_mode": {
    "name": "ipython",
    "version": 3
   },
   "file_extension": ".py",
   "mimetype": "text/x-python",
   "name": "python",
   "nbconvert_exporter": "python",
   "pygments_lexer": "ipython3",
   "version": "3.9.13"
  }
 },
 "nbformat": 4,
 "nbformat_minor": 4
}
