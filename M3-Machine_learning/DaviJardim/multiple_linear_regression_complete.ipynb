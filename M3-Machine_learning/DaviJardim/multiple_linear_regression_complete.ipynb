{
 "cells": [
  {
   "cell_type": "markdown",
   "metadata": {
    "id": "CazISR8X_HUG"
   },
   "source": [
    "# Multiple Linear Regression\n",
    "\n",
    "In this exercise, we will use multiple linear regression to predict median house values in Californian districts, given a number of features from these districts."
   ]
  },
  {
   "cell_type": "markdown",
   "metadata": {
    "id": "pOyqYHTk_Q57"
   },
   "source": [
    "## Importing the libraries"
   ]
  },
  {
   "cell_type": "code",
   "execution_count": null,
   "metadata": {
    "id": "T_YHJjnD_Tja"
   },
   "outputs": [],
   "source": [
    "import numpy as np\n",
    "import matplotlib.pyplot as plt\n",
    "import pandas as pd"
   ]
  },
  {
   "cell_type": "markdown",
   "metadata": {
    "id": "vgC61-ah_WIz"
   },
   "source": [
    "## Loading the dataset"
   ]
  },
  {
   "cell_type": "code",
   "execution_count": null,
   "metadata": {
    "id": "UrxyEKGn_ez7"
   },
   "outputs": [],
   "source": [
    "dataset = pd.read_csv('housing.csv')"
   ]
  },
  {
   "cell_type": "markdown",
   "metadata": {
    "id": "Der47Ex3OAgz"
   },
   "source": [
    "## Inspect the Data Structure"
   ]
  },
  {
   "cell_type": "code",
   "execution_count": null,
   "metadata": {
    "colab": {
     "base_uri": "https://localhost:8080/",
     "height": 206
    },
    "id": "5S-aZA0DOG2H",
    "outputId": "af08569e-2e68-470f-8b44-0e8da17c4986"
   },
   "outputs": [],
   "source": [
    "dataset.head()"
   ]
  },
  {
   "cell_type": "code",
   "execution_count": null,
   "metadata": {
    "colab": {
     "base_uri": "https://localhost:8080/"
    },
    "id": "UGOFfe-8OPq1",
    "outputId": "91be1b96-3657-4c03-c809-fc7567eb4ce5"
   },
   "outputs": [],
   "source": [
    "dataset.info()"
   ]
  },
  {
   "cell_type": "code",
   "execution_count": null,
   "metadata": {
    "colab": {
     "base_uri": "https://localhost:8080/"
    },
    "id": "bmdKezCmOjJU",
    "outputId": "6c79c9d3-9e74-431d-acaa-50c8ff69e9f2"
   },
   "outputs": [],
   "source": [
    "dataset[\"ocean_proximity\"].value_counts()"
   ]
  },
  {
   "cell_type": "code",
   "execution_count": null,
   "metadata": {
    "colab": {
     "base_uri": "https://localhost:8080/",
     "height": 300
    },
    "id": "EODR5uAHOnLa",
    "outputId": "6fc4b1d9-0151-4df4-bd30-b872743815d7"
   },
   "outputs": [],
   "source": [
    "dataset.describe()"
   ]
  },
  {
   "cell_type": "code",
   "execution_count": null,
   "metadata": {
    "colab": {
     "base_uri": "https://localhost:8080/",
     "height": 879
    },
    "id": "ginfwW4OO2Ag",
    "outputId": "ced1b7be-7bd1-42d3-a344-bb1afe3a0583"
   },
   "outputs": [],
   "source": [
    "import matplotlib.pyplot as plt\n",
    "dataset.hist(bins=50, figsize=(20,15))\n",
    "plt.show()"
   ]
  },
  {
   "cell_type": "markdown",
   "metadata": {
    "id": "uZgCkzfkQCwu"
   },
   "source": [
    "## Data cleaning"
   ]
  },
  {
   "cell_type": "code",
   "execution_count": null,
   "metadata": {
    "colab": {
     "base_uri": "https://localhost:8080/"
    },
    "id": "OsSPYAyIQL5o",
    "outputId": "fd951281-57ae-442f-f553-9d63553fb6cd",
    "tags": []
   },
   "outputs": [],
   "source": [
    "dataset.info()\n",
    "\n",
    "incomplete_rows = dataset[dataset.isnull().any(axis=1)].head()\n",
    "\n",
    "incomplete_rows\n",
    "\n",
    "# In this cases we can do the following\n",
    "\n",
    "#dataset.dropna(subset=[\"total_bedrooms\"])    # option 1 remove rows with Null or NAN\n",
    "#dataset.drop(\"total_bedrooms\", axis=1)       # option 2 remove full column\n",
    "\n",
    "median = dataset[\"total_bedrooms\"].median()  # option 3\n",
    "\n",
    "dataset[\"total_bedrooms\"].fillna(median, inplace=True)\n",
    "\n",
    "dataset.info()\n"
   ]
  },
  {
   "cell_type": "markdown",
   "metadata": {
    "id": "VadrvE7s_lS9"
   },
   "source": [
    "## Handling Text and Categorical Attributes"
   ]
  },
  {
   "cell_type": "code",
   "execution_count": null,
   "metadata": {
    "colab": {
     "base_uri": "https://localhost:8080/",
     "height": 363
    },
    "id": "wV3fD1mbAvsh",
    "outputId": "78ea7156-27b8-4873-aabe-b309b948c332"
   },
   "outputs": [],
   "source": [
    "ocean_prox_cat = dataset[[\"ocean_proximity\"]]\n",
    "ocean_prox_cat[:10]"
   ]
  },
  {
   "cell_type": "code",
   "execution_count": null,
   "metadata": {
    "colab": {
     "base_uri": "https://localhost:8080/"
    },
    "id": "YwT_39O9Ty7T",
    "outputId": "106b844c-0eb3-43df-ba84-37e58bfef223"
   },
   "outputs": [],
   "source": [
    "ocean_prox_cat[\"ocean_proximity\"].unique()"
   ]
  },
  {
   "cell_type": "code",
   "execution_count": null,
   "metadata": {
    "colab": {
     "base_uri": "https://localhost:8080/"
    },
    "id": "wa_cxz91T8oZ",
    "outputId": "974a2af4-ec7d-4f29-86aa-8eb0bb8cb2bf"
   },
   "outputs": [],
   "source": [
    "from sklearn.preprocessing import OneHotEncoder\n",
    "\n",
    "cat_encoder = OneHotEncoder()\n",
    "ocean_prox_cat_1hot = cat_encoder.fit_transform(ocean_prox_cat)\n",
    "ocean_prox_cat_1hot"
   ]
  },
  {
   "cell_type": "code",
   "execution_count": null,
   "metadata": {
    "colab": {
     "base_uri": "https://localhost:8080/"
    },
    "id": "hASlHR45U6kP",
    "outputId": "ed598edc-3ce0-4ae2-da82-061eeed807f2"
   },
   "outputs": [],
   "source": [
    "cat_encoder.categories_"
   ]
  },
  {
   "cell_type": "markdown",
   "metadata": {
    "id": "S6Rvbb15cbDJ"
   },
   "source": [
    "## Select dependent and independent variables"
   ]
  },
  {
   "cell_type": "code",
   "execution_count": null,
   "metadata": {
    "id": "pxVSpB58XAz7"
   },
   "outputs": [],
   "source": [
    "feature_cols = ['longitude','latitude','housing_median_age','total_rooms','total_bedrooms','population','households','median_income','ocean_proximity']\n",
    "\n",
    "X = dataset[feature_cols]  # Features\n",
    "y = dataset['median_house_value']  # Target variable"
   ]
  },
  {
   "cell_type": "markdown",
   "metadata": {
    "id": "2S2hIZZ0cmJJ"
   },
   "source": [
    "## Apply one hot encoder to data"
   ]
  },
  {
   "cell_type": "code",
   "execution_count": null,
   "metadata": {
    "id": "I4MmNG2Mb1w6"
   },
   "outputs": [],
   "source": [
    "from sklearn.compose import ColumnTransformer\n",
    "from sklearn.preprocessing import OneHotEncoder\n",
    "cat_attribs = [\"ocean_proximity\"]\n",
    "ct = ColumnTransformer(transformers=[('encoder', OneHotEncoder(), cat_attribs)], remainder='passthrough')\n",
    "X = np.array(ct.fit_transform(X))"
   ]
  },
  {
   "cell_type": "markdown",
   "metadata": {
    "id": "WemVnqgeA70k"
   },
   "source": [
    "## Splitting the dataset into the Training set and Test set"
   ]
  },
  {
   "cell_type": "code",
   "execution_count": null,
   "metadata": {
    "id": "Kb_v_ae-A-20"
   },
   "outputs": [],
   "source": [
    "from sklearn.model_selection import train_test_split\n",
    "X_train, X_test, y_train, y_test = train_test_split(X, y, test_size = 0.2, random_state = 0)"
   ]
  },
  {
   "cell_type": "markdown",
   "metadata": {
    "id": "k-McZVsQBINc"
   },
   "source": [
    "## Training the Multiple Linear Regression model on the Training set\n",
    "\n",
    "---\n",
    "\n"
   ]
  },
  {
   "cell_type": "code",
   "execution_count": null,
   "metadata": {
    "colab": {
     "base_uri": "https://localhost:8080/"
    },
    "id": "ywPjx0L1BMiD",
    "outputId": "a886ae6b-bc2c-445a-bc89-cdae742c3f0a"
   },
   "outputs": [],
   "source": [
    "from sklearn.linear_model import LinearRegression\n",
    "regressor = LinearRegression()\n",
    "regressor.fit(X_train, y_train)"
   ]
  },
  {
   "cell_type": "markdown",
   "metadata": {
    "id": "jXoCYWlPIHjF"
   },
   "source": [
    " ## Inspecting the intercept (constant) and the coefficients (slopes)"
   ]
  },
  {
   "cell_type": "code",
   "execution_count": null,
   "metadata": {
    "colab": {
     "base_uri": "https://localhost:8080/"
    },
    "id": "xBVoNNlQIKrH",
    "outputId": "b195ace1-e322-4a4d-9e7a-734634f6530b"
   },
   "outputs": [],
   "source": [
    "intercept = regressor.intercept_\n",
    "print(\"Intercept: {}\".format(intercept))\n",
    "\n",
    "coefficient = regressor.coef_\n",
    "print(\"coefficient: {}\".format(coefficient))"
   ]
  },
  {
   "cell_type": "markdown",
   "metadata": {
    "id": "xNkXL1YQBiBT"
   },
   "source": [
    "## Predicting the Test set results"
   ]
  },
  {
   "cell_type": "code",
   "execution_count": null,
   "metadata": {
    "colab": {
     "base_uri": "https://localhost:8080/"
    },
    "id": "TQKmwvtdBkyb",
    "outputId": "c40b310e-f348-4f42-baad-8b80817a92e0"
   },
   "outputs": [],
   "source": [
    "y_pred = regressor.predict(X_test)\n",
    "print(y_pred)"
   ]
  },
  {
   "cell_type": "markdown",
   "metadata": {
    "id": "bUxFoPdWdLPQ"
   },
   "source": [
    "## Evaluating the model with R2, MAE, MSE and RMSE"
   ]
  },
  {
   "cell_type": "code",
   "execution_count": null,
   "metadata": {
    "colab": {
     "base_uri": "https://localhost:8080/"
    },
    "id": "4NVoytYHdJKh",
    "outputId": "92e8542a-37af-4f1b-ca92-d2bf1546c21a"
   },
   "outputs": [],
   "source": [
    "from sklearn.metrics import mean_squared_error, mean_absolute_error, mean_absolute_percentage_error, r2_score\n",
    "\n",
    "test_r2 = r2_score(y_test, y_pred)\n",
    "test_mae = mean_absolute_error(y_test, y_pred)\n",
    "test_mape = mean_absolute_percentage_error(y_test, y_pred)\n",
    "test_mse = mean_squared_error(y_test, y_pred)\n",
    "test_rmse = np.sqrt(test_mse)\n",
    "\n",
    "print(\"R2: {}\".format(test_r2))\n",
    "print(\"MAE: {}\".format(test_mae))\n",
    "print(\"MAPE: {}\".format(test_mape))\n",
    "print(\"MSE: {}\".format(test_mse))\n",
    "print(\"RMSE: {}\".format(test_rmse))"
   ]
  },
  {
   "cell_type": "markdown",
   "metadata": {
    "id": "J3cgmZ8DMtwI"
   },
   "source": [
    "## Visualize predicted VS actual data comparison"
   ]
  },
  {
   "cell_type": "code",
   "execution_count": null,
   "metadata": {
    "colab": {
     "base_uri": "https://localhost:8080/",
     "height": 281
    },
    "id": "FaP_yCKveXXW",
    "outputId": "08da4c71-d774-4730-b93f-923f792e44bb"
   },
   "outputs": [],
   "source": [
    "import matplotlib.pyplot as plt\n",
    "import numpy as np\n",
    "\n",
    "y_pred_s = y_pred[:50]\n",
    "y_test_s = y_test[:50]\n",
    "x = np.linspace(0, len(y_pred_s),len(y_pred_s))\n",
    "\n",
    "plt.scatter(x, y_pred_s, label='Predicted')\n",
    "plt.scatter(x, y_test_s, label='Actual')\n",
    "plt.ylabel(\"Median House Value\")\n",
    "plt.legend()\n",
    "plt.title(\"Comparison between predicted and actual data LR model\")\n",
    "plt.show()"
   ]
  },
  {
   "cell_type": "markdown",
   "metadata": {
    "id": "U_YX9QPecZ1m"
   },
   "source": [
    "## Training the Random Forest Regression model on the Training set"
   ]
  },
  {
   "cell_type": "code",
   "execution_count": null,
   "metadata": {
    "colab": {
     "base_uri": "https://localhost:8080/"
    },
    "id": "3mciAkd5iFmz",
    "outputId": "94a59aac-2553-4bdc-fa41-30bd621b8644"
   },
   "outputs": [],
   "source": [
    "\n",
    "from sklearn.ensemble import RandomForestRegressor\n",
    "\n",
    "regressor = RandomForestRegressor(n_estimators=100, random_state=42)\n",
    "regressor.fit(X_train, y_train)"
   ]
  },
  {
   "cell_type": "markdown",
   "metadata": {
    "id": "j7RcxJ2Vc3yP"
   },
   "source": [
    "## Predicting the Test set results with the Random Forest Regression model"
   ]
  },
  {
   "cell_type": "code",
   "execution_count": null,
   "metadata": {
    "colab": {
     "base_uri": "https://localhost:8080/"
    },
    "id": "Qgj8HyWGc0Qa",
    "outputId": "76311b8e-8e9c-4a25-c17e-90e28230b1a8"
   },
   "outputs": [],
   "source": [
    "y_pred = regressor.predict(X_test)\n",
    "print(y_pred)"
   ]
  },
  {
   "cell_type": "markdown",
   "metadata": {
    "id": "119KQUm4dC13"
   },
   "source": [
    "## Evaluating the Random Forest Regression model with R2, MAE, MSE and RMSE"
   ]
  },
  {
   "cell_type": "code",
   "execution_count": null,
   "metadata": {
    "colab": {
     "base_uri": "https://localhost:8080/"
    },
    "id": "LQpRzq2Rc_Yw",
    "outputId": "28ace738-ea96-4675-cdcf-be4b258dfde9"
   },
   "outputs": [],
   "source": [
    "from sklearn.metrics import mean_squared_error, mean_absolute_error, mean_absolute_percentage_error, r2_score\n",
    "\n",
    "test_r2 = r2_score(y_test, y_pred)\n",
    "test_mae = mean_absolute_error(y_test, y_pred)\n",
    "test_mape = mean_absolute_percentage_error(y_test, y_pred)\n",
    "test_mse = mean_squared_error(y_test, y_pred)\n",
    "test_rmse = np.sqrt(test_mse)\n",
    "\n",
    "print(\"R2: {}\".format(test_r2))\n",
    "print(\"MAE: {}\".format(test_mae))\n",
    "print(\"MAPE: {}\".format(test_mape))\n",
    "print(\"MSE: {}\".format(test_mse))\n",
    "print(\"RMSE: {}\".format(test_rmse))"
   ]
  },
  {
   "cell_type": "markdown",
   "metadata": {
    "id": "6fknJky9cjYG"
   },
   "source": [
    "## Visualize predicted VS actual data comparison of the Random Forest Regression model"
   ]
  },
  {
   "cell_type": "code",
   "execution_count": null,
   "metadata": {
    "colab": {
     "base_uri": "https://localhost:8080/",
     "height": 281
    },
    "id": "Bwds4jYzcsHd",
    "outputId": "51b15bd3-7cf5-45d6-f151-484dcc87d995"
   },
   "outputs": [],
   "source": [
    "import matplotlib.pyplot as plt\n",
    "import numpy as np\n",
    "\n",
    "y_pred_s = y_pred[:50]\n",
    "y_test_s = y_test[:50]\n",
    "x = np.linspace(0, len(y_pred_s),len(y_pred_s))\n",
    "\n",
    "plt.scatter(x, y_pred_s, label='Predicted')\n",
    "plt.scatter(x, y_test_s, label='Actual')\n",
    "plt.ylabel(\"Median House Value\")\n",
    "plt.legend()\n",
    "plt.title(\"Comparison between predicted and actual data with RF model\")\n",
    "plt.show()"
   ]
  },
  {
   "cell_type": "markdown",
   "metadata": {
    "id": "E-0p3bCLd9MC"
   },
   "source": [
    "## Test with new data points"
   ]
  },
  {
   "cell_type": "code",
   "execution_count": null,
   "metadata": {
    "colab": {
     "base_uri": "https://localhost:8080/"
    },
    "id": "rO4qDVU3eAca",
    "outputId": "83bece9d-6573-49de-dbd5-8b5e436913e5"
   },
   "outputs": [],
   "source": [
    "house_data = {'longitude': [-122], 'latitude': [38], 'housing_median_age': [40],'total_rooms': [880],\n",
    "     'total_bedrooms': [129],'population': [322],'households': [126],'median_income': [8.3],'ocean_proximity': ['NEAR BAY']}\n",
    "\n",
    "house_df = pd.DataFrame(data=house_data)\n",
    "print(house_df)\n",
    "\n",
    "# apply the same one hot encoding transformation as was fitted on the data\n",
    "house_df_transformed = np.array(ct.transform(house_df))\n",
    "print(house_df_transformed)\n",
    "\n",
    "\n",
    "house_pred = regressor.predict(house_df_transformed)\n",
    "print(house_pred)"
   ]
  }
 ],
 "metadata": {
  "accelerator": "GPU",
  "colab": {
   "collapsed_sections": [],
   "name": "multiple_linear_regression.ipynb",
   "provenance": []
  },
  "kernelspec": {
   "display_name": "Python 3 (ipykernel)",
   "language": "python",
   "name": "python3"
  },
  "language_info": {
   "codemirror_mode": {
    "name": "ipython",
    "version": 3
   },
   "file_extension": ".py",
   "mimetype": "text/x-python",
   "name": "python",
   "nbconvert_exporter": "python",
   "pygments_lexer": "ipython3",
   "version": "3.9.13"
  }
 },
 "nbformat": 4,
 "nbformat_minor": 4
}
