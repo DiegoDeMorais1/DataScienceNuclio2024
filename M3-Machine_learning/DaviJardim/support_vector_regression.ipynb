{
 "nbformat": 4,
 "nbformat_minor": 0,
 "metadata": {
  "colab": {
   "name": "support_vector_regression.ipynb",
   "provenance": [],
   "collapsed_sections": []
  },
  "kernelspec": {
   "name": "python3",
   "display_name": "Python 3"
  }
 },
 "cells": [
  {
   "cell_type": "markdown",
   "metadata": {
    "id": "m3PAEPRDRLA3"
   },
   "source": [
    "# Support Vector Regression (SVR)\n",
    "\n",
    "In this exercise, we will use support vector regression to predict median house values in Suburbs of Boston, given a number of rooms."
   ]
  },
  {
   "cell_type": "markdown",
   "metadata": {
    "id": "0VCUAVIjRdzZ"
   },
   "source": [
    "## Importing the libraries"
   ]
  },
  {
   "cell_type": "code",
   "source": [],
   "metadata": {
    "id": "AbuBR2GWw0w3"
   },
   "execution_count": null,
   "outputs": []
  },
  {
   "cell_type": "code",
   "metadata": {
    "id": "56oRF-QfSDzC"
   },
   "source": [],
   "execution_count": null,
   "outputs": []
  },
  {
   "cell_type": "markdown",
   "metadata": {
    "id": "fXVXoFWtSF4_"
   },
   "source": [
    "## Importing the dataset"
   ]
  },
  {
   "cell_type": "code",
   "metadata": {
    "id": "xfoa8OSORfHQ"
   },
   "source": [],
   "execution_count": null,
   "outputs": []
  },
  {
   "cell_type": "markdown",
   "source": [
    "## Splitting the dataset into the Training set and Test set"
   ],
   "metadata": {
    "id": "Aph6fHkjvVxj"
   }
  },
  {
   "cell_type": "code",
   "source": [],
   "metadata": {
    "id": "x9JGqkyCvW52"
   },
   "execution_count": null,
   "outputs": []
  },
  {
   "cell_type": "markdown",
   "metadata": {
    "id": "eiU6D2QFRjxY"
   },
   "source": [
    "## Training the Linear SVR model"
   ]
  },
  {
   "cell_type": "code",
   "metadata": {
    "id": "y6R4rt_GRz15"
   },
   "source": [],
   "execution_count": null,
   "outputs": []
  },
  {
   "cell_type": "markdown",
   "source": [
    "## Predicting the Test set results"
   ],
   "metadata": {
    "id": "_nZXOOnJxQ_F"
   }
  },
  {
   "cell_type": "code",
   "source": [],
   "metadata": {
    "id": "Tt0HX13fxUGF"
   },
   "execution_count": null,
   "outputs": []
  },
  {
   "cell_type": "markdown",
   "source": [
    "## Evaluating the model with R2, MAE, MSE and RMSE\n"
   ],
   "metadata": {
    "id": "a7DoaAlhwvGO"
   }
  },
  {
   "cell_type": "code",
   "source": [],
   "metadata": {
    "id": "AjdU86TswwAw"
   },
   "execution_count": null,
   "outputs": []
  },
  {
   "cell_type": "markdown",
   "source": [
    "## Visualize predicted VS actual data comparison"
   ],
   "metadata": {
    "id": "-n2jQYAbwopx"
   }
  },
  {
   "cell_type": "code",
   "source": [],
   "metadata": {
    "id": "y7cjh7KFT2qW"
   },
   "execution_count": null,
   "outputs": []
  },
  {
   "cell_type": "markdown",
   "source": [
    "## Inspect Linear SVR Fitting"
   ],
   "metadata": {
    "id": "NDh4pj0Px4H2"
   }
  },
  {
   "cell_type": "code",
   "source": [],
   "metadata": {
    "id": "hAmqHA5uja69"
   },
   "execution_count": null,
   "outputs": []
  },
  {
   "cell_type": "markdown",
   "metadata": {
    "id": "deDnDr8UR5vq"
   },
   "source": [
    "## Predicting a new result"
   ]
  },
  {
   "cell_type": "code",
   "metadata": {
    "id": "ib89-Fq8R8v-"
   },
   "source": [],
   "execution_count": null,
   "outputs": []
  },
  {
   "cell_type": "markdown",
   "source": [
    "## Find the best values for C and Epsilon with GridSearchCV"
   ],
   "metadata": {
    "id": "NQQAoQEW_CX1"
   }
  },
  {
   "cell_type": "code",
   "source": [],
   "metadata": {
    "id": "yzbKzaga_IN0"
   },
   "execution_count": null,
   "outputs": []
  },
  {
   "cell_type": "markdown",
   "source": [
    "## Select best model and evaluate"
   ],
   "metadata": {
    "id": "jwt1h2nb_0dU"
   }
  },
  {
   "cell_type": "code",
   "source": [],
   "metadata": {
    "id": "4i6AsTNo_4rL"
   },
   "execution_count": null,
   "outputs": []
  },
  {
   "cell_type": "markdown",
   "source": [
    "## Feature Scaling"
   ],
   "metadata": {
    "id": "R5z392MdycM4"
   }
  },
  {
   "cell_type": "code",
   "source": [],
   "metadata": {
    "id": "n__pShuSrMTm"
   },
   "execution_count": null,
   "outputs": []
  },
  {
   "cell_type": "markdown",
   "source": [
    "## Training an Epsilon-Support Vector Regression"
   ],
   "metadata": {
    "id": "S2nicQuYyyVf"
   }
  },
  {
   "cell_type": "code",
   "source": [],
   "metadata": {
    "id": "CVJ71ptplfs9"
   },
   "execution_count": null,
   "outputs": []
  },
  {
   "cell_type": "markdown",
   "source": [
    "## Evaluating Epsilon-SVR"
   ],
   "metadata": {
    "id": "qVTMj4Ewz4RO"
   }
  },
  {
   "cell_type": "code",
   "source": [],
   "metadata": {
    "id": "duktw7X90Agv"
   },
   "execution_count": null,
   "outputs": []
  },
  {
   "cell_type": "markdown",
   "source": [
    "## Inspect Epsilon-SVR Fitting"
   ],
   "metadata": {
    "id": "CSTAQbxD0ETl"
   }
  },
  {
   "cell_type": "code",
   "source": [],
   "metadata": {
    "id": "J5jSP6sTbPP4"
   },
   "execution_count": null,
   "outputs": []
  }
 ]
}