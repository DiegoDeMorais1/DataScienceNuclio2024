{
 "cells": [
  {
   "cell_type": "code",
   "execution_count": null,
   "id": "c30c0f85-21af-4222-bc8e-828caf56bddf",
   "metadata": {},
   "outputs": [],
   "source": [
    "# Pegando duas colunas do DataFrame e convertendo em séries\n",
    "serie_A = pd.Series(df2['item'])\n",
    "serie_B = pd.Series(df2['sell_price'])\n",
    "\n",
    "data = {\n",
    "    'item': serie_A,\n",
    "    'sell_price': serie_B\n",
    "}\n",
    "\n",
    "# Criando um novo DataFrame com as duas séries\n",
    "novo_df = pd.DataFrame(data)\n",
    "\n",
    "# Transformando a coluna 'A' em índice\n",
    "novo_df.set_index('item', inplace=True)\n",
    "\n",
    "# Exibindo o novo DataFrame\n",
    "novo_df.plot()"
   ]
  }
 ],
 "metadata": {
  "kernelspec": {
   "display_name": "env",
   "language": "python",
   "name": "env"
  },
  "language_info": {
   "codemirror_mode": {
    "name": "ipython",
    "version": 3
   },
   "file_extension": ".py",
   "mimetype": "text/x-python",
   "name": "python",
   "nbconvert_exporter": "python",
   "pygments_lexer": "ipython3",
   "version": "3.9.13"
  }
 },
 "nbformat": 4,
 "nbformat_minor": 5
}
