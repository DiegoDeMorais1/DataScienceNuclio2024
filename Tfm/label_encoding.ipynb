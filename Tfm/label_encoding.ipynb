{
 "cells": [
  {
   "cell_type": "code",
   "execution_count": null,
   "metadata": {},
   "outputs": [],
   "source": [
    "def label_encoding(df, coluna):\n",
    "  \"\"\"\n",
    "  Função para realizar Label Encoding em uma coluna específica de um DataFrame.\n",
    "\n",
    "  Argumentos:\n",
    "    df: DataFrame que contém a coluna a ser codificada.\n",
    "    coluna: Nome da coluna a ser codificada.\n",
    "\n",
    "  Retorno:\n",
    "    DataFrame com a coluna codificada.\n",
    "  \"\"\"\n",
    "\n",
    "  # Importa a biblioteca LabelEncoder do scikit-learn\n",
    "  from sklearn.preprocessing import LabelEncoder\n",
    "\n",
    "  # Cria um objeto LabelEncoder\n",
    "  le = LabelEncoder()\n",
    "\n",
    "  # Ajusta o LabelEncoder aos dados da coluna\n",
    "  le.fit(df[coluna])\n",
    "\n",
    "  # Transforma os dados da coluna em valores numéricos\n",
    "  df[coluna] = le.transform(df[coluna])\n",
    "\n",
    "  # Retorna o DataFrame com a coluna codificada\n",
    "  return df"
   ]
  },
  {
   "cell_type": "code",
   "execution_count": null,
   "metadata": {},
   "outputs": [],
   "source": [
    "df = label_encoding(df_prices, 'item')"
   ]
  }
 ],
 "metadata": {
  "language_info": {
   "name": "python"
  }
 },
 "nbformat": 4,
 "nbformat_minor": 2
}
