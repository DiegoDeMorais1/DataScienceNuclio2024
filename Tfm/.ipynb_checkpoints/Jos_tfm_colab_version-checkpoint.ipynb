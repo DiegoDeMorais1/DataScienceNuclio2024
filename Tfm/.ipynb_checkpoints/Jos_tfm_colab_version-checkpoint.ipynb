{
  "cells": [
    {
      "cell_type": "code",
      "execution_count": 1,
      "id": "e98487d1-1e24-48ee-81dc-e4cf81ac8ddf",
      "metadata": {
        "id": "e98487d1-1e24-48ee-81dc-e4cf81ac8ddf"
      },
      "outputs": [],
      "source": [
        "# TFM - Grupo 2 - Entrega 18/05/2024"
      ]
    },
    {
      "cell_type": "code",
      "execution_count": 2,
      "id": "QfpAng51hMZu",
      "metadata": {
        "colab": {
          "base_uri": "https://localhost:8080/"
        },
        "id": "QfpAng51hMZu",
        "outputId": "3e6ad4aa-d778-441b-e4b1-4060a06e58e0"
      },
      "outputs": [],
      "source": [
        "#from google.colab import drive\n",
        "#drive.mount('/content/drive')\n",
        "#!pip install helpers"
      ]
    },
    {
      "cell_type": "markdown",
      "id": "BP9-6qJJi5aA",
      "metadata": {
        "id": "BP9-6qJJi5aA"
      },
      "source": []
    },
    {
      "cell_type": "code",
      "execution_count": 3,
      "id": "3e81ca17-071e-456f-aab1-f2467c14048a",
      "metadata": {
        "id": "3e81ca17-071e-456f-aab1-f2467c14048a"
      },
      "outputs": [],
      "source": [
        "import pandas as pd\n",
        "import numpy as np\n",
        "\n",
        "pd.set_option('display.max_columns', None)"
      ]
    },
    {
      "cell_type": "code",
      "execution_count": 4,
      "id": "f3b569c7-1cf0-47cb-9d87-f19d659327a4",
      "metadata": {
        "id": "f3b569c7-1cf0-47cb-9d87-f19d659327a4"
      },
      "outputs": [],
      "source": [
        "df_event = pd.read_csv(\"data/daily_calendar_with_events.csv\")\n",
        "df_prices = pd.read_csv(\"data/item_prices.csv\")\n",
        "df_sales = pd.read_csv(\"data/item_sales.csv\")"
      ]
    },
    {
      "cell_type": "code",
      "execution_count": 5,
      "id": "b3f7c0ce",
      "metadata": {
        "id": "b3f7c0ce"
      },
      "outputs": [],
      "source": [
        "# Indicador serve para quando rodar novamente todo o fonte, nao gerar impressoes de dados que nao sao mais modificados, ganhando em tempo\n",
        "IndicadorProcessarNovamente = True"
      ]
    },
    {
      "cell_type": "markdown",
      "id": "642457cc",
      "metadata": {
        "id": "642457cc"
      },
      "source": [
        "# Tratamento DF Event"
      ]
    },
    {
      "cell_type": "code",
      "execution_count": 6,
      "id": "35c5c23f-a7c8-4570-8b38-294bb0049603",
      "metadata": {
        "colab": {
          "base_uri": "https://localhost:8080/"
        },
        "id": "35c5c23f-a7c8-4570-8b38-294bb0049603",
        "outputId": "83eca307-5819-4013-a629-a2010c3c6c1b"
      },
      "outputs": [
        {
          "name": "stdout",
          "output_type": "stream",
          "text": [
            "<class 'pandas.core.frame.DataFrame'>\n",
            "RangeIndex: 1913 entries, 0 to 1912\n",
            "Data columns (total 5 columns):\n",
            " #   Column       Non-Null Count  Dtype \n",
            "---  ------       --------------  ----- \n",
            " 0   date         1913 non-null   object\n",
            " 1   weekday      1913 non-null   object\n",
            " 2   weekday_int  1913 non-null   int64 \n",
            " 3   d            1913 non-null   object\n",
            " 4   event        26 non-null     object\n",
            "dtypes: int64(1), object(4)\n",
            "memory usage: 74.9+ KB\n"
          ]
        }
      ],
      "source": [
        "# daily_calendar_with_events.csv\n",
        "if IndicadorProcessarNovamente:\n",
        "    df_event.info()\n",
        "    df_event.head()"
      ]
    },
    {
      "cell_type": "code",
      "execution_count": 7,
      "id": "b6a5e268",
      "metadata": {
        "id": "b6a5e268"
      },
      "outputs": [],
      "source": [
        "    colunas = df_event.columns"
      ]
    },
    {
      "cell_type": "code",
      "execution_count": 8,
      "id": "1097cd69",
      "metadata": {
        "id": "1097cd69"
      },
      "outputs": [],
      "source": [
        "if IndicadorProcessarNovamente:\n",
        "    df_event.describe()"
      ]
    },
    {
      "cell_type": "code",
      "execution_count": 9,
      "id": "4ba49582",
      "metadata": {
        "id": "4ba49582"
      },
      "outputs": [],
      "source": [
        "df_event['date'] = pd.to_datetime(df_event.date)\n",
        "#df_event.set_index('date', inplace=True)\n"
      ]
    },
    {
      "cell_type": "code",
      "execution_count": 10,
      "id": "mrMaRbKgmlpR",
      "metadata": {
        "colab": {
          "base_uri": "https://localhost:8080/"
        },
        "id": "mrMaRbKgmlpR",
        "outputId": "af641829-3798-4d0c-a89d-3a3bc4efb715"
      },
      "outputs": [
        {
          "data": {
            "text/plain": [
              "date           datetime64[ns]\n",
              "weekday                object\n",
              "weekday_int             int64\n",
              "d                      object\n",
              "event                  object\n",
              "dtype: object"
            ]
          },
          "execution_count": 10,
          "metadata": {},
          "output_type": "execute_result"
        }
      ],
      "source": [
        "df_event.dtypes"
      ]
    },
    {
      "cell_type": "code",
      "execution_count": 11,
      "id": "d82c6028",
      "metadata": {
        "id": "d82c6028"
      },
      "outputs": [],
      "source": [
        "df_event[\"weekyear\"] = df_event['date'].dt.isocalendar().week\n",
        "\n",
        "df_event[\"year\"] = df_event['date'].dt.year"
      ]
    },
    {
      "cell_type": "code",
      "execution_count": 12,
      "id": "d92ea885",
      "metadata": {
        "id": "d92ea885"
      },
      "outputs": [],
      "source": [
        "def g(x):\n",
        "    return  np.int16(str(x[0]) + str(x[1]))\n",
        "\n",
        "df_event['yearweek'] = df_event[['year', 'weekyear']].apply(g, axis=1)"
      ]
    },
    {
      "cell_type": "code",
      "execution_count": 13,
      "id": "1b5b6411",
      "metadata": {
        "colab": {
          "base_uri": "https://localhost:8080/",
          "height": 424
        },
        "id": "1b5b6411",
        "outputId": "733ff6be-836c-4e03-d7eb-7f8c0bea8001"
      },
      "outputs": [
        {
          "data": {
            "text/html": [
              "<div>\n",
              "<style scoped>\n",
              "    .dataframe tbody tr th:only-of-type {\n",
              "        vertical-align: middle;\n",
              "    }\n",
              "\n",
              "    .dataframe tbody tr th {\n",
              "        vertical-align: top;\n",
              "    }\n",
              "\n",
              "    .dataframe thead th {\n",
              "        text-align: right;\n",
              "    }\n",
              "</style>\n",
              "<table border=\"1\" class=\"dataframe\">\n",
              "  <thead>\n",
              "    <tr style=\"text-align: right;\">\n",
              "      <th></th>\n",
              "      <th>year</th>\n",
              "      <th>yearweek</th>\n",
              "    </tr>\n",
              "  </thead>\n",
              "  <tbody>\n",
              "    <tr>\n",
              "      <th>0</th>\n",
              "      <td>2011</td>\n",
              "      <td>20114</td>\n",
              "    </tr>\n",
              "    <tr>\n",
              "      <th>1</th>\n",
              "      <td>2011</td>\n",
              "      <td>20114</td>\n",
              "    </tr>\n",
              "    <tr>\n",
              "      <th>2</th>\n",
              "      <td>2011</td>\n",
              "      <td>20115</td>\n",
              "    </tr>\n",
              "    <tr>\n",
              "      <th>3</th>\n",
              "      <td>2011</td>\n",
              "      <td>20115</td>\n",
              "    </tr>\n",
              "    <tr>\n",
              "      <th>4</th>\n",
              "      <td>2011</td>\n",
              "      <td>20115</td>\n",
              "    </tr>\n",
              "    <tr>\n",
              "      <th>...</th>\n",
              "      <td>...</td>\n",
              "      <td>...</td>\n",
              "    </tr>\n",
              "    <tr>\n",
              "      <th>1908</th>\n",
              "      <td>2016</td>\n",
              "      <td>5008</td>\n",
              "    </tr>\n",
              "    <tr>\n",
              "      <th>1909</th>\n",
              "      <td>2016</td>\n",
              "      <td>5008</td>\n",
              "    </tr>\n",
              "    <tr>\n",
              "      <th>1910</th>\n",
              "      <td>2016</td>\n",
              "      <td>5008</td>\n",
              "    </tr>\n",
              "    <tr>\n",
              "      <th>1911</th>\n",
              "      <td>2016</td>\n",
              "      <td>5008</td>\n",
              "    </tr>\n",
              "    <tr>\n",
              "      <th>1912</th>\n",
              "      <td>2016</td>\n",
              "      <td>5008</td>\n",
              "    </tr>\n",
              "  </tbody>\n",
              "</table>\n",
              "<p>1913 rows × 2 columns</p>\n",
              "</div>"
            ],
            "text/plain": [
              "      year  yearweek\n",
              "0     2011     20114\n",
              "1     2011     20114\n",
              "2     2011     20115\n",
              "3     2011     20115\n",
              "4     2011     20115\n",
              "...    ...       ...\n",
              "1908  2016      5008\n",
              "1909  2016      5008\n",
              "1910  2016      5008\n",
              "1911  2016      5008\n",
              "1912  2016      5008\n",
              "\n",
              "[1913 rows x 2 columns]"
            ]
          },
          "execution_count": 13,
          "metadata": {},
          "output_type": "execute_result"
        }
      ],
      "source": [
        "colunas = ['weekday_int', 'weekyear']\n",
        "df_event[colunas].astype(\"int8\")\n",
        "\n",
        "colunas = ['year', 'yearweek']\n",
        "df_event[colunas].astype(\"int16\")"
      ]
    },
    {
      "cell_type": "code",
      "execution_count": 14,
      "id": "56028e9c",
      "metadata": {
        "id": "56028e9c"
      },
      "outputs": [],
      "source": [
        "colunas = df_event.columns\n",
        "#fn_memory_usage(df_event, colunas)"
      ]
    },
    {
      "cell_type": "code",
      "execution_count": 15,
      "id": "cce341fb",
      "metadata": {
        "colab": {
          "base_uri": "https://localhost:8080/"
        },
        "id": "cce341fb",
        "outputId": "04b6145b-e976-48d4-aefb-4878b07f192d"
      },
      "outputs": [
        {
          "name": "stdout",
          "output_type": "stream",
          "text": [
            "<class 'pandas.core.frame.DataFrame'>\n",
            "RangeIndex: 1913 entries, 0 to 1912\n",
            "Data columns (total 8 columns):\n",
            " #   Column       Non-Null Count  Dtype         \n",
            "---  ------       --------------  -----         \n",
            " 0   date         1913 non-null   datetime64[ns]\n",
            " 1   weekday      1913 non-null   object        \n",
            " 2   weekday_int  1913 non-null   int64         \n",
            " 3   d            1913 non-null   object        \n",
            " 4   event        26 non-null     object        \n",
            " 5   weekyear     1913 non-null   UInt32        \n",
            " 6   year         1913 non-null   int64         \n",
            " 7   yearweek     1913 non-null   int16         \n",
            "dtypes: UInt32(1), datetime64[ns](1), int16(1), int64(2), object(3)\n",
            "memory usage: 102.9+ KB\n"
          ]
        }
      ],
      "source": [
        "if IndicadorProcessarNovamente:\n",
        "    df_event.info()"
      ]
    },
    {
      "cell_type": "markdown",
      "id": "2bffddf4",
      "metadata": {
        "id": "2bffddf4"
      },
      "source": [
        "# Tratamento DF Prices"
      ]
    },
    {
      "cell_type": "code",
      "execution_count": 16,
      "id": "0aced0d1-c080-4f6c-823e-2e710bad1d00",
      "metadata": {
        "colab": {
          "base_uri": "https://localhost:8080/"
        },
        "id": "0aced0d1-c080-4f6c-823e-2e710bad1d00",
        "outputId": "e0ef6e1d-4fab-49e9-aaaa-becf86b22ada"
      },
      "outputs": [
        {
          "name": "stdout",
          "output_type": "stream",
          "text": [
            "<class 'pandas.core.frame.DataFrame'>\n",
            "RangeIndex: 6965706 entries, 0 to 6965705\n",
            "Data columns (total 5 columns):\n",
            " #   Column      Dtype  \n",
            "---  ------      -----  \n",
            " 0   item        object \n",
            " 1   category    object \n",
            " 2   store_code  object \n",
            " 3   yearweek    float64\n",
            " 4   sell_price  float64\n",
            "dtypes: float64(2), object(3)\n",
            "memory usage: 265.7+ MB\n"
          ]
        }
      ],
      "source": [
        "# item_prices.csv\n",
        "if IndicadorProcessarNovamente:\n",
        "    df_prices.info()\n",
        "    df_prices.head()"
      ]
    },
    {
      "cell_type": "code",
      "execution_count": 17,
      "id": "90ab8821",
      "metadata": {
        "id": "90ab8821"
      },
      "outputs": [],
      "source": [
        "if IndicadorProcessarNovamente:\n",
        "    df_prices.describe()"
      ]
    },
    {
      "cell_type": "code",
      "execution_count": 18,
      "id": "726fb417",
      "metadata": {
        "id": "726fb417"
      },
      "outputs": [],
      "source": [
        "if IndicadorProcessarNovamente:\n",
        "    df_prices.query(\"yearweek.isnull()\").head()"
      ]
    },
    {
      "cell_type": "code",
      "execution_count": 19,
      "id": "165ed6e1",
      "metadata": {
        "id": "165ed6e1"
      },
      "outputs": [],
      "source": [
        "if IndicadorProcessarNovamente:\n",
        "    colunas = df_prices.columns\n",
        "    #fn_memory_usage(df_prices, colunas)"
      ]
    },
    {
      "cell_type": "code",
      "execution_count": 20,
      "id": "2a43ca5b",
      "metadata": {
        "id": "2a43ca5b"
      },
      "outputs": [],
      "source": [
        "# Adicionado zero para a semana do ano que esta null\n",
        "df_prices[\"yearweek\"].fillna(0, inplace=True)"
      ]
    },
    {
      "cell_type": "code",
      "execution_count": 21,
      "id": "fa00546d",
      "metadata": {
        "colab": {
          "base_uri": "https://localhost:8080/",
          "height": 424
        },
        "id": "fa00546d",
        "outputId": "e29d6d04-7400-4642-9112-4f4286b3d31c"
      },
      "outputs": [
        {
          "data": {
            "text/html": [
              "<div>\n",
              "<style scoped>\n",
              "    .dataframe tbody tr th:only-of-type {\n",
              "        vertical-align: middle;\n",
              "    }\n",
              "\n",
              "    .dataframe tbody tr th {\n",
              "        vertical-align: top;\n",
              "    }\n",
              "\n",
              "    .dataframe thead th {\n",
              "        text-align: right;\n",
              "    }\n",
              "</style>\n",
              "<table border=\"1\" class=\"dataframe\">\n",
              "  <thead>\n",
              "    <tr style=\"text-align: right;\">\n",
              "      <th></th>\n",
              "      <th>yearweek</th>\n",
              "    </tr>\n",
              "  </thead>\n",
              "  <tbody>\n",
              "    <tr>\n",
              "      <th>0</th>\n",
              "      <td>4720</td>\n",
              "    </tr>\n",
              "    <tr>\n",
              "      <th>1</th>\n",
              "      <td>4721</td>\n",
              "    </tr>\n",
              "    <tr>\n",
              "      <th>2</th>\n",
              "      <td>4722</td>\n",
              "    </tr>\n",
              "    <tr>\n",
              "      <th>3</th>\n",
              "      <td>4723</td>\n",
              "    </tr>\n",
              "    <tr>\n",
              "      <th>4</th>\n",
              "      <td>4724</td>\n",
              "    </tr>\n",
              "    <tr>\n",
              "      <th>...</th>\n",
              "      <td>...</td>\n",
              "    </tr>\n",
              "    <tr>\n",
              "      <th>6965701</th>\n",
              "      <td>0</td>\n",
              "    </tr>\n",
              "    <tr>\n",
              "      <th>6965702</th>\n",
              "      <td>0</td>\n",
              "    </tr>\n",
              "    <tr>\n",
              "      <th>6965703</th>\n",
              "      <td>0</td>\n",
              "    </tr>\n",
              "    <tr>\n",
              "      <th>6965704</th>\n",
              "      <td>0</td>\n",
              "    </tr>\n",
              "    <tr>\n",
              "      <th>6965705</th>\n",
              "      <td>0</td>\n",
              "    </tr>\n",
              "  </tbody>\n",
              "</table>\n",
              "<p>6965706 rows × 1 columns</p>\n",
              "</div>"
            ],
            "text/plain": [
              "         yearweek\n",
              "0            4720\n",
              "1            4721\n",
              "2            4722\n",
              "3            4723\n",
              "4            4724\n",
              "...           ...\n",
              "6965701         0\n",
              "6965702         0\n",
              "6965703         0\n",
              "6965704         0\n",
              "6965705         0\n",
              "\n",
              "[6965706 rows x 1 columns]"
            ]
          },
          "execution_count": 21,
          "metadata": {},
          "output_type": "execute_result"
        }
      ],
      "source": [
        "colunas = ['yearweek']\n",
        "df_prices[colunas].astype(\"int16\")"
      ]
    },
    {
      "cell_type": "code",
      "execution_count": 22,
      "id": "3f4306fa",
      "metadata": {
        "id": "3f4306fa"
      },
      "outputs": [],
      "source": [
        "colunas = df_prices.columns\n",
        "#fn_memory_usage(df_prices, colunas)"
      ]
    },
    {
      "cell_type": "code",
      "execution_count": 23,
      "id": "bnn4TGC6o7ZB",
      "metadata": {
        "colab": {
          "base_uri": "https://localhost:8080/"
        },
        "id": "bnn4TGC6o7ZB",
        "outputId": "ac1c3cb2-71de-44ee-9013-b8ea5b6c5301"
      },
      "outputs": [
        {
          "data": {
            "text/plain": [
              "Index(['item', 'category', 'store_code', 'yearweek', 'sell_price'], dtype='object')"
            ]
          },
          "execution_count": 23,
          "metadata": {},
          "output_type": "execute_result"
        }
      ],
      "source": [
        "colunas"
      ]
    },
    {
      "cell_type": "markdown",
      "id": "b28d1029",
      "metadata": {
        "id": "b28d1029"
      },
      "source": [
        "# Tratamento DF Sales"
      ]
    },
    {
      "cell_type": "code",
      "execution_count": 24,
      "id": "7796c4ba-ad87-414a-b0eb-9f1331916046",
      "metadata": {
        "colab": {
          "base_uri": "https://localhost:8080/"
        },
        "id": "7796c4ba-ad87-414a-b0eb-9f1331916046",
        "outputId": "d89ba6a7-e941-478a-92f5-0cfa829325a3"
      },
      "outputs": [
        {
          "name": "stdout",
          "output_type": "stream",
          "text": [
            "<class 'pandas.core.frame.DataFrame'>\n",
            "RangeIndex: 30490 entries, 0 to 30489\n",
            "Columns: 1920 entries, id to d_1913\n",
            "dtypes: int64(1913), object(7)\n",
            "memory usage: 446.6+ MB\n"
          ]
        }
      ],
      "source": [
        "#item_sales.csv\n",
        "if IndicadorProcessarNovamente:\n",
        "    df_sales.info()\n",
        "    df_sales.head(100)"
      ]
    },
    {
      "cell_type": "code",
      "execution_count": 25,
      "id": "ef88a80c",
      "metadata": {
        "id": "ef88a80c"
      },
      "outputs": [],
      "source": [
        "if IndicadorProcessarNovamente:\n",
        "    df_sales.describe()"
      ]
    },
    {
      "cell_type": "code",
      "execution_count": null,
      "id": "e8a50120",
      "metadata": {
        "id": "e8a50120"
      },
      "outputs": [],
      "source": [
        "if IndicadorProcessarNovamente:\n",
        "    colunas = df_sales.columns\n",
        "    #fn_memory_usage(df_sales, colunas)"
      ]
    },
    {
      "cell_type": "code",
      "execution_count": null,
      "id": "7446d67b",
      "metadata": {
        "colab": {
          "base_uri": "https://localhost:8080/",
          "height": 444
        },
        "id": "7446d67b",
        "outputId": "bdfdde93-a98f-4e19-f0d4-bd36249b4544"
      },
      "outputs": [],
      "source": [
        "# list_columns = \"\"\n",
        "lista_valores = []\n",
        "\n",
        "for i in range(1, 1914):\n",
        "    # Adiciona o valor \"d_\" seguido do número à lista\n",
        "    lista_valores.append(\"d_\" + str(i))\n",
        "\n",
        "df_sales[lista_valores].astype(\"int16\")"
      ]
    },
    {
      "cell_type": "code",
      "execution_count": null,
      "id": "d6ef8cb0",
      "metadata": {
        "id": "d6ef8cb0"
      },
      "outputs": [],
      "source": [
        "if IndicadorProcessarNovamente:\n",
        "    colunas = df_sales.columns\n",
        "    #fn_memory_usage(df_sales, colunas)"
      ]
    },
    {
      "cell_type": "markdown",
      "id": "2271e90a",
      "metadata": {
        "id": "2271e90a"
      },
      "source": [
        "# Merge Entre DF Sales e DF Event"
      ]
    },
    {
      "cell_type": "code",
      "execution_count": null,
      "id": "baa58680",
      "metadata": {
        "colab": {
          "base_uri": "https://localhost:8080/",
          "height": 206
        },
        "id": "baa58680",
        "outputId": "5160a5d3-c0ad-427a-a8e0-821120b68c23"
      },
      "outputs": [],
      "source": [
        "sales_melted = df_sales.melt(id_vars=['id', 'item'], var_name='d', value_name='value_sales')\n",
        "\n",
        "# Juntar os datasets com base na coluna 'd'\n",
        "merged_df = pd.merge(sales_melted, df_event[['d', 'date', 'yearweek', 'year']], on='d')\n",
        "\n",
        "merged_df.head()"
      ]
    },
    {
      "cell_type": "code",
      "execution_count": null,
      "id": "cedff397",
      "metadata": {
        "colab": {
          "base_uri": "https://localhost:8080/"
        },
        "id": "cedff397",
        "outputId": "9dec219e-5a53-4d4f-da63-90a56d6414c9"
      },
      "outputs": [],
      "source": [
        "if IndicadorProcessarNovamente:\n",
        "    merged_df.info()"
      ]
    },
    {
      "cell_type": "code",
      "execution_count": null,
      "id": "87a893a0",
      "metadata": {
        "id": "87a893a0"
      },
      "outputs": [],
      "source": [
        "if IndicadorProcessarNovamente:\n",
        "    colunas = merged_df.columns\n",
        "    #fn_memory_usage(merged_df, colunas)"
      ]
    },
    {
      "cell_type": "code",
      "execution_count": null,
      "id": "2a7dc086",
      "metadata": {
        "colab": {
          "base_uri": "https://localhost:8080/",
          "height": 206
        },
        "id": "2a7dc086",
        "outputId": "eda15717-7fd7-42c0-dce2-3836b34be0f2"
      },
      "outputs": [],
      "source": [
        "# Agrupar os valores por região e data, fazendo a soma da coluna 'value' e mostrando todas as colunas\n",
        "sales_agg = merged_df.groupby(['id', 'item']).agg({\n",
        "    'value_sales': 'sum',\n",
        "    #'item':'first',\n",
        "    #'category':'first',\n",
        "    #'department':'first',\n",
        "    #'store':'first',\n",
        "    #'store_code':'first',\n",
        "    #'region':'first',\n",
        "    'd':'first',\n",
        "    'yearweek':'first',\n",
        "    'year':'first'\n",
        "}).reset_index()  # Resetando o índice para criar um novo DataFrame\n",
        "\n",
        "sales_agg.head()"
      ]
    },
    {
      "cell_type": "code",
      "execution_count": null,
      "id": "cf03b46c",
      "metadata": {
        "id": "cf03b46c"
      },
      "outputs": [],
      "source": [
        "if IndicadorProcessarNovamente:\n",
        "    colunas = sales_agg.columns\n",
        "    #fn_memory_usage(sales_agg, colunas)"
      ]
    },
    {
      "cell_type": "code",
      "execution_count": null,
      "id": "7818f2ba",
      "metadata": {
        "id": "7818f2ba"
      },
      "outputs": [],
      "source": [
        "# Cria um novo dataframe com os dados agrupados e valore somados\n",
        "colunas = list(sales_agg.drop('value_sales', axis=1).columns)\n",
        "sales_goup = sales_agg.groupby(colunas)['value_sales'].sum().reset_index()"
      ]
    },
    {
      "cell_type": "code",
      "execution_count": null,
      "id": "00a8cd2f",
      "metadata": {
        "colab": {
          "base_uri": "https://localhost:8080/",
          "height": 206
        },
        "id": "00a8cd2f",
        "outputId": "956003c3-361d-48d2-fed5-360aa3ac1f34"
      },
      "outputs": [],
      "source": [
        "sales_goup.head()"
      ]
    },
    {
      "cell_type": "markdown",
      "id": "363ce867",
      "metadata": {
        "id": "363ce867"
      },
      "source": [
        "# Merge entre DF Agrupado e DF Prices"
      ]
    },
    {
      "cell_type": "code",
      "execution_count": null,
      "id": "f09e045f",
      "metadata": {
        "id": "f09e045f"
      },
      "outputs": [],
      "source": [
        "# concatena o novo dataframe agrupado com o dataframe prices para ter o valor da semana\n",
        "merged_sales_group_prices = pd.merge(sales_goup, df_prices, on=['item', 'yearweek'], how='outer')"
      ]
    },
    {
      "cell_type": "code",
      "execution_count": null,
      "id": "efa7738e",
      "metadata": {
        "colab": {
          "base_uri": "https://localhost:8080/",
          "height": 206
        },
        "id": "efa7738e",
        "outputId": "4490d56a-b942-4410-e3ae-97bb4df27978"
      },
      "outputs": [],
      "source": [
        "merged_sales_group_prices.query(\"value_sales > 0\").head()"
      ]
    }
  ],
  "metadata": {
    "colab": {
      "provenance": []
    },
    "kernelspec": {
      "display_name": "env",
      "language": "python",
      "name": "env"
    },
    "language_info": {
      "codemirror_mode": {
        "name": "ipython",
        "version": 3
      },
      "file_extension": ".py",
      "mimetype": "text/x-python",
      "name": "python",
      "nbconvert_exporter": "python",
      "pygments_lexer": "ipython3",
      "version": "3.9.13"
    }
  },
  "nbformat": 4,
  "nbformat_minor": 5
}
