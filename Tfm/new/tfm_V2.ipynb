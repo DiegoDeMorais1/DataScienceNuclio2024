{
 "cells": [
  {
   "cell_type": "markdown",
   "id": "4148d7d0",
   "metadata": {},
   "source": [
    "# TFM - Grupo 2 - Entrega 18/05/2024"
   ]
  },
  {
   "cell_type": "code",
   "execution_count": 1,
   "id": "3e81ca17-071e-456f-aab1-f2467c14048a",
   "metadata": {},
   "outputs": [],
   "source": [
    "import pandas as pd\n",
    "import numpy as np\n",
    "from helpers.helper import *\n",
    "\n",
    "pd.set_option('display.max_columns', None)"
   ]
  },
  {
   "cell_type": "code",
   "execution_count": 3,
   "id": "f3b569c7-1cf0-47cb-9d87-f19d659327a4",
   "metadata": {},
   "outputs": [],
   "source": [
    "df_event = pd.read_csv(\"/home/dcm/Documentos/Nuclio/Tfm/data/daily_calendar_with_events.csv\")\n",
    "df_prices = pd.read_csv(\"/home/dcm/Documentos/Nuclio/Tfm/data/item_prices.csv\")\n",
    "df_sales = pd.read_csv(\"/home/dcm/Documentos/Nuclio/Tfm/data/item_sales.csv\")"
   ]
  },
  {
   "cell_type": "code",
   "execution_count": 4,
   "id": "b3f7c0ce",
   "metadata": {},
   "outputs": [],
   "source": [
    "# Indicador serve para quando rodar novamente todo o fonte, nao gerar impressoes de dados que nao sao mais modificados, ganhando em tempo\n",
    "IndicadorProcessarNovamente = True"
   ]
  },
  {
   "cell_type": "markdown",
   "id": "642457cc",
   "metadata": {},
   "source": [
    "# Tratamento DF Event"
   ]
  },
  {
   "cell_type": "code",
   "execution_count": 5,
   "id": "35c5c23f-a7c8-4570-8b38-294bb0049603",
   "metadata": {},
   "outputs": [
    {
     "name": "stdout",
     "output_type": "stream",
     "text": [
      "<class 'pandas.core.frame.DataFrame'>\n",
      "RangeIndex: 1913 entries, 0 to 1912\n",
      "Data columns (total 5 columns):\n",
      " #   Column       Non-Null Count  Dtype \n",
      "---  ------       --------------  ----- \n",
      " 0   date         1913 non-null   object\n",
      " 1   weekday      1913 non-null   object\n",
      " 2   weekday_int  1913 non-null   int64 \n",
      " 3   d            1913 non-null   object\n",
      " 4   event        26 non-null     object\n",
      "dtypes: int64(1), object(4)\n",
      "memory usage: 74.9+ KB\n"
     ]
    }
   ],
   "source": [
    "# daily_calendar_with_events.csv\n",
    "if IndicadorProcessarNovamente:\n",
    "    df_event.info()\n",
    "    df_event.head()"
   ]
  },
  {
   "cell_type": "code",
   "execution_count": 6,
   "id": "b6a5e268",
   "metadata": {},
   "outputs": [
    {
     "name": "stdout",
     "output_type": "stream",
     "text": [
      "Uso de Memória Ram:  0.45 MB\n"
     ]
    }
   ],
   "source": [
    "if IndicadorProcessarNovamente:\n",
    "    colunas = df_event.columns\n",
    "    fn_memory_usage(df_event, colunas)"
   ]
  },
  {
   "cell_type": "code",
   "execution_count": 7,
   "id": "1097cd69",
   "metadata": {},
   "outputs": [],
   "source": [
    "if IndicadorProcessarNovamente:\n",
    "    df_event.describe(datetime_is_numeric=True)"
   ]
  },
  {
   "cell_type": "code",
   "execution_count": 8,
   "id": "4ba49582",
   "metadata": {},
   "outputs": [],
   "source": [
    "colunas = ['date']\n",
    "fn_convert_dtype(df_event, colunas, \"datetime64[ns]\")"
   ]
  },
  {
   "cell_type": "code",
   "execution_count": 9,
   "id": "d82c6028",
   "metadata": {},
   "outputs": [],
   "source": [
    "df_event[\"weekyear\"] = df_event['date'].dt.isocalendar().week\n",
    "df_event[\"year\"] = df_event['date'].dt.year"
   ]
  },
  {
   "cell_type": "code",
   "execution_count": 10,
   "id": "d92ea885",
   "metadata": {},
   "outputs": [],
   "source": [
    "def g(x):\n",
    "    return  np.int16(str(x[0]) + str(x[1]))\n",
    "\n",
    "df_event['yearweek'] = df_event[['year', 'weekyear']].apply(g, axis=1)"
   ]
  },
  {
   "cell_type": "code",
   "execution_count": 11,
   "id": "1b5b6411",
   "metadata": {},
   "outputs": [],
   "source": [
    "colunas = ['weekday_int', 'weekyear']\n",
    "fn_convert_dtype(df_event, colunas, \"int8\")\n",
    "\n",
    "colunas = ['year', 'yearweek']\n",
    "fn_convert_dtype(df_event, colunas, \"int16\")"
   ]
  },
  {
   "cell_type": "code",
   "execution_count": 12,
   "id": "56028e9c",
   "metadata": {},
   "outputs": [
    {
     "name": "stdout",
     "output_type": "stream",
     "text": [
      "Uso de Memória Ram:  0.33 MB\n"
     ]
    }
   ],
   "source": [
    "colunas = df_event.columns\n",
    "fn_memory_usage(df_event, colunas)"
   ]
  },
  {
   "cell_type": "code",
   "execution_count": 13,
   "id": "0ebd086b",
   "metadata": {},
   "outputs": [
    {
     "data": {
      "text/plain": [
       "SuperBowl         6\n",
       "Ramadan starts    5\n",
       "Thanksgiving      5\n",
       "NewYear           5\n",
       "Easter            5\n",
       "Name: event, dtype: int64"
      ]
     },
     "execution_count": 13,
     "metadata": {},
     "output_type": "execute_result"
    }
   ],
   "source": [
    "df_event['event'].value_counts()"
   ]
  },
  {
   "cell_type": "code",
   "execution_count": 14,
   "id": "e163f7c3",
   "metadata": {},
   "outputs": [],
   "source": [
    "df_event['event'].fillna('NoEvent', inplace=True)"
   ]
  },
  {
   "cell_type": "code",
   "execution_count": 15,
   "id": "cce341fb",
   "metadata": {},
   "outputs": [
    {
     "name": "stdout",
     "output_type": "stream",
     "text": [
      "<class 'pandas.core.frame.DataFrame'>\n",
      "RangeIndex: 1913 entries, 0 to 1912\n",
      "Data columns (total 8 columns):\n",
      " #   Column       Non-Null Count  Dtype         \n",
      "---  ------       --------------  -----         \n",
      " 0   date         1913 non-null   datetime64[ns]\n",
      " 1   weekday      1913 non-null   object        \n",
      " 2   weekday_int  1913 non-null   int8          \n",
      " 3   d            1913 non-null   object        \n",
      " 4   event        1913 non-null   object        \n",
      " 5   weekyear     1913 non-null   int8          \n",
      " 6   year         1913 non-null   int16         \n",
      " 7   yearweek     1913 non-null   int16         \n",
      "dtypes: datetime64[ns](1), int16(2), int8(2), object(3)\n",
      "memory usage: 71.1+ KB\n"
     ]
    }
   ],
   "source": [
    "if IndicadorProcessarNovamente:\n",
    "    df_event.info()"
   ]
  },
  {
   "cell_type": "code",
   "execution_count": 17,
   "id": "8ef6e2ff",
   "metadata": {},
   "outputs": [],
   "source": [
    "df_event.to_csv(\"data/daily_calendar_with_events_2.csv\", index = False, sep=',', encoding='utf-8')"
   ]
  },
  {
   "cell_type": "markdown",
   "id": "2bffddf4",
   "metadata": {},
   "source": [
    "# Tratamento DF Prices"
   ]
  },
  {
   "cell_type": "code",
   "execution_count": 15,
   "id": "0aced0d1-c080-4f6c-823e-2e710bad1d00",
   "metadata": {},
   "outputs": [],
   "source": [
    "# item_prices.csv\n",
    "if IndicadorProcessarNovamente:\n",
    "    df_prices.info()\n",
    "    df_prices.head()"
   ]
  },
  {
   "cell_type": "code",
   "execution_count": 16,
   "id": "90ab8821",
   "metadata": {},
   "outputs": [],
   "source": [
    "if IndicadorProcessarNovamente:\n",
    "    df_prices.describe(datetime_is_numeric=True)"
   ]
  },
  {
   "cell_type": "code",
   "execution_count": 17,
   "id": "726fb417",
   "metadata": {},
   "outputs": [],
   "source": [
    "if IndicadorProcessarNovamente:\n",
    "    df_prices.query(\"yearweek.isnull()\").head()"
   ]
  },
  {
   "cell_type": "code",
   "execution_count": 18,
   "id": "165ed6e1",
   "metadata": {},
   "outputs": [],
   "source": [
    "if IndicadorProcessarNovamente:\n",
    "    colunas = df_prices.columns\n",
    "    fn_memory_usage(df_prices, colunas)"
   ]
  },
  {
   "cell_type": "code",
   "execution_count": 19,
   "id": "2a43ca5b",
   "metadata": {},
   "outputs": [],
   "source": [
    "# Adicionado zero para a semana do ano que esta null\n",
    "df_prices[\"yearweek\"].fillna(0, inplace=True)"
   ]
  },
  {
   "cell_type": "code",
   "execution_count": 20,
   "id": "fa00546d",
   "metadata": {},
   "outputs": [],
   "source": [
    "colunas = ['yearweek']\n",
    "fn_convert_dtype(df_prices, colunas, \"int16\")"
   ]
  },
  {
   "cell_type": "code",
   "execution_count": 21,
   "id": "3f4306fa",
   "metadata": {},
   "outputs": [
    {
     "name": "stdout",
     "output_type": "stream",
     "text": [
      "Uso de Memória Ram:  1497.72 MB\n"
     ]
    }
   ],
   "source": [
    "colunas = df_prices.columns\n",
    "fn_memory_usage(df_prices, colunas)"
   ]
  },
  {
   "cell_type": "markdown",
   "id": "b28d1029",
   "metadata": {},
   "source": [
    "# Tratamento DF Sales"
   ]
  },
  {
   "cell_type": "code",
   "execution_count": 22,
   "id": "7796c4ba-ad87-414a-b0eb-9f1331916046",
   "metadata": {},
   "outputs": [],
   "source": [
    "#item_sales.csv\n",
    "if IndicadorProcessarNovamente:\n",
    "    df_sales.info()\n",
    "    df_sales.head(100)"
   ]
  },
  {
   "cell_type": "code",
   "execution_count": 23,
   "id": "ef88a80c",
   "metadata": {},
   "outputs": [],
   "source": [
    "if IndicadorProcessarNovamente:\n",
    "    df_sales.describe(datetime_is_numeric=True)"
   ]
  },
  {
   "cell_type": "code",
   "execution_count": 24,
   "id": "e8a50120",
   "metadata": {},
   "outputs": [],
   "source": [
    "if IndicadorProcessarNovamente:\n",
    "    colunas = df_sales.columns\n",
    "    fn_memory_usage(df_sales, colunas)"
   ]
  },
  {
   "cell_type": "code",
   "execution_count": 25,
   "id": "7446d67b",
   "metadata": {},
   "outputs": [],
   "source": [
    "# list_columns = \"\"\n",
    "lista_valores = []\n",
    "\n",
    "for i in range(1, 1914):\n",
    "    # Adiciona o valor \"d_\" seguido do número à lista\n",
    "    lista_valores.append(\"d_\" + str(i))\n",
    "\n",
    "fn_convert_dtype(df_sales, lista_valores, \"int16\")"
   ]
  },
  {
   "cell_type": "code",
   "execution_count": 26,
   "id": "d6ef8cb0",
   "metadata": {},
   "outputs": [],
   "source": [
    "if IndicadorProcessarNovamente:\n",
    "    colunas = df_sales.columns\n",
    "    fn_memory_usage(df_sales, colunas)"
   ]
  },
  {
   "cell_type": "markdown",
   "id": "2271e90a",
   "metadata": {},
   "source": [
    "# Merge Entre DF Sales e DF Event"
   ]
  },
  {
   "cell_type": "code",
   "execution_count": 27,
   "id": "baa58680",
   "metadata": {},
   "outputs": [
    {
     "data": {
      "text/html": [
       "<div>\n",
       "<style scoped>\n",
       "    .dataframe tbody tr th:only-of-type {\n",
       "        vertical-align: middle;\n",
       "    }\n",
       "\n",
       "    .dataframe tbody tr th {\n",
       "        vertical-align: top;\n",
       "    }\n",
       "\n",
       "    .dataframe thead th {\n",
       "        text-align: right;\n",
       "    }\n",
       "</style>\n",
       "<table border=\"1\" class=\"dataframe\">\n",
       "  <thead>\n",
       "    <tr style=\"text-align: right;\">\n",
       "      <th></th>\n",
       "      <th>id</th>\n",
       "      <th>item</th>\n",
       "      <th>category</th>\n",
       "      <th>department</th>\n",
       "      <th>store</th>\n",
       "      <th>store_code</th>\n",
       "      <th>region</th>\n",
       "      <th>d</th>\n",
       "      <th>value_sales</th>\n",
       "      <th>date</th>\n",
       "      <th>yearweek</th>\n",
       "      <th>year</th>\n",
       "      <th>event</th>\n",
       "      <th>weekday_int</th>\n",
       "      <th>weekday</th>\n",
       "    </tr>\n",
       "  </thead>\n",
       "  <tbody>\n",
       "    <tr>\n",
       "      <th>0</th>\n",
       "      <td>ACCESORIES_1_001_NYC_1</td>\n",
       "      <td>ACCESORIES_1_001</td>\n",
       "      <td>ACCESORIES</td>\n",
       "      <td>ACCESORIES_1</td>\n",
       "      <td>Greenwich_Village</td>\n",
       "      <td>NYC_1</td>\n",
       "      <td>New York</td>\n",
       "      <td>d_1</td>\n",
       "      <td>0</td>\n",
       "      <td>2011-01-29</td>\n",
       "      <td>20114</td>\n",
       "      <td>2011</td>\n",
       "      <td>NoEvent</td>\n",
       "      <td>1</td>\n",
       "      <td>Saturday</td>\n",
       "    </tr>\n",
       "    <tr>\n",
       "      <th>1</th>\n",
       "      <td>ACCESORIES_1_002_NYC_1</td>\n",
       "      <td>ACCESORIES_1_002</td>\n",
       "      <td>ACCESORIES</td>\n",
       "      <td>ACCESORIES_1</td>\n",
       "      <td>Greenwich_Village</td>\n",
       "      <td>NYC_1</td>\n",
       "      <td>New York</td>\n",
       "      <td>d_1</td>\n",
       "      <td>0</td>\n",
       "      <td>2011-01-29</td>\n",
       "      <td>20114</td>\n",
       "      <td>2011</td>\n",
       "      <td>NoEvent</td>\n",
       "      <td>1</td>\n",
       "      <td>Saturday</td>\n",
       "    </tr>\n",
       "    <tr>\n",
       "      <th>2</th>\n",
       "      <td>ACCESORIES_1_003_NYC_1</td>\n",
       "      <td>ACCESORIES_1_003</td>\n",
       "      <td>ACCESORIES</td>\n",
       "      <td>ACCESORIES_1</td>\n",
       "      <td>Greenwich_Village</td>\n",
       "      <td>NYC_1</td>\n",
       "      <td>New York</td>\n",
       "      <td>d_1</td>\n",
       "      <td>0</td>\n",
       "      <td>2011-01-29</td>\n",
       "      <td>20114</td>\n",
       "      <td>2011</td>\n",
       "      <td>NoEvent</td>\n",
       "      <td>1</td>\n",
       "      <td>Saturday</td>\n",
       "    </tr>\n",
       "    <tr>\n",
       "      <th>3</th>\n",
       "      <td>ACCESORIES_1_004_NYC_1</td>\n",
       "      <td>ACCESORIES_1_004</td>\n",
       "      <td>ACCESORIES</td>\n",
       "      <td>ACCESORIES_1</td>\n",
       "      <td>Greenwich_Village</td>\n",
       "      <td>NYC_1</td>\n",
       "      <td>New York</td>\n",
       "      <td>d_1</td>\n",
       "      <td>0</td>\n",
       "      <td>2011-01-29</td>\n",
       "      <td>20114</td>\n",
       "      <td>2011</td>\n",
       "      <td>NoEvent</td>\n",
       "      <td>1</td>\n",
       "      <td>Saturday</td>\n",
       "    </tr>\n",
       "    <tr>\n",
       "      <th>4</th>\n",
       "      <td>ACCESORIES_1_005_NYC_1</td>\n",
       "      <td>ACCESORIES_1_005</td>\n",
       "      <td>ACCESORIES</td>\n",
       "      <td>ACCESORIES_1</td>\n",
       "      <td>Greenwich_Village</td>\n",
       "      <td>NYC_1</td>\n",
       "      <td>New York</td>\n",
       "      <td>d_1</td>\n",
       "      <td>0</td>\n",
       "      <td>2011-01-29</td>\n",
       "      <td>20114</td>\n",
       "      <td>2011</td>\n",
       "      <td>NoEvent</td>\n",
       "      <td>1</td>\n",
       "      <td>Saturday</td>\n",
       "    </tr>\n",
       "  </tbody>\n",
       "</table>\n",
       "</div>"
      ],
      "text/plain": [
       "                       id              item    category    department  \\\n",
       "0  ACCESORIES_1_001_NYC_1  ACCESORIES_1_001  ACCESORIES  ACCESORIES_1   \n",
       "1  ACCESORIES_1_002_NYC_1  ACCESORIES_1_002  ACCESORIES  ACCESORIES_1   \n",
       "2  ACCESORIES_1_003_NYC_1  ACCESORIES_1_003  ACCESORIES  ACCESORIES_1   \n",
       "3  ACCESORIES_1_004_NYC_1  ACCESORIES_1_004  ACCESORIES  ACCESORIES_1   \n",
       "4  ACCESORIES_1_005_NYC_1  ACCESORIES_1_005  ACCESORIES  ACCESORIES_1   \n",
       "\n",
       "               store store_code    region    d  value_sales       date  \\\n",
       "0  Greenwich_Village      NYC_1  New York  d_1            0 2011-01-29   \n",
       "1  Greenwich_Village      NYC_1  New York  d_1            0 2011-01-29   \n",
       "2  Greenwich_Village      NYC_1  New York  d_1            0 2011-01-29   \n",
       "3  Greenwich_Village      NYC_1  New York  d_1            0 2011-01-29   \n",
       "4  Greenwich_Village      NYC_1  New York  d_1            0 2011-01-29   \n",
       "\n",
       "   yearweek  year    event  weekday_int   weekday  \n",
       "0     20114  2011  NoEvent            1  Saturday  \n",
       "1     20114  2011  NoEvent            1  Saturday  \n",
       "2     20114  2011  NoEvent            1  Saturday  \n",
       "3     20114  2011  NoEvent            1  Saturday  \n",
       "4     20114  2011  NoEvent            1  Saturday  "
      ]
     },
     "execution_count": 27,
     "metadata": {},
     "output_type": "execute_result"
    }
   ],
   "source": [
    "sales_melted = df_sales.melt(id_vars=['id', 'item', 'category', 'department', 'store', 'store_code', 'region'], var_name='d', value_name='value_sales')\n",
    "\n",
    "# Juntar os datasets com base na coluna 'd'\n",
    "merged_df = pd.merge(sales_melted, df_event[['d', 'date', 'yearweek', 'year', 'event', 'weekday_int', 'weekday']], on='d')\n",
    "\n",
    "merged_df.head()"
   ]
  },
  {
   "cell_type": "code",
   "execution_count": 36,
   "id": "cedff397",
   "metadata": {},
   "outputs": [],
   "source": [
    "if IndicadorProcessarNovamente:\n",
    "    merged_df.info()"
   ]
  },
  {
   "cell_type": "code",
   "execution_count": 37,
   "id": "87a893a0",
   "metadata": {},
   "outputs": [],
   "source": [
    "if IndicadorProcessarNovamente:\n",
    "    colunas = merged_df.columns\n",
    "    fn_memory_usage(merged_df, colunas)"
   ]
  },
  {
   "cell_type": "code",
   "execution_count": 38,
   "id": "2a7dc086",
   "metadata": {},
   "outputs": [
    {
     "data": {
      "text/html": [
       "<div>\n",
       "<style scoped>\n",
       "    .dataframe tbody tr th:only-of-type {\n",
       "        vertical-align: middle;\n",
       "    }\n",
       "\n",
       "    .dataframe tbody tr th {\n",
       "        vertical-align: top;\n",
       "    }\n",
       "\n",
       "    .dataframe thead th {\n",
       "        text-align: right;\n",
       "    }\n",
       "</style>\n",
       "<table border=\"1\" class=\"dataframe\">\n",
       "  <thead>\n",
       "    <tr style=\"text-align: right;\">\n",
       "      <th></th>\n",
       "      <th>id</th>\n",
       "      <th>date</th>\n",
       "      <th>value_sales</th>\n",
       "      <th>item</th>\n",
       "      <th>category</th>\n",
       "      <th>department</th>\n",
       "      <th>store</th>\n",
       "      <th>store_code</th>\n",
       "      <th>region</th>\n",
       "      <th>d</th>\n",
       "      <th>yearweek</th>\n",
       "      <th>year</th>\n",
       "      <th>event</th>\n",
       "      <th>weekday_int</th>\n",
       "      <th>weekday</th>\n",
       "    </tr>\n",
       "  </thead>\n",
       "  <tbody>\n",
       "    <tr>\n",
       "      <th>0</th>\n",
       "      <td>ACCESORIES_1_001_BOS_1</td>\n",
       "      <td>2011-01-29</td>\n",
       "      <td>0</td>\n",
       "      <td>ACCESORIES_1_001</td>\n",
       "      <td>ACCESORIES</td>\n",
       "      <td>ACCESORIES_1</td>\n",
       "      <td>South_End</td>\n",
       "      <td>BOS_1</td>\n",
       "      <td>Boston</td>\n",
       "      <td>d_1</td>\n",
       "      <td>20114</td>\n",
       "      <td>2011</td>\n",
       "      <td>NoEvent</td>\n",
       "      <td>1</td>\n",
       "      <td>Saturday</td>\n",
       "    </tr>\n",
       "    <tr>\n",
       "      <th>1</th>\n",
       "      <td>ACCESORIES_1_001_BOS_1</td>\n",
       "      <td>2011-01-30</td>\n",
       "      <td>0</td>\n",
       "      <td>ACCESORIES_1_001</td>\n",
       "      <td>ACCESORIES</td>\n",
       "      <td>ACCESORIES_1</td>\n",
       "      <td>South_End</td>\n",
       "      <td>BOS_1</td>\n",
       "      <td>Boston</td>\n",
       "      <td>d_2</td>\n",
       "      <td>20114</td>\n",
       "      <td>2011</td>\n",
       "      <td>NoEvent</td>\n",
       "      <td>2</td>\n",
       "      <td>Sunday</td>\n",
       "    </tr>\n",
       "    <tr>\n",
       "      <th>2</th>\n",
       "      <td>ACCESORIES_1_001_BOS_1</td>\n",
       "      <td>2011-01-31</td>\n",
       "      <td>0</td>\n",
       "      <td>ACCESORIES_1_001</td>\n",
       "      <td>ACCESORIES</td>\n",
       "      <td>ACCESORIES_1</td>\n",
       "      <td>South_End</td>\n",
       "      <td>BOS_1</td>\n",
       "      <td>Boston</td>\n",
       "      <td>d_3</td>\n",
       "      <td>20115</td>\n",
       "      <td>2011</td>\n",
       "      <td>NoEvent</td>\n",
       "      <td>3</td>\n",
       "      <td>Monday</td>\n",
       "    </tr>\n",
       "    <tr>\n",
       "      <th>3</th>\n",
       "      <td>ACCESORIES_1_001_BOS_1</td>\n",
       "      <td>2011-02-01</td>\n",
       "      <td>0</td>\n",
       "      <td>ACCESORIES_1_001</td>\n",
       "      <td>ACCESORIES</td>\n",
       "      <td>ACCESORIES_1</td>\n",
       "      <td>South_End</td>\n",
       "      <td>BOS_1</td>\n",
       "      <td>Boston</td>\n",
       "      <td>d_4</td>\n",
       "      <td>20115</td>\n",
       "      <td>2011</td>\n",
       "      <td>NoEvent</td>\n",
       "      <td>4</td>\n",
       "      <td>Tuesday</td>\n",
       "    </tr>\n",
       "    <tr>\n",
       "      <th>4</th>\n",
       "      <td>ACCESORIES_1_001_BOS_1</td>\n",
       "      <td>2011-02-02</td>\n",
       "      <td>0</td>\n",
       "      <td>ACCESORIES_1_001</td>\n",
       "      <td>ACCESORIES</td>\n",
       "      <td>ACCESORIES_1</td>\n",
       "      <td>South_End</td>\n",
       "      <td>BOS_1</td>\n",
       "      <td>Boston</td>\n",
       "      <td>d_5</td>\n",
       "      <td>20115</td>\n",
       "      <td>2011</td>\n",
       "      <td>NoEvent</td>\n",
       "      <td>5</td>\n",
       "      <td>Wednesday</td>\n",
       "    </tr>\n",
       "  </tbody>\n",
       "</table>\n",
       "</div>"
      ],
      "text/plain": [
       "                       id       date  value_sales              item  \\\n",
       "0  ACCESORIES_1_001_BOS_1 2011-01-29            0  ACCESORIES_1_001   \n",
       "1  ACCESORIES_1_001_BOS_1 2011-01-30            0  ACCESORIES_1_001   \n",
       "2  ACCESORIES_1_001_BOS_1 2011-01-31            0  ACCESORIES_1_001   \n",
       "3  ACCESORIES_1_001_BOS_1 2011-02-01            0  ACCESORIES_1_001   \n",
       "4  ACCESORIES_1_001_BOS_1 2011-02-02            0  ACCESORIES_1_001   \n",
       "\n",
       "     category    department      store store_code  region    d  yearweek  \\\n",
       "0  ACCESORIES  ACCESORIES_1  South_End      BOS_1  Boston  d_1     20114   \n",
       "1  ACCESORIES  ACCESORIES_1  South_End      BOS_1  Boston  d_2     20114   \n",
       "2  ACCESORIES  ACCESORIES_1  South_End      BOS_1  Boston  d_3     20115   \n",
       "3  ACCESORIES  ACCESORIES_1  South_End      BOS_1  Boston  d_4     20115   \n",
       "4  ACCESORIES  ACCESORIES_1  South_End      BOS_1  Boston  d_5     20115   \n",
       "\n",
       "   year    event  weekday_int    weekday  \n",
       "0  2011  NoEvent            1   Saturday  \n",
       "1  2011  NoEvent            2     Sunday  \n",
       "2  2011  NoEvent            3     Monday  \n",
       "3  2011  NoEvent            4    Tuesday  \n",
       "4  2011  NoEvent            5  Wednesday  "
      ]
     },
     "execution_count": 38,
     "metadata": {},
     "output_type": "execute_result"
    }
   ],
   "source": [
    "# Agrupar os valores por região e data, fazendo a soma da coluna 'value' e mostrando todas as colunas\n",
    "sales_agg = merged_df.groupby(['id', 'date']).agg({\n",
    "    'value_sales': 'sum',\n",
    "    'item':'first',\t\n",
    "    'category':'first',\t\t\n",
    "    'department':'first',\t\t\n",
    "    'store':'first',\t\t\n",
    "    'store_code':'first',\t\t\n",
    "    'region':'first',\t\t\n",
    "    'd':'first',\n",
    "    'yearweek':'first',\n",
    "    'year':'first',\n",
    "    'event':'first',\n",
    "    'weekday_int': 'first',\n",
    "    'weekday': 'first'\n",
    "}).reset_index()  # Resetando o índice para criar um novo DataFrame\n",
    "\n",
    "sales_agg.head()"
   ]
  },
  {
   "cell_type": "code",
   "execution_count": 42,
   "id": "cf03b46c",
   "metadata": {},
   "outputs": [],
   "source": [
    "if IndicadorProcessarNovamente:\n",
    "    colunas = sales_agg.columns\n",
    "    fn_memory_usage(sales_agg, colunas)"
   ]
  },
  {
   "cell_type": "code",
   "execution_count": 44,
   "id": "7818f2ba",
   "metadata": {},
   "outputs": [],
   "source": [
    "# Cria um novo dataframe com os dados agrupados e valore somados\n",
    "colunas = list(sales_agg.drop('value_sales', axis=1).columns)\n",
    "sales_goup = sales_agg.groupby(colunas)['value_sales'].sum().reset_index()"
   ]
  },
  {
   "cell_type": "code",
   "execution_count": 48,
   "id": "00a8cd2f",
   "metadata": {},
   "outputs": [
    {
     "data": {
      "text/html": [
       "<div>\n",
       "<style scoped>\n",
       "    .dataframe tbody tr th:only-of-type {\n",
       "        vertical-align: middle;\n",
       "    }\n",
       "\n",
       "    .dataframe tbody tr th {\n",
       "        vertical-align: top;\n",
       "    }\n",
       "\n",
       "    .dataframe thead th {\n",
       "        text-align: right;\n",
       "    }\n",
       "</style>\n",
       "<table border=\"1\" class=\"dataframe\">\n",
       "  <thead>\n",
       "    <tr style=\"text-align: right;\">\n",
       "      <th></th>\n",
       "      <th>id</th>\n",
       "      <th>date</th>\n",
       "      <th>item</th>\n",
       "      <th>category</th>\n",
       "      <th>department</th>\n",
       "      <th>store</th>\n",
       "      <th>store_code</th>\n",
       "      <th>region</th>\n",
       "      <th>d</th>\n",
       "      <th>yearweek</th>\n",
       "      <th>year</th>\n",
       "      <th>event</th>\n",
       "      <th>weekday_int</th>\n",
       "      <th>weekday</th>\n",
       "      <th>value_sales</th>\n",
       "    </tr>\n",
       "  </thead>\n",
       "  <tbody>\n",
       "    <tr>\n",
       "      <th>0</th>\n",
       "      <td>ACCESORIES_1_001_BOS_1</td>\n",
       "      <td>2011-01-29</td>\n",
       "      <td>ACCESORIES_1_001</td>\n",
       "      <td>ACCESORIES</td>\n",
       "      <td>ACCESORIES_1</td>\n",
       "      <td>South_End</td>\n",
       "      <td>BOS_1</td>\n",
       "      <td>Boston</td>\n",
       "      <td>d_1</td>\n",
       "      <td>20114</td>\n",
       "      <td>2011</td>\n",
       "      <td>NoEvent</td>\n",
       "      <td>1</td>\n",
       "      <td>Saturday</td>\n",
       "      <td>0</td>\n",
       "    </tr>\n",
       "    <tr>\n",
       "      <th>1</th>\n",
       "      <td>ACCESORIES_1_001_BOS_1</td>\n",
       "      <td>2011-01-30</td>\n",
       "      <td>ACCESORIES_1_001</td>\n",
       "      <td>ACCESORIES</td>\n",
       "      <td>ACCESORIES_1</td>\n",
       "      <td>South_End</td>\n",
       "      <td>BOS_1</td>\n",
       "      <td>Boston</td>\n",
       "      <td>d_2</td>\n",
       "      <td>20114</td>\n",
       "      <td>2011</td>\n",
       "      <td>NoEvent</td>\n",
       "      <td>2</td>\n",
       "      <td>Sunday</td>\n",
       "      <td>0</td>\n",
       "    </tr>\n",
       "    <tr>\n",
       "      <th>2</th>\n",
       "      <td>ACCESORIES_1_001_BOS_1</td>\n",
       "      <td>2011-01-31</td>\n",
       "      <td>ACCESORIES_1_001</td>\n",
       "      <td>ACCESORIES</td>\n",
       "      <td>ACCESORIES_1</td>\n",
       "      <td>South_End</td>\n",
       "      <td>BOS_1</td>\n",
       "      <td>Boston</td>\n",
       "      <td>d_3</td>\n",
       "      <td>20115</td>\n",
       "      <td>2011</td>\n",
       "      <td>NoEvent</td>\n",
       "      <td>3</td>\n",
       "      <td>Monday</td>\n",
       "      <td>0</td>\n",
       "    </tr>\n",
       "    <tr>\n",
       "      <th>3</th>\n",
       "      <td>ACCESORIES_1_001_BOS_1</td>\n",
       "      <td>2011-02-01</td>\n",
       "      <td>ACCESORIES_1_001</td>\n",
       "      <td>ACCESORIES</td>\n",
       "      <td>ACCESORIES_1</td>\n",
       "      <td>South_End</td>\n",
       "      <td>BOS_1</td>\n",
       "      <td>Boston</td>\n",
       "      <td>d_4</td>\n",
       "      <td>20115</td>\n",
       "      <td>2011</td>\n",
       "      <td>NoEvent</td>\n",
       "      <td>4</td>\n",
       "      <td>Tuesday</td>\n",
       "      <td>0</td>\n",
       "    </tr>\n",
       "    <tr>\n",
       "      <th>4</th>\n",
       "      <td>ACCESORIES_1_001_BOS_1</td>\n",
       "      <td>2011-02-02</td>\n",
       "      <td>ACCESORIES_1_001</td>\n",
       "      <td>ACCESORIES</td>\n",
       "      <td>ACCESORIES_1</td>\n",
       "      <td>South_End</td>\n",
       "      <td>BOS_1</td>\n",
       "      <td>Boston</td>\n",
       "      <td>d_5</td>\n",
       "      <td>20115</td>\n",
       "      <td>2011</td>\n",
       "      <td>NoEvent</td>\n",
       "      <td>5</td>\n",
       "      <td>Wednesday</td>\n",
       "      <td>0</td>\n",
       "    </tr>\n",
       "  </tbody>\n",
       "</table>\n",
       "</div>"
      ],
      "text/plain": [
       "                       id       date              item    category  \\\n",
       "0  ACCESORIES_1_001_BOS_1 2011-01-29  ACCESORIES_1_001  ACCESORIES   \n",
       "1  ACCESORIES_1_001_BOS_1 2011-01-30  ACCESORIES_1_001  ACCESORIES   \n",
       "2  ACCESORIES_1_001_BOS_1 2011-01-31  ACCESORIES_1_001  ACCESORIES   \n",
       "3  ACCESORIES_1_001_BOS_1 2011-02-01  ACCESORIES_1_001  ACCESORIES   \n",
       "4  ACCESORIES_1_001_BOS_1 2011-02-02  ACCESORIES_1_001  ACCESORIES   \n",
       "\n",
       "     department      store store_code  region    d  yearweek  year    event  \\\n",
       "0  ACCESORIES_1  South_End      BOS_1  Boston  d_1     20114  2011  NoEvent   \n",
       "1  ACCESORIES_1  South_End      BOS_1  Boston  d_2     20114  2011  NoEvent   \n",
       "2  ACCESORIES_1  South_End      BOS_1  Boston  d_3     20115  2011  NoEvent   \n",
       "3  ACCESORIES_1  South_End      BOS_1  Boston  d_4     20115  2011  NoEvent   \n",
       "4  ACCESORIES_1  South_End      BOS_1  Boston  d_5     20115  2011  NoEvent   \n",
       "\n",
       "   weekday_int    weekday  value_sales  \n",
       "0            1   Saturday            0  \n",
       "1            2     Sunday            0  \n",
       "2            3     Monday            0  \n",
       "3            4    Tuesday            0  \n",
       "4            5  Wednesday            0  "
      ]
     },
     "execution_count": 48,
     "metadata": {},
     "output_type": "execute_result"
    }
   ],
   "source": [
    "sales_goup.head()"
   ]
  },
  {
   "cell_type": "markdown",
   "id": "363ce867",
   "metadata": {},
   "source": [
    "# Merge entre DF Agrupado e DF Prices"
   ]
  },
  {
   "cell_type": "code",
   "execution_count": 50,
   "id": "f09e045f",
   "metadata": {},
   "outputs": [],
   "source": [
    "# concatena o novo dataframe agrupado com o dataframe prices para ter o valor da semana\n",
    "merged_sales_group_prices = pd.merge(sales_goup, df_prices, on=['item', 'category', 'store_code', 'yearweek'], how='outer')"
   ]
  },
  {
   "cell_type": "code",
   "execution_count": 54,
   "metadata": {},
   "outputs": [
    {
     "data": {
      "text/html": [
       "<div>\n",
       "<style scoped>\n",
       "    .dataframe tbody tr th:only-of-type {\n",
       "        vertical-align: middle;\n",
       "    }\n",
       "\n",
       "    .dataframe tbody tr th {\n",
       "        vertical-align: top;\n",
       "    }\n",
       "\n",
       "    .dataframe thead th {\n",
       "        text-align: right;\n",
       "    }\n",
       "</style>\n",
       "<table border=\"1\" class=\"dataframe\">\n",
       "  <thead>\n",
       "    <tr style=\"text-align: right;\">\n",
       "      <th></th>\n",
       "      <th>id</th>\n",
       "      <th>date</th>\n",
       "      <th>item</th>\n",
       "      <th>category</th>\n",
       "      <th>department</th>\n",
       "      <th>store</th>\n",
       "      <th>store_code</th>\n",
       "      <th>region</th>\n",
       "      <th>d</th>\n",
       "      <th>yearweek</th>\n",
       "      <th>year</th>\n",
       "      <th>event</th>\n",
       "      <th>weekday_int</th>\n",
       "      <th>weekday</th>\n",
       "      <th>value_sales</th>\n",
       "      <th>sell_price</th>\n",
       "    </tr>\n",
       "  </thead>\n",
       "  <tbody>\n",
       "    <tr>\n",
       "      <th>911</th>\n",
       "      <td>ACCESORIES_1_001_BOS_1</td>\n",
       "      <td>2013-07-26</td>\n",
       "      <td>ACCESORIES_1_001</td>\n",
       "      <td>ACCESORIES</td>\n",
       "      <td>ACCESORIES_1</td>\n",
       "      <td>South_End</td>\n",
       "      <td>BOS_1</td>\n",
       "      <td>Boston</td>\n",
       "      <td>d_910</td>\n",
       "      <td>4722</td>\n",
       "      <td>2013.0</td>\n",
       "      <td>NoEvent</td>\n",
       "      <td>7.0</td>\n",
       "      <td>Friday</td>\n",
       "      <td>3.0</td>\n",
       "      <td>10.9858</td>\n",
       "    </tr>\n",
       "    <tr>\n",
       "      <th>10476</th>\n",
       "      <td>ACCESORIES_1_001_NYC_3</td>\n",
       "      <td>2013-07-26</td>\n",
       "      <td>ACCESORIES_1_001</td>\n",
       "      <td>ACCESORIES</td>\n",
       "      <td>ACCESORIES_1</td>\n",
       "      <td>Tribeca</td>\n",
       "      <td>NYC_3</td>\n",
       "      <td>New York</td>\n",
       "      <td>d_910</td>\n",
       "      <td>4722</td>\n",
       "      <td>2013.0</td>\n",
       "      <td>NoEvent</td>\n",
       "      <td>7.0</td>\n",
       "      <td>Friday</td>\n",
       "      <td>2.0</td>\n",
       "      <td>10.9858</td>\n",
       "    </tr>\n",
       "  </tbody>\n",
       "</table>\n",
       "</div>"
      ],
      "text/plain": [
       "                           id       date              item    category  \\\n",
       "911    ACCESORIES_1_001_BOS_1 2013-07-26  ACCESORIES_1_001  ACCESORIES   \n",
       "10476  ACCESORIES_1_001_NYC_3 2013-07-26  ACCESORIES_1_001  ACCESORIES   \n",
       "\n",
       "         department      store store_code    region      d  yearweek    year  \\\n",
       "911    ACCESORIES_1  South_End      BOS_1    Boston  d_910      4722  2013.0   \n",
       "10476  ACCESORIES_1    Tribeca      NYC_3  New York  d_910      4722  2013.0   \n",
       "\n",
       "         event  weekday_int weekday  value_sales  sell_price  \n",
       "911    NoEvent          7.0  Friday          3.0     10.9858  \n",
       "10476  NoEvent          7.0  Friday          2.0     10.9858  "
      ]
     },
     "execution_count": 54,
     "metadata": {},
     "output_type": "execute_result"
    }
   ],
   "source": [
    "merged_sales_group_prices.query(\"item=='ACCESORIES_1_001' and value_sales > 0 and d=='d_910' \").head(30)"
   ]
  },
  {
   "cell_type": "code",
   "execution_count": 52,
   "id": "efa7738e",
   "metadata": {},
   "outputs": [
    {
     "data": {
      "text/html": [
       "<div>\n",
       "<style scoped>\n",
       "    .dataframe tbody tr th:only-of-type {\n",
       "        vertical-align: middle;\n",
       "    }\n",
       "\n",
       "    .dataframe tbody tr th {\n",
       "        vertical-align: top;\n",
       "    }\n",
       "\n",
       "    .dataframe thead th {\n",
       "        text-align: right;\n",
       "    }\n",
       "</style>\n",
       "<table border=\"1\" class=\"dataframe\">\n",
       "  <thead>\n",
       "    <tr style=\"text-align: right;\">\n",
       "      <th></th>\n",
       "      <th>id</th>\n",
       "      <th>date</th>\n",
       "      <th>item</th>\n",
       "      <th>category</th>\n",
       "      <th>department</th>\n",
       "      <th>store</th>\n",
       "      <th>store_code</th>\n",
       "      <th>region</th>\n",
       "      <th>d</th>\n",
       "      <th>yearweek</th>\n",
       "      <th>year</th>\n",
       "      <th>event</th>\n",
       "      <th>weekday_int</th>\n",
       "      <th>weekday</th>\n",
       "      <th>value_sales</th>\n",
       "      <th>sell_price</th>\n",
       "    </tr>\n",
       "  </thead>\n",
       "  <tbody>\n",
       "    <tr>\n",
       "      <th>901</th>\n",
       "      <td>ACCESORIES_1_001_BOS_1</td>\n",
       "      <td>2013-07-16</td>\n",
       "      <td>ACCESORIES_1_001</td>\n",
       "      <td>ACCESORIES</td>\n",
       "      <td>ACCESORIES_1</td>\n",
       "      <td>South_End</td>\n",
       "      <td>BOS_1</td>\n",
       "      <td>Boston</td>\n",
       "      <td>d_900</td>\n",
       "      <td>4721</td>\n",
       "      <td>2013.0</td>\n",
       "      <td>NoEvent</td>\n",
       "      <td>4.0</td>\n",
       "      <td>Tuesday</td>\n",
       "      <td>1.0</td>\n",
       "      <td>10.9858</td>\n",
       "    </tr>\n",
       "    <tr>\n",
       "      <th>902</th>\n",
       "      <td>ACCESORIES_1_001_BOS_1</td>\n",
       "      <td>2013-07-17</td>\n",
       "      <td>ACCESORIES_1_001</td>\n",
       "      <td>ACCESORIES</td>\n",
       "      <td>ACCESORIES_1</td>\n",
       "      <td>South_End</td>\n",
       "      <td>BOS_1</td>\n",
       "      <td>Boston</td>\n",
       "      <td>d_901</td>\n",
       "      <td>4721</td>\n",
       "      <td>2013.0</td>\n",
       "      <td>NoEvent</td>\n",
       "      <td>5.0</td>\n",
       "      <td>Wednesday</td>\n",
       "      <td>3.0</td>\n",
       "      <td>10.9858</td>\n",
       "    </tr>\n",
       "    <tr>\n",
       "      <th>911</th>\n",
       "      <td>ACCESORIES_1_001_BOS_1</td>\n",
       "      <td>2013-07-26</td>\n",
       "      <td>ACCESORIES_1_001</td>\n",
       "      <td>ACCESORIES</td>\n",
       "      <td>ACCESORIES_1</td>\n",
       "      <td>South_End</td>\n",
       "      <td>BOS_1</td>\n",
       "      <td>Boston</td>\n",
       "      <td>d_910</td>\n",
       "      <td>4722</td>\n",
       "      <td>2013.0</td>\n",
       "      <td>NoEvent</td>\n",
       "      <td>7.0</td>\n",
       "      <td>Friday</td>\n",
       "      <td>3.0</td>\n",
       "      <td>10.9858</td>\n",
       "    </tr>\n",
       "    <tr>\n",
       "      <th>912</th>\n",
       "      <td>ACCESORIES_1_001_BOS_1</td>\n",
       "      <td>2013-07-27</td>\n",
       "      <td>ACCESORIES_1_001</td>\n",
       "      <td>ACCESORIES</td>\n",
       "      <td>ACCESORIES_1</td>\n",
       "      <td>South_End</td>\n",
       "      <td>BOS_1</td>\n",
       "      <td>Boston</td>\n",
       "      <td>d_911</td>\n",
       "      <td>4722</td>\n",
       "      <td>2013.0</td>\n",
       "      <td>NoEvent</td>\n",
       "      <td>1.0</td>\n",
       "      <td>Saturday</td>\n",
       "      <td>1.0</td>\n",
       "      <td>10.9858</td>\n",
       "    </tr>\n",
       "    <tr>\n",
       "      <th>914</th>\n",
       "      <td>ACCESORIES_1_001_BOS_1</td>\n",
       "      <td>2013-07-29</td>\n",
       "      <td>ACCESORIES_1_001</td>\n",
       "      <td>ACCESORIES</td>\n",
       "      <td>ACCESORIES_1</td>\n",
       "      <td>South_End</td>\n",
       "      <td>BOS_1</td>\n",
       "      <td>Boston</td>\n",
       "      <td>d_913</td>\n",
       "      <td>4723</td>\n",
       "      <td>2013.0</td>\n",
       "      <td>NoEvent</td>\n",
       "      <td>3.0</td>\n",
       "      <td>Monday</td>\n",
       "      <td>2.0</td>\n",
       "      <td>10.9858</td>\n",
       "    </tr>\n",
       "  </tbody>\n",
       "</table>\n",
       "</div>"
      ],
      "text/plain": [
       "                         id       date              item    category  \\\n",
       "901  ACCESORIES_1_001_BOS_1 2013-07-16  ACCESORIES_1_001  ACCESORIES   \n",
       "902  ACCESORIES_1_001_BOS_1 2013-07-17  ACCESORIES_1_001  ACCESORIES   \n",
       "911  ACCESORIES_1_001_BOS_1 2013-07-26  ACCESORIES_1_001  ACCESORIES   \n",
       "912  ACCESORIES_1_001_BOS_1 2013-07-27  ACCESORIES_1_001  ACCESORIES   \n",
       "914  ACCESORIES_1_001_BOS_1 2013-07-29  ACCESORIES_1_001  ACCESORIES   \n",
       "\n",
       "       department      store store_code  region      d  yearweek    year  \\\n",
       "901  ACCESORIES_1  South_End      BOS_1  Boston  d_900      4721  2013.0   \n",
       "902  ACCESORIES_1  South_End      BOS_1  Boston  d_901      4721  2013.0   \n",
       "911  ACCESORIES_1  South_End      BOS_1  Boston  d_910      4722  2013.0   \n",
       "912  ACCESORIES_1  South_End      BOS_1  Boston  d_911      4722  2013.0   \n",
       "914  ACCESORIES_1  South_End      BOS_1  Boston  d_913      4723  2013.0   \n",
       "\n",
       "       event  weekday_int    weekday  value_sales  sell_price  \n",
       "901  NoEvent          4.0    Tuesday          1.0     10.9858  \n",
       "902  NoEvent          5.0  Wednesday          3.0     10.9858  \n",
       "911  NoEvent          7.0     Friday          3.0     10.9858  \n",
       "912  NoEvent          1.0   Saturday          1.0     10.9858  \n",
       "914  NoEvent          3.0     Monday          2.0     10.9858  "
      ]
     },
     "execution_count": 52,
     "metadata": {},
     "output_type": "execute_result"
    }
   ],
   "source": [
    "merged_sales_group_prices.query(\"~sell_price.isnull() and value_sales > 0\").head()"
   ]
  },
  {
   "cell_type": "markdown",
   "id": "b2d871db",
   "metadata": {},
   "source": [
    "# Dados em CSV"
   ]
  },
  {
   "cell_type": "code",
   "execution_count": 61,
   "id": "b0de364d",
   "metadata": {},
   "outputs": [],
   "source": [
    "# Converter merged_sales_group_prices em csv\n",
    "merged_sales_group_prices.to_csv(\"data/sales_prices_events_merge.csv\", index = False, sep=',', encoding='utf-8')\n",
    "\n",
    "# link acesso:\n",
    "# https://drive.google.com/file/d/1jM012v-vimMBqmdtfyUESEidl-nbw1f5/view?usp=sharing"
   ]
  },
  {
   "cell_type": "code",
   "execution_count": 68,
   "id": "1386f74e",
   "metadata": {},
   "outputs": [],
   "source": [
    "df_event.to_csv(\"data/daily_calendar_with_events_tratado.csv\", index = False, sep=',', encoding='utf-8')\n",
    "df_prices.to_csv(\"data/item_prices_tratato.csv\", index = False, sep=',', encoding='utf-8')\n",
    "df_sales.to_csv(\"data/item_sales_tratado.csv\", index = False, sep=',', encoding='utf-8')\n",
    "\n",
    "# link acesso:\n",
    "# https://drive.google.com/file/d/11SIhP6RN8SNvGlWlGuc1CCR22tik0YDd/view?usp=sharing"
   ]
  }
 ],
 "metadata": {
  "kernelspec": {
   "display_name": "env",
   "language": "python",
   "name": "env"
  },
  "language_info": {
   "codemirror_mode": {
    "name": "ipython",
    "version": 3
   },
   "file_extension": ".py",
   "mimetype": "text/x-python",
   "name": "python",
   "nbconvert_exporter": "python",
   "pygments_lexer": "ipython3",
   "version": "3.9.13"
  }
 },
 "nbformat": 4,
 "nbformat_minor": 5
}
