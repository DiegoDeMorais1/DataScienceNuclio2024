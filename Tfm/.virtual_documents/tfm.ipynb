


#pip install ipywidgets
#!Pip install ydata_profiling
#!conda install -c conda-forge ipywidgets


%pip install -q ipywidgets


import ipywidgets


import pandas as pd
import numpy as np
import matplotlib.pyplot as plt
import seaborn as sns
import math
from ydata_profiling import ProfileReport
import datetime

%matplotlib inline
pd.set_option('display.max_columns', None)


df1 = pd.read_csv("data/daily_calendar_with_events.csv")


# daily_calendar_with_events.csv

df1.head()


df1['date'] = pd.to_datetime(df1.date)
df1.set_index('date', inplace=True)


df1.head(1)


df1.info()


# Substituir linhas com valores NaN por 'Normalday'

df1.fillna('Normalday', inplace=True)


df1.head()


df1.shape


df1['event'].value_counts()


#selecionar automaticamente variáveis numericas
df_num = df1._get_numeric_data()


df_num.head(1)


# função para criar boxplots de todas as variáveis de uma dada dataframe
def plot_box_plots(df1, fig_size = (12, 20)):
    """
    df: dataframe with only numerical variables
    fig_size: size of each sub plot
    output: box plots of each variable
    """
    
    #create structure
    fig, axes = plt.subplots(math.ceil(len(df1.columns) / 3), 3, figsize = fig_size)

    #iteration by column
    for i, ax in enumerate(fig.axes):
        if i < len(df1.columns):
            sns.boxplot(x=df1.columns[i], data=df1, ax=ax)
    
    # choose when hide figure
    if round((len(df1.columns) / 3) % 1, 2) == 0.33:
        axes.flat[-2].set_visible(False)
        axes.flat[-1].set_visible(False)
    elif round((len(df.columns) / 3) % 1, 2) == 0.67:
        axes.flat[-1].set_visible(False)
    else:
        pass
    
    fig.tight_layout()


plot_box_plots(df_num, (20, 4))


# Dados em falta

df1.isnull().sum()





profile = ProfileReport(df1, title="Pandas Profiling Report")



profile.to_file("daily_calendar_with_events.html")
profile


# Dataset item_prices.csv

df2 = pd.read_csv("data/item_prices.csv")

df2.info()
df2.head()





# Drop da coluna 'yearweek' 
# df2.drop('yearweek', axis=1, inplace=True)


# Dados em falta

df2.isnull().sum()


# Eliminar linhas duplicadas

df2 = df2.drop_duplicates()


# Eliminar linhas com NANs

df2 = df2.dropna()


df2.isnull().sum()


df2. info()


profile = ProfileReport(df2, title="Pandas Profiling Report")


profile.to_file("item_prices.html")
profile


# DataSet item_sales.csv

df3 = pd.read_csv("data/item_sales.csv")

df3.head()


df3.shape


df3.info()


plt.figure(figsize=(10, 4), dpi=80)
sns.histplot(data=df3, x="region", shrink=.8, stat='percent')
plt.title("Gráfico de barras - region")
plt.show()


plt.figure(figsize=(15, 4), dpi=80)
sns.histplot(data=df3, x="department", shrink=.8, stat='percent')
plt.title("Gráfico de barras - department")
plt.show()


df3.describe()


df3.describe(include=[object])


df3['region'].value_counts()


df3['department'].value_counts()


df3['store'].value_counts()


df3['category'].value_counts()


# para excluir todas as colunas numéricas de uma vez
df3_sem_numericas = df3.select_dtypes(exclude=['number'])
df3_sem_numericas



df3_sem_numericas.shape


profile = ProfileReport(df3_sem_numericas, title="Pandas Profiling Report")


profile.to_file("item_sales.html")
profile



