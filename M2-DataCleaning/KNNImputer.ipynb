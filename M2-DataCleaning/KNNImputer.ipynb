{
 "cells": [
  {
   "cell_type": "code",
   "execution_count": 2,
   "id": "a1ba67a2-c977-451d-ad9b-1361c9d1b42a",
   "metadata": {},
   "outputs": [
    {
     "name": "stdout",
     "output_type": "stream",
     "text": [
      "   coluna_com_nulos\n",
      "0               1.0\n",
      "1               2.0\n",
      "2               5.0\n",
      "3               4.0\n",
      "4               5.0\n",
      "5               6.0\n",
      "6               5.0\n",
      "7               8.0\n",
      "8               9.0\n"
     ]
    }
   ],
   "source": [
    "import pandas as pd\n",
    "import numpy as np\n",
    "from sklearn.impute import KNNImputer\n",
    "\n",
    "# Criar um DataFrame de exemplo com valores nulos\n",
    "dados = {'coluna_com_nulos': [1, 2, np.nan, 4, 5, 6, np.nan, 8, 9]}\n",
    "df = pd.DataFrame(dados)\n",
    "\n",
    "# Instanciar o imputador KNN\n",
    "imputador_knn = KNNImputer(n_neighbors=2)\n",
    "\n",
    "# Realizar a imputação na coluna com valores nulos\n",
    "df['coluna_com_nulos'] = imputador_knn.fit_transform(df[['coluna_com_nulos']])\n",
    "\n",
    "# Exibir o DataFrame após a imputação\n",
    "print(df)\n"
   ]
  }
 ],
 "metadata": {
  "kernelspec": {
   "display_name": "env",
   "language": "python",
   "name": "env"
  },
  "language_info": {
   "codemirror_mode": {
    "name": "ipython",
    "version": 3
   },
   "file_extension": ".py",
   "mimetype": "text/x-python",
   "name": "python",
   "nbconvert_exporter": "python",
   "pygments_lexer": "ipython3",
   "version": "3.9.13"
  }
 },
 "nbformat": 4,
 "nbformat_minor": 5
}
