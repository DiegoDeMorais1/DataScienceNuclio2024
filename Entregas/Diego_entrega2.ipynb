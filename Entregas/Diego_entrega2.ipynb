{
 "cells": [
  {
   "cell_type": "markdown",
   "id": "f1f8094e-58e4-42d6-8bef-e953136ab535",
   "metadata": {},
   "source": [
    "Nome: Diego C. Morais - Entrega Núclio dia 23\n",
    "# 1. Eliminar nas duas bases as linhas com observações em falta em pelo menos uma dessas variáveis:"
   ]
  },
  {
   "cell_type": "code",
   "execution_count": 1,
   "id": "c63971bf-4bd9-4058-bdc4-bc0ae9a2af76",
   "metadata": {
    "tags": []
   },
   "outputs": [],
   "source": [
    "import pandas as pd\n",
    "import numpy as np\n",
    "\n",
    "pd.set_option('display.max_columns', None)"
   ]
  },
  {
   "cell_type": "code",
   "execution_count": 2,
   "id": "c600ea8b-566b-4428-b60d-fc83868bad61",
   "metadata": {},
   "outputs": [],
   "source": [
    "df1 = pd.read_csv(\"data/new_df1.csv\")\n",
    "df2 = pd.read_csv(\"data/new_df2.csv\")"
   ]
  },
  {
   "cell_type": "code",
   "execution_count": 3,
   "id": "daa7ebf8-0d0a-455f-8b97-dc3838fad468",
   "metadata": {
    "collapsed": true,
    "jupyter": {
     "outputs_hidden": true
    },
    "tags": []
   },
   "outputs": [
    {
     "name": "stdout",
     "output_type": "stream",
     "text": [
      "<class 'pandas.core.frame.DataFrame'>\n",
      "RangeIndex: 104069 entries, 0 to 104068\n",
      "Data columns (total 27 columns):\n",
      " #   Column                  Non-Null Count   Dtype  \n",
      "---  ------                  --------------   -----  \n",
      " 0   gender                  104069 non-null  object \n",
      " 1   approv_in_adv           104069 non-null  object \n",
      " 2   loan_type               104069 non-null  object \n",
      " 3   loan_purpose            104069 non-null  object \n",
      " 4   business_or_commercial  104069 non-null  object \n",
      " 5   loan_amount             104069 non-null  int64  \n",
      " 6   rate_of_interest        104069 non-null  float64\n",
      " 7   upfront_charges         104069 non-null  float64\n",
      " 8   term                    104042 non-null  float64\n",
      " 9   property_value          104069 non-null  float64\n",
      " 10  construction_type       104069 non-null  object \n",
      " 11  income                  104069 non-null  float64\n",
      " 12  credit_type             104069 non-null  object \n",
      " 13  credit_score            104069 non-null  int64  \n",
      " 14  age                     104069 non-null  object \n",
      " 15  ltv                     104069 non-null  float64\n",
      " 16  region                  104069 non-null  object \n",
      " 17  status                  104069 non-null  int64  \n",
      " 18  outlier_income          104069 non-null  int64  \n",
      " 19  miss_rate_of_interest   104069 non-null  int64  \n",
      " 20  miss_upfront_charges    104069 non-null  int64  \n",
      " 21  miss_property_value     104069 non-null  int64  \n",
      " 22  miss_income             104069 non-null  int64  \n",
      " 23  miss_ltv                104069 non-null  int64  \n",
      " 24  miss_approv_in_adv      104069 non-null  int64  \n",
      " 25  miss_loan_purpose       104069 non-null  int64  \n",
      " 26  miss_age                104069 non-null  int64  \n",
      "dtypes: float64(6), int64(12), object(9)\n",
      "memory usage: 21.4+ MB\n"
     ]
    }
   ],
   "source": [
    "df1.info()"
   ]
  },
  {
   "cell_type": "code",
   "execution_count": 4,
   "id": "4a4a88b4-d5a8-45aa-93c4-5ea0f10b3c90",
   "metadata": {
    "collapsed": true,
    "jupyter": {
     "outputs_hidden": true
    },
    "tags": []
   },
   "outputs": [
    {
     "name": "stdout",
     "output_type": "stream",
     "text": [
      "<class 'pandas.core.frame.DataFrame'>\n",
      "RangeIndex: 44601 entries, 0 to 44600\n",
      "Data columns (total 27 columns):\n",
      " #   Column                  Non-Null Count  Dtype  \n",
      "---  ------                  --------------  -----  \n",
      " 0   gender                  44601 non-null  object \n",
      " 1   approv_in_adv           44601 non-null  object \n",
      " 2   loan_type               44601 non-null  object \n",
      " 3   loan_purpose            44601 non-null  object \n",
      " 4   business_or_commercial  44601 non-null  object \n",
      " 5   loan_amount             44601 non-null  int64  \n",
      " 6   rate_of_interest        44601 non-null  float64\n",
      " 7   upfront_charges         44601 non-null  float64\n",
      " 8   term                    44587 non-null  float64\n",
      " 9   property_value          44601 non-null  float64\n",
      " 10  construction_type       44601 non-null  object \n",
      " 11  income                  44601 non-null  float64\n",
      " 12  credit_type             44601 non-null  object \n",
      " 13  credit_score            44601 non-null  int64  \n",
      " 14  age                     44601 non-null  object \n",
      " 15  ltv                     44601 non-null  float64\n",
      " 16  region                  44601 non-null  object \n",
      " 17  status                  44601 non-null  int64  \n",
      " 18  outlier_income          44601 non-null  int64  \n",
      " 19  miss_rate_of_interest   44601 non-null  int64  \n",
      " 20  miss_upfront_charges    44601 non-null  int64  \n",
      " 21  miss_property_value     44601 non-null  int64  \n",
      " 22  miss_income             44601 non-null  int64  \n",
      " 23  miss_ltv                44601 non-null  int64  \n",
      " 24  miss_approv_in_adv      44601 non-null  int64  \n",
      " 25  miss_loan_purpose       44601 non-null  int64  \n",
      " 26  miss_age                44601 non-null  int64  \n",
      "dtypes: float64(6), int64(12), object(9)\n",
      "memory usage: 9.2+ MB\n"
     ]
    }
   ],
   "source": [
    "df2.info()"
   ]
  },
  {
   "cell_type": "code",
   "execution_count": 5,
   "id": "aa7d3f06-1233-49a5-b28b-eba17e6b8ddd",
   "metadata": {
    "tags": []
   },
   "outputs": [
    {
     "data": {
      "text/html": [
       "<div>\n",
       "<style scoped>\n",
       "    .dataframe tbody tr th:only-of-type {\n",
       "        vertical-align: middle;\n",
       "    }\n",
       "\n",
       "    .dataframe tbody tr th {\n",
       "        vertical-align: top;\n",
       "    }\n",
       "\n",
       "    .dataframe thead th {\n",
       "        text-align: right;\n",
       "    }\n",
       "</style>\n",
       "<table border=\"1\" class=\"dataframe\">\n",
       "  <thead>\n",
       "    <tr style=\"text-align: right;\">\n",
       "      <th></th>\n",
       "      <th>gender</th>\n",
       "      <th>approv_in_adv</th>\n",
       "      <th>loan_type</th>\n",
       "      <th>loan_purpose</th>\n",
       "      <th>business_or_commercial</th>\n",
       "      <th>loan_amount</th>\n",
       "      <th>rate_of_interest</th>\n",
       "      <th>upfront_charges</th>\n",
       "      <th>term</th>\n",
       "      <th>property_value</th>\n",
       "      <th>construction_type</th>\n",
       "      <th>income</th>\n",
       "      <th>credit_type</th>\n",
       "      <th>credit_score</th>\n",
       "      <th>age</th>\n",
       "      <th>ltv</th>\n",
       "      <th>region</th>\n",
       "      <th>status</th>\n",
       "      <th>outlier_income</th>\n",
       "      <th>miss_rate_of_interest</th>\n",
       "      <th>miss_upfront_charges</th>\n",
       "      <th>miss_property_value</th>\n",
       "      <th>miss_income</th>\n",
       "      <th>miss_ltv</th>\n",
       "      <th>miss_approv_in_adv</th>\n",
       "      <th>miss_loan_purpose</th>\n",
       "      <th>miss_age</th>\n",
       "    </tr>\n",
       "  </thead>\n",
       "  <tbody>\n",
       "    <tr>\n",
       "      <th>0</th>\n",
       "      <td>Sex Not Available</td>\n",
       "      <td>nopre</td>\n",
       "      <td>type1</td>\n",
       "      <td>p4</td>\n",
       "      <td>nob/c</td>\n",
       "      <td>216500</td>\n",
       "      <td>2.990</td>\n",
       "      <td>5548.89</td>\n",
       "      <td>180.0</td>\n",
       "      <td>308000.0</td>\n",
       "      <td>sb</td>\n",
       "      <td>4440.0</td>\n",
       "      <td>CRIF</td>\n",
       "      <td>768</td>\n",
       "      <td>25-34</td>\n",
       "      <td>70.292208</td>\n",
       "      <td>south</td>\n",
       "      <td>0</td>\n",
       "      <td>0</td>\n",
       "      <td>0</td>\n",
       "      <td>0</td>\n",
       "      <td>0</td>\n",
       "      <td>0</td>\n",
       "      <td>0</td>\n",
       "      <td>0</td>\n",
       "      <td>0</td>\n",
       "      <td>0</td>\n",
       "    </tr>\n",
       "    <tr>\n",
       "      <th>1</th>\n",
       "      <td>Joint</td>\n",
       "      <td>nopre</td>\n",
       "      <td>type1</td>\n",
       "      <td>p3</td>\n",
       "      <td>nob/c</td>\n",
       "      <td>246500</td>\n",
       "      <td>4.125</td>\n",
       "      <td>2465.00</td>\n",
       "      <td>240.0</td>\n",
       "      <td>478000.0</td>\n",
       "      <td>sb</td>\n",
       "      <td>7680.0</td>\n",
       "      <td>CRIF</td>\n",
       "      <td>620</td>\n",
       "      <td>35-44</td>\n",
       "      <td>51.569038</td>\n",
       "      <td>North</td>\n",
       "      <td>0</td>\n",
       "      <td>0</td>\n",
       "      <td>0</td>\n",
       "      <td>0</td>\n",
       "      <td>0</td>\n",
       "      <td>0</td>\n",
       "      <td>0</td>\n",
       "      <td>0</td>\n",
       "      <td>0</td>\n",
       "      <td>0</td>\n",
       "    </tr>\n",
       "    <tr>\n",
       "      <th>2</th>\n",
       "      <td>Joint</td>\n",
       "      <td>nopre</td>\n",
       "      <td>type1</td>\n",
       "      <td>p4</td>\n",
       "      <td>nob/c</td>\n",
       "      <td>326500</td>\n",
       "      <td>2.875</td>\n",
       "      <td>4728.00</td>\n",
       "      <td>180.0</td>\n",
       "      <td>508000.0</td>\n",
       "      <td>sb</td>\n",
       "      <td>18120.0</td>\n",
       "      <td>EXP</td>\n",
       "      <td>585</td>\n",
       "      <td>35-44</td>\n",
       "      <td>64.271654</td>\n",
       "      <td>North</td>\n",
       "      <td>0</td>\n",
       "      <td>0</td>\n",
       "      <td>0</td>\n",
       "      <td>0</td>\n",
       "      <td>0</td>\n",
       "      <td>0</td>\n",
       "      <td>0</td>\n",
       "      <td>0</td>\n",
       "      <td>0</td>\n",
       "      <td>0</td>\n",
       "    </tr>\n",
       "    <tr>\n",
       "      <th>3</th>\n",
       "      <td>Joint</td>\n",
       "      <td>nopre</td>\n",
       "      <td>type1</td>\n",
       "      <td>p3</td>\n",
       "      <td>nob/c</td>\n",
       "      <td>186500</td>\n",
       "      <td>3.990</td>\n",
       "      <td>2588.24</td>\n",
       "      <td>360.0</td>\n",
       "      <td>518000.0</td>\n",
       "      <td>sb</td>\n",
       "      <td>10380.0</td>\n",
       "      <td>CIB</td>\n",
       "      <td>788</td>\n",
       "      <td>55-64</td>\n",
       "      <td>36.003861</td>\n",
       "      <td>North</td>\n",
       "      <td>1</td>\n",
       "      <td>0</td>\n",
       "      <td>1</td>\n",
       "      <td>1</td>\n",
       "      <td>0</td>\n",
       "      <td>0</td>\n",
       "      <td>0</td>\n",
       "      <td>0</td>\n",
       "      <td>0</td>\n",
       "      <td>0</td>\n",
       "    </tr>\n",
       "    <tr>\n",
       "      <th>4</th>\n",
       "      <td>Joint</td>\n",
       "      <td>nopre</td>\n",
       "      <td>type1</td>\n",
       "      <td>p3</td>\n",
       "      <td>nob/c</td>\n",
       "      <td>156500</td>\n",
       "      <td>4.250</td>\n",
       "      <td>4107.50</td>\n",
       "      <td>360.0</td>\n",
       "      <td>318000.0</td>\n",
       "      <td>sb</td>\n",
       "      <td>3060.0</td>\n",
       "      <td>CRIF</td>\n",
       "      <td>751</td>\n",
       "      <td>65-74</td>\n",
       "      <td>49.213836</td>\n",
       "      <td>North</td>\n",
       "      <td>0</td>\n",
       "      <td>0</td>\n",
       "      <td>0</td>\n",
       "      <td>0</td>\n",
       "      <td>0</td>\n",
       "      <td>0</td>\n",
       "      <td>0</td>\n",
       "      <td>0</td>\n",
       "      <td>0</td>\n",
       "      <td>0</td>\n",
       "    </tr>\n",
       "  </tbody>\n",
       "</table>\n",
       "</div>"
      ],
      "text/plain": [
       "              gender approv_in_adv loan_type loan_purpose  \\\n",
       "0  Sex Not Available         nopre     type1           p4   \n",
       "1              Joint         nopre     type1           p3   \n",
       "2              Joint         nopre     type1           p4   \n",
       "3              Joint         nopre     type1           p3   \n",
       "4              Joint         nopre     type1           p3   \n",
       "\n",
       "  business_or_commercial  loan_amount  rate_of_interest  upfront_charges  \\\n",
       "0                  nob/c       216500             2.990          5548.89   \n",
       "1                  nob/c       246500             4.125          2465.00   \n",
       "2                  nob/c       326500             2.875          4728.00   \n",
       "3                  nob/c       186500             3.990          2588.24   \n",
       "4                  nob/c       156500             4.250          4107.50   \n",
       "\n",
       "    term  property_value construction_type   income credit_type  credit_score  \\\n",
       "0  180.0        308000.0                sb   4440.0        CRIF           768   \n",
       "1  240.0        478000.0                sb   7680.0        CRIF           620   \n",
       "2  180.0        508000.0                sb  18120.0         EXP           585   \n",
       "3  360.0        518000.0                sb  10380.0         CIB           788   \n",
       "4  360.0        318000.0                sb   3060.0        CRIF           751   \n",
       "\n",
       "     age        ltv region  status  outlier_income  miss_rate_of_interest  \\\n",
       "0  25-34  70.292208  south       0               0                      0   \n",
       "1  35-44  51.569038  North       0               0                      0   \n",
       "2  35-44  64.271654  North       0               0                      0   \n",
       "3  55-64  36.003861  North       1               0                      1   \n",
       "4  65-74  49.213836  North       0               0                      0   \n",
       "\n",
       "   miss_upfront_charges  miss_property_value  miss_income  miss_ltv  \\\n",
       "0                     0                    0            0         0   \n",
       "1                     0                    0            0         0   \n",
       "2                     0                    0            0         0   \n",
       "3                     1                    0            0         0   \n",
       "4                     0                    0            0         0   \n",
       "\n",
       "   miss_approv_in_adv  miss_loan_purpose  miss_age  \n",
       "0                   0                  0         0  \n",
       "1                   0                  0         0  \n",
       "2                   0                  0         0  \n",
       "3                   0                  0         0  \n",
       "4                   0                  0         0  "
      ]
     },
     "execution_count": 5,
     "metadata": {},
     "output_type": "execute_result"
    }
   ],
   "source": [
    "#dimensão do dataset: (nr linhas, nr colunas)\n",
    "df1.head()"
   ]
  },
  {
   "cell_type": "code",
   "execution_count": 6,
   "id": "01524c35-17f9-4722-9620-9eceea55ebbe",
   "metadata": {
    "collapsed": true,
    "jupyter": {
     "outputs_hidden": true
    },
    "tags": []
   },
   "outputs": [
    {
     "data": {
      "text/plain": [
       "(104069, 27)"
      ]
     },
     "execution_count": 6,
     "metadata": {},
     "output_type": "execute_result"
    }
   ],
   "source": [
    "df1.shape"
   ]
  },
  {
   "cell_type": "code",
   "execution_count": 7,
   "id": "47c31848-a00c-4aaf-a774-69a684e07605",
   "metadata": {
    "collapsed": true,
    "jupyter": {
     "outputs_hidden": true
    },
    "tags": []
   },
   "outputs": [
    {
     "data": {
      "text/plain": [
       "gender                     0\n",
       "approv_in_adv              0\n",
       "loan_type                  0\n",
       "loan_purpose               0\n",
       "business_or_commercial     0\n",
       "loan_amount                0\n",
       "rate_of_interest           0\n",
       "upfront_charges            0\n",
       "term                      27\n",
       "property_value             0\n",
       "construction_type          0\n",
       "income                     0\n",
       "credit_type                0\n",
       "credit_score               0\n",
       "age                        0\n",
       "ltv                        0\n",
       "region                     0\n",
       "status                     0\n",
       "outlier_income             0\n",
       "miss_rate_of_interest      0\n",
       "miss_upfront_charges       0\n",
       "miss_property_value        0\n",
       "miss_income                0\n",
       "miss_ltv                   0\n",
       "miss_approv_in_adv         0\n",
       "miss_loan_purpose          0\n",
       "miss_age                   0\n",
       "dtype: int64"
      ]
     },
     "execution_count": 7,
     "metadata": {},
     "output_type": "execute_result"
    }
   ],
   "source": [
    "df1.isnull().sum()"
   ]
  },
  {
   "cell_type": "code",
   "execution_count": 8,
   "id": "b5923a66-9953-46b4-9f23-3b872aaa22d5",
   "metadata": {},
   "outputs": [],
   "source": [
    "df1.dropna(inplace=True)"
   ]
  },
  {
   "cell_type": "code",
   "execution_count": 9,
   "id": "91b5d371-5efa-4638-98b7-d53a29d51ed7",
   "metadata": {
    "collapsed": true,
    "jupyter": {
     "outputs_hidden": true
    },
    "tags": []
   },
   "outputs": [
    {
     "data": {
      "text/plain": [
       "gender                    0\n",
       "approv_in_adv             0\n",
       "loan_type                 0\n",
       "loan_purpose              0\n",
       "business_or_commercial    0\n",
       "loan_amount               0\n",
       "rate_of_interest          0\n",
       "upfront_charges           0\n",
       "term                      0\n",
       "property_value            0\n",
       "construction_type         0\n",
       "income                    0\n",
       "credit_type               0\n",
       "credit_score              0\n",
       "age                       0\n",
       "ltv                       0\n",
       "region                    0\n",
       "status                    0\n",
       "outlier_income            0\n",
       "miss_rate_of_interest     0\n",
       "miss_upfront_charges      0\n",
       "miss_property_value       0\n",
       "miss_income               0\n",
       "miss_ltv                  0\n",
       "miss_approv_in_adv        0\n",
       "miss_loan_purpose         0\n",
       "miss_age                  0\n",
       "dtype: int64"
      ]
     },
     "execution_count": 9,
     "metadata": {},
     "output_type": "execute_result"
    }
   ],
   "source": [
    "df1.isnull().sum()"
   ]
  },
  {
   "cell_type": "code",
   "execution_count": 10,
   "id": "a181fb29-ba08-4e7d-8296-dbfd1449b91d",
   "metadata": {
    "tags": []
   },
   "outputs": [
    {
     "data": {
      "text/plain": [
       "(104042, 27)"
      ]
     },
     "execution_count": 10,
     "metadata": {},
     "output_type": "execute_result"
    }
   ],
   "source": [
    "df1.shape"
   ]
  },
  {
   "cell_type": "code",
   "execution_count": 11,
   "id": "a6436b6e-0f20-4d44-83b9-bbc0726224ff",
   "metadata": {},
   "outputs": [
    {
     "data": {
      "text/plain": [
       "(44601, 27)"
      ]
     },
     "execution_count": 11,
     "metadata": {},
     "output_type": "execute_result"
    }
   ],
   "source": [
    "df2.shape"
   ]
  },
  {
   "cell_type": "code",
   "execution_count": 12,
   "id": "071f4207-4a13-489d-84df-c6507841fb9a",
   "metadata": {
    "collapsed": true,
    "jupyter": {
     "outputs_hidden": true
    },
    "tags": []
   },
   "outputs": [
    {
     "data": {
      "text/plain": [
       "gender                     0\n",
       "approv_in_adv              0\n",
       "loan_type                  0\n",
       "loan_purpose               0\n",
       "business_or_commercial     0\n",
       "loan_amount                0\n",
       "rate_of_interest           0\n",
       "upfront_charges            0\n",
       "term                      14\n",
       "property_value             0\n",
       "construction_type          0\n",
       "income                     0\n",
       "credit_type                0\n",
       "credit_score               0\n",
       "age                        0\n",
       "ltv                        0\n",
       "region                     0\n",
       "status                     0\n",
       "outlier_income             0\n",
       "miss_rate_of_interest      0\n",
       "miss_upfront_charges       0\n",
       "miss_property_value        0\n",
       "miss_income                0\n",
       "miss_ltv                   0\n",
       "miss_approv_in_adv         0\n",
       "miss_loan_purpose          0\n",
       "miss_age                   0\n",
       "dtype: int64"
      ]
     },
     "execution_count": 12,
     "metadata": {},
     "output_type": "execute_result"
    }
   ],
   "source": [
    "df2.isnull().sum()"
   ]
  },
  {
   "cell_type": "code",
   "execution_count": 13,
   "id": "4f5b0610-ebff-42c6-a610-c38de98ff672",
   "metadata": {},
   "outputs": [],
   "source": [
    "df2.dropna(inplace=True)"
   ]
  },
  {
   "cell_type": "code",
   "execution_count": 14,
   "id": "7e633990-619c-4c19-b9c9-eee6caaf9896",
   "metadata": {
    "collapsed": true,
    "jupyter": {
     "outputs_hidden": true
    },
    "tags": []
   },
   "outputs": [
    {
     "data": {
      "text/plain": [
       "gender                    0\n",
       "approv_in_adv             0\n",
       "loan_type                 0\n",
       "loan_purpose              0\n",
       "business_or_commercial    0\n",
       "loan_amount               0\n",
       "rate_of_interest          0\n",
       "upfront_charges           0\n",
       "term                      0\n",
       "property_value            0\n",
       "construction_type         0\n",
       "income                    0\n",
       "credit_type               0\n",
       "credit_score              0\n",
       "age                       0\n",
       "ltv                       0\n",
       "region                    0\n",
       "status                    0\n",
       "outlier_income            0\n",
       "miss_rate_of_interest     0\n",
       "miss_upfront_charges      0\n",
       "miss_property_value       0\n",
       "miss_income               0\n",
       "miss_ltv                  0\n",
       "miss_approv_in_adv        0\n",
       "miss_loan_purpose         0\n",
       "miss_age                  0\n",
       "dtype: int64"
      ]
     },
     "execution_count": 14,
     "metadata": {},
     "output_type": "execute_result"
    }
   ],
   "source": [
    "df2.isnull().sum()"
   ]
  },
  {
   "cell_type": "code",
   "execution_count": 15,
   "id": "6f2814d8-d0aa-4c36-aecc-649fb079ad2e",
   "metadata": {},
   "outputs": [
    {
     "data": {
      "text/plain": [
       "(44587, 27)"
      ]
     },
     "execution_count": 15,
     "metadata": {},
     "output_type": "execute_result"
    }
   ],
   "source": [
    "df2.shape"
   ]
  },
  {
   "cell_type": "markdown",
   "id": "0de72016-8662-4d18-813c-7c9225052180",
   "metadata": {},
   "source": [
    "# 2.Eliminar 1 variável com dados em falta nas duas bases de dados"
   ]
  },
  {
   "cell_type": "code",
   "execution_count": 58,
   "id": "ef323cb1-ffba-4798-b98e-0a598ed97f86",
   "metadata": {},
   "outputs": [],
   "source": [
    "df1 = pd.read_csv(\"data/new_df1.csv\")\n",
    "df2 = pd.read_csv(\"data/new_df2.csv\")"
   ]
  },
  {
   "cell_type": "code",
   "execution_count": 60,
   "id": "9ed4cabf-e162-49dd-bfb4-d50c200e4fe3",
   "metadata": {
    "collapsed": true,
    "jupyter": {
     "outputs_hidden": true
    },
    "tags": []
   },
   "outputs": [
    {
     "data": {
      "text/plain": [
       "gender                     0\n",
       "approv_in_adv              0\n",
       "loan_type                  0\n",
       "loan_purpose               0\n",
       "business_or_commercial     0\n",
       "loan_amount                0\n",
       "rate_of_interest           0\n",
       "upfront_charges            0\n",
       "term                      27\n",
       "property_value             0\n",
       "construction_type          0\n",
       "income                     0\n",
       "credit_type                0\n",
       "credit_score               0\n",
       "age                        0\n",
       "ltv                        0\n",
       "region                     0\n",
       "status                     0\n",
       "outlier_income             0\n",
       "miss_rate_of_interest      0\n",
       "miss_upfront_charges       0\n",
       "miss_property_value        0\n",
       "miss_income                0\n",
       "miss_ltv                   0\n",
       "miss_approv_in_adv         0\n",
       "miss_loan_purpose          0\n",
       "miss_age                   0\n",
       "dtype: int64"
      ]
     },
     "execution_count": 60,
     "metadata": {},
     "output_type": "execute_result"
    }
   ],
   "source": [
    "df1.isnull().sum()"
   ]
  },
  {
   "cell_type": "code",
   "execution_count": 61,
   "id": "8743fbec-cc81-4ea1-a80d-78f53bef8b6f",
   "metadata": {},
   "outputs": [],
   "source": [
    "df1.drop(columns=[\"term\"], inplace=True)"
   ]
  },
  {
   "cell_type": "code",
   "execution_count": 62,
   "id": "8c5538dd-a65b-42d5-bf5f-73de25442ed6",
   "metadata": {},
   "outputs": [
    {
     "data": {
      "text/plain": [
       "(104069, 26)"
      ]
     },
     "execution_count": 62,
     "metadata": {},
     "output_type": "execute_result"
    }
   ],
   "source": [
    "df1.shape"
   ]
  },
  {
   "cell_type": "code",
   "execution_count": 63,
   "id": "ec25ec4a-a798-494c-9c16-1e611cd76f04",
   "metadata": {},
   "outputs": [],
   "source": [
    "df2.drop(columns=[\"term\"], inplace=True)"
   ]
  },
  {
   "cell_type": "code",
   "execution_count": 64,
   "id": "829d4e98-2113-44bc-b6d7-b5c080eab645",
   "metadata": {
    "tags": []
   },
   "outputs": [
    {
     "data": {
      "text/plain": [
       "(44601, 26)"
      ]
     },
     "execution_count": 64,
     "metadata": {},
     "output_type": "execute_result"
    }
   ],
   "source": [
    "df2.shape"
   ]
  },
  {
   "cell_type": "markdown",
   "id": "cba478c4-e8e5-4fbc-a7d2-4eab7ad23359",
   "metadata": {},
   "source": [
    "# 3. Preencher corretamente nas duas bases de dados os valores em falta com a média (para pelo menos 1 variável numérica): 5 pontos; e valor \"missing\" (para pelo menos 1 variável categoria)\n",
    "DF 1"
   ]
  },
  {
   "cell_type": "code",
   "execution_count": 22,
   "id": "d57192ce-914f-444a-91fb-6e8c31651bc4",
   "metadata": {},
   "outputs": [],
   "source": [
    "#selecionar automaticamente variáveis numericas\n",
    "df_num = df1._get_numeric_data()"
   ]
  },
  {
   "cell_type": "code",
   "execution_count": 23,
   "id": "7a367548-8871-4284-9e1e-8d129d5ca6dc",
   "metadata": {},
   "outputs": [],
   "source": [
    "import matplotlib.pyplot as plt\n",
    "%matplotlib inline\n",
    "import seaborn as sns\n",
    "import math"
   ]
  },
  {
   "cell_type": "code",
   "execution_count": 24,
   "id": "ca562267-a849-4f17-bdac-b563cc6e6f92",
   "metadata": {
    "tags": []
   },
   "outputs": [],
   "source": [
    "# função para criar boxplots de todas as variáveis de uma dada dataframe\n",
    "def plot_box_plots(df, fig_size = (12, 20)):\n",
    "    \"\"\"\n",
    "    df: dataframe with only numerical variables\n",
    "    fig_size: size of each sub plot\n",
    "    output: box plots of each variable\n",
    "    \"\"\"\n",
    "    \n",
    "    #create structure\n",
    "    fig, axes = plt.subplots(math.ceil(len(df.columns) / 3), 3, figsize = fig_size)\n",
    "\n",
    "    #iteration by column\n",
    "    for i, ax in enumerate(fig.axes):\n",
    "        if i < len(df.columns):\n",
    "            sns.boxplot(x=df.columns[i], data=df, ax=ax)\n",
    "    \n",
    "    # choose when hide figure\n",
    "    if round((len(df.columns) / 3) % 1, 2) == 0.33:\n",
    "        axes.flat[-2].set_visible(False)\n",
    "        axes.flat[-1].set_visible(False)\n",
    "    elif round((len(df.columns) / 3) % 1, 2) == 0.67:\n",
    "        axes.flat[-1].set_visible(False)\n",
    "    else:\n",
    "        pass\n",
    "    \n",
    "    fig.tight_layout()"
   ]
  },
  {
   "cell_type": "code",
   "execution_count": 25,
   "id": "5ba126ce-1bb7-424e-8191-91709d63b34c",
   "metadata": {
    "tags": []
   },
   "outputs": [
    {
     "data": {
      "image/png": "[encoded data removed]",
      "text/plain": [
       "<Figure size 1200x1000 with 18 Axes>"
      ]
     },
     "metadata": {},
     "output_type": "display_data"
    }
   ],
   "source": [
    "plot_box_plots(df_num, (12, 10))"
   ]
  },
  {
   "cell_type": "code",
   "execution_count": 26,
   "id": "9ec76d46-af87-47bb-b23b-e20c8f7e2d42",
   "metadata": {
    "collapsed": true,
    "jupyter": {
     "outputs_hidden": true
    },
    "tags": []
   },
   "outputs": [
    {
     "data": {
      "text/plain": [
       "gender                     0\n",
       "approv_in_adv              0\n",
       "loan_type                  0\n",
       "loan_purpose               0\n",
       "business_or_commercial     0\n",
       "loan_amount                0\n",
       "rate_of_interest           0\n",
       "upfront_charges            0\n",
       "term                      27\n",
       "property_value             0\n",
       "construction_type          0\n",
       "income                     0\n",
       "credit_type                0\n",
       "credit_score               0\n",
       "age                        0\n",
       "ltv                        0\n",
       "region                     0\n",
       "status                     0\n",
       "outlier_income             0\n",
       "miss_rate_of_interest      0\n",
       "miss_upfront_charges       0\n",
       "miss_property_value        0\n",
       "miss_income                0\n",
       "miss_ltv                   0\n",
       "miss_approv_in_adv         0\n",
       "miss_loan_purpose          0\n",
       "miss_age                   0\n",
       "dtype: int64"
      ]
     },
     "execution_count": 26,
     "metadata": {},
     "output_type": "execute_result"
    }
   ],
   "source": [
    "df1 = pd.read_csv(\"data/new_df1.csv\")\n",
    "soma_missings_por_coluna = df1.isnull().sum()\n",
    "soma_missings_por_coluna"
   ]
  },
  {
   "cell_type": "code",
   "execution_count": 27,
   "id": "35e3190d-7164-4c60-86b9-e6a6cdee79ce",
   "metadata": {
    "tags": []
   },
   "outputs": [
    {
     "data": {
      "text/plain": [
       "term    0.03\n",
       "dtype: float64"
      ]
     },
     "execution_count": 27,
     "metadata": {},
     "output_type": "execute_result"
    }
   ],
   "source": [
    "#resultados em percentagem\n",
    "tamanho_df1 = len(df1)\n",
    "round(soma_missings_por_coluna[soma_missings_por_coluna>0]/tamanho_df1*100,2)"
   ]
  },
  {
   "cell_type": "code",
   "execution_count": 28,
   "id": "9abea0fc-d63e-4d55-8b86-69f157a51d96",
   "metadata": {},
   "outputs": [
    {
     "data": {
      "text/plain": [
       "Index(['term'], dtype='object')"
      ]
     },
     "execution_count": 28,
     "metadata": {},
     "output_type": "execute_result"
    }
   ],
   "source": [
    "vars_com_missings = soma_missings_por_coluna[soma_missings_por_coluna>0].index\n",
    "vars_com_missings"
   ]
  },
  {
   "cell_type": "code",
   "execution_count": 29,
   "id": "61c6d540-bcb7-4891-b47f-b2bc8791eebb",
   "metadata": {
    "tags": []
   },
   "outputs": [
    {
     "data": {
      "text/plain": [
       "['term']"
      ]
     },
     "execution_count": 29,
     "metadata": {},
     "output_type": "execute_result"
    }
   ],
   "source": [
    "num_vars_com_missings = [el for el in vars_com_missings if el in df_num.columns]\n",
    "num_vars_com_missings"
   ]
  },
  {
   "cell_type": "code",
   "execution_count": 30,
   "id": "0dc03541-a6d3-477e-9fbf-6fd936c77207",
   "metadata": {},
   "outputs": [
    {
     "data": {
      "text/plain": [
       "{'term': 360.0}"
      ]
     },
     "execution_count": 30,
     "metadata": {},
     "output_type": "execute_result"
    }
   ],
   "source": [
    "# Encontrando a média\n",
    "missing_median = dict(df1[num_vars_com_missings].median())\n",
    "missing_median"
   ]
  },
  {
   "cell_type": "code",
   "execution_count": 31,
   "id": "0614e616-faf6-44a0-8f38-1e3b9ca5921e",
   "metadata": {},
   "outputs": [],
   "source": [
    "# Interando os valores\n",
    "for var in num_vars_com_missings:\n",
    "    df1['miss_' + var] = np.where(df1[var].isnull(), 1, 0)\n",
    "    df1[var].fillna(missing_median[var], inplace=True)"
   ]
  },
  {
   "cell_type": "code",
   "execution_count": 32,
   "id": "1ab75fb6-47f7-42aa-9c66-15ee264aa9b2",
   "metadata": {
    "collapsed": true,
    "jupyter": {
     "outputs_hidden": true
    },
    "tags": []
   },
   "outputs": [
    {
     "data": {
      "text/html": [
       "<div>\n",
       "<style scoped>\n",
       "    .dataframe tbody tr th:only-of-type {\n",
       "        vertical-align: middle;\n",
       "    }\n",
       "\n",
       "    .dataframe tbody tr th {\n",
       "        vertical-align: top;\n",
       "    }\n",
       "\n",
       "    .dataframe thead th {\n",
       "        text-align: right;\n",
       "    }\n",
       "</style>\n",
       "<table border=\"1\" class=\"dataframe\">\n",
       "  <thead>\n",
       "    <tr style=\"text-align: right;\">\n",
       "      <th></th>\n",
       "      <th>loan_amount</th>\n",
       "      <th>rate_of_interest</th>\n",
       "      <th>upfront_charges</th>\n",
       "      <th>term</th>\n",
       "      <th>property_value</th>\n",
       "      <th>income</th>\n",
       "      <th>credit_score</th>\n",
       "      <th>ltv</th>\n",
       "      <th>status</th>\n",
       "      <th>outlier_income</th>\n",
       "      <th>miss_rate_of_interest</th>\n",
       "      <th>miss_upfront_charges</th>\n",
       "      <th>miss_property_value</th>\n",
       "      <th>miss_income</th>\n",
       "      <th>miss_ltv</th>\n",
       "      <th>miss_approv_in_adv</th>\n",
       "      <th>miss_loan_purpose</th>\n",
       "      <th>miss_age</th>\n",
       "      <th>miss_term</th>\n",
       "    </tr>\n",
       "  </thead>\n",
       "  <tbody>\n",
       "    <tr>\n",
       "      <th>count</th>\n",
       "      <td>1.040690e+05</td>\n",
       "      <td>104069.000000</td>\n",
       "      <td>104069.000000</td>\n",
       "      <td>104069.00000</td>\n",
       "      <td>1.040690e+05</td>\n",
       "      <td>104069.000000</td>\n",
       "      <td>104069.000000</td>\n",
       "      <td>104069.000000</td>\n",
       "      <td>104069.000000</td>\n",
       "      <td>104069.000000</td>\n",
       "      <td>104069.000000</td>\n",
       "      <td>104069.000000</td>\n",
       "      <td>104069.000000</td>\n",
       "      <td>104069.000000</td>\n",
       "      <td>104069.000000</td>\n",
       "      <td>104069.000000</td>\n",
       "      <td>104069.000000</td>\n",
       "      <td>104069.000000</td>\n",
       "      <td>104069.000000</td>\n",
       "    </tr>\n",
       "    <tr>\n",
       "      <th>mean</th>\n",
       "      <td>3.309899e+05</td>\n",
       "      <td>4.032318</td>\n",
       "      <td>3051.089106</td>\n",
       "      <td>335.16391</td>\n",
       "      <td>4.892312e+05</td>\n",
       "      <td>6661.967733</td>\n",
       "      <td>699.660744</td>\n",
       "      <td>73.008923</td>\n",
       "      <td>0.246202</td>\n",
       "      <td>0.014269</td>\n",
       "      <td>0.244866</td>\n",
       "      <td>0.266775</td>\n",
       "      <td>0.101144</td>\n",
       "      <td>0.062276</td>\n",
       "      <td>0.101144</td>\n",
       "      <td>0.006265</td>\n",
       "      <td>0.000980</td>\n",
       "      <td>0.001336</td>\n",
       "      <td>0.000259</td>\n",
       "    </tr>\n",
       "    <tr>\n",
       "      <th>std</th>\n",
       "      <td>1.833324e+05</td>\n",
       "      <td>0.488960</td>\n",
       "      <td>2795.108953</td>\n",
       "      <td>58.34862</td>\n",
       "      <td>3.366160e+05</td>\n",
       "      <td>4189.370066</td>\n",
       "      <td>115.967424</td>\n",
       "      <td>36.543956</td>\n",
       "      <td>0.430800</td>\n",
       "      <td>0.118600</td>\n",
       "      <td>0.430010</td>\n",
       "      <td>0.442276</td>\n",
       "      <td>0.301521</td>\n",
       "      <td>0.241657</td>\n",
       "      <td>0.301521</td>\n",
       "      <td>0.078904</td>\n",
       "      <td>0.031292</td>\n",
       "      <td>0.036522</td>\n",
       "      <td>0.016105</td>\n",
       "    </tr>\n",
       "    <tr>\n",
       "      <th>min</th>\n",
       "      <td>1.650000e+04</td>\n",
       "      <td>0.000000</td>\n",
       "      <td>0.000000</td>\n",
       "      <td>96.00000</td>\n",
       "      <td>8.000000e+03</td>\n",
       "      <td>0.000000</td>\n",
       "      <td>500.000000</td>\n",
       "      <td>0.967478</td>\n",
       "      <td>0.000000</td>\n",
       "      <td>0.000000</td>\n",
       "      <td>0.000000</td>\n",
       "      <td>0.000000</td>\n",
       "      <td>0.000000</td>\n",
       "      <td>0.000000</td>\n",
       "      <td>0.000000</td>\n",
       "      <td>0.000000</td>\n",
       "      <td>0.000000</td>\n",
       "      <td>0.000000</td>\n",
       "      <td>0.000000</td>\n",
       "    </tr>\n",
       "    <tr>\n",
       "      <th>25%</th>\n",
       "      <td>1.965000e+05</td>\n",
       "      <td>3.750000</td>\n",
       "      <td>1250.000000</td>\n",
       "      <td>360.00000</td>\n",
       "      <td>2.880000e+05</td>\n",
       "      <td>3840.000000</td>\n",
       "      <td>599.000000</td>\n",
       "      <td>63.354701</td>\n",
       "      <td>0.000000</td>\n",
       "      <td>0.000000</td>\n",
       "      <td>0.000000</td>\n",
       "      <td>0.000000</td>\n",
       "      <td>0.000000</td>\n",
       "      <td>0.000000</td>\n",
       "      <td>0.000000</td>\n",
       "      <td>0.000000</td>\n",
       "      <td>0.000000</td>\n",
       "      <td>0.000000</td>\n",
       "      <td>0.000000</td>\n",
       "    </tr>\n",
       "    <tr>\n",
       "      <th>50%</th>\n",
       "      <td>2.965000e+05</td>\n",
       "      <td>3.990000</td>\n",
       "      <td>2588.240000</td>\n",
       "      <td>360.00000</td>\n",
       "      <td>4.180000e+05</td>\n",
       "      <td>5700.000000</td>\n",
       "      <td>699.000000</td>\n",
       "      <td>75.135870</td>\n",
       "      <td>0.000000</td>\n",
       "      <td>0.000000</td>\n",
       "      <td>0.000000</td>\n",
       "      <td>0.000000</td>\n",
       "      <td>0.000000</td>\n",
       "      <td>0.000000</td>\n",
       "      <td>0.000000</td>\n",
       "      <td>0.000000</td>\n",
       "      <td>0.000000</td>\n",
       "      <td>0.000000</td>\n",
       "      <td>0.000000</td>\n",
       "    </tr>\n",
       "    <tr>\n",
       "      <th>75%</th>\n",
       "      <td>4.365000e+05</td>\n",
       "      <td>4.250000</td>\n",
       "      <td>3883.340000</td>\n",
       "      <td>360.00000</td>\n",
       "      <td>5.980000e+05</td>\n",
       "      <td>8280.000000</td>\n",
       "      <td>800.000000</td>\n",
       "      <td>84.763314</td>\n",
       "      <td>0.000000</td>\n",
       "      <td>0.000000</td>\n",
       "      <td>0.000000</td>\n",
       "      <td>1.000000</td>\n",
       "      <td>0.000000</td>\n",
       "      <td>0.000000</td>\n",
       "      <td>0.000000</td>\n",
       "      <td>0.000000</td>\n",
       "      <td>0.000000</td>\n",
       "      <td>0.000000</td>\n",
       "      <td>0.000000</td>\n",
       "    </tr>\n",
       "    <tr>\n",
       "      <th>max</th>\n",
       "      <td>3.346500e+06</td>\n",
       "      <td>7.750000</td>\n",
       "      <td>60000.000000</td>\n",
       "      <td>360.00000</td>\n",
       "      <td>1.100800e+07</td>\n",
       "      <td>22920.000000</td>\n",
       "      <td>900.000000</td>\n",
       "      <td>6706.250000</td>\n",
       "      <td>1.000000</td>\n",
       "      <td>1.000000</td>\n",
       "      <td>1.000000</td>\n",
       "      <td>1.000000</td>\n",
       "      <td>1.000000</td>\n",
       "      <td>1.000000</td>\n",
       "      <td>1.000000</td>\n",
       "      <td>1.000000</td>\n",
       "      <td>1.000000</td>\n",
       "      <td>1.000000</td>\n",
       "      <td>1.000000</td>\n",
       "    </tr>\n",
       "  </tbody>\n",
       "</table>\n",
       "</div>"
      ],
      "text/plain": [
       "        loan_amount  rate_of_interest  upfront_charges          term  \\\n",
       "count  1.040690e+05     104069.000000    104069.000000  104069.00000   \n",
       "mean   3.309899e+05          4.032318      3051.089106     335.16391   \n",
       "std    1.833324e+05          0.488960      2795.108953      58.34862   \n",
       "min    1.650000e+04          0.000000         0.000000      96.00000   \n",
       "25%    1.965000e+05          3.750000      1250.000000     360.00000   \n",
       "50%    2.965000e+05          3.990000      2588.240000     360.00000   \n",
       "75%    4.365000e+05          4.250000      3883.340000     360.00000   \n",
       "max    3.346500e+06          7.750000     60000.000000     360.00000   \n",
       "\n",
       "       property_value         income   credit_score            ltv  \\\n",
       "count    1.040690e+05  104069.000000  104069.000000  104069.000000   \n",
       "mean     4.892312e+05    6661.967733     699.660744      73.008923   \n",
       "std      3.366160e+05    4189.370066     115.967424      36.543956   \n",
       "min      8.000000e+03       0.000000     500.000000       0.967478   \n",
       "25%      2.880000e+05    3840.000000     599.000000      63.354701   \n",
       "50%      4.180000e+05    5700.000000     699.000000      75.135870   \n",
       "75%      5.980000e+05    8280.000000     800.000000      84.763314   \n",
       "max      1.100800e+07   22920.000000     900.000000    6706.250000   \n",
       "\n",
       "              status  outlier_income  miss_rate_of_interest  \\\n",
       "count  104069.000000   104069.000000          104069.000000   \n",
       "mean        0.246202        0.014269               0.244866   \n",
       "std         0.430800        0.118600               0.430010   \n",
       "min         0.000000        0.000000               0.000000   \n",
       "25%         0.000000        0.000000               0.000000   \n",
       "50%         0.000000        0.000000               0.000000   \n",
       "75%         0.000000        0.000000               0.000000   \n",
       "max         1.000000        1.000000               1.000000   \n",
       "\n",
       "       miss_upfront_charges  miss_property_value    miss_income  \\\n",
       "count         104069.000000        104069.000000  104069.000000   \n",
       "mean               0.266775             0.101144       0.062276   \n",
       "std                0.442276             0.301521       0.241657   \n",
       "min                0.000000             0.000000       0.000000   \n",
       "25%                0.000000             0.000000       0.000000   \n",
       "50%                0.000000             0.000000       0.000000   \n",
       "75%                1.000000             0.000000       0.000000   \n",
       "max                1.000000             1.000000       1.000000   \n",
       "\n",
       "            miss_ltv  miss_approv_in_adv  miss_loan_purpose       miss_age  \\\n",
       "count  104069.000000       104069.000000      104069.000000  104069.000000   \n",
       "mean        0.101144            0.006265           0.000980       0.001336   \n",
       "std         0.301521            0.078904           0.031292       0.036522   \n",
       "min         0.000000            0.000000           0.000000       0.000000   \n",
       "25%         0.000000            0.000000           0.000000       0.000000   \n",
       "50%         0.000000            0.000000           0.000000       0.000000   \n",
       "75%         0.000000            0.000000           0.000000       0.000000   \n",
       "max         1.000000            1.000000           1.000000       1.000000   \n",
       "\n",
       "           miss_term  \n",
       "count  104069.000000  \n",
       "mean        0.000259  \n",
       "std         0.016105  \n",
       "min         0.000000  \n",
       "25%         0.000000  \n",
       "50%         0.000000  \n",
       "75%         0.000000  \n",
       "max         1.000000  "
      ]
     },
     "execution_count": 32,
     "metadata": {},
     "output_type": "execute_result"
    }
   ],
   "source": [
    "df1.describe()"
   ]
  },
  {
   "cell_type": "markdown",
   "id": "c2a551c9-b87c-4468-8c0a-39be01d998c6",
   "metadata": {},
   "source": [
    "DF2"
   ]
  },
  {
   "cell_type": "code",
   "execution_count": 33,
   "id": "33623bc6-7222-4d3a-93c5-117f9f400f06",
   "metadata": {
    "collapsed": true,
    "jupyter": {
     "outputs_hidden": true
    },
    "tags": []
   },
   "outputs": [
    {
     "data": {
      "text/plain": [
       "gender                     0\n",
       "approv_in_adv              0\n",
       "loan_type                  0\n",
       "loan_purpose               0\n",
       "business_or_commercial     0\n",
       "loan_amount                0\n",
       "rate_of_interest           0\n",
       "upfront_charges            0\n",
       "term                      14\n",
       "property_value             0\n",
       "construction_type          0\n",
       "income                     0\n",
       "credit_type                0\n",
       "credit_score               0\n",
       "age                        0\n",
       "ltv                        0\n",
       "region                     0\n",
       "status                     0\n",
       "outlier_income             0\n",
       "miss_rate_of_interest      0\n",
       "miss_upfront_charges       0\n",
       "miss_property_value        0\n",
       "miss_income                0\n",
       "miss_ltv                   0\n",
       "miss_approv_in_adv         0\n",
       "miss_loan_purpose          0\n",
       "miss_age                   0\n",
       "dtype: int64"
      ]
     },
     "execution_count": 33,
     "metadata": {},
     "output_type": "execute_result"
    }
   ],
   "source": [
    "df2 = pd.read_csv(\"data/new_df2.csv\")\n",
    "df_num = df2._get_numeric_data()\n",
    "soma_missings_por_coluna2 = df2.isnull().sum()\n",
    "soma_missings_por_coluna2"
   ]
  },
  {
   "cell_type": "code",
   "execution_count": 34,
   "id": "b0dd6b3d-3e97-4153-b5f1-f77e08bf7385",
   "metadata": {},
   "outputs": [
    {
     "data": {
      "text/plain": [
       "term    0.03\n",
       "dtype: float64"
      ]
     },
     "execution_count": 34,
     "metadata": {},
     "output_type": "execute_result"
    }
   ],
   "source": [
    "#resultados em percentagem\n",
    "tamanho_df2 = len(df2)\n",
    "round(soma_missings_por_coluna2[soma_missings_por_coluna2>0]/tamanho_df2*100,2)"
   ]
  },
  {
   "cell_type": "code",
   "execution_count": 35,
   "id": "93d724f8-3503-43e9-923d-77b4b52b3e6e",
   "metadata": {},
   "outputs": [
    {
     "data": {
      "text/plain": [
       "['term']"
      ]
     },
     "execution_count": 35,
     "metadata": {},
     "output_type": "execute_result"
    }
   ],
   "source": [
    "num_vars_com_missings2 = [el for el in vars_com_missings if el in df_num.columns]\n",
    "num_vars_com_missings2"
   ]
  },
  {
   "cell_type": "code",
   "execution_count": 36,
   "id": "d41ef786-9c27-4dd8-aedc-1b29bff845ad",
   "metadata": {},
   "outputs": [
    {
     "data": {
      "text/plain": [
       "{'term': 360.0}"
      ]
     },
     "execution_count": 36,
     "metadata": {},
     "output_type": "execute_result"
    }
   ],
   "source": [
    "missing_median2 = dict(df2[num_vars_com_missings2].median())\n",
    "missing_median2"
   ]
  },
  {
   "cell_type": "code",
   "execution_count": 37,
   "id": "f184195f-b211-4360-82fa-a95782981adf",
   "metadata": {},
   "outputs": [],
   "source": [
    "for var in num_vars_com_missings2:\n",
    "    df2['miss_' + var] = np.where(df2[var].isnull(), 1, 0)\n",
    "    df2[var].fillna(missing_median[var], inplace=True)"
   ]
  },
  {
   "cell_type": "code",
   "execution_count": 38,
   "id": "68387d60-8179-47b2-a3c6-39e7a3bc18f6",
   "metadata": {
    "collapsed": true,
    "jupyter": {
     "outputs_hidden": true
    },
    "tags": []
   },
   "outputs": [
    {
     "data": {
      "text/plain": [
       "gender                    0\n",
       "approv_in_adv             0\n",
       "loan_type                 0\n",
       "loan_purpose              0\n",
       "business_or_commercial    0\n",
       "loan_amount               0\n",
       "rate_of_interest          0\n",
       "upfront_charges           0\n",
       "term                      0\n",
       "property_value            0\n",
       "construction_type         0\n",
       "income                    0\n",
       "credit_type               0\n",
       "credit_score              0\n",
       "age                       0\n",
       "ltv                       0\n",
       "region                    0\n",
       "status                    0\n",
       "outlier_income            0\n",
       "miss_rate_of_interest     0\n",
       "miss_upfront_charges      0\n",
       "miss_property_value       0\n",
       "miss_income               0\n",
       "miss_ltv                  0\n",
       "miss_approv_in_adv        0\n",
       "miss_loan_purpose         0\n",
       "miss_age                  0\n",
       "miss_term                 0\n",
       "dtype: int64"
      ]
     },
     "execution_count": 38,
     "metadata": {},
     "output_type": "execute_result"
    }
   ],
   "source": [
    "df2.isnull().sum()"
   ]
  },
  {
   "cell_type": "markdown",
   "id": "0a7e40f5-9c6a-4780-89c5-ecf466c191ae",
   "metadata": {},
   "source": [
    "valor \"missing\" (para pelo menos 1 variável categoria)"
   ]
  },
  {
   "cell_type": "code",
   "execution_count": 39,
   "id": "cd26f7cd-32fb-4e6b-b736-37f331bc596d",
   "metadata": {
    "collapsed": true,
    "jupyter": {
     "outputs_hidden": true
    },
    "tags": []
   },
   "outputs": [
    {
     "name": "stdout",
     "output_type": "stream",
     "text": [
      "gender : \n",
      " Male                 28.442668\n",
      "Joint                27.867088\n",
      "Sex Not Available    25.270734\n",
      "Female               18.419510\n",
      "Name: gender, dtype: float64\n",
      "\n",
      "\n",
      "approv_in_adv : \n",
      " nopre    84.416109\n",
      "pre      15.583891\n",
      "Name: approv_in_adv, dtype: float64\n",
      "\n",
      "\n",
      "loan_type : \n",
      " type1    76.111042\n",
      "type2    13.951321\n",
      "type3     9.937638\n",
      "Name: loan_type, dtype: float64\n",
      "\n",
      "\n",
      "loan_purpose : \n",
      " p3    37.529908\n",
      "p4    37.063871\n",
      "p1    23.219210\n",
      "p2     2.187011\n",
      "Name: loan_purpose, dtype: float64\n",
      "\n",
      "\n",
      "business_or_commercial : \n",
      " nob/c    86.048679\n",
      "b/c      13.951321\n",
      "Name: business_or_commercial, dtype: float64\n",
      "\n",
      "\n",
      "construction_type : \n",
      " sb    99.975977\n",
      "mh     0.024023\n",
      "Name: construction_type, dtype: float64\n",
      "\n",
      "\n",
      "credit_type : \n",
      " CIB     32.368909\n",
      "CRIF    29.627459\n",
      "EXP     27.756585\n",
      "EQUI    10.247048\n",
      "Name: credit_type, dtype: float64\n",
      "\n",
      "\n",
      "age : \n",
      " 45-54    23.589157\n",
      "35-44    22.096878\n",
      "55-64    21.832630\n",
      "65-74    13.860996\n",
      "25-34    12.889525\n",
      ">74       4.848706\n",
      "<25       0.882107\n",
      "Name: age, dtype: float64\n",
      "\n",
      "\n",
      "region : \n",
      " North         50.263767\n",
      "south         43.030105\n",
      "central        5.871105\n",
      "North-East     0.835023\n",
      "Name: region, dtype: float64\n",
      "\n",
      "\n"
     ]
    }
   ],
   "source": [
    "for col in df1.select_dtypes('object').columns:\n",
    "    print(col, ': \\n', df1[col].value_counts(dropna=False, normalize=True)*100)\n",
    "    print('\\n')"
   ]
  },
  {
   "cell_type": "code",
   "execution_count": 40,
   "id": "7d9b0666-a1ab-45e1-943b-d543b8aa4798",
   "metadata": {},
   "outputs": [],
   "source": [
    "# Substituir 'Sex Not Available' por 'missing' apenas na coluna 'gender'\n",
    "df1['gender'] = df1['gender'].replace('Sex Not Available', 'missing')"
   ]
  },
  {
   "cell_type": "code",
   "execution_count": 41,
   "id": "f6a49aab-3748-4539-aa45-0872361a2ab2",
   "metadata": {
    "collapsed": true,
    "jupyter": {
     "outputs_hidden": true
    },
    "tags": []
   },
   "outputs": [
    {
     "data": {
      "text/plain": [
       "Male       29600\n",
       "Joint      29001\n",
       "missing    26299\n",
       "Female     19169\n",
       "Name: gender, dtype: int64"
      ]
     },
     "execution_count": 41,
     "metadata": {},
     "output_type": "execute_result"
    }
   ],
   "source": [
    "df1['gender'].value_counts()"
   ]
  },
  {
   "cell_type": "code",
   "execution_count": 42,
   "id": "908a2fa0-d3ff-4c2f-8cec-59f11f0844b4",
   "metadata": {
    "collapsed": true,
    "jupyter": {
     "outputs_hidden": true
    },
    "tags": []
   },
   "outputs": [
    {
     "data": {
      "text/plain": [
       "Male                 12746\n",
       "Joint                12398\n",
       "Sex Not Available    11360\n",
       "Female                8097\n",
       "Name: gender, dtype: int64"
      ]
     },
     "execution_count": 42,
     "metadata": {},
     "output_type": "execute_result"
    }
   ],
   "source": [
    "df2['gender'].value_counts()"
   ]
  },
  {
   "cell_type": "code",
   "execution_count": 43,
   "id": "952feced-534c-43d5-95de-aecb3b242997",
   "metadata": {
    "tags": []
   },
   "outputs": [],
   "source": [
    "# Substituir 'Sex Not Available' por 'missing' apenas na coluna 'gender'\n",
    "df2['gender'] = df2['gender'].replace('Sex Not Available', 'missing')"
   ]
  },
  {
   "cell_type": "code",
   "execution_count": 44,
   "id": "9775dc72-1de3-4031-94de-37c4918c07de",
   "metadata": {
    "collapsed": true,
    "jupyter": {
     "outputs_hidden": true
    },
    "tags": []
   },
   "outputs": [
    {
     "data": {
      "text/plain": [
       "Male       12746\n",
       "Joint      12398\n",
       "missing    11360\n",
       "Female      8097\n",
       "Name: gender, dtype: int64"
      ]
     },
     "execution_count": 44,
     "metadata": {},
     "output_type": "execute_result"
    }
   ],
   "source": [
    "df2['gender'].value_counts()"
   ]
  },
  {
   "cell_type": "markdown",
   "id": "d56d8c65-f00b-481a-9b77-5540ae025c89",
   "metadata": {},
   "source": [
    "# 4. Escolhe uma variável com dados em falta e preenche os valores com recurso a um algoritmo de ML nas duas bases de dados (DF1)"
   ]
  },
  {
   "cell_type": "code",
   "execution_count": 2,
   "id": "78c62425-160d-4a43-8f15-5e2715911364",
   "metadata": {},
   "outputs": [],
   "source": [
    "# KNNImputer\n",
    "\n",
    "import pandas as pd\n",
    "import numpy as np\n",
    "from sklearn.impute import KNNImputer\n",
    "from sklearn.preprocessing import KBinsDiscretizer, OneHotEncoder, MinMaxScaler, StandardScaler"
   ]
  },
  {
   "cell_type": "code",
   "execution_count": 17,
   "id": "b18e0818-50cc-4d23-9282-53df287a6c3a",
   "metadata": {},
   "outputs": [],
   "source": [
    "df1 = pd.read_csv(\"data/new_df1.csv\")\n",
    "df2 = pd.read_csv(\"data/new_df2.csv\")"
   ]
  },
  {
   "cell_type": "code",
   "execution_count": 34,
   "id": "e0147897-6c88-4f76-b150-5cc76f4b8519",
   "metadata": {
    "tags": []
   },
   "outputs": [
    {
     "data": {
      "text/plain": [
       "KBinsDiscretizer(encode='ordinal', n_bins=20, strategy='uniform')"
      ]
     },
     "execution_count": 34,
     "metadata": {},
     "output_type": "execute_result"
    }
   ],
   "source": [
    "# Discretização\n",
    "df1.dropna(inplace=True)\n",
    "variaveis_para_discretizar = ['term']\n",
    "disc_width = KBinsDiscretizer(n_bins=20, encode='ordinal', strategy='uniform')\n",
    "disc_width.fit(df1[variaveis_para_discretizar])"
   ]
  },
  {
   "cell_type": "code",
   "execution_count": 35,
   "id": "7d14c0aa-a201-44cb-a105-3ea9b560ce5f",
   "metadata": {},
   "outputs": [],
   "source": [
    "disc_data1 = pd.DataFrame(disc_width.transform(df1[variaveis_para_discretizar]), columns = variaveis_para_discretizar)"
   ]
  },
  {
   "cell_type": "code",
   "execution_count": 36,
   "id": "818cd0c1-e764-4029-a701-205010d0948a",
   "metadata": {
    "tags": []
   },
   "outputs": [
    {
     "data": {
      "text/plain": [
       "19.0    0.820794\n",
       "6.0     0.087369\n",
       "10.0    0.040243\n",
       "15.0    0.018733\n",
       "17.0    0.018300\n",
       "1.0     0.003278\n",
       "3.0     0.001692\n",
       "0.0     0.001442\n",
       "18.0    0.001346\n",
       "16.0    0.001336\n",
       "4.0     0.001288\n",
       "9.0     0.000798\n",
       "13.0    0.000730\n",
       "5.0     0.000625\n",
       "2.0     0.000586\n",
       "14.0    0.000577\n",
       "8.0     0.000394\n",
       "12.0    0.000269\n",
       "7.0     0.000135\n",
       "11.0    0.000067\n",
       "Name: term, dtype: float64"
      ]
     },
     "execution_count": 36,
     "metadata": {},
     "output_type": "execute_result"
    }
   ],
   "source": [
    "disc_data1.term.value_counts(normalize=True)"
   ]
  },
  {
   "cell_type": "code",
   "execution_count": 37,
   "id": "b8667bce-b273-41d6-b56c-9af107cc7b7e",
   "metadata": {},
   "outputs": [
    {
     "name": "stderr",
     "output_type": "stream",
     "text": [
      "/home/dcm/anaconda3/lib/python3.9/site-packages/sklearn/preprocessing/_discretization.py:230: UserWarning: Bins whose width are too small (i.e., <= 1e-8) in feature 0 are removed. Consider decreasing the number of bins.\n",
      "  warnings.warn(\n"
     ]
    },
    {
     "data": {
      "text/plain": [
       "KBinsDiscretizer(encode='ordinal', n_bins=10)"
      ]
     },
     "execution_count": 37,
     "metadata": {},
     "output_type": "execute_result"
    }
   ],
   "source": [
    "variaveis_para_discretizar = ['term']\n",
    "disc_volume = KBinsDiscretizer(n_bins=10, encode='ordinal', strategy='quantile')\n",
    "disc_volume.fit(df2[variaveis_para_discretizar])"
   ]
  },
  {
   "cell_type": "code",
   "execution_count": 38,
   "id": "4bae14b8-82b4-49a8-8df8-1159baabd239",
   "metadata": {},
   "outputs": [
    {
     "data": {
      "text/plain": [
       "array([array([ 96., 240., 360.])], dtype=object)"
      ]
     },
     "execution_count": 38,
     "metadata": {},
     "output_type": "execute_result"
    }
   ],
   "source": [
    "#saber quais os pontos de corte\n",
    "disc_volume.bin_edges_"
   ]
  },
  {
   "cell_type": "code",
   "execution_count": 39,
   "id": "ee61191a-90a8-48ca-999c-4962d3a7bca2",
   "metadata": {},
   "outputs": [],
   "source": [
    "#aplicar discretização à df1\n",
    "disc_data2 = pd.DataFrame(disc_volume.transform(df1[variaveis_para_discretizar]), columns = variaveis_para_discretizar)"
   ]
  },
  {
   "cell_type": "code",
   "execution_count": 40,
   "id": "3030ebef-eade-42a5-adb7-b1e902ca4d42",
   "metadata": {
    "tags": []
   },
   "outputs": [
    {
     "data": {
      "text/plain": [
       "19.0    85397\n",
       "6.0      9090\n",
       "10.0     4187\n",
       "15.0     1949\n",
       "17.0     1904\n",
       "1.0       341\n",
       "3.0       176\n",
       "0.0       150\n",
       "18.0      140\n",
       "16.0      139\n",
       "4.0       134\n",
       "9.0        83\n",
       "13.0       76\n",
       "5.0        65\n",
       "2.0        61\n",
       "14.0       60\n",
       "8.0        41\n",
       "12.0       28\n",
       "7.0        14\n",
       "11.0        7\n",
       "Name: term, dtype: int64"
      ]
     },
     "execution_count": 40,
     "metadata": {},
     "output_type": "execute_result"
    }
   ],
   "source": [
    "disc_data1.term.value_counts()"
   ]
  },
  {
   "cell_type": "code",
   "execution_count": null,
   "id": "890306e4-1548-4b7e-8ec5-0a6e105bb168",
   "metadata": {},
   "outputs": [],
   "source": []
  },
  {
   "cell_type": "code",
   "execution_count": 22,
   "id": "f1deb94f-e608-4d71-8e6f-4f9d629b9fbe",
   "metadata": {},
   "outputs": [
    {
     "data": {
      "text/plain": [
       "KBinsDiscretizer(encode='ordinal', n_bins=50, strategy='uniform')"
      ]
     },
     "execution_count": 22,
     "metadata": {},
     "output_type": "execute_result"
    }
   ],
   "source": [
    "df2.dropna(inplace=True)\n",
    "variaveis_para_discretizar = ['term']\n",
    "disc_width = KBinsDiscretizer(n_bins=50, encode='ordinal', strategy='uniform')\n",
    "disc_width.fit(df1[variaveis_para_discretizar])"
   ]
  },
  {
   "cell_type": "code",
   "execution_count": 19,
   "id": "38be8082-b295-47c3-831b-33f47cc14f92",
   "metadata": {
    "tags": []
   },
   "outputs": [
    {
     "name": "stdout",
     "output_type": "stream",
     "text": [
      "         term\n",
      "0       180.0\n",
      "1       240.0\n",
      "2       180.0\n",
      "3       360.0\n",
      "4       360.0\n",
      "...       ...\n",
      "104064  360.0\n",
      "104065  360.0\n",
      "104066  360.0\n",
      "104067  324.0\n",
      "104068  180.0\n",
      "\n",
      "[104042 rows x 1 columns]\n"
     ]
    }
   ],
   "source": [
    "# Criar um DataFrame de exemplo com valores nulos\n",
    "dados = df1['term']\n",
    "df = pd.DataFrame(dados)\n",
    "\n",
    "# Instanciar o imputador KNN\n",
    "imputador_knn = KNNImputer(n_neighbors=2)\n",
    "\n",
    "# Realizar a imputação na coluna com valores nulos\n",
    "df1['term'] = imputador_knn.fit_transform(df[['term']])\n",
    "\n",
    "# Exibir o DataFrame após a imputação\n",
    "print(df)"
   ]
  },
  {
   "cell_type": "code",
   "execution_count": 20,
   "id": "d7c2275f-a538-4e10-891d-c6065185b7eb",
   "metadata": {
    "collapsed": true,
    "jupyter": {
     "outputs_hidden": true
    },
    "tags": []
   },
   "outputs": [
    {
     "data": {
      "text/plain": [
       "gender                    0\n",
       "approv_in_adv             0\n",
       "loan_type                 0\n",
       "loan_purpose              0\n",
       "business_or_commercial    0\n",
       "loan_amount               0\n",
       "rate_of_interest          0\n",
       "upfront_charges           0\n",
       "term                      0\n",
       "property_value            0\n",
       "construction_type         0\n",
       "income                    0\n",
       "credit_type               0\n",
       "credit_score              0\n",
       "age                       0\n",
       "ltv                       0\n",
       "region                    0\n",
       "status                    0\n",
       "outlier_income            0\n",
       "miss_rate_of_interest     0\n",
       "miss_upfront_charges      0\n",
       "miss_property_value       0\n",
       "miss_income               0\n",
       "miss_ltv                  0\n",
       "miss_approv_in_adv        0\n",
       "miss_loan_purpose         0\n",
       "miss_age                  0\n",
       "dtype: int64"
      ]
     },
     "execution_count": 20,
     "metadata": {},
     "output_type": "execute_result"
    }
   ],
   "source": [
    "df1.isnull().sum()"
   ]
  },
  {
   "cell_type": "code",
   "execution_count": 21,
   "id": "75a0d722-b686-43b0-9366-c6daa9996d71",
   "metadata": {
    "collapsed": true,
    "jupyter": {
     "outputs_hidden": true
    },
    "tags": []
   },
   "outputs": [
    {
     "data": {
      "text/plain": [
       "gender                     0\n",
       "approv_in_adv              0\n",
       "loan_type                  0\n",
       "loan_purpose               0\n",
       "business_or_commercial     0\n",
       "loan_amount                0\n",
       "rate_of_interest           0\n",
       "upfront_charges            0\n",
       "term                      14\n",
       "property_value             0\n",
       "construction_type          0\n",
       "income                     0\n",
       "credit_type                0\n",
       "credit_score               0\n",
       "age                        0\n",
       "ltv                        0\n",
       "region                     0\n",
       "status                     0\n",
       "outlier_income             0\n",
       "miss_rate_of_interest      0\n",
       "miss_upfront_charges       0\n",
       "miss_property_value        0\n",
       "miss_income                0\n",
       "miss_ltv                   0\n",
       "miss_approv_in_adv         0\n",
       "miss_loan_purpose          0\n",
       "miss_age                   0\n",
       "dtype: int64"
      ]
     },
     "execution_count": 21,
     "metadata": {},
     "output_type": "execute_result"
    }
   ],
   "source": [
    "df2.isnull().sum()"
   ]
  },
  {
   "cell_type": "code",
   "execution_count": 23,
   "id": "3e750be1-316f-49cc-9740-f9773e8bfae7",
   "metadata": {
    "tags": []
   },
   "outputs": [
    {
     "name": "stdout",
     "output_type": "stream",
     "text": [
      "        term\n",
      "0      360.0\n",
      "1      180.0\n",
      "2      360.0\n",
      "3      300.0\n",
      "4      360.0\n",
      "...      ...\n",
      "44596  360.0\n",
      "44597  360.0\n",
      "44598  180.0\n",
      "44599  360.0\n",
      "44600  360.0\n",
      "\n",
      "[44587 rows x 1 columns]\n"
     ]
    }
   ],
   "source": [
    "# Criar um DataFrame de exemplo com valores nulos\n",
    "dados = df2['term']\n",
    "df = pd.DataFrame(dados)\n",
    "\n",
    "# Instanciar o imputador KNN\n",
    "imputador_knn = KNNImputer(n_neighbors=2)\n",
    "\n",
    "# Realizar a imputação na coluna com valores nulos\n",
    "df2['term'] = imputador_knn.fit_transform(df[['term']])\n",
    "\n",
    "# Exibir o DataFrame após a imputação\n",
    "print(df)"
   ]
  },
  {
   "cell_type": "code",
   "execution_count": 24,
   "id": "3ed887dd-5203-480a-95ac-4b6829a15454",
   "metadata": {
    "tags": []
   },
   "outputs": [
    {
     "data": {
      "text/plain": [
       "gender                    0\n",
       "approv_in_adv             0\n",
       "loan_type                 0\n",
       "loan_purpose              0\n",
       "business_or_commercial    0\n",
       "loan_amount               0\n",
       "rate_of_interest          0\n",
       "upfront_charges           0\n",
       "term                      0\n",
       "property_value            0\n",
       "construction_type         0\n",
       "income                    0\n",
       "credit_type               0\n",
       "credit_score              0\n",
       "age                       0\n",
       "ltv                       0\n",
       "region                    0\n",
       "status                    0\n",
       "outlier_income            0\n",
       "miss_rate_of_interest     0\n",
       "miss_upfront_charges      0\n",
       "miss_property_value       0\n",
       "miss_income               0\n",
       "miss_ltv                  0\n",
       "miss_approv_in_adv        0\n",
       "miss_loan_purpose         0\n",
       "miss_age                  0\n",
       "dtype: int64"
      ]
     },
     "execution_count": 24,
     "metadata": {},
     "output_type": "execute_result"
    }
   ],
   "source": [
    "df2.isnull().sum()"
   ]
  },
  {
   "cell_type": "code",
   "execution_count": 1,
   "id": "1092daab-a502-4e2c-9b26-7c3962d81945",
   "metadata": {},
   "outputs": [],
   "source": [
    "# Abordagem 2 - OneHotEncoder\n",
    "\n",
    "import pandas as pd\n",
    "from sklearn.preprocessing import OneHotEncoder"
   ]
  },
  {
   "cell_type": "code",
   "execution_count": 2,
   "id": "9b5e5e1f-d78e-43b5-a862-34bbc4b86179",
   "metadata": {},
   "outputs": [],
   "source": [
    "df1 = pd.read_csv(\"data/new_df1.csv\")\n",
    "df2 = pd.read_csv(\"data/new_df2.csv\")"
   ]
  },
  {
   "cell_type": "code",
   "execution_count": 3,
   "id": "c206efeb-c03c-44a2-88d2-4381d30199a4",
   "metadata": {},
   "outputs": [],
   "source": [
    "# Criar um DataFrame de exemplo com valores nulos\n",
    "dados = df1['term']\n",
    "df = pd.DataFrame(dados)"
   ]
  },
  {
   "cell_type": "code",
   "execution_count": 4,
   "id": "8901a3ad-f5d2-43ce-ae73-0a61a952396f",
   "metadata": {
    "collapsed": true,
    "jupyter": {
     "outputs_hidden": true
    },
    "tags": []
   },
   "outputs": [
    {
     "data": {
      "text/plain": [
       "27"
      ]
     },
     "execution_count": 4,
     "metadata": {},
     "output_type": "execute_result"
    }
   ],
   "source": [
    "dados.isnull().sum()"
   ]
  },
  {
   "cell_type": "code",
   "execution_count": 5,
   "id": "91d07d55-54ca-4799-9ddc-8364a49d6d36",
   "metadata": {},
   "outputs": [
    {
     "data": {
      "text/plain": [
       "OneHotEncoder(sparse=False)"
      ]
     },
     "execution_count": 5,
     "metadata": {},
     "output_type": "execute_result"
    }
   ],
   "source": [
    "variaveis_para_encode = ['term']\n",
    "enc_oh = OneHotEncoder(sparse=False, handle_unknown='error')\n",
    "enc_oh.fit(df1[variaveis_para_encode])"
   ]
  },
  {
   "cell_type": "code",
   "execution_count": 6,
   "id": "886b67f2-7a41-4b62-acea-778406aceb68",
   "metadata": {
    "tags": []
   },
   "outputs": [
    {
     "data": {
      "text/plain": [
       "[array([ 96., 108., 120., 132., 144., 156., 165., 168., 180., 192., 204.,\n",
       "        216., 228., 240., 252., 264., 276., 280., 288., 300., 312., 324.,\n",
       "        336., 348., 360.,  nan])]"
      ]
     },
     "execution_count": 6,
     "metadata": {},
     "output_type": "execute_result"
    }
   ],
   "source": [
    "enc_oh.categories_"
   ]
  },
  {
   "cell_type": "code",
   "execution_count": 7,
   "id": "d59802f6-dd4d-47ab-9d19-00a179243dc9",
   "metadata": {
    "tags": []
   },
   "outputs": [
    {
     "data": {
      "text/plain": [
       "array(['term'], dtype=object)"
      ]
     },
     "execution_count": 7,
     "metadata": {},
     "output_type": "execute_result"
    }
   ],
   "source": [
    "enc_oh.feature_names_in_"
   ]
  },
  {
   "cell_type": "code",
   "execution_count": 8,
   "id": "a399faca-28c2-4a8a-b918-f6e3c150f38d",
   "metadata": {
    "collapsed": true,
    "jupyter": {
     "outputs_hidden": true
    },
    "tags": []
   },
   "outputs": [
    {
     "data": {
      "text/html": [
       "<div>\n",
       "<style scoped>\n",
       "    .dataframe tbody tr th:only-of-type {\n",
       "        vertical-align: middle;\n",
       "    }\n",
       "\n",
       "    .dataframe tbody tr th {\n",
       "        vertical-align: top;\n",
       "    }\n",
       "\n",
       "    .dataframe thead th {\n",
       "        text-align: right;\n",
       "    }\n",
       "</style>\n",
       "<table border=\"1\" class=\"dataframe\">\n",
       "  <thead>\n",
       "    <tr style=\"text-align: right;\">\n",
       "      <th></th>\n",
       "      <th>term</th>\n",
       "    </tr>\n",
       "  </thead>\n",
       "  <tbody>\n",
       "    <tr>\n",
       "      <th>0</th>\n",
       "      <td>180.0</td>\n",
       "    </tr>\n",
       "    <tr>\n",
       "      <th>1</th>\n",
       "      <td>240.0</td>\n",
       "    </tr>\n",
       "    <tr>\n",
       "      <th>2</th>\n",
       "      <td>180.0</td>\n",
       "    </tr>\n",
       "    <tr>\n",
       "      <th>3</th>\n",
       "      <td>360.0</td>\n",
       "    </tr>\n",
       "    <tr>\n",
       "      <th>4</th>\n",
       "      <td>360.0</td>\n",
       "    </tr>\n",
       "  </tbody>\n",
       "</table>\n",
       "</div>"
      ],
      "text/plain": [
       "    term\n",
       "0  180.0\n",
       "1  240.0\n",
       "2  180.0\n",
       "3  360.0\n",
       "4  360.0"
      ]
     },
     "execution_count": 8,
     "metadata": {},
     "output_type": "execute_result"
    }
   ],
   "source": [
    "df1[variaveis_para_encode].head()"
   ]
  },
  {
   "cell_type": "code",
   "execution_count": 9,
   "id": "6d258ed9-5ac5-4c64-97b5-9364a951cef5",
   "metadata": {
    "tags": []
   },
   "outputs": [],
   "source": [
    "#aplicar discretização à df1\n",
    "enc_data1 = pd.DataFrame(enc_oh.transform(df1[variaveis_para_encode]))"
   ]
  },
  {
   "cell_type": "code",
   "execution_count": 10,
   "id": "d9689357-c956-42de-bf32-6f643c20f24c",
   "metadata": {},
   "outputs": [
    {
     "data": {
      "text/html": [
       "<div>\n",
       "<style scoped>\n",
       "    .dataframe tbody tr th:only-of-type {\n",
       "        vertical-align: middle;\n",
       "    }\n",
       "\n",
       "    .dataframe tbody tr th {\n",
       "        vertical-align: top;\n",
       "    }\n",
       "\n",
       "    .dataframe thead th {\n",
       "        text-align: right;\n",
       "    }\n",
       "</style>\n",
       "<table border=\"1\" class=\"dataframe\">\n",
       "  <thead>\n",
       "    <tr style=\"text-align: right;\">\n",
       "      <th></th>\n",
       "      <th>0</th>\n",
       "      <th>1</th>\n",
       "      <th>2</th>\n",
       "      <th>3</th>\n",
       "      <th>4</th>\n",
       "      <th>5</th>\n",
       "      <th>6</th>\n",
       "      <th>7</th>\n",
       "      <th>8</th>\n",
       "      <th>9</th>\n",
       "      <th>...</th>\n",
       "      <th>16</th>\n",
       "      <th>17</th>\n",
       "      <th>18</th>\n",
       "      <th>19</th>\n",
       "      <th>20</th>\n",
       "      <th>21</th>\n",
       "      <th>22</th>\n",
       "      <th>23</th>\n",
       "      <th>24</th>\n",
       "      <th>25</th>\n",
       "    </tr>\n",
       "  </thead>\n",
       "  <tbody>\n",
       "    <tr>\n",
       "      <th>0</th>\n",
       "      <td>0.0</td>\n",
       "      <td>0.0</td>\n",
       "      <td>0.0</td>\n",
       "      <td>0.0</td>\n",
       "      <td>0.0</td>\n",
       "      <td>0.0</td>\n",
       "      <td>0.0</td>\n",
       "      <td>0.0</td>\n",
       "      <td>1.0</td>\n",
       "      <td>0.0</td>\n",
       "      <td>...</td>\n",
       "      <td>0.0</td>\n",
       "      <td>0.0</td>\n",
       "      <td>0.0</td>\n",
       "      <td>0.0</td>\n",
       "      <td>0.0</td>\n",
       "      <td>0.0</td>\n",
       "      <td>0.0</td>\n",
       "      <td>0.0</td>\n",
       "      <td>0.0</td>\n",
       "      <td>0.0</td>\n",
       "    </tr>\n",
       "    <tr>\n",
       "      <th>1</th>\n",
       "      <td>0.0</td>\n",
       "      <td>0.0</td>\n",
       "      <td>0.0</td>\n",
       "      <td>0.0</td>\n",
       "      <td>0.0</td>\n",
       "      <td>0.0</td>\n",
       "      <td>0.0</td>\n",
       "      <td>0.0</td>\n",
       "      <td>0.0</td>\n",
       "      <td>0.0</td>\n",
       "      <td>...</td>\n",
       "      <td>0.0</td>\n",
       "      <td>0.0</td>\n",
       "      <td>0.0</td>\n",
       "      <td>0.0</td>\n",
       "      <td>0.0</td>\n",
       "      <td>0.0</td>\n",
       "      <td>0.0</td>\n",
       "      <td>0.0</td>\n",
       "      <td>0.0</td>\n",
       "      <td>0.0</td>\n",
       "    </tr>\n",
       "    <tr>\n",
       "      <th>2</th>\n",
       "      <td>0.0</td>\n",
       "      <td>0.0</td>\n",
       "      <td>0.0</td>\n",
       "      <td>0.0</td>\n",
       "      <td>0.0</td>\n",
       "      <td>0.0</td>\n",
       "      <td>0.0</td>\n",
       "      <td>0.0</td>\n",
       "      <td>1.0</td>\n",
       "      <td>0.0</td>\n",
       "      <td>...</td>\n",
       "      <td>0.0</td>\n",
       "      <td>0.0</td>\n",
       "      <td>0.0</td>\n",
       "      <td>0.0</td>\n",
       "      <td>0.0</td>\n",
       "      <td>0.0</td>\n",
       "      <td>0.0</td>\n",
       "      <td>0.0</td>\n",
       "      <td>0.0</td>\n",
       "      <td>0.0</td>\n",
       "    </tr>\n",
       "    <tr>\n",
       "      <th>3</th>\n",
       "      <td>0.0</td>\n",
       "      <td>0.0</td>\n",
       "      <td>0.0</td>\n",
       "      <td>0.0</td>\n",
       "      <td>0.0</td>\n",
       "      <td>0.0</td>\n",
       "      <td>0.0</td>\n",
       "      <td>0.0</td>\n",
       "      <td>0.0</td>\n",
       "      <td>0.0</td>\n",
       "      <td>...</td>\n",
       "      <td>0.0</td>\n",
       "      <td>0.0</td>\n",
       "      <td>0.0</td>\n",
       "      <td>0.0</td>\n",
       "      <td>0.0</td>\n",
       "      <td>0.0</td>\n",
       "      <td>0.0</td>\n",
       "      <td>0.0</td>\n",
       "      <td>1.0</td>\n",
       "      <td>0.0</td>\n",
       "    </tr>\n",
       "    <tr>\n",
       "      <th>4</th>\n",
       "      <td>0.0</td>\n",
       "      <td>0.0</td>\n",
       "      <td>0.0</td>\n",
       "      <td>0.0</td>\n",
       "      <td>0.0</td>\n",
       "      <td>0.0</td>\n",
       "      <td>0.0</td>\n",
       "      <td>0.0</td>\n",
       "      <td>0.0</td>\n",
       "      <td>0.0</td>\n",
       "      <td>...</td>\n",
       "      <td>0.0</td>\n",
       "      <td>0.0</td>\n",
       "      <td>0.0</td>\n",
       "      <td>0.0</td>\n",
       "      <td>0.0</td>\n",
       "      <td>0.0</td>\n",
       "      <td>0.0</td>\n",
       "      <td>0.0</td>\n",
       "      <td>1.0</td>\n",
       "      <td>0.0</td>\n",
       "    </tr>\n",
       "  </tbody>\n",
       "</table>\n",
       "<p>5 rows × 26 columns</p>\n",
       "</div>"
      ],
      "text/plain": [
       "    0    1    2    3    4    5    6    7    8    9   ...   16   17   18   19  \\\n",
       "0  0.0  0.0  0.0  0.0  0.0  0.0  0.0  0.0  1.0  0.0  ...  0.0  0.0  0.0  0.0   \n",
       "1  0.0  0.0  0.0  0.0  0.0  0.0  0.0  0.0  0.0  0.0  ...  0.0  0.0  0.0  0.0   \n",
       "2  0.0  0.0  0.0  0.0  0.0  0.0  0.0  0.0  1.0  0.0  ...  0.0  0.0  0.0  0.0   \n",
       "3  0.0  0.0  0.0  0.0  0.0  0.0  0.0  0.0  0.0  0.0  ...  0.0  0.0  0.0  0.0   \n",
       "4  0.0  0.0  0.0  0.0  0.0  0.0  0.0  0.0  0.0  0.0  ...  0.0  0.0  0.0  0.0   \n",
       "\n",
       "    20   21   22   23   24   25  \n",
       "0  0.0  0.0  0.0  0.0  0.0  0.0  \n",
       "1  0.0  0.0  0.0  0.0  0.0  0.0  \n",
       "2  0.0  0.0  0.0  0.0  0.0  0.0  \n",
       "3  0.0  0.0  0.0  0.0  1.0  0.0  \n",
       "4  0.0  0.0  0.0  0.0  1.0  0.0  \n",
       "\n",
       "[5 rows x 26 columns]"
      ]
     },
     "execution_count": 10,
     "metadata": {},
     "output_type": "execute_result"
    }
   ],
   "source": [
    "enc_data1.head()"
   ]
  },
  {
   "cell_type": "code",
   "execution_count": 11,
   "id": "013c30e6-2607-410c-8b40-b2d6d2747434",
   "metadata": {},
   "outputs": [
    {
     "data": {
      "text/plain": [
       "14"
      ]
     },
     "execution_count": 11,
     "metadata": {},
     "output_type": "execute_result"
    }
   ],
   "source": [
    "# DF2\n",
    "dados2 = df2['term']\n",
    "df2 = pd.DataFrame(dados2)\n",
    "dados2.isnull().sum()"
   ]
  },
  {
   "cell_type": "code",
   "execution_count": 12,
   "id": "a1e17cb4-890e-452d-9859-624510464c36",
   "metadata": {},
   "outputs": [
    {
     "data": {
      "text/plain": [
       "OneHotEncoder(sparse=False)"
      ]
     },
     "execution_count": 12,
     "metadata": {},
     "output_type": "execute_result"
    }
   ],
   "source": [
    "variaveis_para_encode = ['term']\n",
    "enc_oh = OneHotEncoder(sparse=False, handle_unknown='error')\n",
    "enc_oh.fit(df2[variaveis_para_encode])"
   ]
  },
  {
   "cell_type": "code",
   "execution_count": 13,
   "id": "7bfbaf59-e046-42ce-8d28-5634ba8f6424",
   "metadata": {},
   "outputs": [
    {
     "data": {
      "text/plain": [
       "[array([ 96., 108., 120., 132., 144., 156., 168., 180., 192., 204., 216.,\n",
       "        228., 240., 252., 264., 276., 288., 300., 312., 322., 324., 336.,\n",
       "        348., 360.,  nan])]"
      ]
     },
     "execution_count": 13,
     "metadata": {},
     "output_type": "execute_result"
    }
   ],
   "source": [
    "enc_oh.categories_"
   ]
  },
  {
   "cell_type": "code",
   "execution_count": 14,
   "id": "93f4ceec-2047-4197-b971-f4ac779319b8",
   "metadata": {},
   "outputs": [
    {
     "data": {
      "text/plain": [
       "array(['term'], dtype=object)"
      ]
     },
     "execution_count": 14,
     "metadata": {},
     "output_type": "execute_result"
    }
   ],
   "source": [
    "enc_oh.feature_names_in_"
   ]
  },
  {
   "cell_type": "code",
   "execution_count": 16,
   "id": "cc948195-a0e8-4669-9756-3630bb3cfb38",
   "metadata": {},
   "outputs": [
    {
     "data": {
      "text/html": [
       "<div>\n",
       "<style scoped>\n",
       "    .dataframe tbody tr th:only-of-type {\n",
       "        vertical-align: middle;\n",
       "    }\n",
       "\n",
       "    .dataframe tbody tr th {\n",
       "        vertical-align: top;\n",
       "    }\n",
       "\n",
       "    .dataframe thead th {\n",
       "        text-align: right;\n",
       "    }\n",
       "</style>\n",
       "<table border=\"1\" class=\"dataframe\">\n",
       "  <thead>\n",
       "    <tr style=\"text-align: right;\">\n",
       "      <th></th>\n",
       "      <th>term</th>\n",
       "    </tr>\n",
       "  </thead>\n",
       "  <tbody>\n",
       "    <tr>\n",
       "      <th>0</th>\n",
       "      <td>360.0</td>\n",
       "    </tr>\n",
       "    <tr>\n",
       "      <th>1</th>\n",
       "      <td>180.0</td>\n",
       "    </tr>\n",
       "    <tr>\n",
       "      <th>2</th>\n",
       "      <td>360.0</td>\n",
       "    </tr>\n",
       "    <tr>\n",
       "      <th>3</th>\n",
       "      <td>300.0</td>\n",
       "    </tr>\n",
       "    <tr>\n",
       "      <th>4</th>\n",
       "      <td>360.0</td>\n",
       "    </tr>\n",
       "  </tbody>\n",
       "</table>\n",
       "</div>"
      ],
      "text/plain": [
       "    term\n",
       "0  360.0\n",
       "1  180.0\n",
       "2  360.0\n",
       "3  300.0\n",
       "4  360.0"
      ]
     },
     "execution_count": 16,
     "metadata": {},
     "output_type": "execute_result"
    }
   ],
   "source": [
    "df2[variaveis_para_encode].head()"
   ]
  },
  {
   "cell_type": "code",
   "execution_count": 18,
   "id": "857ff2bd-5e32-4561-897e-6d16f9e2bb2e",
   "metadata": {},
   "outputs": [
    {
     "data": {
      "text/html": [
       "<div>\n",
       "<style scoped>\n",
       "    .dataframe tbody tr th:only-of-type {\n",
       "        vertical-align: middle;\n",
       "    }\n",
       "\n",
       "    .dataframe tbody tr th {\n",
       "        vertical-align: top;\n",
       "    }\n",
       "\n",
       "    .dataframe thead th {\n",
       "        text-align: right;\n",
       "    }\n",
       "</style>\n",
       "<table border=\"1\" class=\"dataframe\">\n",
       "  <thead>\n",
       "    <tr style=\"text-align: right;\">\n",
       "      <th></th>\n",
       "      <th>0</th>\n",
       "      <th>1</th>\n",
       "      <th>2</th>\n",
       "      <th>3</th>\n",
       "      <th>4</th>\n",
       "      <th>5</th>\n",
       "      <th>6</th>\n",
       "      <th>7</th>\n",
       "      <th>8</th>\n",
       "      <th>9</th>\n",
       "      <th>...</th>\n",
       "      <th>15</th>\n",
       "      <th>16</th>\n",
       "      <th>17</th>\n",
       "      <th>18</th>\n",
       "      <th>19</th>\n",
       "      <th>20</th>\n",
       "      <th>21</th>\n",
       "      <th>22</th>\n",
       "      <th>23</th>\n",
       "      <th>24</th>\n",
       "    </tr>\n",
       "  </thead>\n",
       "  <tbody>\n",
       "    <tr>\n",
       "      <th>0</th>\n",
       "      <td>0.0</td>\n",
       "      <td>0.0</td>\n",
       "      <td>0.0</td>\n",
       "      <td>0.0</td>\n",
       "      <td>0.0</td>\n",
       "      <td>0.0</td>\n",
       "      <td>0.0</td>\n",
       "      <td>0.0</td>\n",
       "      <td>0.0</td>\n",
       "      <td>0.0</td>\n",
       "      <td>...</td>\n",
       "      <td>0.0</td>\n",
       "      <td>0.0</td>\n",
       "      <td>0.0</td>\n",
       "      <td>0.0</td>\n",
       "      <td>0.0</td>\n",
       "      <td>0.0</td>\n",
       "      <td>0.0</td>\n",
       "      <td>0.0</td>\n",
       "      <td>1.0</td>\n",
       "      <td>0.0</td>\n",
       "    </tr>\n",
       "    <tr>\n",
       "      <th>1</th>\n",
       "      <td>0.0</td>\n",
       "      <td>0.0</td>\n",
       "      <td>0.0</td>\n",
       "      <td>0.0</td>\n",
       "      <td>0.0</td>\n",
       "      <td>0.0</td>\n",
       "      <td>0.0</td>\n",
       "      <td>1.0</td>\n",
       "      <td>0.0</td>\n",
       "      <td>0.0</td>\n",
       "      <td>...</td>\n",
       "      <td>0.0</td>\n",
       "      <td>0.0</td>\n",
       "      <td>0.0</td>\n",
       "      <td>0.0</td>\n",
       "      <td>0.0</td>\n",
       "      <td>0.0</td>\n",
       "      <td>0.0</td>\n",
       "      <td>0.0</td>\n",
       "      <td>0.0</td>\n",
       "      <td>0.0</td>\n",
       "    </tr>\n",
       "    <tr>\n",
       "      <th>2</th>\n",
       "      <td>0.0</td>\n",
       "      <td>0.0</td>\n",
       "      <td>0.0</td>\n",
       "      <td>0.0</td>\n",
       "      <td>0.0</td>\n",
       "      <td>0.0</td>\n",
       "      <td>0.0</td>\n",
       "      <td>0.0</td>\n",
       "      <td>0.0</td>\n",
       "      <td>0.0</td>\n",
       "      <td>...</td>\n",
       "      <td>0.0</td>\n",
       "      <td>0.0</td>\n",
       "      <td>0.0</td>\n",
       "      <td>0.0</td>\n",
       "      <td>0.0</td>\n",
       "      <td>0.0</td>\n",
       "      <td>0.0</td>\n",
       "      <td>0.0</td>\n",
       "      <td>1.0</td>\n",
       "      <td>0.0</td>\n",
       "    </tr>\n",
       "    <tr>\n",
       "      <th>3</th>\n",
       "      <td>0.0</td>\n",
       "      <td>0.0</td>\n",
       "      <td>0.0</td>\n",
       "      <td>0.0</td>\n",
       "      <td>0.0</td>\n",
       "      <td>0.0</td>\n",
       "      <td>0.0</td>\n",
       "      <td>0.0</td>\n",
       "      <td>0.0</td>\n",
       "      <td>0.0</td>\n",
       "      <td>...</td>\n",
       "      <td>0.0</td>\n",
       "      <td>0.0</td>\n",
       "      <td>1.0</td>\n",
       "      <td>0.0</td>\n",
       "      <td>0.0</td>\n",
       "      <td>0.0</td>\n",
       "      <td>0.0</td>\n",
       "      <td>0.0</td>\n",
       "      <td>0.0</td>\n",
       "      <td>0.0</td>\n",
       "    </tr>\n",
       "    <tr>\n",
       "      <th>4</th>\n",
       "      <td>0.0</td>\n",
       "      <td>0.0</td>\n",
       "      <td>0.0</td>\n",
       "      <td>0.0</td>\n",
       "      <td>0.0</td>\n",
       "      <td>0.0</td>\n",
       "      <td>0.0</td>\n",
       "      <td>0.0</td>\n",
       "      <td>0.0</td>\n",
       "      <td>0.0</td>\n",
       "      <td>...</td>\n",
       "      <td>0.0</td>\n",
       "      <td>0.0</td>\n",
       "      <td>0.0</td>\n",
       "      <td>0.0</td>\n",
       "      <td>0.0</td>\n",
       "      <td>0.0</td>\n",
       "      <td>0.0</td>\n",
       "      <td>0.0</td>\n",
       "      <td>1.0</td>\n",
       "      <td>0.0</td>\n",
       "    </tr>\n",
       "  </tbody>\n",
       "</table>\n",
       "<p>5 rows × 25 columns</p>\n",
       "</div>"
      ],
      "text/plain": [
       "    0    1    2    3    4    5    6    7    8    9   ...   15   16   17   18  \\\n",
       "0  0.0  0.0  0.0  0.0  0.0  0.0  0.0  0.0  0.0  0.0  ...  0.0  0.0  0.0  0.0   \n",
       "1  0.0  0.0  0.0  0.0  0.0  0.0  0.0  1.0  0.0  0.0  ...  0.0  0.0  0.0  0.0   \n",
       "2  0.0  0.0  0.0  0.0  0.0  0.0  0.0  0.0  0.0  0.0  ...  0.0  0.0  0.0  0.0   \n",
       "3  0.0  0.0  0.0  0.0  0.0  0.0  0.0  0.0  0.0  0.0  ...  0.0  0.0  1.0  0.0   \n",
       "4  0.0  0.0  0.0  0.0  0.0  0.0  0.0  0.0  0.0  0.0  ...  0.0  0.0  0.0  0.0   \n",
       "\n",
       "    19   20   21   22   23   24  \n",
       "0  0.0  0.0  0.0  0.0  1.0  0.0  \n",
       "1  0.0  0.0  0.0  0.0  0.0  0.0  \n",
       "2  0.0  0.0  0.0  0.0  1.0  0.0  \n",
       "3  0.0  0.0  0.0  0.0  0.0  0.0  \n",
       "4  0.0  0.0  0.0  0.0  1.0  0.0  \n",
       "\n",
       "[5 rows x 25 columns]"
      ]
     },
     "execution_count": 18,
     "metadata": {},
     "output_type": "execute_result"
    }
   ],
   "source": [
    "#aplicar discretização à df1\n",
    "enc_data2 = pd.DataFrame(enc_oh.transform(df2[variaveis_para_encode]))\n",
    "enc_data2.head()"
   ]
  },
  {
   "cell_type": "code",
   "execution_count": null,
   "id": "6b7ee07e-9bb5-4737-98ae-fdc5a9c1f45f",
   "metadata": {},
   "outputs": [],
   "source": []
  }
 ],
 "metadata": {
  "kernelspec": {
   "display_name": "env",
   "language": "python",
   "name": "env"
  },
  "language_info": {
   "codemirror_mode": {
    "name": "ipython",
    "version": 3
   },
   "file_extension": ".py",
   "mimetype": "text/x-python",
   "name": "python",
   "nbconvert_exporter": "python",
   "pygments_lexer": "ipython3",
   "version": "3.9.13"
  }
 },
 "nbformat": 4,
 "nbformat_minor": 5
}
